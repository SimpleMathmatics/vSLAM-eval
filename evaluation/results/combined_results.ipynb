{
 "cells": [
  {
   "cell_type": "code",
   "execution_count": 101,
   "metadata": {},
   "outputs": [],
   "source": [
    "import numpy as np\n",
    "import pandas as pd\n",
    "import plotly.express as px\n",
    "import plotly.graph_objects as go\n",
    "import json\n",
    "import os"
   ]
  },
  {
   "cell_type": "markdown",
   "metadata": {},
   "source": [
    "# resolution analysis"
   ]
  },
  {
   "cell_type": "code",
   "execution_count": 162,
   "metadata": {},
   "outputs": [],
   "source": [
    "# import all result data \n",
    "with open('V101/ORB/data/results.txt') as json_file:\n",
    "    data_100 = json.load(json_file)\n",
    "\n",
    "with open('V1010.8/ORB/data/results.txt') as json_file:\n",
    "    data_80 = json.load(json_file)\n",
    "    \n",
    "with open('V1010.6/ORB/data/results.txt') as json_file:\n",
    "    data_60 = json.load(json_file)\n",
    "    \n",
    "with open('V1010.4/ORB/data/results.txt') as json_file:\n",
    "    data_40 = json.load(json_file)\n",
    "    \n",
    "with open('V101/DSM/data/results.txt') as json_file:\n",
    "    data_dsm = json.load(json_file)"
   ]
  },
  {
   "cell_type": "code",
   "execution_count": 103,
   "metadata": {},
   "outputs": [],
   "source": [
    "results_V101 = [data_100, data_80, data_60, data_40]\n",
    "processing_times = [data[\"processing_time\"] for data in results_V101]\n",
    "mean_error = [data[\"mean distance error\"] for data in results_V101]"
   ]
  },
  {
   "cell_type": "code",
   "execution_count": 104,
   "metadata": {},
   "outputs": [
    {
     "data": {
      "application/vnd.plotly.v1+json": {
       "config": {
        "plotlyServerURL": "https://plot.ly"
       },
       "data": [
        {
         "type": "scatter",
         "x": [
          100,
          80,
          60,
          40
         ],
         "y": [
          0.08256527734471082,
          0.08224677415864695,
          0.08643332454463547,
          0.6708892392526057
         ]
        }
       ],
       "layout": {
        "template": {
         "data": {
          "bar": [
           {
            "error_x": {
             "color": "#2a3f5f"
            },
            "error_y": {
             "color": "#2a3f5f"
            },
            "marker": {
             "line": {
              "color": "#E5ECF6",
              "width": 0.5
             }
            },
            "type": "bar"
           }
          ],
          "barpolar": [
           {
            "marker": {
             "line": {
              "color": "#E5ECF6",
              "width": 0.5
             }
            },
            "type": "barpolar"
           }
          ],
          "carpet": [
           {
            "aaxis": {
             "endlinecolor": "#2a3f5f",
             "gridcolor": "white",
             "linecolor": "white",
             "minorgridcolor": "white",
             "startlinecolor": "#2a3f5f"
            },
            "baxis": {
             "endlinecolor": "#2a3f5f",
             "gridcolor": "white",
             "linecolor": "white",
             "minorgridcolor": "white",
             "startlinecolor": "#2a3f5f"
            },
            "type": "carpet"
           }
          ],
          "choropleth": [
           {
            "colorbar": {
             "outlinewidth": 0,
             "ticks": ""
            },
            "type": "choropleth"
           }
          ],
          "contour": [
           {
            "colorbar": {
             "outlinewidth": 0,
             "ticks": ""
            },
            "colorscale": [
             [
              0,
              "#0d0887"
             ],
             [
              0.1111111111111111,
              "#46039f"
             ],
             [
              0.2222222222222222,
              "#7201a8"
             ],
             [
              0.3333333333333333,
              "#9c179e"
             ],
             [
              0.4444444444444444,
              "#bd3786"
             ],
             [
              0.5555555555555556,
              "#d8576b"
             ],
             [
              0.6666666666666666,
              "#ed7953"
             ],
             [
              0.7777777777777778,
              "#fb9f3a"
             ],
             [
              0.8888888888888888,
              "#fdca26"
             ],
             [
              1,
              "#f0f921"
             ]
            ],
            "type": "contour"
           }
          ],
          "contourcarpet": [
           {
            "colorbar": {
             "outlinewidth": 0,
             "ticks": ""
            },
            "type": "contourcarpet"
           }
          ],
          "heatmap": [
           {
            "colorbar": {
             "outlinewidth": 0,
             "ticks": ""
            },
            "colorscale": [
             [
              0,
              "#0d0887"
             ],
             [
              0.1111111111111111,
              "#46039f"
             ],
             [
              0.2222222222222222,
              "#7201a8"
             ],
             [
              0.3333333333333333,
              "#9c179e"
             ],
             [
              0.4444444444444444,
              "#bd3786"
             ],
             [
              0.5555555555555556,
              "#d8576b"
             ],
             [
              0.6666666666666666,
              "#ed7953"
             ],
             [
              0.7777777777777778,
              "#fb9f3a"
             ],
             [
              0.8888888888888888,
              "#fdca26"
             ],
             [
              1,
              "#f0f921"
             ]
            ],
            "type": "heatmap"
           }
          ],
          "heatmapgl": [
           {
            "colorbar": {
             "outlinewidth": 0,
             "ticks": ""
            },
            "colorscale": [
             [
              0,
              "#0d0887"
             ],
             [
              0.1111111111111111,
              "#46039f"
             ],
             [
              0.2222222222222222,
              "#7201a8"
             ],
             [
              0.3333333333333333,
              "#9c179e"
             ],
             [
              0.4444444444444444,
              "#bd3786"
             ],
             [
              0.5555555555555556,
              "#d8576b"
             ],
             [
              0.6666666666666666,
              "#ed7953"
             ],
             [
              0.7777777777777778,
              "#fb9f3a"
             ],
             [
              0.8888888888888888,
              "#fdca26"
             ],
             [
              1,
              "#f0f921"
             ]
            ],
            "type": "heatmapgl"
           }
          ],
          "histogram": [
           {
            "marker": {
             "colorbar": {
              "outlinewidth": 0,
              "ticks": ""
             }
            },
            "type": "histogram"
           }
          ],
          "histogram2d": [
           {
            "colorbar": {
             "outlinewidth": 0,
             "ticks": ""
            },
            "colorscale": [
             [
              0,
              "#0d0887"
             ],
             [
              0.1111111111111111,
              "#46039f"
             ],
             [
              0.2222222222222222,
              "#7201a8"
             ],
             [
              0.3333333333333333,
              "#9c179e"
             ],
             [
              0.4444444444444444,
              "#bd3786"
             ],
             [
              0.5555555555555556,
              "#d8576b"
             ],
             [
              0.6666666666666666,
              "#ed7953"
             ],
             [
              0.7777777777777778,
              "#fb9f3a"
             ],
             [
              0.8888888888888888,
              "#fdca26"
             ],
             [
              1,
              "#f0f921"
             ]
            ],
            "type": "histogram2d"
           }
          ],
          "histogram2dcontour": [
           {
            "colorbar": {
             "outlinewidth": 0,
             "ticks": ""
            },
            "colorscale": [
             [
              0,
              "#0d0887"
             ],
             [
              0.1111111111111111,
              "#46039f"
             ],
             [
              0.2222222222222222,
              "#7201a8"
             ],
             [
              0.3333333333333333,
              "#9c179e"
             ],
             [
              0.4444444444444444,
              "#bd3786"
             ],
             [
              0.5555555555555556,
              "#d8576b"
             ],
             [
              0.6666666666666666,
              "#ed7953"
             ],
             [
              0.7777777777777778,
              "#fb9f3a"
             ],
             [
              0.8888888888888888,
              "#fdca26"
             ],
             [
              1,
              "#f0f921"
             ]
            ],
            "type": "histogram2dcontour"
           }
          ],
          "mesh3d": [
           {
            "colorbar": {
             "outlinewidth": 0,
             "ticks": ""
            },
            "type": "mesh3d"
           }
          ],
          "parcoords": [
           {
            "line": {
             "colorbar": {
              "outlinewidth": 0,
              "ticks": ""
             }
            },
            "type": "parcoords"
           }
          ],
          "pie": [
           {
            "automargin": true,
            "type": "pie"
           }
          ],
          "scatter": [
           {
            "marker": {
             "colorbar": {
              "outlinewidth": 0,
              "ticks": ""
             }
            },
            "type": "scatter"
           }
          ],
          "scatter3d": [
           {
            "line": {
             "colorbar": {
              "outlinewidth": 0,
              "ticks": ""
             }
            },
            "marker": {
             "colorbar": {
              "outlinewidth": 0,
              "ticks": ""
             }
            },
            "type": "scatter3d"
           }
          ],
          "scattercarpet": [
           {
            "marker": {
             "colorbar": {
              "outlinewidth": 0,
              "ticks": ""
             }
            },
            "type": "scattercarpet"
           }
          ],
          "scattergeo": [
           {
            "marker": {
             "colorbar": {
              "outlinewidth": 0,
              "ticks": ""
             }
            },
            "type": "scattergeo"
           }
          ],
          "scattergl": [
           {
            "marker": {
             "colorbar": {
              "outlinewidth": 0,
              "ticks": ""
             }
            },
            "type": "scattergl"
           }
          ],
          "scattermapbox": [
           {
            "marker": {
             "colorbar": {
              "outlinewidth": 0,
              "ticks": ""
             }
            },
            "type": "scattermapbox"
           }
          ],
          "scatterpolar": [
           {
            "marker": {
             "colorbar": {
              "outlinewidth": 0,
              "ticks": ""
             }
            },
            "type": "scatterpolar"
           }
          ],
          "scatterpolargl": [
           {
            "marker": {
             "colorbar": {
              "outlinewidth": 0,
              "ticks": ""
             }
            },
            "type": "scatterpolargl"
           }
          ],
          "scatterternary": [
           {
            "marker": {
             "colorbar": {
              "outlinewidth": 0,
              "ticks": ""
             }
            },
            "type": "scatterternary"
           }
          ],
          "surface": [
           {
            "colorbar": {
             "outlinewidth": 0,
             "ticks": ""
            },
            "colorscale": [
             [
              0,
              "#0d0887"
             ],
             [
              0.1111111111111111,
              "#46039f"
             ],
             [
              0.2222222222222222,
              "#7201a8"
             ],
             [
              0.3333333333333333,
              "#9c179e"
             ],
             [
              0.4444444444444444,
              "#bd3786"
             ],
             [
              0.5555555555555556,
              "#d8576b"
             ],
             [
              0.6666666666666666,
              "#ed7953"
             ],
             [
              0.7777777777777778,
              "#fb9f3a"
             ],
             [
              0.8888888888888888,
              "#fdca26"
             ],
             [
              1,
              "#f0f921"
             ]
            ],
            "type": "surface"
           }
          ],
          "table": [
           {
            "cells": {
             "fill": {
              "color": "#EBF0F8"
             },
             "line": {
              "color": "white"
             }
            },
            "header": {
             "fill": {
              "color": "#C8D4E3"
             },
             "line": {
              "color": "white"
             }
            },
            "type": "table"
           }
          ]
         },
         "layout": {
          "annotationdefaults": {
           "arrowcolor": "#2a3f5f",
           "arrowhead": 0,
           "arrowwidth": 1
          },
          "autotypenumbers": "strict",
          "coloraxis": {
           "colorbar": {
            "outlinewidth": 0,
            "ticks": ""
           }
          },
          "colorscale": {
           "diverging": [
            [
             0,
             "#8e0152"
            ],
            [
             0.1,
             "#c51b7d"
            ],
            [
             0.2,
             "#de77ae"
            ],
            [
             0.3,
             "#f1b6da"
            ],
            [
             0.4,
             "#fde0ef"
            ],
            [
             0.5,
             "#f7f7f7"
            ],
            [
             0.6,
             "#e6f5d0"
            ],
            [
             0.7,
             "#b8e186"
            ],
            [
             0.8,
             "#7fbc41"
            ],
            [
             0.9,
             "#4d9221"
            ],
            [
             1,
             "#276419"
            ]
           ],
           "sequential": [
            [
             0,
             "#0d0887"
            ],
            [
             0.1111111111111111,
             "#46039f"
            ],
            [
             0.2222222222222222,
             "#7201a8"
            ],
            [
             0.3333333333333333,
             "#9c179e"
            ],
            [
             0.4444444444444444,
             "#bd3786"
            ],
            [
             0.5555555555555556,
             "#d8576b"
            ],
            [
             0.6666666666666666,
             "#ed7953"
            ],
            [
             0.7777777777777778,
             "#fb9f3a"
            ],
            [
             0.8888888888888888,
             "#fdca26"
            ],
            [
             1,
             "#f0f921"
            ]
           ],
           "sequentialminus": [
            [
             0,
             "#0d0887"
            ],
            [
             0.1111111111111111,
             "#46039f"
            ],
            [
             0.2222222222222222,
             "#7201a8"
            ],
            [
             0.3333333333333333,
             "#9c179e"
            ],
            [
             0.4444444444444444,
             "#bd3786"
            ],
            [
             0.5555555555555556,
             "#d8576b"
            ],
            [
             0.6666666666666666,
             "#ed7953"
            ],
            [
             0.7777777777777778,
             "#fb9f3a"
            ],
            [
             0.8888888888888888,
             "#fdca26"
            ],
            [
             1,
             "#f0f921"
            ]
           ]
          },
          "colorway": [
           "#636efa",
           "#EF553B",
           "#00cc96",
           "#ab63fa",
           "#FFA15A",
           "#19d3f3",
           "#FF6692",
           "#B6E880",
           "#FF97FF",
           "#FECB52"
          ],
          "font": {
           "color": "#2a3f5f"
          },
          "geo": {
           "bgcolor": "white",
           "lakecolor": "white",
           "landcolor": "#E5ECF6",
           "showlakes": true,
           "showland": true,
           "subunitcolor": "white"
          },
          "hoverlabel": {
           "align": "left"
          },
          "hovermode": "closest",
          "mapbox": {
           "style": "light"
          },
          "paper_bgcolor": "white",
          "plot_bgcolor": "#E5ECF6",
          "polar": {
           "angularaxis": {
            "gridcolor": "white",
            "linecolor": "white",
            "ticks": ""
           },
           "bgcolor": "#E5ECF6",
           "radialaxis": {
            "gridcolor": "white",
            "linecolor": "white",
            "ticks": ""
           }
          },
          "scene": {
           "xaxis": {
            "backgroundcolor": "#E5ECF6",
            "gridcolor": "white",
            "gridwidth": 2,
            "linecolor": "white",
            "showbackground": true,
            "ticks": "",
            "zerolinecolor": "white"
           },
           "yaxis": {
            "backgroundcolor": "#E5ECF6",
            "gridcolor": "white",
            "gridwidth": 2,
            "linecolor": "white",
            "showbackground": true,
            "ticks": "",
            "zerolinecolor": "white"
           },
           "zaxis": {
            "backgroundcolor": "#E5ECF6",
            "gridcolor": "white",
            "gridwidth": 2,
            "linecolor": "white",
            "showbackground": true,
            "ticks": "",
            "zerolinecolor": "white"
           }
          },
          "shapedefaults": {
           "line": {
            "color": "#2a3f5f"
           }
          },
          "ternary": {
           "aaxis": {
            "gridcolor": "white",
            "linecolor": "white",
            "ticks": ""
           },
           "baxis": {
            "gridcolor": "white",
            "linecolor": "white",
            "ticks": ""
           },
           "bgcolor": "#E5ECF6",
           "caxis": {
            "gridcolor": "white",
            "linecolor": "white",
            "ticks": ""
           }
          },
          "title": {
           "x": 0.05
          },
          "xaxis": {
           "automargin": true,
           "gridcolor": "white",
           "linecolor": "white",
           "ticks": "",
           "title": {
            "standoff": 15
           },
           "zerolinecolor": "white",
           "zerolinewidth": 2
          },
          "yaxis": {
           "automargin": true,
           "gridcolor": "white",
           "linecolor": "white",
           "ticks": "",
           "title": {
            "standoff": 15
           },
           "zerolinecolor": "white",
           "zerolinewidth": 2
          }
         }
        },
        "title": {
         "text": "Influence of pixel count on the mean estimated error"
        },
        "xaxis": {
         "title": {
          "text": "percentage of pixel count of original resolution (752 x 480)"
         }
        },
        "yaxis": {
         "title": {
          "text": "Mean error in position"
         }
        }
       }
      },
      "text/html": [
       "<div>                            <div id=\"c7a5b364-b285-4e32-831c-8e7ffbac874f\" class=\"plotly-graph-div\" style=\"height:525px; width:100%;\"></div>            <script type=\"text/javascript\">                require([\"plotly\"], function(Plotly) {                    window.PLOTLYENV=window.PLOTLYENV || {};                                    if (document.getElementById(\"c7a5b364-b285-4e32-831c-8e7ffbac874f\")) {                    Plotly.newPlot(                        \"c7a5b364-b285-4e32-831c-8e7ffbac874f\",                        [{\"type\": \"scatter\", \"x\": [100, 80, 60, 40], \"y\": [0.08256527734471082, 0.08224677415864695, 0.08643332454463547, 0.6708892392526057]}],                        {\"template\": {\"data\": {\"bar\": [{\"error_x\": {\"color\": \"#2a3f5f\"}, \"error_y\": {\"color\": \"#2a3f5f\"}, \"marker\": {\"line\": {\"color\": \"#E5ECF6\", \"width\": 0.5}}, \"type\": \"bar\"}], \"barpolar\": [{\"marker\": {\"line\": {\"color\": \"#E5ECF6\", \"width\": 0.5}}, \"type\": \"barpolar\"}], \"carpet\": [{\"aaxis\": {\"endlinecolor\": \"#2a3f5f\", \"gridcolor\": \"white\", \"linecolor\": \"white\", \"minorgridcolor\": \"white\", \"startlinecolor\": \"#2a3f5f\"}, \"baxis\": {\"endlinecolor\": \"#2a3f5f\", \"gridcolor\": \"white\", \"linecolor\": \"white\", \"minorgridcolor\": \"white\", \"startlinecolor\": \"#2a3f5f\"}, \"type\": \"carpet\"}], \"choropleth\": [{\"colorbar\": {\"outlinewidth\": 0, \"ticks\": \"\"}, \"type\": \"choropleth\"}], \"contour\": [{\"colorbar\": {\"outlinewidth\": 0, \"ticks\": \"\"}, \"colorscale\": [[0.0, \"#0d0887\"], [0.1111111111111111, \"#46039f\"], [0.2222222222222222, \"#7201a8\"], [0.3333333333333333, \"#9c179e\"], [0.4444444444444444, \"#bd3786\"], [0.5555555555555556, \"#d8576b\"], [0.6666666666666666, \"#ed7953\"], [0.7777777777777778, \"#fb9f3a\"], [0.8888888888888888, \"#fdca26\"], [1.0, \"#f0f921\"]], \"type\": \"contour\"}], \"contourcarpet\": [{\"colorbar\": {\"outlinewidth\": 0, \"ticks\": \"\"}, \"type\": \"contourcarpet\"}], \"heatmap\": [{\"colorbar\": {\"outlinewidth\": 0, \"ticks\": \"\"}, \"colorscale\": [[0.0, \"#0d0887\"], [0.1111111111111111, \"#46039f\"], [0.2222222222222222, \"#7201a8\"], [0.3333333333333333, \"#9c179e\"], [0.4444444444444444, \"#bd3786\"], [0.5555555555555556, \"#d8576b\"], [0.6666666666666666, \"#ed7953\"], [0.7777777777777778, \"#fb9f3a\"], [0.8888888888888888, \"#fdca26\"], [1.0, \"#f0f921\"]], \"type\": \"heatmap\"}], \"heatmapgl\": [{\"colorbar\": {\"outlinewidth\": 0, \"ticks\": \"\"}, \"colorscale\": [[0.0, \"#0d0887\"], [0.1111111111111111, \"#46039f\"], [0.2222222222222222, \"#7201a8\"], [0.3333333333333333, \"#9c179e\"], [0.4444444444444444, \"#bd3786\"], [0.5555555555555556, \"#d8576b\"], [0.6666666666666666, \"#ed7953\"], [0.7777777777777778, \"#fb9f3a\"], [0.8888888888888888, \"#fdca26\"], [1.0, \"#f0f921\"]], \"type\": \"heatmapgl\"}], \"histogram\": [{\"marker\": {\"colorbar\": {\"outlinewidth\": 0, \"ticks\": \"\"}}, \"type\": \"histogram\"}], \"histogram2d\": [{\"colorbar\": {\"outlinewidth\": 0, \"ticks\": \"\"}, \"colorscale\": [[0.0, \"#0d0887\"], [0.1111111111111111, \"#46039f\"], [0.2222222222222222, \"#7201a8\"], [0.3333333333333333, \"#9c179e\"], [0.4444444444444444, \"#bd3786\"], [0.5555555555555556, \"#d8576b\"], [0.6666666666666666, \"#ed7953\"], [0.7777777777777778, \"#fb9f3a\"], [0.8888888888888888, \"#fdca26\"], [1.0, \"#f0f921\"]], \"type\": \"histogram2d\"}], \"histogram2dcontour\": [{\"colorbar\": {\"outlinewidth\": 0, \"ticks\": \"\"}, \"colorscale\": [[0.0, \"#0d0887\"], [0.1111111111111111, \"#46039f\"], [0.2222222222222222, \"#7201a8\"], [0.3333333333333333, \"#9c179e\"], [0.4444444444444444, \"#bd3786\"], [0.5555555555555556, \"#d8576b\"], [0.6666666666666666, \"#ed7953\"], [0.7777777777777778, \"#fb9f3a\"], [0.8888888888888888, \"#fdca26\"], [1.0, \"#f0f921\"]], \"type\": \"histogram2dcontour\"}], \"mesh3d\": [{\"colorbar\": {\"outlinewidth\": 0, \"ticks\": \"\"}, \"type\": \"mesh3d\"}], \"parcoords\": [{\"line\": {\"colorbar\": {\"outlinewidth\": 0, \"ticks\": \"\"}}, \"type\": \"parcoords\"}], \"pie\": [{\"automargin\": true, \"type\": \"pie\"}], \"scatter\": [{\"marker\": {\"colorbar\": {\"outlinewidth\": 0, \"ticks\": \"\"}}, \"type\": \"scatter\"}], \"scatter3d\": [{\"line\": {\"colorbar\": {\"outlinewidth\": 0, \"ticks\": \"\"}}, \"marker\": {\"colorbar\": {\"outlinewidth\": 0, \"ticks\": \"\"}}, \"type\": \"scatter3d\"}], \"scattercarpet\": [{\"marker\": {\"colorbar\": {\"outlinewidth\": 0, \"ticks\": \"\"}}, \"type\": \"scattercarpet\"}], \"scattergeo\": [{\"marker\": {\"colorbar\": {\"outlinewidth\": 0, \"ticks\": \"\"}}, \"type\": \"scattergeo\"}], \"scattergl\": [{\"marker\": {\"colorbar\": {\"outlinewidth\": 0, \"ticks\": \"\"}}, \"type\": \"scattergl\"}], \"scattermapbox\": [{\"marker\": {\"colorbar\": {\"outlinewidth\": 0, \"ticks\": \"\"}}, \"type\": \"scattermapbox\"}], \"scatterpolar\": [{\"marker\": {\"colorbar\": {\"outlinewidth\": 0, \"ticks\": \"\"}}, \"type\": \"scatterpolar\"}], \"scatterpolargl\": [{\"marker\": {\"colorbar\": {\"outlinewidth\": 0, \"ticks\": \"\"}}, \"type\": \"scatterpolargl\"}], \"scatterternary\": [{\"marker\": {\"colorbar\": {\"outlinewidth\": 0, \"ticks\": \"\"}}, \"type\": \"scatterternary\"}], \"surface\": [{\"colorbar\": {\"outlinewidth\": 0, \"ticks\": \"\"}, \"colorscale\": [[0.0, \"#0d0887\"], [0.1111111111111111, \"#46039f\"], [0.2222222222222222, \"#7201a8\"], [0.3333333333333333, \"#9c179e\"], [0.4444444444444444, \"#bd3786\"], [0.5555555555555556, \"#d8576b\"], [0.6666666666666666, \"#ed7953\"], [0.7777777777777778, \"#fb9f3a\"], [0.8888888888888888, \"#fdca26\"], [1.0, \"#f0f921\"]], \"type\": \"surface\"}], \"table\": [{\"cells\": {\"fill\": {\"color\": \"#EBF0F8\"}, \"line\": {\"color\": \"white\"}}, \"header\": {\"fill\": {\"color\": \"#C8D4E3\"}, \"line\": {\"color\": \"white\"}}, \"type\": \"table\"}]}, \"layout\": {\"annotationdefaults\": {\"arrowcolor\": \"#2a3f5f\", \"arrowhead\": 0, \"arrowwidth\": 1}, \"autotypenumbers\": \"strict\", \"coloraxis\": {\"colorbar\": {\"outlinewidth\": 0, \"ticks\": \"\"}}, \"colorscale\": {\"diverging\": [[0, \"#8e0152\"], [0.1, \"#c51b7d\"], [0.2, \"#de77ae\"], [0.3, \"#f1b6da\"], [0.4, \"#fde0ef\"], [0.5, \"#f7f7f7\"], [0.6, \"#e6f5d0\"], [0.7, \"#b8e186\"], [0.8, \"#7fbc41\"], [0.9, \"#4d9221\"], [1, \"#276419\"]], \"sequential\": [[0.0, \"#0d0887\"], [0.1111111111111111, \"#46039f\"], [0.2222222222222222, \"#7201a8\"], [0.3333333333333333, \"#9c179e\"], [0.4444444444444444, \"#bd3786\"], [0.5555555555555556, \"#d8576b\"], [0.6666666666666666, \"#ed7953\"], [0.7777777777777778, \"#fb9f3a\"], [0.8888888888888888, \"#fdca26\"], [1.0, \"#f0f921\"]], \"sequentialminus\": [[0.0, \"#0d0887\"], [0.1111111111111111, \"#46039f\"], [0.2222222222222222, \"#7201a8\"], [0.3333333333333333, \"#9c179e\"], [0.4444444444444444, \"#bd3786\"], [0.5555555555555556, \"#d8576b\"], [0.6666666666666666, \"#ed7953\"], [0.7777777777777778, \"#fb9f3a\"], [0.8888888888888888, \"#fdca26\"], [1.0, \"#f0f921\"]]}, \"colorway\": [\"#636efa\", \"#EF553B\", \"#00cc96\", \"#ab63fa\", \"#FFA15A\", \"#19d3f3\", \"#FF6692\", \"#B6E880\", \"#FF97FF\", \"#FECB52\"], \"font\": {\"color\": \"#2a3f5f\"}, \"geo\": {\"bgcolor\": \"white\", \"lakecolor\": \"white\", \"landcolor\": \"#E5ECF6\", \"showlakes\": true, \"showland\": true, \"subunitcolor\": \"white\"}, \"hoverlabel\": {\"align\": \"left\"}, \"hovermode\": \"closest\", \"mapbox\": {\"style\": \"light\"}, \"paper_bgcolor\": \"white\", \"plot_bgcolor\": \"#E5ECF6\", \"polar\": {\"angularaxis\": {\"gridcolor\": \"white\", \"linecolor\": \"white\", \"ticks\": \"\"}, \"bgcolor\": \"#E5ECF6\", \"radialaxis\": {\"gridcolor\": \"white\", \"linecolor\": \"white\", \"ticks\": \"\"}}, \"scene\": {\"xaxis\": {\"backgroundcolor\": \"#E5ECF6\", \"gridcolor\": \"white\", \"gridwidth\": 2, \"linecolor\": \"white\", \"showbackground\": true, \"ticks\": \"\", \"zerolinecolor\": \"white\"}, \"yaxis\": {\"backgroundcolor\": \"#E5ECF6\", \"gridcolor\": \"white\", \"gridwidth\": 2, \"linecolor\": \"white\", \"showbackground\": true, \"ticks\": \"\", \"zerolinecolor\": \"white\"}, \"zaxis\": {\"backgroundcolor\": \"#E5ECF6\", \"gridcolor\": \"white\", \"gridwidth\": 2, \"linecolor\": \"white\", \"showbackground\": true, \"ticks\": \"\", \"zerolinecolor\": \"white\"}}, \"shapedefaults\": {\"line\": {\"color\": \"#2a3f5f\"}}, \"ternary\": {\"aaxis\": {\"gridcolor\": \"white\", \"linecolor\": \"white\", \"ticks\": \"\"}, \"baxis\": {\"gridcolor\": \"white\", \"linecolor\": \"white\", \"ticks\": \"\"}, \"bgcolor\": \"#E5ECF6\", \"caxis\": {\"gridcolor\": \"white\", \"linecolor\": \"white\", \"ticks\": \"\"}}, \"title\": {\"x\": 0.05}, \"xaxis\": {\"automargin\": true, \"gridcolor\": \"white\", \"linecolor\": \"white\", \"ticks\": \"\", \"title\": {\"standoff\": 15}, \"zerolinecolor\": \"white\", \"zerolinewidth\": 2}, \"yaxis\": {\"automargin\": true, \"gridcolor\": \"white\", \"linecolor\": \"white\", \"ticks\": \"\", \"title\": {\"standoff\": 15}, \"zerolinecolor\": \"white\", \"zerolinewidth\": 2}}}, \"title\": {\"text\": \"Influence of pixel count on the mean estimated error\"}, \"xaxis\": {\"title\": {\"text\": \"percentage of pixel count of original resolution (752 x 480)\"}}, \"yaxis\": {\"title\": {\"text\": \"Mean error in position\"}}},                        {\"responsive\": true}                    ).then(function(){\n",
       "                            \n",
       "var gd = document.getElementById('c7a5b364-b285-4e32-831c-8e7ffbac874f');\n",
       "var x = new MutationObserver(function (mutations, observer) {{\n",
       "        var display = window.getComputedStyle(gd).display;\n",
       "        if (!display || display === 'none') {{\n",
       "            console.log([gd, 'removed!']);\n",
       "            Plotly.purge(gd);\n",
       "            observer.disconnect();\n",
       "        }}\n",
       "}});\n",
       "\n",
       "// Listen for the removal of the full notebook cells\n",
       "var notebookContainer = gd.closest('#notebook-container');\n",
       "if (notebookContainer) {{\n",
       "    x.observe(notebookContainer, {childList: true});\n",
       "}}\n",
       "\n",
       "// Listen for the clearing of the current output cell\n",
       "var outputEl = gd.closest('.output');\n",
       "if (outputEl) {{\n",
       "    x.observe(outputEl, {childList: true});\n",
       "}}\n",
       "\n",
       "                        })                };                });            </script>        </div>"
      ]
     },
     "metadata": {},
     "output_type": "display_data"
    }
   ],
   "source": [
    "fig = go.Figure(data=go.Scatter(x=[100, 80, 60, 40], y=mean_error))\n",
    "\n",
    "fig.update_layout(\n",
    "    title=\"Influence of pixel count on the mean estimated error\",\n",
    "    xaxis_title=\"percentage of pixel count of original resolution (752 x 480)\",\n",
    "    yaxis_title=\"Mean error in position\"\n",
    ")\n",
    "\n"
   ]
  },
  {
   "cell_type": "code",
   "execution_count": 173,
   "metadata": {},
   "outputs": [
    {
     "data": {
      "application/vnd.plotly.v1+json": {
       "config": {
        "plotlyServerURL": "https://plot.ly"
       },
       "data": [
        {
         "alignmentgroup": "True",
         "hovertemplate": "Algorithm=%{x}<br>processing_time=%{y}<extra></extra>",
         "legendgroup": "",
         "marker": {
          "color": "#636efa"
         },
         "name": "",
         "offsetgroup": "",
         "orientation": "v",
         "showlegend": false,
         "textposition": "auto",
         "type": "bar",
         "x": [
          "orb",
          "dsm"
         ],
         "xaxis": "x",
         "y": [
          266.82651907000036,
          1346.2836478
         ],
         "yaxis": "y"
        }
       ],
       "layout": {
        "barmode": "relative",
        "legend": {
         "tracegroupgap": 0
        },
        "margin": {
         "t": 60
        },
        "template": {
         "data": {
          "bar": [
           {
            "error_x": {
             "color": "#2a3f5f"
            },
            "error_y": {
             "color": "#2a3f5f"
            },
            "marker": {
             "line": {
              "color": "#E5ECF6",
              "width": 0.5
             }
            },
            "type": "bar"
           }
          ],
          "barpolar": [
           {
            "marker": {
             "line": {
              "color": "#E5ECF6",
              "width": 0.5
             }
            },
            "type": "barpolar"
           }
          ],
          "carpet": [
           {
            "aaxis": {
             "endlinecolor": "#2a3f5f",
             "gridcolor": "white",
             "linecolor": "white",
             "minorgridcolor": "white",
             "startlinecolor": "#2a3f5f"
            },
            "baxis": {
             "endlinecolor": "#2a3f5f",
             "gridcolor": "white",
             "linecolor": "white",
             "minorgridcolor": "white",
             "startlinecolor": "#2a3f5f"
            },
            "type": "carpet"
           }
          ],
          "choropleth": [
           {
            "colorbar": {
             "outlinewidth": 0,
             "ticks": ""
            },
            "type": "choropleth"
           }
          ],
          "contour": [
           {
            "colorbar": {
             "outlinewidth": 0,
             "ticks": ""
            },
            "colorscale": [
             [
              0,
              "#0d0887"
             ],
             [
              0.1111111111111111,
              "#46039f"
             ],
             [
              0.2222222222222222,
              "#7201a8"
             ],
             [
              0.3333333333333333,
              "#9c179e"
             ],
             [
              0.4444444444444444,
              "#bd3786"
             ],
             [
              0.5555555555555556,
              "#d8576b"
             ],
             [
              0.6666666666666666,
              "#ed7953"
             ],
             [
              0.7777777777777778,
              "#fb9f3a"
             ],
             [
              0.8888888888888888,
              "#fdca26"
             ],
             [
              1,
              "#f0f921"
             ]
            ],
            "type": "contour"
           }
          ],
          "contourcarpet": [
           {
            "colorbar": {
             "outlinewidth": 0,
             "ticks": ""
            },
            "type": "contourcarpet"
           }
          ],
          "heatmap": [
           {
            "colorbar": {
             "outlinewidth": 0,
             "ticks": ""
            },
            "colorscale": [
             [
              0,
              "#0d0887"
             ],
             [
              0.1111111111111111,
              "#46039f"
             ],
             [
              0.2222222222222222,
              "#7201a8"
             ],
             [
              0.3333333333333333,
              "#9c179e"
             ],
             [
              0.4444444444444444,
              "#bd3786"
             ],
             [
              0.5555555555555556,
              "#d8576b"
             ],
             [
              0.6666666666666666,
              "#ed7953"
             ],
             [
              0.7777777777777778,
              "#fb9f3a"
             ],
             [
              0.8888888888888888,
              "#fdca26"
             ],
             [
              1,
              "#f0f921"
             ]
            ],
            "type": "heatmap"
           }
          ],
          "heatmapgl": [
           {
            "colorbar": {
             "outlinewidth": 0,
             "ticks": ""
            },
            "colorscale": [
             [
              0,
              "#0d0887"
             ],
             [
              0.1111111111111111,
              "#46039f"
             ],
             [
              0.2222222222222222,
              "#7201a8"
             ],
             [
              0.3333333333333333,
              "#9c179e"
             ],
             [
              0.4444444444444444,
              "#bd3786"
             ],
             [
              0.5555555555555556,
              "#d8576b"
             ],
             [
              0.6666666666666666,
              "#ed7953"
             ],
             [
              0.7777777777777778,
              "#fb9f3a"
             ],
             [
              0.8888888888888888,
              "#fdca26"
             ],
             [
              1,
              "#f0f921"
             ]
            ],
            "type": "heatmapgl"
           }
          ],
          "histogram": [
           {
            "marker": {
             "colorbar": {
              "outlinewidth": 0,
              "ticks": ""
             }
            },
            "type": "histogram"
           }
          ],
          "histogram2d": [
           {
            "colorbar": {
             "outlinewidth": 0,
             "ticks": ""
            },
            "colorscale": [
             [
              0,
              "#0d0887"
             ],
             [
              0.1111111111111111,
              "#46039f"
             ],
             [
              0.2222222222222222,
              "#7201a8"
             ],
             [
              0.3333333333333333,
              "#9c179e"
             ],
             [
              0.4444444444444444,
              "#bd3786"
             ],
             [
              0.5555555555555556,
              "#d8576b"
             ],
             [
              0.6666666666666666,
              "#ed7953"
             ],
             [
              0.7777777777777778,
              "#fb9f3a"
             ],
             [
              0.8888888888888888,
              "#fdca26"
             ],
             [
              1,
              "#f0f921"
             ]
            ],
            "type": "histogram2d"
           }
          ],
          "histogram2dcontour": [
           {
            "colorbar": {
             "outlinewidth": 0,
             "ticks": ""
            },
            "colorscale": [
             [
              0,
              "#0d0887"
             ],
             [
              0.1111111111111111,
              "#46039f"
             ],
             [
              0.2222222222222222,
              "#7201a8"
             ],
             [
              0.3333333333333333,
              "#9c179e"
             ],
             [
              0.4444444444444444,
              "#bd3786"
             ],
             [
              0.5555555555555556,
              "#d8576b"
             ],
             [
              0.6666666666666666,
              "#ed7953"
             ],
             [
              0.7777777777777778,
              "#fb9f3a"
             ],
             [
              0.8888888888888888,
              "#fdca26"
             ],
             [
              1,
              "#f0f921"
             ]
            ],
            "type": "histogram2dcontour"
           }
          ],
          "mesh3d": [
           {
            "colorbar": {
             "outlinewidth": 0,
             "ticks": ""
            },
            "type": "mesh3d"
           }
          ],
          "parcoords": [
           {
            "line": {
             "colorbar": {
              "outlinewidth": 0,
              "ticks": ""
             }
            },
            "type": "parcoords"
           }
          ],
          "pie": [
           {
            "automargin": true,
            "type": "pie"
           }
          ],
          "scatter": [
           {
            "marker": {
             "colorbar": {
              "outlinewidth": 0,
              "ticks": ""
             }
            },
            "type": "scatter"
           }
          ],
          "scatter3d": [
           {
            "line": {
             "colorbar": {
              "outlinewidth": 0,
              "ticks": ""
             }
            },
            "marker": {
             "colorbar": {
              "outlinewidth": 0,
              "ticks": ""
             }
            },
            "type": "scatter3d"
           }
          ],
          "scattercarpet": [
           {
            "marker": {
             "colorbar": {
              "outlinewidth": 0,
              "ticks": ""
             }
            },
            "type": "scattercarpet"
           }
          ],
          "scattergeo": [
           {
            "marker": {
             "colorbar": {
              "outlinewidth": 0,
              "ticks": ""
             }
            },
            "type": "scattergeo"
           }
          ],
          "scattergl": [
           {
            "marker": {
             "colorbar": {
              "outlinewidth": 0,
              "ticks": ""
             }
            },
            "type": "scattergl"
           }
          ],
          "scattermapbox": [
           {
            "marker": {
             "colorbar": {
              "outlinewidth": 0,
              "ticks": ""
             }
            },
            "type": "scattermapbox"
           }
          ],
          "scatterpolar": [
           {
            "marker": {
             "colorbar": {
              "outlinewidth": 0,
              "ticks": ""
             }
            },
            "type": "scatterpolar"
           }
          ],
          "scatterpolargl": [
           {
            "marker": {
             "colorbar": {
              "outlinewidth": 0,
              "ticks": ""
             }
            },
            "type": "scatterpolargl"
           }
          ],
          "scatterternary": [
           {
            "marker": {
             "colorbar": {
              "outlinewidth": 0,
              "ticks": ""
             }
            },
            "type": "scatterternary"
           }
          ],
          "surface": [
           {
            "colorbar": {
             "outlinewidth": 0,
             "ticks": ""
            },
            "colorscale": [
             [
              0,
              "#0d0887"
             ],
             [
              0.1111111111111111,
              "#46039f"
             ],
             [
              0.2222222222222222,
              "#7201a8"
             ],
             [
              0.3333333333333333,
              "#9c179e"
             ],
             [
              0.4444444444444444,
              "#bd3786"
             ],
             [
              0.5555555555555556,
              "#d8576b"
             ],
             [
              0.6666666666666666,
              "#ed7953"
             ],
             [
              0.7777777777777778,
              "#fb9f3a"
             ],
             [
              0.8888888888888888,
              "#fdca26"
             ],
             [
              1,
              "#f0f921"
             ]
            ],
            "type": "surface"
           }
          ],
          "table": [
           {
            "cells": {
             "fill": {
              "color": "#EBF0F8"
             },
             "line": {
              "color": "white"
             }
            },
            "header": {
             "fill": {
              "color": "#C8D4E3"
             },
             "line": {
              "color": "white"
             }
            },
            "type": "table"
           }
          ]
         },
         "layout": {
          "annotationdefaults": {
           "arrowcolor": "#2a3f5f",
           "arrowhead": 0,
           "arrowwidth": 1
          },
          "autotypenumbers": "strict",
          "coloraxis": {
           "colorbar": {
            "outlinewidth": 0,
            "ticks": ""
           }
          },
          "colorscale": {
           "diverging": [
            [
             0,
             "#8e0152"
            ],
            [
             0.1,
             "#c51b7d"
            ],
            [
             0.2,
             "#de77ae"
            ],
            [
             0.3,
             "#f1b6da"
            ],
            [
             0.4,
             "#fde0ef"
            ],
            [
             0.5,
             "#f7f7f7"
            ],
            [
             0.6,
             "#e6f5d0"
            ],
            [
             0.7,
             "#b8e186"
            ],
            [
             0.8,
             "#7fbc41"
            ],
            [
             0.9,
             "#4d9221"
            ],
            [
             1,
             "#276419"
            ]
           ],
           "sequential": [
            [
             0,
             "#0d0887"
            ],
            [
             0.1111111111111111,
             "#46039f"
            ],
            [
             0.2222222222222222,
             "#7201a8"
            ],
            [
             0.3333333333333333,
             "#9c179e"
            ],
            [
             0.4444444444444444,
             "#bd3786"
            ],
            [
             0.5555555555555556,
             "#d8576b"
            ],
            [
             0.6666666666666666,
             "#ed7953"
            ],
            [
             0.7777777777777778,
             "#fb9f3a"
            ],
            [
             0.8888888888888888,
             "#fdca26"
            ],
            [
             1,
             "#f0f921"
            ]
           ],
           "sequentialminus": [
            [
             0,
             "#0d0887"
            ],
            [
             0.1111111111111111,
             "#46039f"
            ],
            [
             0.2222222222222222,
             "#7201a8"
            ],
            [
             0.3333333333333333,
             "#9c179e"
            ],
            [
             0.4444444444444444,
             "#bd3786"
            ],
            [
             0.5555555555555556,
             "#d8576b"
            ],
            [
             0.6666666666666666,
             "#ed7953"
            ],
            [
             0.7777777777777778,
             "#fb9f3a"
            ],
            [
             0.8888888888888888,
             "#fdca26"
            ],
            [
             1,
             "#f0f921"
            ]
           ]
          },
          "colorway": [
           "#636efa",
           "#EF553B",
           "#00cc96",
           "#ab63fa",
           "#FFA15A",
           "#19d3f3",
           "#FF6692",
           "#B6E880",
           "#FF97FF",
           "#FECB52"
          ],
          "font": {
           "color": "#2a3f5f"
          },
          "geo": {
           "bgcolor": "white",
           "lakecolor": "white",
           "landcolor": "#E5ECF6",
           "showlakes": true,
           "showland": true,
           "subunitcolor": "white"
          },
          "hoverlabel": {
           "align": "left"
          },
          "hovermode": "closest",
          "mapbox": {
           "style": "light"
          },
          "paper_bgcolor": "white",
          "plot_bgcolor": "#E5ECF6",
          "polar": {
           "angularaxis": {
            "gridcolor": "white",
            "linecolor": "white",
            "ticks": ""
           },
           "bgcolor": "#E5ECF6",
           "radialaxis": {
            "gridcolor": "white",
            "linecolor": "white",
            "ticks": ""
           }
          },
          "scene": {
           "xaxis": {
            "backgroundcolor": "#E5ECF6",
            "gridcolor": "white",
            "gridwidth": 2,
            "linecolor": "white",
            "showbackground": true,
            "ticks": "",
            "zerolinecolor": "white"
           },
           "yaxis": {
            "backgroundcolor": "#E5ECF6",
            "gridcolor": "white",
            "gridwidth": 2,
            "linecolor": "white",
            "showbackground": true,
            "ticks": "",
            "zerolinecolor": "white"
           },
           "zaxis": {
            "backgroundcolor": "#E5ECF6",
            "gridcolor": "white",
            "gridwidth": 2,
            "linecolor": "white",
            "showbackground": true,
            "ticks": "",
            "zerolinecolor": "white"
           }
          },
          "shapedefaults": {
           "line": {
            "color": "#2a3f5f"
           }
          },
          "ternary": {
           "aaxis": {
            "gridcolor": "white",
            "linecolor": "white",
            "ticks": ""
           },
           "baxis": {
            "gridcolor": "white",
            "linecolor": "white",
            "ticks": ""
           },
           "bgcolor": "#E5ECF6",
           "caxis": {
            "gridcolor": "white",
            "linecolor": "white",
            "ticks": ""
           }
          },
          "title": {
           "x": 0.05
          },
          "xaxis": {
           "automargin": true,
           "gridcolor": "white",
           "linecolor": "white",
           "ticks": "",
           "title": {
            "standoff": 15
           },
           "zerolinecolor": "white",
           "zerolinewidth": 2
          },
          "yaxis": {
           "automargin": true,
           "gridcolor": "white",
           "linecolor": "white",
           "ticks": "",
           "title": {
            "standoff": 15
           },
           "zerolinecolor": "white",
           "zerolinewidth": 2
          }
         }
        },
        "title": {
         "text": "Processing time of a single sequence (140s in length (20fps))"
        },
        "xaxis": {
         "anchor": "y",
         "domain": [
          0,
          1
         ],
         "title": {
          "text": "Algorithm"
         }
        },
        "yaxis": {
         "anchor": "x",
         "domain": [
          0,
          1
         ],
         "title": {
          "text": "processing_time"
         }
        }
       }
      },
      "text/html": [
       "<div>                            <div id=\"6c1d268a-de22-4472-8497-94a6fdfaaeb1\" class=\"plotly-graph-div\" style=\"height:525px; width:100%;\"></div>            <script type=\"text/javascript\">                require([\"plotly\"], function(Plotly) {                    window.PLOTLYENV=window.PLOTLYENV || {};                                    if (document.getElementById(\"6c1d268a-de22-4472-8497-94a6fdfaaeb1\")) {                    Plotly.newPlot(                        \"6c1d268a-de22-4472-8497-94a6fdfaaeb1\",                        [{\"alignmentgroup\": \"True\", \"hovertemplate\": \"Algorithm=%{x}<br>processing_time=%{y}<extra></extra>\", \"legendgroup\": \"\", \"marker\": {\"color\": \"#636efa\"}, \"name\": \"\", \"offsetgroup\": \"\", \"orientation\": \"v\", \"showlegend\": false, \"textposition\": \"auto\", \"type\": \"bar\", \"x\": [\"orb\", \"dsm\"], \"xaxis\": \"x\", \"y\": [266.82651907000036, 1346.2836478], \"yaxis\": \"y\"}],                        {\"barmode\": \"relative\", \"legend\": {\"tracegroupgap\": 0}, \"margin\": {\"t\": 60}, \"template\": {\"data\": {\"bar\": [{\"error_x\": {\"color\": \"#2a3f5f\"}, \"error_y\": {\"color\": \"#2a3f5f\"}, \"marker\": {\"line\": {\"color\": \"#E5ECF6\", \"width\": 0.5}}, \"type\": \"bar\"}], \"barpolar\": [{\"marker\": {\"line\": {\"color\": \"#E5ECF6\", \"width\": 0.5}}, \"type\": \"barpolar\"}], \"carpet\": [{\"aaxis\": {\"endlinecolor\": \"#2a3f5f\", \"gridcolor\": \"white\", \"linecolor\": \"white\", \"minorgridcolor\": \"white\", \"startlinecolor\": \"#2a3f5f\"}, \"baxis\": {\"endlinecolor\": \"#2a3f5f\", \"gridcolor\": \"white\", \"linecolor\": \"white\", \"minorgridcolor\": \"white\", \"startlinecolor\": \"#2a3f5f\"}, \"type\": \"carpet\"}], \"choropleth\": [{\"colorbar\": {\"outlinewidth\": 0, \"ticks\": \"\"}, \"type\": \"choropleth\"}], \"contour\": [{\"colorbar\": {\"outlinewidth\": 0, \"ticks\": \"\"}, \"colorscale\": [[0.0, \"#0d0887\"], [0.1111111111111111, \"#46039f\"], [0.2222222222222222, \"#7201a8\"], [0.3333333333333333, \"#9c179e\"], [0.4444444444444444, \"#bd3786\"], [0.5555555555555556, \"#d8576b\"], [0.6666666666666666, \"#ed7953\"], [0.7777777777777778, \"#fb9f3a\"], [0.8888888888888888, \"#fdca26\"], [1.0, \"#f0f921\"]], \"type\": \"contour\"}], \"contourcarpet\": [{\"colorbar\": {\"outlinewidth\": 0, \"ticks\": \"\"}, \"type\": \"contourcarpet\"}], \"heatmap\": [{\"colorbar\": {\"outlinewidth\": 0, \"ticks\": \"\"}, \"colorscale\": [[0.0, \"#0d0887\"], [0.1111111111111111, \"#46039f\"], [0.2222222222222222, \"#7201a8\"], [0.3333333333333333, \"#9c179e\"], [0.4444444444444444, \"#bd3786\"], [0.5555555555555556, \"#d8576b\"], [0.6666666666666666, \"#ed7953\"], [0.7777777777777778, \"#fb9f3a\"], [0.8888888888888888, \"#fdca26\"], [1.0, \"#f0f921\"]], \"type\": \"heatmap\"}], \"heatmapgl\": [{\"colorbar\": {\"outlinewidth\": 0, \"ticks\": \"\"}, \"colorscale\": [[0.0, \"#0d0887\"], [0.1111111111111111, \"#46039f\"], [0.2222222222222222, \"#7201a8\"], [0.3333333333333333, \"#9c179e\"], [0.4444444444444444, \"#bd3786\"], [0.5555555555555556, \"#d8576b\"], [0.6666666666666666, \"#ed7953\"], [0.7777777777777778, \"#fb9f3a\"], [0.8888888888888888, \"#fdca26\"], [1.0, \"#f0f921\"]], \"type\": \"heatmapgl\"}], \"histogram\": [{\"marker\": {\"colorbar\": {\"outlinewidth\": 0, \"ticks\": \"\"}}, \"type\": \"histogram\"}], \"histogram2d\": [{\"colorbar\": {\"outlinewidth\": 0, \"ticks\": \"\"}, \"colorscale\": [[0.0, \"#0d0887\"], [0.1111111111111111, \"#46039f\"], [0.2222222222222222, \"#7201a8\"], [0.3333333333333333, \"#9c179e\"], [0.4444444444444444, \"#bd3786\"], [0.5555555555555556, \"#d8576b\"], [0.6666666666666666, \"#ed7953\"], [0.7777777777777778, \"#fb9f3a\"], [0.8888888888888888, \"#fdca26\"], [1.0, \"#f0f921\"]], \"type\": \"histogram2d\"}], \"histogram2dcontour\": [{\"colorbar\": {\"outlinewidth\": 0, \"ticks\": \"\"}, \"colorscale\": [[0.0, \"#0d0887\"], [0.1111111111111111, \"#46039f\"], [0.2222222222222222, \"#7201a8\"], [0.3333333333333333, \"#9c179e\"], [0.4444444444444444, \"#bd3786\"], [0.5555555555555556, \"#d8576b\"], [0.6666666666666666, \"#ed7953\"], [0.7777777777777778, \"#fb9f3a\"], [0.8888888888888888, \"#fdca26\"], [1.0, \"#f0f921\"]], \"type\": \"histogram2dcontour\"}], \"mesh3d\": [{\"colorbar\": {\"outlinewidth\": 0, \"ticks\": \"\"}, \"type\": \"mesh3d\"}], \"parcoords\": [{\"line\": {\"colorbar\": {\"outlinewidth\": 0, \"ticks\": \"\"}}, \"type\": \"parcoords\"}], \"pie\": [{\"automargin\": true, \"type\": \"pie\"}], \"scatter\": [{\"marker\": {\"colorbar\": {\"outlinewidth\": 0, \"ticks\": \"\"}}, \"type\": \"scatter\"}], \"scatter3d\": [{\"line\": {\"colorbar\": {\"outlinewidth\": 0, \"ticks\": \"\"}}, \"marker\": {\"colorbar\": {\"outlinewidth\": 0, \"ticks\": \"\"}}, \"type\": \"scatter3d\"}], \"scattercarpet\": [{\"marker\": {\"colorbar\": {\"outlinewidth\": 0, \"ticks\": \"\"}}, \"type\": \"scattercarpet\"}], \"scattergeo\": [{\"marker\": {\"colorbar\": {\"outlinewidth\": 0, \"ticks\": \"\"}}, \"type\": \"scattergeo\"}], \"scattergl\": [{\"marker\": {\"colorbar\": {\"outlinewidth\": 0, \"ticks\": \"\"}}, \"type\": \"scattergl\"}], \"scattermapbox\": [{\"marker\": {\"colorbar\": {\"outlinewidth\": 0, \"ticks\": \"\"}}, \"type\": \"scattermapbox\"}], \"scatterpolar\": [{\"marker\": {\"colorbar\": {\"outlinewidth\": 0, \"ticks\": \"\"}}, \"type\": \"scatterpolar\"}], \"scatterpolargl\": [{\"marker\": {\"colorbar\": {\"outlinewidth\": 0, \"ticks\": \"\"}}, \"type\": \"scatterpolargl\"}], \"scatterternary\": [{\"marker\": {\"colorbar\": {\"outlinewidth\": 0, \"ticks\": \"\"}}, \"type\": \"scatterternary\"}], \"surface\": [{\"colorbar\": {\"outlinewidth\": 0, \"ticks\": \"\"}, \"colorscale\": [[0.0, \"#0d0887\"], [0.1111111111111111, \"#46039f\"], [0.2222222222222222, \"#7201a8\"], [0.3333333333333333, \"#9c179e\"], [0.4444444444444444, \"#bd3786\"], [0.5555555555555556, \"#d8576b\"], [0.6666666666666666, \"#ed7953\"], [0.7777777777777778, \"#fb9f3a\"], [0.8888888888888888, \"#fdca26\"], [1.0, \"#f0f921\"]], \"type\": \"surface\"}], \"table\": [{\"cells\": {\"fill\": {\"color\": \"#EBF0F8\"}, \"line\": {\"color\": \"white\"}}, \"header\": {\"fill\": {\"color\": \"#C8D4E3\"}, \"line\": {\"color\": \"white\"}}, \"type\": \"table\"}]}, \"layout\": {\"annotationdefaults\": {\"arrowcolor\": \"#2a3f5f\", \"arrowhead\": 0, \"arrowwidth\": 1}, \"autotypenumbers\": \"strict\", \"coloraxis\": {\"colorbar\": {\"outlinewidth\": 0, \"ticks\": \"\"}}, \"colorscale\": {\"diverging\": [[0, \"#8e0152\"], [0.1, \"#c51b7d\"], [0.2, \"#de77ae\"], [0.3, \"#f1b6da\"], [0.4, \"#fde0ef\"], [0.5, \"#f7f7f7\"], [0.6, \"#e6f5d0\"], [0.7, \"#b8e186\"], [0.8, \"#7fbc41\"], [0.9, \"#4d9221\"], [1, \"#276419\"]], \"sequential\": [[0.0, \"#0d0887\"], [0.1111111111111111, \"#46039f\"], [0.2222222222222222, \"#7201a8\"], [0.3333333333333333, \"#9c179e\"], [0.4444444444444444, \"#bd3786\"], [0.5555555555555556, \"#d8576b\"], [0.6666666666666666, \"#ed7953\"], [0.7777777777777778, \"#fb9f3a\"], [0.8888888888888888, \"#fdca26\"], [1.0, \"#f0f921\"]], \"sequentialminus\": [[0.0, \"#0d0887\"], [0.1111111111111111, \"#46039f\"], [0.2222222222222222, \"#7201a8\"], [0.3333333333333333, \"#9c179e\"], [0.4444444444444444, \"#bd3786\"], [0.5555555555555556, \"#d8576b\"], [0.6666666666666666, \"#ed7953\"], [0.7777777777777778, \"#fb9f3a\"], [0.8888888888888888, \"#fdca26\"], [1.0, \"#f0f921\"]]}, \"colorway\": [\"#636efa\", \"#EF553B\", \"#00cc96\", \"#ab63fa\", \"#FFA15A\", \"#19d3f3\", \"#FF6692\", \"#B6E880\", \"#FF97FF\", \"#FECB52\"], \"font\": {\"color\": \"#2a3f5f\"}, \"geo\": {\"bgcolor\": \"white\", \"lakecolor\": \"white\", \"landcolor\": \"#E5ECF6\", \"showlakes\": true, \"showland\": true, \"subunitcolor\": \"white\"}, \"hoverlabel\": {\"align\": \"left\"}, \"hovermode\": \"closest\", \"mapbox\": {\"style\": \"light\"}, \"paper_bgcolor\": \"white\", \"plot_bgcolor\": \"#E5ECF6\", \"polar\": {\"angularaxis\": {\"gridcolor\": \"white\", \"linecolor\": \"white\", \"ticks\": \"\"}, \"bgcolor\": \"#E5ECF6\", \"radialaxis\": {\"gridcolor\": \"white\", \"linecolor\": \"white\", \"ticks\": \"\"}}, \"scene\": {\"xaxis\": {\"backgroundcolor\": \"#E5ECF6\", \"gridcolor\": \"white\", \"gridwidth\": 2, \"linecolor\": \"white\", \"showbackground\": true, \"ticks\": \"\", \"zerolinecolor\": \"white\"}, \"yaxis\": {\"backgroundcolor\": \"#E5ECF6\", \"gridcolor\": \"white\", \"gridwidth\": 2, \"linecolor\": \"white\", \"showbackground\": true, \"ticks\": \"\", \"zerolinecolor\": \"white\"}, \"zaxis\": {\"backgroundcolor\": \"#E5ECF6\", \"gridcolor\": \"white\", \"gridwidth\": 2, \"linecolor\": \"white\", \"showbackground\": true, \"ticks\": \"\", \"zerolinecolor\": \"white\"}}, \"shapedefaults\": {\"line\": {\"color\": \"#2a3f5f\"}}, \"ternary\": {\"aaxis\": {\"gridcolor\": \"white\", \"linecolor\": \"white\", \"ticks\": \"\"}, \"baxis\": {\"gridcolor\": \"white\", \"linecolor\": \"white\", \"ticks\": \"\"}, \"bgcolor\": \"#E5ECF6\", \"caxis\": {\"gridcolor\": \"white\", \"linecolor\": \"white\", \"ticks\": \"\"}}, \"title\": {\"x\": 0.05}, \"xaxis\": {\"automargin\": true, \"gridcolor\": \"white\", \"linecolor\": \"white\", \"ticks\": \"\", \"title\": {\"standoff\": 15}, \"zerolinecolor\": \"white\", \"zerolinewidth\": 2}, \"yaxis\": {\"automargin\": true, \"gridcolor\": \"white\", \"linecolor\": \"white\", \"ticks\": \"\", \"title\": {\"standoff\": 15}, \"zerolinecolor\": \"white\", \"zerolinewidth\": 2}}}, \"title\": {\"text\": \"Processing time of a single sequence (140s in length (20fps))\"}, \"xaxis\": {\"anchor\": \"y\", \"domain\": [0.0, 1.0], \"title\": {\"text\": \"Algorithm\"}}, \"yaxis\": {\"anchor\": \"x\", \"domain\": [0.0, 1.0], \"title\": {\"text\": \"processing_time\"}}},                        {\"responsive\": true}                    ).then(function(){\n",
       "                            \n",
       "var gd = document.getElementById('6c1d268a-de22-4472-8497-94a6fdfaaeb1');\n",
       "var x = new MutationObserver(function (mutations, observer) {{\n",
       "        var display = window.getComputedStyle(gd).display;\n",
       "        if (!display || display === 'none') {{\n",
       "            console.log([gd, 'removed!']);\n",
       "            Plotly.purge(gd);\n",
       "            observer.disconnect();\n",
       "        }}\n",
       "}});\n",
       "\n",
       "// Listen for the removal of the full notebook cells\n",
       "var notebookContainer = gd.closest('#notebook-container');\n",
       "if (notebookContainer) {{\n",
       "    x.observe(notebookContainer, {childList: true});\n",
       "}}\n",
       "\n",
       "// Listen for the clearing of the current output cell\n",
       "var outputEl = gd.closest('.output');\n",
       "if (outputEl) {{\n",
       "    x.observe(outputEl, {childList: true});\n",
       "}}\n",
       "\n",
       "                        })                };                });            </script>        </div>"
      ]
     },
     "metadata": {},
     "output_type": "display_data"
    }
   ],
   "source": [
    "dsm_proc_time = data_dsm[\"processing_time\"]\n",
    "orb_proc_time = processing_times[0]\n",
    "import plotly.express as px\n",
    "import numpy\n",
    "\n",
    "df = pd.DataFrame({\"Algorithm\": [\"orb\", \"dsm\"],  \"processing_time\":[orb_proc_time -15, dsm_proc_time -15]})\n",
    "\n",
    "fig = px.bar(df, x = \"Algorithm\", y = \"processing_time\")\n",
    "fig.update_layout(\n",
    "    title=\"Processing time of a single sequence (140s in length (20fps))\"\n",
    ")\n",
    "fig.show()"
   ]
  },
  {
   "cell_type": "code",
   "execution_count": 105,
   "metadata": {},
   "outputs": [
    {
     "data": {
      "application/vnd.plotly.v1+json": {
       "config": {
        "plotlyServerURL": "https://plot.ly"
       },
       "data": [
        {
         "type": "scatter",
         "x": [
          100,
          80,
          60,
          40
         ],
         "y": [
          281.82651907000036,
          245.13049694599977,
          209.61281800099914,
          195.24354924100044
         ]
        }
       ],
       "layout": {
        "template": {
         "data": {
          "bar": [
           {
            "error_x": {
             "color": "#2a3f5f"
            },
            "error_y": {
             "color": "#2a3f5f"
            },
            "marker": {
             "line": {
              "color": "#E5ECF6",
              "width": 0.5
             }
            },
            "type": "bar"
           }
          ],
          "barpolar": [
           {
            "marker": {
             "line": {
              "color": "#E5ECF6",
              "width": 0.5
             }
            },
            "type": "barpolar"
           }
          ],
          "carpet": [
           {
            "aaxis": {
             "endlinecolor": "#2a3f5f",
             "gridcolor": "white",
             "linecolor": "white",
             "minorgridcolor": "white",
             "startlinecolor": "#2a3f5f"
            },
            "baxis": {
             "endlinecolor": "#2a3f5f",
             "gridcolor": "white",
             "linecolor": "white",
             "minorgridcolor": "white",
             "startlinecolor": "#2a3f5f"
            },
            "type": "carpet"
           }
          ],
          "choropleth": [
           {
            "colorbar": {
             "outlinewidth": 0,
             "ticks": ""
            },
            "type": "choropleth"
           }
          ],
          "contour": [
           {
            "colorbar": {
             "outlinewidth": 0,
             "ticks": ""
            },
            "colorscale": [
             [
              0,
              "#0d0887"
             ],
             [
              0.1111111111111111,
              "#46039f"
             ],
             [
              0.2222222222222222,
              "#7201a8"
             ],
             [
              0.3333333333333333,
              "#9c179e"
             ],
             [
              0.4444444444444444,
              "#bd3786"
             ],
             [
              0.5555555555555556,
              "#d8576b"
             ],
             [
              0.6666666666666666,
              "#ed7953"
             ],
             [
              0.7777777777777778,
              "#fb9f3a"
             ],
             [
              0.8888888888888888,
              "#fdca26"
             ],
             [
              1,
              "#f0f921"
             ]
            ],
            "type": "contour"
           }
          ],
          "contourcarpet": [
           {
            "colorbar": {
             "outlinewidth": 0,
             "ticks": ""
            },
            "type": "contourcarpet"
           }
          ],
          "heatmap": [
           {
            "colorbar": {
             "outlinewidth": 0,
             "ticks": ""
            },
            "colorscale": [
             [
              0,
              "#0d0887"
             ],
             [
              0.1111111111111111,
              "#46039f"
             ],
             [
              0.2222222222222222,
              "#7201a8"
             ],
             [
              0.3333333333333333,
              "#9c179e"
             ],
             [
              0.4444444444444444,
              "#bd3786"
             ],
             [
              0.5555555555555556,
              "#d8576b"
             ],
             [
              0.6666666666666666,
              "#ed7953"
             ],
             [
              0.7777777777777778,
              "#fb9f3a"
             ],
             [
              0.8888888888888888,
              "#fdca26"
             ],
             [
              1,
              "#f0f921"
             ]
            ],
            "type": "heatmap"
           }
          ],
          "heatmapgl": [
           {
            "colorbar": {
             "outlinewidth": 0,
             "ticks": ""
            },
            "colorscale": [
             [
              0,
              "#0d0887"
             ],
             [
              0.1111111111111111,
              "#46039f"
             ],
             [
              0.2222222222222222,
              "#7201a8"
             ],
             [
              0.3333333333333333,
              "#9c179e"
             ],
             [
              0.4444444444444444,
              "#bd3786"
             ],
             [
              0.5555555555555556,
              "#d8576b"
             ],
             [
              0.6666666666666666,
              "#ed7953"
             ],
             [
              0.7777777777777778,
              "#fb9f3a"
             ],
             [
              0.8888888888888888,
              "#fdca26"
             ],
             [
              1,
              "#f0f921"
             ]
            ],
            "type": "heatmapgl"
           }
          ],
          "histogram": [
           {
            "marker": {
             "colorbar": {
              "outlinewidth": 0,
              "ticks": ""
             }
            },
            "type": "histogram"
           }
          ],
          "histogram2d": [
           {
            "colorbar": {
             "outlinewidth": 0,
             "ticks": ""
            },
            "colorscale": [
             [
              0,
              "#0d0887"
             ],
             [
              0.1111111111111111,
              "#46039f"
             ],
             [
              0.2222222222222222,
              "#7201a8"
             ],
             [
              0.3333333333333333,
              "#9c179e"
             ],
             [
              0.4444444444444444,
              "#bd3786"
             ],
             [
              0.5555555555555556,
              "#d8576b"
             ],
             [
              0.6666666666666666,
              "#ed7953"
             ],
             [
              0.7777777777777778,
              "#fb9f3a"
             ],
             [
              0.8888888888888888,
              "#fdca26"
             ],
             [
              1,
              "#f0f921"
             ]
            ],
            "type": "histogram2d"
           }
          ],
          "histogram2dcontour": [
           {
            "colorbar": {
             "outlinewidth": 0,
             "ticks": ""
            },
            "colorscale": [
             [
              0,
              "#0d0887"
             ],
             [
              0.1111111111111111,
              "#46039f"
             ],
             [
              0.2222222222222222,
              "#7201a8"
             ],
             [
              0.3333333333333333,
              "#9c179e"
             ],
             [
              0.4444444444444444,
              "#bd3786"
             ],
             [
              0.5555555555555556,
              "#d8576b"
             ],
             [
              0.6666666666666666,
              "#ed7953"
             ],
             [
              0.7777777777777778,
              "#fb9f3a"
             ],
             [
              0.8888888888888888,
              "#fdca26"
             ],
             [
              1,
              "#f0f921"
             ]
            ],
            "type": "histogram2dcontour"
           }
          ],
          "mesh3d": [
           {
            "colorbar": {
             "outlinewidth": 0,
             "ticks": ""
            },
            "type": "mesh3d"
           }
          ],
          "parcoords": [
           {
            "line": {
             "colorbar": {
              "outlinewidth": 0,
              "ticks": ""
             }
            },
            "type": "parcoords"
           }
          ],
          "pie": [
           {
            "automargin": true,
            "type": "pie"
           }
          ],
          "scatter": [
           {
            "marker": {
             "colorbar": {
              "outlinewidth": 0,
              "ticks": ""
             }
            },
            "type": "scatter"
           }
          ],
          "scatter3d": [
           {
            "line": {
             "colorbar": {
              "outlinewidth": 0,
              "ticks": ""
             }
            },
            "marker": {
             "colorbar": {
              "outlinewidth": 0,
              "ticks": ""
             }
            },
            "type": "scatter3d"
           }
          ],
          "scattercarpet": [
           {
            "marker": {
             "colorbar": {
              "outlinewidth": 0,
              "ticks": ""
             }
            },
            "type": "scattercarpet"
           }
          ],
          "scattergeo": [
           {
            "marker": {
             "colorbar": {
              "outlinewidth": 0,
              "ticks": ""
             }
            },
            "type": "scattergeo"
           }
          ],
          "scattergl": [
           {
            "marker": {
             "colorbar": {
              "outlinewidth": 0,
              "ticks": ""
             }
            },
            "type": "scattergl"
           }
          ],
          "scattermapbox": [
           {
            "marker": {
             "colorbar": {
              "outlinewidth": 0,
              "ticks": ""
             }
            },
            "type": "scattermapbox"
           }
          ],
          "scatterpolar": [
           {
            "marker": {
             "colorbar": {
              "outlinewidth": 0,
              "ticks": ""
             }
            },
            "type": "scatterpolar"
           }
          ],
          "scatterpolargl": [
           {
            "marker": {
             "colorbar": {
              "outlinewidth": 0,
              "ticks": ""
             }
            },
            "type": "scatterpolargl"
           }
          ],
          "scatterternary": [
           {
            "marker": {
             "colorbar": {
              "outlinewidth": 0,
              "ticks": ""
             }
            },
            "type": "scatterternary"
           }
          ],
          "surface": [
           {
            "colorbar": {
             "outlinewidth": 0,
             "ticks": ""
            },
            "colorscale": [
             [
              0,
              "#0d0887"
             ],
             [
              0.1111111111111111,
              "#46039f"
             ],
             [
              0.2222222222222222,
              "#7201a8"
             ],
             [
              0.3333333333333333,
              "#9c179e"
             ],
             [
              0.4444444444444444,
              "#bd3786"
             ],
             [
              0.5555555555555556,
              "#d8576b"
             ],
             [
              0.6666666666666666,
              "#ed7953"
             ],
             [
              0.7777777777777778,
              "#fb9f3a"
             ],
             [
              0.8888888888888888,
              "#fdca26"
             ],
             [
              1,
              "#f0f921"
             ]
            ],
            "type": "surface"
           }
          ],
          "table": [
           {
            "cells": {
             "fill": {
              "color": "#EBF0F8"
             },
             "line": {
              "color": "white"
             }
            },
            "header": {
             "fill": {
              "color": "#C8D4E3"
             },
             "line": {
              "color": "white"
             }
            },
            "type": "table"
           }
          ]
         },
         "layout": {
          "annotationdefaults": {
           "arrowcolor": "#2a3f5f",
           "arrowhead": 0,
           "arrowwidth": 1
          },
          "autotypenumbers": "strict",
          "coloraxis": {
           "colorbar": {
            "outlinewidth": 0,
            "ticks": ""
           }
          },
          "colorscale": {
           "diverging": [
            [
             0,
             "#8e0152"
            ],
            [
             0.1,
             "#c51b7d"
            ],
            [
             0.2,
             "#de77ae"
            ],
            [
             0.3,
             "#f1b6da"
            ],
            [
             0.4,
             "#fde0ef"
            ],
            [
             0.5,
             "#f7f7f7"
            ],
            [
             0.6,
             "#e6f5d0"
            ],
            [
             0.7,
             "#b8e186"
            ],
            [
             0.8,
             "#7fbc41"
            ],
            [
             0.9,
             "#4d9221"
            ],
            [
             1,
             "#276419"
            ]
           ],
           "sequential": [
            [
             0,
             "#0d0887"
            ],
            [
             0.1111111111111111,
             "#46039f"
            ],
            [
             0.2222222222222222,
             "#7201a8"
            ],
            [
             0.3333333333333333,
             "#9c179e"
            ],
            [
             0.4444444444444444,
             "#bd3786"
            ],
            [
             0.5555555555555556,
             "#d8576b"
            ],
            [
             0.6666666666666666,
             "#ed7953"
            ],
            [
             0.7777777777777778,
             "#fb9f3a"
            ],
            [
             0.8888888888888888,
             "#fdca26"
            ],
            [
             1,
             "#f0f921"
            ]
           ],
           "sequentialminus": [
            [
             0,
             "#0d0887"
            ],
            [
             0.1111111111111111,
             "#46039f"
            ],
            [
             0.2222222222222222,
             "#7201a8"
            ],
            [
             0.3333333333333333,
             "#9c179e"
            ],
            [
             0.4444444444444444,
             "#bd3786"
            ],
            [
             0.5555555555555556,
             "#d8576b"
            ],
            [
             0.6666666666666666,
             "#ed7953"
            ],
            [
             0.7777777777777778,
             "#fb9f3a"
            ],
            [
             0.8888888888888888,
             "#fdca26"
            ],
            [
             1,
             "#f0f921"
            ]
           ]
          },
          "colorway": [
           "#636efa",
           "#EF553B",
           "#00cc96",
           "#ab63fa",
           "#FFA15A",
           "#19d3f3",
           "#FF6692",
           "#B6E880",
           "#FF97FF",
           "#FECB52"
          ],
          "font": {
           "color": "#2a3f5f"
          },
          "geo": {
           "bgcolor": "white",
           "lakecolor": "white",
           "landcolor": "#E5ECF6",
           "showlakes": true,
           "showland": true,
           "subunitcolor": "white"
          },
          "hoverlabel": {
           "align": "left"
          },
          "hovermode": "closest",
          "mapbox": {
           "style": "light"
          },
          "paper_bgcolor": "white",
          "plot_bgcolor": "#E5ECF6",
          "polar": {
           "angularaxis": {
            "gridcolor": "white",
            "linecolor": "white",
            "ticks": ""
           },
           "bgcolor": "#E5ECF6",
           "radialaxis": {
            "gridcolor": "white",
            "linecolor": "white",
            "ticks": ""
           }
          },
          "scene": {
           "xaxis": {
            "backgroundcolor": "#E5ECF6",
            "gridcolor": "white",
            "gridwidth": 2,
            "linecolor": "white",
            "showbackground": true,
            "ticks": "",
            "zerolinecolor": "white"
           },
           "yaxis": {
            "backgroundcolor": "#E5ECF6",
            "gridcolor": "white",
            "gridwidth": 2,
            "linecolor": "white",
            "showbackground": true,
            "ticks": "",
            "zerolinecolor": "white"
           },
           "zaxis": {
            "backgroundcolor": "#E5ECF6",
            "gridcolor": "white",
            "gridwidth": 2,
            "linecolor": "white",
            "showbackground": true,
            "ticks": "",
            "zerolinecolor": "white"
           }
          },
          "shapedefaults": {
           "line": {
            "color": "#2a3f5f"
           }
          },
          "ternary": {
           "aaxis": {
            "gridcolor": "white",
            "linecolor": "white",
            "ticks": ""
           },
           "baxis": {
            "gridcolor": "white",
            "linecolor": "white",
            "ticks": ""
           },
           "bgcolor": "#E5ECF6",
           "caxis": {
            "gridcolor": "white",
            "linecolor": "white",
            "ticks": ""
           }
          },
          "title": {
           "x": 0.05
          },
          "xaxis": {
           "automargin": true,
           "gridcolor": "white",
           "linecolor": "white",
           "ticks": "",
           "title": {
            "standoff": 15
           },
           "zerolinecolor": "white",
           "zerolinewidth": 2
          },
          "yaxis": {
           "automargin": true,
           "gridcolor": "white",
           "linecolor": "white",
           "ticks": "",
           "title": {
            "standoff": 15
           },
           "zerolinecolor": "white",
           "zerolinewidth": 2
          }
         }
        },
        "title": {
         "text": "Influence of pixel count on the calculation time"
        },
        "xaxis": {
         "title": {
          "text": "percentage of pixel count of original resolution (752 x 480)"
         }
        },
        "yaxis": {
         "title": {
          "text": "calculation time in sec"
         }
        }
       }
      },
      "text/html": [
       "<div>                            <div id=\"c2a158ef-82be-449d-a9e9-f8f720fbbbf7\" class=\"plotly-graph-div\" style=\"height:525px; width:100%;\"></div>            <script type=\"text/javascript\">                require([\"plotly\"], function(Plotly) {                    window.PLOTLYENV=window.PLOTLYENV || {};                                    if (document.getElementById(\"c2a158ef-82be-449d-a9e9-f8f720fbbbf7\")) {                    Plotly.newPlot(                        \"c2a158ef-82be-449d-a9e9-f8f720fbbbf7\",                        [{\"type\": \"scatter\", \"x\": [100, 80, 60, 40], \"y\": [281.82651907000036, 245.13049694599977, 209.61281800099914, 195.24354924100044]}],                        {\"template\": {\"data\": {\"bar\": [{\"error_x\": {\"color\": \"#2a3f5f\"}, \"error_y\": {\"color\": \"#2a3f5f\"}, \"marker\": {\"line\": {\"color\": \"#E5ECF6\", \"width\": 0.5}}, \"type\": \"bar\"}], \"barpolar\": [{\"marker\": {\"line\": {\"color\": \"#E5ECF6\", \"width\": 0.5}}, \"type\": \"barpolar\"}], \"carpet\": [{\"aaxis\": {\"endlinecolor\": \"#2a3f5f\", \"gridcolor\": \"white\", \"linecolor\": \"white\", \"minorgridcolor\": \"white\", \"startlinecolor\": \"#2a3f5f\"}, \"baxis\": {\"endlinecolor\": \"#2a3f5f\", \"gridcolor\": \"white\", \"linecolor\": \"white\", \"minorgridcolor\": \"white\", \"startlinecolor\": \"#2a3f5f\"}, \"type\": \"carpet\"}], \"choropleth\": [{\"colorbar\": {\"outlinewidth\": 0, \"ticks\": \"\"}, \"type\": \"choropleth\"}], \"contour\": [{\"colorbar\": {\"outlinewidth\": 0, \"ticks\": \"\"}, \"colorscale\": [[0.0, \"#0d0887\"], [0.1111111111111111, \"#46039f\"], [0.2222222222222222, \"#7201a8\"], [0.3333333333333333, \"#9c179e\"], [0.4444444444444444, \"#bd3786\"], [0.5555555555555556, \"#d8576b\"], [0.6666666666666666, \"#ed7953\"], [0.7777777777777778, \"#fb9f3a\"], [0.8888888888888888, \"#fdca26\"], [1.0, \"#f0f921\"]], \"type\": \"contour\"}], \"contourcarpet\": [{\"colorbar\": {\"outlinewidth\": 0, \"ticks\": \"\"}, \"type\": \"contourcarpet\"}], \"heatmap\": [{\"colorbar\": {\"outlinewidth\": 0, \"ticks\": \"\"}, \"colorscale\": [[0.0, \"#0d0887\"], [0.1111111111111111, \"#46039f\"], [0.2222222222222222, \"#7201a8\"], [0.3333333333333333, \"#9c179e\"], [0.4444444444444444, \"#bd3786\"], [0.5555555555555556, \"#d8576b\"], [0.6666666666666666, \"#ed7953\"], [0.7777777777777778, \"#fb9f3a\"], [0.8888888888888888, \"#fdca26\"], [1.0, \"#f0f921\"]], \"type\": \"heatmap\"}], \"heatmapgl\": [{\"colorbar\": {\"outlinewidth\": 0, \"ticks\": \"\"}, \"colorscale\": [[0.0, \"#0d0887\"], [0.1111111111111111, \"#46039f\"], [0.2222222222222222, \"#7201a8\"], [0.3333333333333333, \"#9c179e\"], [0.4444444444444444, \"#bd3786\"], [0.5555555555555556, \"#d8576b\"], [0.6666666666666666, \"#ed7953\"], [0.7777777777777778, \"#fb9f3a\"], [0.8888888888888888, \"#fdca26\"], [1.0, \"#f0f921\"]], \"type\": \"heatmapgl\"}], \"histogram\": [{\"marker\": {\"colorbar\": {\"outlinewidth\": 0, \"ticks\": \"\"}}, \"type\": \"histogram\"}], \"histogram2d\": [{\"colorbar\": {\"outlinewidth\": 0, \"ticks\": \"\"}, \"colorscale\": [[0.0, \"#0d0887\"], [0.1111111111111111, \"#46039f\"], [0.2222222222222222, \"#7201a8\"], [0.3333333333333333, \"#9c179e\"], [0.4444444444444444, \"#bd3786\"], [0.5555555555555556, \"#d8576b\"], [0.6666666666666666, \"#ed7953\"], [0.7777777777777778, \"#fb9f3a\"], [0.8888888888888888, \"#fdca26\"], [1.0, \"#f0f921\"]], \"type\": \"histogram2d\"}], \"histogram2dcontour\": [{\"colorbar\": {\"outlinewidth\": 0, \"ticks\": \"\"}, \"colorscale\": [[0.0, \"#0d0887\"], [0.1111111111111111, \"#46039f\"], [0.2222222222222222, \"#7201a8\"], [0.3333333333333333, \"#9c179e\"], [0.4444444444444444, \"#bd3786\"], [0.5555555555555556, \"#d8576b\"], [0.6666666666666666, \"#ed7953\"], [0.7777777777777778, \"#fb9f3a\"], [0.8888888888888888, \"#fdca26\"], [1.0, \"#f0f921\"]], \"type\": \"histogram2dcontour\"}], \"mesh3d\": [{\"colorbar\": {\"outlinewidth\": 0, \"ticks\": \"\"}, \"type\": \"mesh3d\"}], \"parcoords\": [{\"line\": {\"colorbar\": {\"outlinewidth\": 0, \"ticks\": \"\"}}, \"type\": \"parcoords\"}], \"pie\": [{\"automargin\": true, \"type\": \"pie\"}], \"scatter\": [{\"marker\": {\"colorbar\": {\"outlinewidth\": 0, \"ticks\": \"\"}}, \"type\": \"scatter\"}], \"scatter3d\": [{\"line\": {\"colorbar\": {\"outlinewidth\": 0, \"ticks\": \"\"}}, \"marker\": {\"colorbar\": {\"outlinewidth\": 0, \"ticks\": \"\"}}, \"type\": \"scatter3d\"}], \"scattercarpet\": [{\"marker\": {\"colorbar\": {\"outlinewidth\": 0, \"ticks\": \"\"}}, \"type\": \"scattercarpet\"}], \"scattergeo\": [{\"marker\": {\"colorbar\": {\"outlinewidth\": 0, \"ticks\": \"\"}}, \"type\": \"scattergeo\"}], \"scattergl\": [{\"marker\": {\"colorbar\": {\"outlinewidth\": 0, \"ticks\": \"\"}}, \"type\": \"scattergl\"}], \"scattermapbox\": [{\"marker\": {\"colorbar\": {\"outlinewidth\": 0, \"ticks\": \"\"}}, \"type\": \"scattermapbox\"}], \"scatterpolar\": [{\"marker\": {\"colorbar\": {\"outlinewidth\": 0, \"ticks\": \"\"}}, \"type\": \"scatterpolar\"}], \"scatterpolargl\": [{\"marker\": {\"colorbar\": {\"outlinewidth\": 0, \"ticks\": \"\"}}, \"type\": \"scatterpolargl\"}], \"scatterternary\": [{\"marker\": {\"colorbar\": {\"outlinewidth\": 0, \"ticks\": \"\"}}, \"type\": \"scatterternary\"}], \"surface\": [{\"colorbar\": {\"outlinewidth\": 0, \"ticks\": \"\"}, \"colorscale\": [[0.0, \"#0d0887\"], [0.1111111111111111, \"#46039f\"], [0.2222222222222222, \"#7201a8\"], [0.3333333333333333, \"#9c179e\"], [0.4444444444444444, \"#bd3786\"], [0.5555555555555556, \"#d8576b\"], [0.6666666666666666, \"#ed7953\"], [0.7777777777777778, \"#fb9f3a\"], [0.8888888888888888, \"#fdca26\"], [1.0, \"#f0f921\"]], \"type\": \"surface\"}], \"table\": [{\"cells\": {\"fill\": {\"color\": \"#EBF0F8\"}, \"line\": {\"color\": \"white\"}}, \"header\": {\"fill\": {\"color\": \"#C8D4E3\"}, \"line\": {\"color\": \"white\"}}, \"type\": \"table\"}]}, \"layout\": {\"annotationdefaults\": {\"arrowcolor\": \"#2a3f5f\", \"arrowhead\": 0, \"arrowwidth\": 1}, \"autotypenumbers\": \"strict\", \"coloraxis\": {\"colorbar\": {\"outlinewidth\": 0, \"ticks\": \"\"}}, \"colorscale\": {\"diverging\": [[0, \"#8e0152\"], [0.1, \"#c51b7d\"], [0.2, \"#de77ae\"], [0.3, \"#f1b6da\"], [0.4, \"#fde0ef\"], [0.5, \"#f7f7f7\"], [0.6, \"#e6f5d0\"], [0.7, \"#b8e186\"], [0.8, \"#7fbc41\"], [0.9, \"#4d9221\"], [1, \"#276419\"]], \"sequential\": [[0.0, \"#0d0887\"], [0.1111111111111111, \"#46039f\"], [0.2222222222222222, \"#7201a8\"], [0.3333333333333333, \"#9c179e\"], [0.4444444444444444, \"#bd3786\"], [0.5555555555555556, \"#d8576b\"], [0.6666666666666666, \"#ed7953\"], [0.7777777777777778, \"#fb9f3a\"], [0.8888888888888888, \"#fdca26\"], [1.0, \"#f0f921\"]], \"sequentialminus\": [[0.0, \"#0d0887\"], [0.1111111111111111, \"#46039f\"], [0.2222222222222222, \"#7201a8\"], [0.3333333333333333, \"#9c179e\"], [0.4444444444444444, \"#bd3786\"], [0.5555555555555556, \"#d8576b\"], [0.6666666666666666, \"#ed7953\"], [0.7777777777777778, \"#fb9f3a\"], [0.8888888888888888, \"#fdca26\"], [1.0, \"#f0f921\"]]}, \"colorway\": [\"#636efa\", \"#EF553B\", \"#00cc96\", \"#ab63fa\", \"#FFA15A\", \"#19d3f3\", \"#FF6692\", \"#B6E880\", \"#FF97FF\", \"#FECB52\"], \"font\": {\"color\": \"#2a3f5f\"}, \"geo\": {\"bgcolor\": \"white\", \"lakecolor\": \"white\", \"landcolor\": \"#E5ECF6\", \"showlakes\": true, \"showland\": true, \"subunitcolor\": \"white\"}, \"hoverlabel\": {\"align\": \"left\"}, \"hovermode\": \"closest\", \"mapbox\": {\"style\": \"light\"}, \"paper_bgcolor\": \"white\", \"plot_bgcolor\": \"#E5ECF6\", \"polar\": {\"angularaxis\": {\"gridcolor\": \"white\", \"linecolor\": \"white\", \"ticks\": \"\"}, \"bgcolor\": \"#E5ECF6\", \"radialaxis\": {\"gridcolor\": \"white\", \"linecolor\": \"white\", \"ticks\": \"\"}}, \"scene\": {\"xaxis\": {\"backgroundcolor\": \"#E5ECF6\", \"gridcolor\": \"white\", \"gridwidth\": 2, \"linecolor\": \"white\", \"showbackground\": true, \"ticks\": \"\", \"zerolinecolor\": \"white\"}, \"yaxis\": {\"backgroundcolor\": \"#E5ECF6\", \"gridcolor\": \"white\", \"gridwidth\": 2, \"linecolor\": \"white\", \"showbackground\": true, \"ticks\": \"\", \"zerolinecolor\": \"white\"}, \"zaxis\": {\"backgroundcolor\": \"#E5ECF6\", \"gridcolor\": \"white\", \"gridwidth\": 2, \"linecolor\": \"white\", \"showbackground\": true, \"ticks\": \"\", \"zerolinecolor\": \"white\"}}, \"shapedefaults\": {\"line\": {\"color\": \"#2a3f5f\"}}, \"ternary\": {\"aaxis\": {\"gridcolor\": \"white\", \"linecolor\": \"white\", \"ticks\": \"\"}, \"baxis\": {\"gridcolor\": \"white\", \"linecolor\": \"white\", \"ticks\": \"\"}, \"bgcolor\": \"#E5ECF6\", \"caxis\": {\"gridcolor\": \"white\", \"linecolor\": \"white\", \"ticks\": \"\"}}, \"title\": {\"x\": 0.05}, \"xaxis\": {\"automargin\": true, \"gridcolor\": \"white\", \"linecolor\": \"white\", \"ticks\": \"\", \"title\": {\"standoff\": 15}, \"zerolinecolor\": \"white\", \"zerolinewidth\": 2}, \"yaxis\": {\"automargin\": true, \"gridcolor\": \"white\", \"linecolor\": \"white\", \"ticks\": \"\", \"title\": {\"standoff\": 15}, \"zerolinecolor\": \"white\", \"zerolinewidth\": 2}}}, \"title\": {\"text\": \"Influence of pixel count on the calculation time\"}, \"xaxis\": {\"title\": {\"text\": \"percentage of pixel count of original resolution (752 x 480)\"}}, \"yaxis\": {\"title\": {\"text\": \"calculation time in sec\"}}},                        {\"responsive\": true}                    ).then(function(){\n",
       "                            \n",
       "var gd = document.getElementById('c2a158ef-82be-449d-a9e9-f8f720fbbbf7');\n",
       "var x = new MutationObserver(function (mutations, observer) {{\n",
       "        var display = window.getComputedStyle(gd).display;\n",
       "        if (!display || display === 'none') {{\n",
       "            console.log([gd, 'removed!']);\n",
       "            Plotly.purge(gd);\n",
       "            observer.disconnect();\n",
       "        }}\n",
       "}});\n",
       "\n",
       "// Listen for the removal of the full notebook cells\n",
       "var notebookContainer = gd.closest('#notebook-container');\n",
       "if (notebookContainer) {{\n",
       "    x.observe(notebookContainer, {childList: true});\n",
       "}}\n",
       "\n",
       "// Listen for the clearing of the current output cell\n",
       "var outputEl = gd.closest('.output');\n",
       "if (outputEl) {{\n",
       "    x.observe(outputEl, {childList: true});\n",
       "}}\n",
       "\n",
       "                        })                };                });            </script>        </div>"
      ]
     },
     "metadata": {},
     "output_type": "display_data"
    }
   ],
   "source": [
    "fig = go.Figure(data=go.Scatter(x=[100, 80, 60, 40], y=processing_times))\n",
    "fig.update_layout(\n",
    "    title=\"Influence of pixel count on the calculation time\",\n",
    "    xaxis_title=\"percentage of pixel count of original resolution (752 x 480)\",\n",
    "    yaxis_title=\"calculation time in sec\"\n",
    ")\n",
    "fig.show()"
   ]
  },
  {
   "cell_type": "code",
   "execution_count": 106,
   "metadata": {},
   "outputs": [],
   "source": [
    "orb_est_df_100 = pd.read_csv(\"V101/ORB/data/est_df_transformed.csv\")\n",
    "dsm_est_df_100 = pd.read_csv(\"V101/DSM/data/est_df_transformed.csv\")\n",
    "gt = pd.read_csv(\"../tmp/data.csv\")\n",
    "gt[\"timestamp\"] = gt[\"#timestamp\"]\n",
    "gt[\"p_x\"] = gt[\" p_RS_R_x [m]\"]\n",
    "gt[\"p_y\"] = gt[\" p_RS_R_y [m]\"]\n",
    "gt[\"p_z\"] = gt[\" p_RS_R_z [m]\"]\n"
   ]
  },
  {
   "cell_type": "code",
   "execution_count": 107,
   "metadata": {},
   "outputs": [],
   "source": [
    "class FramePreprocessor:\n",
    "    def __init__(self, gt_filepath, est_filepath, dataset_type, outdir_data, gt_pos_df=None, est_pos_df=None):\n",
    "        self.dataset_type = dataset_type\n",
    "        self.gt_filepath = gt_filepath\n",
    "        self.est_filepath = est_filepath\n",
    "        self.outdir_data = outdir_data\n",
    "        self.gt_pos_df = gt_pos_df\n",
    "        self.est_pos_df = est_pos_df\n",
    "\n",
    "    @staticmethod\n",
    "    def standardize_timestamp(ts):\n",
    "        ts = '{0:.10f}'.format(ts)\n",
    "        ts_head = ts[0:10]\n",
    "        if ts[10] == \".\":\n",
    "            ts_tail = ts[11:14]\n",
    "        else:\n",
    "            ts_tail = ts[10:13]\n",
    "        ts_out = ts_head + \".\" + ts_tail\n",
    "        return float(ts_out)\n",
    "\n",
    "    def create_gt_pos_df(self):\n",
    "        if self.dataset_type == \"euroc\":\n",
    "            gt_df = pd.read_csv(self.gt_filepath, sep=\",\")\n",
    "            \n",
    "            # for now only use positional dataset_type\n",
    "            gt_pos_df = pd.DataFrame({\"timestamp\": gt_df[\"#timestamp\"],\n",
    "                                      \"p_x\": gt_df[\" p_RS_R_x [m]\"],\n",
    "                                      \"p_y\": gt_df[\" p_RS_R_y [m]\"],\n",
    "                                      \"p_z\": gt_df[\" p_RS_R_z [m]\"]})\n",
    "            gt_pos_df.timestamp = gt_pos_df.timestamp.apply(self.__class__.standardize_timestamp)\n",
    "            self.gt_pos_df = gt_pos_df\n",
    "            \n",
    "    def create_est_pos_df(self):\n",
    "        def standardize_seps(filepath, target_sep, invalid_seps):\n",
    "            lines_out = []\n",
    "            file = open(filepath, \"r+\")\n",
    "            lines = file.readlines()\n",
    "            for line in lines:\n",
    "                for invalid_sep in invalid_seps:\n",
    "                    line = line.replace(invalid_sep, target_sep)\n",
    "                lines_out.append(line)\n",
    "            file.truncate(0)\n",
    "            file.close()\n",
    "            file = open(filepath, \"w\")\n",
    "            file.writelines(lines_out)\n",
    "            file.close()\n",
    "\n",
    "        standardize_seps(invalid_seps=[\"    \", \"   \", \"  \"],\n",
    "                         target_sep=\" \",\n",
    "                         filepath=self.est_filepath)\n",
    "\n",
    "        if self.dataset_type == \"euroc\":\n",
    "            df_calc = pd.read_csv(self.est_filepath,\n",
    "                                  sep=\" \",\n",
    "                                  header=None,\n",
    "                                  names=[\"timestamp\", \"p_x\", \"p_y\", \"p_z\", \"1\", \"2\", \"3\", \"4\"])\n",
    "            df_calc.timestamp = df_calc.timestamp.apply(self.__class__.standardize_timestamp)\n",
    "            self.est_pos_df = df_calc[[\"timestamp\", \"p_x\", \"p_y\", \"p_z\"]]\n",
    "\n",
    "    def align_timestamps(self):\n",
    "        if all([isinstance(self.est_pos_df, pd.DataFrame), isinstance(self.gt_pos_df, pd.DataFrame)]):\n",
    "            gt_ts = self.gt_pos_df[\"timestamp\"].to_numpy()\n",
    "            est_ts = self.est_pos_df[\"timestamp\"].to_numpy()\n",
    "            if not (np.all(np.diff(est_ts) >= 0) and np.all(np.diff(gt_ts) >= 0)):\n",
    "                raise ValueError(\"Timestamps have to be sorted!\")\n",
    "\n",
    "            # remove all rows in the estimated data, where no groundtruth is present\n",
    "            perc_no_gt = ((np.sum(est_ts < gt_ts[0]) + np.sum(est_ts > gt_ts[len(gt_ts) - 1])) / len(\n",
    "                est_ts) * 100)\n",
    "            if perc_no_gt != 0:\n",
    "\n",
    "                print(str(perc_no_gt) + \" percent of measurements countain no groundtruth, they will be removed!\")\n",
    "                idx_oi = [((est_ts[i] > gt_ts[0]) and (est_ts[i] < gt_ts[len(gt_ts) - 1])).tolist() for i in\n",
    "                          range(len(est_ts))]\n",
    "                est_ts = est_ts[idx_oi]\n",
    "                self.est_pos_df = self.est_pos_df[idx_oi]\n",
    "\n",
    "            # for each estimated point, only use the closest point in\n",
    "            # TODO: make this code less complex in time\n",
    "            matches = {}\n",
    "            for est_ts_oi in est_ts:\n",
    "                dists = [abs(est_ts_oi - val) for val in gt_ts]\n",
    "                idx_oi = np.argmin(dists)\n",
    "                if dists[idx_oi] < 200000000:\n",
    "                    matches[est_ts_oi] = gt_ts[idx_oi]\n",
    "                else:\n",
    "                    print(\"for timestamp {}, no matching groundtruth found!\".format(est_ts_oi))\n",
    "                    matches[est_ts_oi] = None\n",
    "            self.gt_pos_df = self.gt_pos_df[[val in matches.values() for val in self.gt_pos_df[\"timestamp\"]]]\n",
    "\n",
    "           # if not self.gt_pos_df.shape == self.est_pos_df.shape:\n",
    "            #    raise ValueError(\"Something went wrong, position dataframes of different dimension!\")\n",
    "        else:\n",
    "            raise ValueError(\"No dataframes found!\")\n",
    "\n",
    "    def get_gt_pos_df(self):\n",
    "        return self.gt_pos_df\n",
    "\n",
    "    def get_est_pos_df(self):\n",
    "        return self.est_pos_df\n"
   ]
  },
  {
   "cell_type": "code",
   "execution_count": 108,
   "metadata": {},
   "outputs": [],
   "source": [
    "fp = FramePreprocessor(gt_filepath=None, est_pos_df=orb_est_df_100, outdir_data=None, gt_pos_df=gt, est_filepath=None, \n",
    "                      dataset_type=\"euroc\")\n",
    "fp.gt_pos_df.timestamp = fp.gt_pos_df.timestamp.apply(fp.standardize_timestamp)\n",
    "fp.align_timestamps()"
   ]
  },
  {
   "cell_type": "code",
   "execution_count": 110,
   "metadata": {},
   "outputs": [
    {
     "data": {
      "text/html": [
       "<div>\n",
       "<style scoped>\n",
       "    .dataframe tbody tr th:only-of-type {\n",
       "        vertical-align: middle;\n",
       "    }\n",
       "\n",
       "    .dataframe tbody tr th {\n",
       "        vertical-align: top;\n",
       "    }\n",
       "\n",
       "    .dataframe thead th {\n",
       "        text-align: right;\n",
       "    }\n",
       "</style>\n",
       "<table border=\"1\" class=\"dataframe\">\n",
       "  <thead>\n",
       "    <tr style=\"text-align: right;\">\n",
       "      <th></th>\n",
       "      <th>Unnamed: 0</th>\n",
       "      <th>timestamp</th>\n",
       "      <th>p_x</th>\n",
       "      <th>p_y</th>\n",
       "      <th>p_z</th>\n",
       "    </tr>\n",
       "  </thead>\n",
       "  <tbody>\n",
       "    <tr>\n",
       "      <th>0</th>\n",
       "      <td>0</td>\n",
       "      <td>1.403715e+09</td>\n",
       "      <td>0.872252</td>\n",
       "      <td>2.209865</td>\n",
       "      <td>1.019889</td>\n",
       "    </tr>\n",
       "    <tr>\n",
       "      <th>1</th>\n",
       "      <td>1</td>\n",
       "      <td>1.403715e+09</td>\n",
       "      <td>0.879990</td>\n",
       "      <td>2.214823</td>\n",
       "      <td>1.039097</td>\n",
       "    </tr>\n",
       "    <tr>\n",
       "      <th>2</th>\n",
       "      <td>2</td>\n",
       "      <td>1.403715e+09</td>\n",
       "      <td>0.887048</td>\n",
       "      <td>2.218270</td>\n",
       "      <td>1.056643</td>\n",
       "    </tr>\n",
       "    <tr>\n",
       "      <th>3</th>\n",
       "      <td>3</td>\n",
       "      <td>1.403715e+09</td>\n",
       "      <td>0.894383</td>\n",
       "      <td>2.221724</td>\n",
       "      <td>1.072270</td>\n",
       "    </tr>\n",
       "    <tr>\n",
       "      <th>4</th>\n",
       "      <td>4</td>\n",
       "      <td>1.403715e+09</td>\n",
       "      <td>0.900127</td>\n",
       "      <td>2.223443</td>\n",
       "      <td>1.080486</td>\n",
       "    </tr>\n",
       "  </tbody>\n",
       "</table>\n",
       "</div>"
      ],
      "text/plain": [
       "   Unnamed: 0     timestamp       p_x       p_y       p_z\n",
       "0           0  1.403715e+09  0.872252  2.209865  1.019889\n",
       "1           1  1.403715e+09  0.879990  2.214823  1.039097\n",
       "2           2  1.403715e+09  0.887048  2.218270  1.056643\n",
       "3           3  1.403715e+09  0.894383  2.221724  1.072270\n",
       "4           4  1.403715e+09  0.900127  2.223443  1.080486"
      ]
     },
     "execution_count": 110,
     "metadata": {},
     "output_type": "execute_result"
    }
   ],
   "source": [
    "gt_long_orb = fp.get_gt_pos_df()\n",
    "est_long_orb = fp.get_est_pos_df()\n",
    "gt_long_orb.head()\n",
    "est_long_orb.head()"
   ]
  },
  {
   "cell_type": "code",
   "execution_count": 111,
   "metadata": {},
   "outputs": [],
   "source": [
    "class Evaluator:\n",
    "    def __init__(self, gt_df, est_df):\n",
    "        self.gt_df = gt_df\n",
    "        self.est_df = est_df\n",
    "\n",
    "    def calculate_diff(self):\n",
    "        dists = []\n",
    "        for i in range(self.est_df.shape[0]):\n",
    "            p1 = np.array([self.est_df.iloc[i, 2], self.est_df.iloc[i, 3], self.est_df.iloc[i, 4]])\n",
    "            p2 = np.array([self.gt_df.iloc[i, 1], self.gt_df.iloc[i, 2], self.gt_df.iloc[i, 3]])\n",
    "            dist = np.linalg.norm(p1-p2)\n",
    "            dists.append(dist)\n",
    "        mean_diff = np.mean(dists)\n",
    "        print(\"mean difference position error: {}\".format(mean_diff))\n",
    "        return dists, mean_diff"
   ]
  },
  {
   "cell_type": "code",
   "execution_count": 112,
   "metadata": {},
   "outputs": [],
   "source": [
    "evaluator = Evaluator(gt_df=gt_long_orb, \n",
    "                      est_df=est_long_orb)"
   ]
  },
  {
   "cell_type": "code",
   "execution_count": 113,
   "metadata": {},
   "outputs": [
    {
     "name": "stdout",
     "output_type": "stream",
     "text": [
      "mean difference position error: 0.08256527734471082\n"
     ]
    }
   ],
   "source": [
    "dists_orb, mean_diff_orb = evaluator.calculate_diff()"
   ]
  },
  {
   "cell_type": "code",
   "execution_count": 114,
   "metadata": {},
   "outputs": [
    {
     "name": "stdout",
     "output_type": "stream",
     "text": [
      "               #timestamp   p_RS_R_x [m]   p_RS_R_y [m]   p_RS_R_z [m]  \\\n",
      "882   1403715278712142848       0.905660       2.153127       0.977794   \n",
      "952   1403715279062142976       0.959404       2.179212       1.086272   \n",
      "1252  1403715280562142976       1.067345       2.220378       1.209176   \n",
      "1312  1403715280862142976       1.116619       2.252080       1.250248   \n",
      "1442  1403715281512142848       1.227798       2.324085       1.297879   \n",
      "\n",
      "       q_RS_w []   q_RS_x []   q_RS_y []   q_RS_z []   v_RS_R_x [m s^-1]  \\\n",
      "882     0.062580   -0.816324   -0.049765   -0.572034            0.145626   \n",
      "952     0.065887   -0.808885   -0.047710   -0.582312            0.129306   \n",
      "1252    0.044035   -0.821187   -0.046874   -0.567025            0.154169   \n",
      "1312    0.016319   -0.819398    0.014443   -0.572814            0.166666   \n",
      "1442    0.042114    0.815451   -0.096671    0.569142            0.177352   \n",
      "\n",
      "       v_RS_R_y [m s^-1]  ...   b_w_RS_S_x [rad s^-1]   b_w_RS_S_y [rad s^-1]  \\\n",
      "882             0.081581  ...               -0.002229                0.020700   \n",
      "952             0.065217  ...               -0.002229                0.020700   \n",
      "1252            0.114438  ...               -0.002229                0.020701   \n",
      "1312            0.101762  ...               -0.002229                0.020701   \n",
      "1442            0.090191  ...               -0.002229                0.020701   \n",
      "\n",
      "       b_w_RS_S_z [rad s^-1]   b_a_RS_S_x [m s^-2]   b_a_RS_S_y [m s^-2]  \\\n",
      "882                 0.076350             -0.012493              0.547727   \n",
      "952                 0.076350             -0.012494              0.547736   \n",
      "1252                0.076349             -0.012493              0.547789   \n",
      "1312                0.076349             -0.012491              0.547801   \n",
      "1442                0.076348             -0.012488              0.547831   \n",
      "\n",
      "       b_a_RS_S_z [m s^-2]     timestamp       p_x       p_y       p_z  \n",
      "882               0.069104  1.403715e+09  0.905660  2.153127  0.977794  \n",
      "952               0.069110  1.403715e+09  0.959404  2.179212  1.086272  \n",
      "1252              0.069139  1.403715e+09  1.067345  2.220378  1.209176  \n",
      "1312              0.069147  1.403715e+09  1.116619  2.252080  1.250248  \n",
      "1442              0.069166  1.403715e+09  1.227798  2.324085  1.297879  \n",
      "\n",
      "[5 rows x 21 columns]\n"
     ]
    },
    {
     "data": {
      "text/html": [
       "<div>\n",
       "<style scoped>\n",
       "    .dataframe tbody tr th:only-of-type {\n",
       "        vertical-align: middle;\n",
       "    }\n",
       "\n",
       "    .dataframe tbody tr th {\n",
       "        vertical-align: top;\n",
       "    }\n",
       "\n",
       "    .dataframe thead th {\n",
       "        text-align: right;\n",
       "    }\n",
       "</style>\n",
       "<table border=\"1\" class=\"dataframe\">\n",
       "  <thead>\n",
       "    <tr style=\"text-align: right;\">\n",
       "      <th></th>\n",
       "      <th>Unnamed: 0</th>\n",
       "      <th>timestamp</th>\n",
       "      <th>p_x</th>\n",
       "      <th>p_y</th>\n",
       "      <th>p_z</th>\n",
       "    </tr>\n",
       "  </thead>\n",
       "  <tbody>\n",
       "    <tr>\n",
       "      <th>0</th>\n",
       "      <td>1</td>\n",
       "      <td>1.403715e+09</td>\n",
       "      <td>0.855608</td>\n",
       "      <td>2.197245</td>\n",
       "      <td>0.973882</td>\n",
       "    </tr>\n",
       "    <tr>\n",
       "      <th>1</th>\n",
       "      <td>2</td>\n",
       "      <td>1.403715e+09</td>\n",
       "      <td>0.907236</td>\n",
       "      <td>2.226212</td>\n",
       "      <td>1.080113</td>\n",
       "    </tr>\n",
       "    <tr>\n",
       "      <th>2</th>\n",
       "      <td>3</td>\n",
       "      <td>1.403715e+09</td>\n",
       "      <td>1.015739</td>\n",
       "      <td>2.264961</td>\n",
       "      <td>1.199039</td>\n",
       "    </tr>\n",
       "    <tr>\n",
       "      <th>3</th>\n",
       "      <td>4</td>\n",
       "      <td>1.403715e+09</td>\n",
       "      <td>1.076110</td>\n",
       "      <td>2.296096</td>\n",
       "      <td>1.247413</td>\n",
       "    </tr>\n",
       "    <tr>\n",
       "      <th>4</th>\n",
       "      <td>5</td>\n",
       "      <td>1.403715e+09</td>\n",
       "      <td>1.206199</td>\n",
       "      <td>2.367188</td>\n",
       "      <td>1.288267</td>\n",
       "    </tr>\n",
       "  </tbody>\n",
       "</table>\n",
       "</div>"
      ],
      "text/plain": [
       "   Unnamed: 0     timestamp       p_x       p_y       p_z\n",
       "0           1  1.403715e+09  0.855608  2.197245  0.973882\n",
       "1           2  1.403715e+09  0.907236  2.226212  1.080113\n",
       "2           3  1.403715e+09  1.015739  2.264961  1.199039\n",
       "3           4  1.403715e+09  1.076110  2.296096  1.247413\n",
       "4           5  1.403715e+09  1.206199  2.367188  1.288267"
      ]
     },
     "execution_count": 114,
     "metadata": {},
     "output_type": "execute_result"
    }
   ],
   "source": [
    "fp = FramePreprocessor(gt_filepath=None, est_pos_df=dsm_est_df_100, outdir_data=None, gt_pos_df=gt, est_filepath=None, \n",
    "                      dataset_type=\"euroc\")\n",
    "fp.gt_pos_df.timestamp = fp.gt_pos_df.timestamp.apply(fp.standardize_timestamp)\n",
    "fp.align_timestamps()\n",
    "gt_long = fp.get_gt_pos_df()\n",
    "est_long = fp.get_est_pos_df()\n",
    "print(gt_long.head())\n",
    "est_long.head()"
   ]
  },
  {
   "cell_type": "code",
   "execution_count": 92,
   "metadata": {},
   "outputs": [
    {
     "name": "stdout",
     "output_type": "stream",
     "text": [
      "mean difference position error: 0.08586807546021107\n"
     ]
    }
   ],
   "source": [
    "evaluator = Evaluator(gt_df=gt_long, \n",
    "                      est_df=est_long)\n",
    "dists_dsm, mean_diff_dsm = evaluator.calculate_diff()"
   ]
  },
  {
   "cell_type": "code",
   "execution_count": 100,
   "metadata": {},
   "outputs": [
    {
     "data": {
      "application/vnd.plotly.v1+json": {
       "config": {
        "plotlyServerURL": "https://plot.ly"
       },
       "data": [
        {
         "type": "scatter",
         "x": [
          0,
          0.35000014305114746,
          1.8500001430511475,
          2.1500000953674316,
          2.8000001907348633,
          3.200000047683716,
          3.5,
          3.9000000953674316,
          4.3500001430511475,
          4.700000047683716,
          5.1000001430511475,
          5.550000190734863,
          6.3500001430511475,
          6.6000001430511475,
          6.950000047683716,
          7.450000047683716,
          7.950000047683716,
          8.400000095367432,
          8.900000095367432,
          9.150000095367432,
          9.450000047683716,
          10,
          10.600000143051147,
          10.900000095367432,
          12.100000143051147,
          12.850000143051147,
          13.200000047683716,
          13.700000047683716,
          13.850000143051147,
          14.150000095367432,
          14.400000095367432,
          14.650000095367432,
          14.950000047683716,
          15.300000190734863,
          15.650000095367432,
          15.900000095367432,
          16.15000009536743,
          16.450000047683716,
          16.700000047683716,
          17,
          17.300000190734863,
          17.550000190734863,
          17.90000009536743,
          18.350000143051147,
          18.65000009536743,
          19.050000190734863,
          19.40000009536743,
          20.450000047683716,
          20.950000047683716,
          21.300000190734863,
          22.550000190734863,
          23.600000143051147,
          24.40000009536743,
          24.65000009536743,
          24.90000009536743,
          25.100000143051147,
          25.300000190734863,
          27.100000143051147,
          27.65000009536743,
          27.90000009536743,
          28.100000143051147,
          28.300000190734863,
          28.5,
          28.90000009536743,
          29.600000143051147,
          31.550000190734863,
          32.05000019073486,
          32.80000019073486,
          33.30000019073486,
          33.60000014305115,
          33.90000009536743,
          34.15000009536743,
          34.40000009536743,
          34.85000014305115,
          35.450000047683716,
          35.80000019073486,
          36.30000019073486,
          36.65000009536743,
          37.10000014305115,
          37.40000009536743,
          37.65000009536743,
          37.85000014305115,
          38.200000047683716,
          38.450000047683716,
          38.65000009536743,
          38.950000047683716,
          39.25,
          39.75,
          40,
          40.35000014305115,
          40.60000014305115,
          40.90000009536743,
          41.200000047683716,
          41.450000047683716,
          41.65000009536743,
          41.85000014305115,
          42.05000019073486,
          42.35000014305115,
          42.950000047683716,
          43.200000047683716,
          43.40000009536743,
          43.60000014305115,
          43.75,
          43.90000009536743,
          44.05000019073486,
          44.25,
          44.5,
          44.85000014305115,
          45.10000014305115,
          45.30000019073486,
          45.40000009536743,
          45.700000047683716,
          46.30000019073486,
          46.90000009536743,
          47.40000009536743,
          47.700000047683716,
          48.30000019073486,
          48.80000019073486,
          49.15000009536743,
          49.5,
          49.85000014305115,
          50.15000009536743,
          50.35000014305115,
          50.55000019073486,
          50.75,
          51.30000019073486,
          52.15000009536743,
          52.35000014305115,
          52.60000014305115,
          53.15000009536743,
          54.15000009536743,
          54.60000014305115,
          55.5,
          56.35000014305115,
          57.40000009536743,
          58.75,
          59.25,
          59.950000047683716,
          60.60000014305115,
          61.10000014305115,
          61.5,
          61.700000047683716,
          61.90000009536743,
          62.700000047683716,
          63.90000009536743,
          64.30000019073486,
          64.90000009536743,
          65.40000009536743,
          65.85000014305115,
          66.25,
          66.60000014305115,
          66.90000009536743,
          67.20000004768372,
          67.5,
          67.95000004768372,
          68.40000009536743,
          68.65000009536743,
          68.95000004768372,
          69.20000004768372,
          69.45000004768372,
          69.65000009536743,
          70,
          70.35000014305115,
          71.10000014305115,
          71.55000019073486,
          72,
          72.95000004768372,
          73.35000014305115,
          73.55000019073486,
          73.95000004768372,
          74.80000019073486,
          76.40000009536743,
          76.70000004768372,
          77.10000014305115,
          78.05000019073486,
          78.35000014305115,
          78.65000009536743,
          79.40000009536743,
          79.80000019073486,
          80,
          80.30000019073486,
          80.85000014305115,
          81.20000004768372,
          81.60000014305115,
          82,
          82.20000004768372,
          82.5,
          82.70000004768372,
          83,
          83.25,
          83.5,
          83.75,
          84,
          84.20000004768372,
          84.40000009536743,
          84.65000009536743,
          84.90000009536743,
          85.10000014305115,
          85.40000009536743,
          86.25,
          86.60000014305115,
          86.90000009536743,
          87.15000009536743,
          87.55000019073486,
          88.60000014305115,
          89.60000014305115,
          90.15000009536743,
          90.75,
          91.10000014305115,
          92.20000004768372,
          93.25,
          93.90000009536743,
          94.45000004768372,
          95.05000019073486,
          95.35000014305115,
          95.60000014305115,
          95.90000009536743,
          96.55000019073486,
          97.10000014305115,
          97.55000019073486,
          98.20000004768372,
          98.30000019073486,
          98.60000014305115,
          99.05000019073486,
          99.35000014305115,
          99.65000009536743,
          99.95000004768372,
          100.40000009536743,
          101.05000019073486,
          101.35000014305115,
          101.60000014305115,
          102.05000019073486,
          102.55000019073486,
          103.30000019073486,
          103.70000004768372,
          104.30000019073486,
          104.90000009536743,
          105.15000009536743,
          105.40000009536743,
          105.65000009536743,
          105.95000004768372,
          106.25,
          106.70000004768372,
          107.20000004768372,
          108.10000014305115,
          108.80000019073486,
          109.5,
          110.20000004768372,
          111.15000009536743,
          111.55000019073486,
          112.10000014305115,
          112.90000009536743,
          113.40000009536743,
          113.75,
          114.05000019073486,
          114.30000019073486,
          114.55000019073486,
          114.90000009536743,
          115.20000004768372,
          115.5,
          115.80000019073486,
          116.05000019073486,
          116.30000019073486,
          116.60000014305115,
          116.90000009536743,
          117.15000009536743,
          118.05000019073486,
          118.40000009536743,
          118.90000009536743,
          119.35000014305115,
          120,
          120.95000004768372,
          121.45000004768372,
          121.75,
          122,
          122.30000019073486,
          122.90000009536743,
          123.45000004768372,
          123.95000004768372,
          124.35000014305115,
          124.95000004768372,
          125.35000014305115,
          125.70000004768372,
          126.35000014305115,
          126.65000009536743,
          126.85000014305115,
          127.10000014305115,
          127.5,
          127.70000004768372,
          127.95000004768372,
          128.25,
          128.60000014305115,
          129.20000004768372,
          129.85000014305115,
          130.10000014305115,
          130.30000019073486,
          130.45000004768372,
          130.65000009536743,
          131.45000004768372,
          132.20000004768372,
          133.05000019073486,
          134.85000014305115,
          135.45000004768372,
          136.85000014305115
         ],
         "y": [
          0.06683441166824411,
          0.07048670822719542,
          0.06894625778469649,
          0.05988653091924713,
          0.04916133499576541,
          0.035259047794062456,
          0.03266281921261482,
          0.03896334533255744,
          0.04834751194635029,
          0.05415720041724258,
          0.06079170621883163,
          0.059397294547524584,
          0.06338086957573445,
          0.06871518136676764,
          0.0719674672679853,
          0.07252525561347854,
          0.07465469415012316,
          0.08310290124823548,
          0.08582814012483493,
          0.0936121386406942,
          0.10288434814576619,
          0.1079739013918712,
          0.11066367419549863,
          0.1181047562486716,
          0.11897246014211962,
          0.12300975171997328,
          0.12703955908010195,
          0.12413878954208786,
          0.12086849566261298,
          0.1113703491995426,
          0.10310598824330681,
          0.0958018469983838,
          0.08901706786554349,
          0.08234443481881396,
          0.07892962509949088,
          0.07651341676474654,
          0.0722979136658897,
          0.06758066237086058,
          0.06551239079933861,
          0.06408324825762245,
          0.06169575164435531,
          0.060874340514984096,
          0.05842181110669959,
          0.05920724142691328,
          0.05990281994662727,
          0.062364001566707045,
          0.06552441129537828,
          0.073398676534126,
          0.08394706339203398,
          0.09965469039863208,
          0.10389270187138816,
          0.10161557923377648,
          0.1072037430039937,
          0.11275301218799953,
          0.11879772086142397,
          0.1238443628343108,
          0.12624064741155858,
          0.12318160061909988,
          0.12360651682452874,
          0.12021065544482253,
          0.1164026490332716,
          0.11087357515260032,
          0.10261081712910008,
          0.08867721187822417,
          0.06778816032942427,
          0.07286428518156686,
          0.06756825684726113,
          0.06795569764015084,
          0.06812051600320246,
          0.06948621750407699,
          0.07231223206159801,
          0.0756363098877973,
          0.0782920268661164,
          0.0802305587840474,
          0.08130897714778665,
          0.07766211098340603,
          0.07895227362024247,
          0.07282534364728104,
          0.07910473677924103,
          0.07961224980520808,
          0.07238030307386518,
          0.07008972489090765,
          0.07427413138600245,
          0.07752238316224438,
          0.08649354509866082,
          0.08736395726440674,
          0.09241611908136124,
          0.0938616563412626,
          0.09592272295829078,
          0.10186040964941931,
          0.10714345083737718,
          0.1156949501234241,
          0.12098776337881703,
          0.12435722515558241,
          0.12881930640530964,
          0.13415273776847247,
          0.13768957070852683,
          0.1399962760743722,
          0.1376581856814173,
          0.13656748345993983,
          0.13442440592332033,
          0.13473986673533137,
          0.13430290651288107,
          0.13315355875387183,
          0.13159894845902076,
          0.13223503172236184,
          0.13454713339591187,
          0.13453645942946849,
          0.1385455220372272,
          0.1412723298285238,
          0.14178694626333208,
          0.1405649346704178,
          0.13738355556348042,
          0.13596006891197862,
          0.13397688343017936,
          0.1356391922534688,
          0.1346718562893623,
          0.13396595030756067,
          0.13208540319128798,
          0.1293549272685014,
          0.1300388887037579,
          0.12922061250556066,
          0.1292867740018191,
          0.12367774510242631,
          0.11948298070872515,
          0.11994334813881344,
          0.11840889803386236,
          0.11351017622359119,
          0.10620469462937608,
          0.10439929322757803,
          0.10659060867612523,
          0.10533418919723615,
          0.10521037775567468,
          0.10924572356987503,
          0.10284970093461669,
          0.09692350699725354,
          0.09557694864849929,
          0.09067643368154747,
          0.08276049837021714,
          0.08319783988808442,
          0.08016127625487247,
          0.07778329305779953,
          0.07526307909681512,
          0.07746208166099712,
          0.07862772083534061,
          0.08072584030558684,
          0.0813854760310448,
          0.08193875109141713,
          0.08181822537778821,
          0.07826162101560008,
          0.07523674891085169,
          0.07624350035478374,
          0.07075253603048415,
          0.0654899415194658,
          0.06309722505957033,
          0.0638351983789176,
          0.06390594062858754,
          0.06602224325649288,
          0.0684603772408844,
          0.06967560790789618,
          0.07052037415217549,
          0.07166934359299029,
          0.07209983983820821,
          0.07200219385962209,
          0.07124646882028342,
          0.07145619429590519,
          0.07800246323430425,
          0.08570696620289082,
          0.09171463672327289,
          0.09826663098644325,
          0.1046412609668832,
          0.1075743014910563,
          0.1146927443513102,
          0.12321401482902851,
          0.12533993851863975,
          0.13188539160552645,
          0.14332265471080063,
          0.1512729756766165,
          0.15528974059536435,
          0.16376378535052583,
          0.16370916216375614,
          0.1575477691221639,
          0.15390046836954754,
          0.153023498389146,
          0.1465070602456015,
          0.13545640934111947,
          0.1225268777503452,
          0.11147783020153322,
          0.10757519323930521,
          0.10001709862744773,
          0.08997809971162953,
          0.08005637144866454,
          0.06741466743189449,
          0.05637103478689709,
          0.04848350272858885,
          0.04102778626869905,
          0.030829386461810025,
          0.026017976402401704,
          0.01502230233912431,
          0.01533108828894754,
          0.017026905582731403,
          0.022095833167284376,
          0.03063071095640676,
          0.042305812088878646,
          0.03691933652920798,
          0.046748038545925776,
          0.051228128143580146,
          0.04419844172664114,
          0.039962996490619185,
          0.04433804462809127,
          0.054763004366033624,
          0.055455334312427704,
          0.05774163591147189,
          0.063815555920444,
          0.061718061575167384,
          0.0616731526071881,
          0.06301920492113501,
          0.06949742193112501,
          0.08285002613974704,
          0.07587584197229322,
          0.07584913358243932,
          0.0778044151751025,
          0.0793777773395128,
          0.08055274181362088,
          0.07998223094072464,
          0.07633891545011795,
          0.07267006175461443,
          0.0682826717648033,
          0.06542589474120304,
          0.06769752486804621,
          0.06867087070008897,
          0.07334800336943577,
          0.0704683919450832,
          0.06225794826156019,
          0.0508386162592828,
          0.04106379230246756,
          0.038156318155050425,
          0.036052569429418174,
          0.03698948686118534,
          0.04291254001528879,
          0.049700686633452236,
          0.057694415665796334,
          0.06312529727809894,
          0.061509523435132635,
          0.06046048967162316,
          0.05841677445452888,
          0.06099588506465099,
          0.0664589690831421,
          0.06566936301727193,
          0.05747071851591301,
          0.04877279131529082,
          0.04724766542198642,
          0.0486682817795953,
          0.05058833421340237,
          0.0481222266899131,
          0.050793224521151654,
          0.05789539237506359,
          0.06976079082900989,
          0.07035066402453768,
          0.08394421001280589,
          0.09246294396505748,
          0.09723690549693244,
          0.10447837152821013,
          0.11666379612956129,
          0.12149892138738588,
          0.12224972180957885,
          0.1237931932350472,
          0.12470490849787906,
          0.12521898728052125,
          0.1276960210082132,
          0.13086464971723408,
          0.133301320210369,
          0.13037533473788937,
          0.12571573905048186,
          0.12166173561154861,
          0.11484758665106612,
          0.10906425794719246,
          0.1043869782286522,
          0.09819749733278396,
          0.09367962829891321,
          0.08285741670727219,
          0.06947557969798691,
          0.06084970346733056,
          0.05717723991205483,
          0.05136819056587013,
          0.04671911917599042,
          0.04476885639631116,
          0.045154123081092686,
          0.047020790853700124,
          0.05025301900546438,
          0.054308102305312016,
          0.06066010336503572,
          0.03837271345778004,
          0.06067587781279934,
          0.056560938130232996,
          0.05210245537626398,
          0.04721526632859745,
          0.04410056271407615,
          0.04326498617667934,
          0.045203676908438434,
          0.04270533254320366,
          0.04378097027828887,
          0.04174353362256057,
          0.04705452640664498
         ]
        }
       ],
       "layout": {
        "template": {
         "data": {
          "bar": [
           {
            "error_x": {
             "color": "#2a3f5f"
            },
            "error_y": {
             "color": "#2a3f5f"
            },
            "marker": {
             "line": {
              "color": "#E5ECF6",
              "width": 0.5
             }
            },
            "type": "bar"
           }
          ],
          "barpolar": [
           {
            "marker": {
             "line": {
              "color": "#E5ECF6",
              "width": 0.5
             }
            },
            "type": "barpolar"
           }
          ],
          "carpet": [
           {
            "aaxis": {
             "endlinecolor": "#2a3f5f",
             "gridcolor": "white",
             "linecolor": "white",
             "minorgridcolor": "white",
             "startlinecolor": "#2a3f5f"
            },
            "baxis": {
             "endlinecolor": "#2a3f5f",
             "gridcolor": "white",
             "linecolor": "white",
             "minorgridcolor": "white",
             "startlinecolor": "#2a3f5f"
            },
            "type": "carpet"
           }
          ],
          "choropleth": [
           {
            "colorbar": {
             "outlinewidth": 0,
             "ticks": ""
            },
            "type": "choropleth"
           }
          ],
          "contour": [
           {
            "colorbar": {
             "outlinewidth": 0,
             "ticks": ""
            },
            "colorscale": [
             [
              0,
              "#0d0887"
             ],
             [
              0.1111111111111111,
              "#46039f"
             ],
             [
              0.2222222222222222,
              "#7201a8"
             ],
             [
              0.3333333333333333,
              "#9c179e"
             ],
             [
              0.4444444444444444,
              "#bd3786"
             ],
             [
              0.5555555555555556,
              "#d8576b"
             ],
             [
              0.6666666666666666,
              "#ed7953"
             ],
             [
              0.7777777777777778,
              "#fb9f3a"
             ],
             [
              0.8888888888888888,
              "#fdca26"
             ],
             [
              1,
              "#f0f921"
             ]
            ],
            "type": "contour"
           }
          ],
          "contourcarpet": [
           {
            "colorbar": {
             "outlinewidth": 0,
             "ticks": ""
            },
            "type": "contourcarpet"
           }
          ],
          "heatmap": [
           {
            "colorbar": {
             "outlinewidth": 0,
             "ticks": ""
            },
            "colorscale": [
             [
              0,
              "#0d0887"
             ],
             [
              0.1111111111111111,
              "#46039f"
             ],
             [
              0.2222222222222222,
              "#7201a8"
             ],
             [
              0.3333333333333333,
              "#9c179e"
             ],
             [
              0.4444444444444444,
              "#bd3786"
             ],
             [
              0.5555555555555556,
              "#d8576b"
             ],
             [
              0.6666666666666666,
              "#ed7953"
             ],
             [
              0.7777777777777778,
              "#fb9f3a"
             ],
             [
              0.8888888888888888,
              "#fdca26"
             ],
             [
              1,
              "#f0f921"
             ]
            ],
            "type": "heatmap"
           }
          ],
          "heatmapgl": [
           {
            "colorbar": {
             "outlinewidth": 0,
             "ticks": ""
            },
            "colorscale": [
             [
              0,
              "#0d0887"
             ],
             [
              0.1111111111111111,
              "#46039f"
             ],
             [
              0.2222222222222222,
              "#7201a8"
             ],
             [
              0.3333333333333333,
              "#9c179e"
             ],
             [
              0.4444444444444444,
              "#bd3786"
             ],
             [
              0.5555555555555556,
              "#d8576b"
             ],
             [
              0.6666666666666666,
              "#ed7953"
             ],
             [
              0.7777777777777778,
              "#fb9f3a"
             ],
             [
              0.8888888888888888,
              "#fdca26"
             ],
             [
              1,
              "#f0f921"
             ]
            ],
            "type": "heatmapgl"
           }
          ],
          "histogram": [
           {
            "marker": {
             "colorbar": {
              "outlinewidth": 0,
              "ticks": ""
             }
            },
            "type": "histogram"
           }
          ],
          "histogram2d": [
           {
            "colorbar": {
             "outlinewidth": 0,
             "ticks": ""
            },
            "colorscale": [
             [
              0,
              "#0d0887"
             ],
             [
              0.1111111111111111,
              "#46039f"
             ],
             [
              0.2222222222222222,
              "#7201a8"
             ],
             [
              0.3333333333333333,
              "#9c179e"
             ],
             [
              0.4444444444444444,
              "#bd3786"
             ],
             [
              0.5555555555555556,
              "#d8576b"
             ],
             [
              0.6666666666666666,
              "#ed7953"
             ],
             [
              0.7777777777777778,
              "#fb9f3a"
             ],
             [
              0.8888888888888888,
              "#fdca26"
             ],
             [
              1,
              "#f0f921"
             ]
            ],
            "type": "histogram2d"
           }
          ],
          "histogram2dcontour": [
           {
            "colorbar": {
             "outlinewidth": 0,
             "ticks": ""
            },
            "colorscale": [
             [
              0,
              "#0d0887"
             ],
             [
              0.1111111111111111,
              "#46039f"
             ],
             [
              0.2222222222222222,
              "#7201a8"
             ],
             [
              0.3333333333333333,
              "#9c179e"
             ],
             [
              0.4444444444444444,
              "#bd3786"
             ],
             [
              0.5555555555555556,
              "#d8576b"
             ],
             [
              0.6666666666666666,
              "#ed7953"
             ],
             [
              0.7777777777777778,
              "#fb9f3a"
             ],
             [
              0.8888888888888888,
              "#fdca26"
             ],
             [
              1,
              "#f0f921"
             ]
            ],
            "type": "histogram2dcontour"
           }
          ],
          "mesh3d": [
           {
            "colorbar": {
             "outlinewidth": 0,
             "ticks": ""
            },
            "type": "mesh3d"
           }
          ],
          "parcoords": [
           {
            "line": {
             "colorbar": {
              "outlinewidth": 0,
              "ticks": ""
             }
            },
            "type": "parcoords"
           }
          ],
          "pie": [
           {
            "automargin": true,
            "type": "pie"
           }
          ],
          "scatter": [
           {
            "marker": {
             "colorbar": {
              "outlinewidth": 0,
              "ticks": ""
             }
            },
            "type": "scatter"
           }
          ],
          "scatter3d": [
           {
            "line": {
             "colorbar": {
              "outlinewidth": 0,
              "ticks": ""
             }
            },
            "marker": {
             "colorbar": {
              "outlinewidth": 0,
              "ticks": ""
             }
            },
            "type": "scatter3d"
           }
          ],
          "scattercarpet": [
           {
            "marker": {
             "colorbar": {
              "outlinewidth": 0,
              "ticks": ""
             }
            },
            "type": "scattercarpet"
           }
          ],
          "scattergeo": [
           {
            "marker": {
             "colorbar": {
              "outlinewidth": 0,
              "ticks": ""
             }
            },
            "type": "scattergeo"
           }
          ],
          "scattergl": [
           {
            "marker": {
             "colorbar": {
              "outlinewidth": 0,
              "ticks": ""
             }
            },
            "type": "scattergl"
           }
          ],
          "scattermapbox": [
           {
            "marker": {
             "colorbar": {
              "outlinewidth": 0,
              "ticks": ""
             }
            },
            "type": "scattermapbox"
           }
          ],
          "scatterpolar": [
           {
            "marker": {
             "colorbar": {
              "outlinewidth": 0,
              "ticks": ""
             }
            },
            "type": "scatterpolar"
           }
          ],
          "scatterpolargl": [
           {
            "marker": {
             "colorbar": {
              "outlinewidth": 0,
              "ticks": ""
             }
            },
            "type": "scatterpolargl"
           }
          ],
          "scatterternary": [
           {
            "marker": {
             "colorbar": {
              "outlinewidth": 0,
              "ticks": ""
             }
            },
            "type": "scatterternary"
           }
          ],
          "surface": [
           {
            "colorbar": {
             "outlinewidth": 0,
             "ticks": ""
            },
            "colorscale": [
             [
              0,
              "#0d0887"
             ],
             [
              0.1111111111111111,
              "#46039f"
             ],
             [
              0.2222222222222222,
              "#7201a8"
             ],
             [
              0.3333333333333333,
              "#9c179e"
             ],
             [
              0.4444444444444444,
              "#bd3786"
             ],
             [
              0.5555555555555556,
              "#d8576b"
             ],
             [
              0.6666666666666666,
              "#ed7953"
             ],
             [
              0.7777777777777778,
              "#fb9f3a"
             ],
             [
              0.8888888888888888,
              "#fdca26"
             ],
             [
              1,
              "#f0f921"
             ]
            ],
            "type": "surface"
           }
          ],
          "table": [
           {
            "cells": {
             "fill": {
              "color": "#EBF0F8"
             },
             "line": {
              "color": "white"
             }
            },
            "header": {
             "fill": {
              "color": "#C8D4E3"
             },
             "line": {
              "color": "white"
             }
            },
            "type": "table"
           }
          ]
         },
         "layout": {
          "annotationdefaults": {
           "arrowcolor": "#2a3f5f",
           "arrowhead": 0,
           "arrowwidth": 1
          },
          "autotypenumbers": "strict",
          "coloraxis": {
           "colorbar": {
            "outlinewidth": 0,
            "ticks": ""
           }
          },
          "colorscale": {
           "diverging": [
            [
             0,
             "#8e0152"
            ],
            [
             0.1,
             "#c51b7d"
            ],
            [
             0.2,
             "#de77ae"
            ],
            [
             0.3,
             "#f1b6da"
            ],
            [
             0.4,
             "#fde0ef"
            ],
            [
             0.5,
             "#f7f7f7"
            ],
            [
             0.6,
             "#e6f5d0"
            ],
            [
             0.7,
             "#b8e186"
            ],
            [
             0.8,
             "#7fbc41"
            ],
            [
             0.9,
             "#4d9221"
            ],
            [
             1,
             "#276419"
            ]
           ],
           "sequential": [
            [
             0,
             "#0d0887"
            ],
            [
             0.1111111111111111,
             "#46039f"
            ],
            [
             0.2222222222222222,
             "#7201a8"
            ],
            [
             0.3333333333333333,
             "#9c179e"
            ],
            [
             0.4444444444444444,
             "#bd3786"
            ],
            [
             0.5555555555555556,
             "#d8576b"
            ],
            [
             0.6666666666666666,
             "#ed7953"
            ],
            [
             0.7777777777777778,
             "#fb9f3a"
            ],
            [
             0.8888888888888888,
             "#fdca26"
            ],
            [
             1,
             "#f0f921"
            ]
           ],
           "sequentialminus": [
            [
             0,
             "#0d0887"
            ],
            [
             0.1111111111111111,
             "#46039f"
            ],
            [
             0.2222222222222222,
             "#7201a8"
            ],
            [
             0.3333333333333333,
             "#9c179e"
            ],
            [
             0.4444444444444444,
             "#bd3786"
            ],
            [
             0.5555555555555556,
             "#d8576b"
            ],
            [
             0.6666666666666666,
             "#ed7953"
            ],
            [
             0.7777777777777778,
             "#fb9f3a"
            ],
            [
             0.8888888888888888,
             "#fdca26"
            ],
            [
             1,
             "#f0f921"
            ]
           ]
          },
          "colorway": [
           "#636efa",
           "#EF553B",
           "#00cc96",
           "#ab63fa",
           "#FFA15A",
           "#19d3f3",
           "#FF6692",
           "#B6E880",
           "#FF97FF",
           "#FECB52"
          ],
          "font": {
           "color": "#2a3f5f"
          },
          "geo": {
           "bgcolor": "white",
           "lakecolor": "white",
           "landcolor": "#E5ECF6",
           "showlakes": true,
           "showland": true,
           "subunitcolor": "white"
          },
          "hoverlabel": {
           "align": "left"
          },
          "hovermode": "closest",
          "mapbox": {
           "style": "light"
          },
          "paper_bgcolor": "white",
          "plot_bgcolor": "#E5ECF6",
          "polar": {
           "angularaxis": {
            "gridcolor": "white",
            "linecolor": "white",
            "ticks": ""
           },
           "bgcolor": "#E5ECF6",
           "radialaxis": {
            "gridcolor": "white",
            "linecolor": "white",
            "ticks": ""
           }
          },
          "scene": {
           "xaxis": {
            "backgroundcolor": "#E5ECF6",
            "gridcolor": "white",
            "gridwidth": 2,
            "linecolor": "white",
            "showbackground": true,
            "ticks": "",
            "zerolinecolor": "white"
           },
           "yaxis": {
            "backgroundcolor": "#E5ECF6",
            "gridcolor": "white",
            "gridwidth": 2,
            "linecolor": "white",
            "showbackground": true,
            "ticks": "",
            "zerolinecolor": "white"
           },
           "zaxis": {
            "backgroundcolor": "#E5ECF6",
            "gridcolor": "white",
            "gridwidth": 2,
            "linecolor": "white",
            "showbackground": true,
            "ticks": "",
            "zerolinecolor": "white"
           }
          },
          "shapedefaults": {
           "line": {
            "color": "#2a3f5f"
           }
          },
          "ternary": {
           "aaxis": {
            "gridcolor": "white",
            "linecolor": "white",
            "ticks": ""
           },
           "baxis": {
            "gridcolor": "white",
            "linecolor": "white",
            "ticks": ""
           },
           "bgcolor": "#E5ECF6",
           "caxis": {
            "gridcolor": "white",
            "linecolor": "white",
            "ticks": ""
           }
          },
          "title": {
           "x": 0.05
          },
          "xaxis": {
           "automargin": true,
           "gridcolor": "white",
           "linecolor": "white",
           "ticks": "",
           "title": {
            "standoff": 15
           },
           "zerolinecolor": "white",
           "zerolinewidth": 2
          },
          "yaxis": {
           "automargin": true,
           "gridcolor": "white",
           "linecolor": "white",
           "ticks": "",
           "title": {
            "standoff": 15
           },
           "zerolinecolor": "white",
           "zerolinewidth": 2
          }
         }
        },
        "title": {
         "text": "Influence of pixel count on the calculation time"
        },
        "xaxis": {
         "title": {
          "text": "percentage of pixel count of original resolution (752 x 480)"
         }
        },
        "yaxis": {
         "title": {
          "text": "calculation time in sec"
         }
        }
       }
      },
      "text/html": [
       "<div>                            <div id=\"400d1cf0-5ac4-4623-bd0b-628fb493260c\" class=\"plotly-graph-div\" style=\"height:525px; width:100%;\"></div>            <script type=\"text/javascript\">                require([\"plotly\"], function(Plotly) {                    window.PLOTLYENV=window.PLOTLYENV || {};                                    if (document.getElementById(\"400d1cf0-5ac4-4623-bd0b-628fb493260c\")) {                    Plotly.newPlot(                        \"400d1cf0-5ac4-4623-bd0b-628fb493260c\",                        [{\"type\": \"scatter\", \"x\": [0.0, 0.35000014305114746, 1.8500001430511475, 2.1500000953674316, 2.8000001907348633, 3.200000047683716, 3.5, 3.9000000953674316, 4.3500001430511475, 4.700000047683716, 5.1000001430511475, 5.550000190734863, 6.3500001430511475, 6.6000001430511475, 6.950000047683716, 7.450000047683716, 7.950000047683716, 8.400000095367432, 8.900000095367432, 9.150000095367432, 9.450000047683716, 10.0, 10.600000143051147, 10.900000095367432, 12.100000143051147, 12.850000143051147, 13.200000047683716, 13.700000047683716, 13.850000143051147, 14.150000095367432, 14.400000095367432, 14.650000095367432, 14.950000047683716, 15.300000190734863, 15.650000095367432, 15.900000095367432, 16.15000009536743, 16.450000047683716, 16.700000047683716, 17.0, 17.300000190734863, 17.550000190734863, 17.90000009536743, 18.350000143051147, 18.65000009536743, 19.050000190734863, 19.40000009536743, 20.450000047683716, 20.950000047683716, 21.300000190734863, 22.550000190734863, 23.600000143051147, 24.40000009536743, 24.65000009536743, 24.90000009536743, 25.100000143051147, 25.300000190734863, 27.100000143051147, 27.65000009536743, 27.90000009536743, 28.100000143051147, 28.300000190734863, 28.5, 28.90000009536743, 29.600000143051147, 31.550000190734863, 32.05000019073486, 32.80000019073486, 33.30000019073486, 33.60000014305115, 33.90000009536743, 34.15000009536743, 34.40000009536743, 34.85000014305115, 35.450000047683716, 35.80000019073486, 36.30000019073486, 36.65000009536743, 37.10000014305115, 37.40000009536743, 37.65000009536743, 37.85000014305115, 38.200000047683716, 38.450000047683716, 38.65000009536743, 38.950000047683716, 39.25, 39.75, 40.0, 40.35000014305115, 40.60000014305115, 40.90000009536743, 41.200000047683716, 41.450000047683716, 41.65000009536743, 41.85000014305115, 42.05000019073486, 42.35000014305115, 42.950000047683716, 43.200000047683716, 43.40000009536743, 43.60000014305115, 43.75, 43.90000009536743, 44.05000019073486, 44.25, 44.5, 44.85000014305115, 45.10000014305115, 45.30000019073486, 45.40000009536743, 45.700000047683716, 46.30000019073486, 46.90000009536743, 47.40000009536743, 47.700000047683716, 48.30000019073486, 48.80000019073486, 49.15000009536743, 49.5, 49.85000014305115, 50.15000009536743, 50.35000014305115, 50.55000019073486, 50.75, 51.30000019073486, 52.15000009536743, 52.35000014305115, 52.60000014305115, 53.15000009536743, 54.15000009536743, 54.60000014305115, 55.5, 56.35000014305115, 57.40000009536743, 58.75, 59.25, 59.950000047683716, 60.60000014305115, 61.10000014305115, 61.5, 61.700000047683716, 61.90000009536743, 62.700000047683716, 63.90000009536743, 64.30000019073486, 64.90000009536743, 65.40000009536743, 65.85000014305115, 66.25, 66.60000014305115, 66.90000009536743, 67.20000004768372, 67.5, 67.95000004768372, 68.40000009536743, 68.65000009536743, 68.95000004768372, 69.20000004768372, 69.45000004768372, 69.65000009536743, 70.0, 70.35000014305115, 71.10000014305115, 71.55000019073486, 72.0, 72.95000004768372, 73.35000014305115, 73.55000019073486, 73.95000004768372, 74.80000019073486, 76.40000009536743, 76.70000004768372, 77.10000014305115, 78.05000019073486, 78.35000014305115, 78.65000009536743, 79.40000009536743, 79.80000019073486, 80.0, 80.30000019073486, 80.85000014305115, 81.20000004768372, 81.60000014305115, 82.0, 82.20000004768372, 82.5, 82.70000004768372, 83.0, 83.25, 83.5, 83.75, 84.0, 84.20000004768372, 84.40000009536743, 84.65000009536743, 84.90000009536743, 85.10000014305115, 85.40000009536743, 86.25, 86.60000014305115, 86.90000009536743, 87.15000009536743, 87.55000019073486, 88.60000014305115, 89.60000014305115, 90.15000009536743, 90.75, 91.10000014305115, 92.20000004768372, 93.25, 93.90000009536743, 94.45000004768372, 95.05000019073486, 95.35000014305115, 95.60000014305115, 95.90000009536743, 96.55000019073486, 97.10000014305115, 97.55000019073486, 98.20000004768372, 98.30000019073486, 98.60000014305115, 99.05000019073486, 99.35000014305115, 99.65000009536743, 99.95000004768372, 100.40000009536743, 101.05000019073486, 101.35000014305115, 101.60000014305115, 102.05000019073486, 102.55000019073486, 103.30000019073486, 103.70000004768372, 104.30000019073486, 104.90000009536743, 105.15000009536743, 105.40000009536743, 105.65000009536743, 105.95000004768372, 106.25, 106.70000004768372, 107.20000004768372, 108.10000014305115, 108.80000019073486, 109.5, 110.20000004768372, 111.15000009536743, 111.55000019073486, 112.10000014305115, 112.90000009536743, 113.40000009536743, 113.75, 114.05000019073486, 114.30000019073486, 114.55000019073486, 114.90000009536743, 115.20000004768372, 115.5, 115.80000019073486, 116.05000019073486, 116.30000019073486, 116.60000014305115, 116.90000009536743, 117.15000009536743, 118.05000019073486, 118.40000009536743, 118.90000009536743, 119.35000014305115, 120.0, 120.95000004768372, 121.45000004768372, 121.75, 122.0, 122.30000019073486, 122.90000009536743, 123.45000004768372, 123.95000004768372, 124.35000014305115, 124.95000004768372, 125.35000014305115, 125.70000004768372, 126.35000014305115, 126.65000009536743, 126.85000014305115, 127.10000014305115, 127.5, 127.70000004768372, 127.95000004768372, 128.25, 128.60000014305115, 129.20000004768372, 129.85000014305115, 130.10000014305115, 130.30000019073486, 130.45000004768372, 130.65000009536743, 131.45000004768372, 132.20000004768372, 133.05000019073486, 134.85000014305115, 135.45000004768372, 136.85000014305115], \"y\": [0.06683441166824411, 0.07048670822719542, 0.06894625778469649, 0.05988653091924713, 0.04916133499576541, 0.035259047794062456, 0.03266281921261482, 0.03896334533255744, 0.04834751194635029, 0.05415720041724258, 0.06079170621883163, 0.059397294547524584, 0.06338086957573445, 0.06871518136676764, 0.0719674672679853, 0.07252525561347854, 0.07465469415012316, 0.08310290124823548, 0.08582814012483493, 0.0936121386406942, 0.10288434814576619, 0.1079739013918712, 0.11066367419549863, 0.1181047562486716, 0.11897246014211962, 0.12300975171997328, 0.12703955908010195, 0.12413878954208786, 0.12086849566261298, 0.1113703491995426, 0.10310598824330681, 0.0958018469983838, 0.08901706786554349, 0.08234443481881396, 0.07892962509949088, 0.07651341676474654, 0.0722979136658897, 0.06758066237086058, 0.06551239079933861, 0.06408324825762245, 0.06169575164435531, 0.060874340514984096, 0.05842181110669959, 0.05920724142691328, 0.05990281994662727, 0.062364001566707045, 0.06552441129537828, 0.073398676534126, 0.08394706339203398, 0.09965469039863208, 0.10389270187138816, 0.10161557923377648, 0.1072037430039937, 0.11275301218799953, 0.11879772086142397, 0.1238443628343108, 0.12624064741155858, 0.12318160061909988, 0.12360651682452874, 0.12021065544482253, 0.1164026490332716, 0.11087357515260032, 0.10261081712910008, 0.08867721187822417, 0.06778816032942427, 0.07286428518156686, 0.06756825684726113, 0.06795569764015084, 0.06812051600320246, 0.06948621750407699, 0.07231223206159801, 0.0756363098877973, 0.0782920268661164, 0.0802305587840474, 0.08130897714778665, 0.07766211098340603, 0.07895227362024247, 0.07282534364728104, 0.07910473677924103, 0.07961224980520808, 0.07238030307386518, 0.07008972489090765, 0.07427413138600245, 0.07752238316224438, 0.08649354509866082, 0.08736395726440674, 0.09241611908136124, 0.0938616563412626, 0.09592272295829078, 0.10186040964941931, 0.10714345083737718, 0.1156949501234241, 0.12098776337881703, 0.12435722515558241, 0.12881930640530964, 0.13415273776847247, 0.13768957070852683, 0.1399962760743722, 0.1376581856814173, 0.13656748345993983, 0.13442440592332033, 0.13473986673533137, 0.13430290651288107, 0.13315355875387183, 0.13159894845902076, 0.13223503172236184, 0.13454713339591187, 0.13453645942946849, 0.1385455220372272, 0.1412723298285238, 0.14178694626333208, 0.1405649346704178, 0.13738355556348042, 0.13596006891197862, 0.13397688343017936, 0.1356391922534688, 0.1346718562893623, 0.13396595030756067, 0.13208540319128798, 0.1293549272685014, 0.1300388887037579, 0.12922061250556066, 0.1292867740018191, 0.12367774510242631, 0.11948298070872515, 0.11994334813881344, 0.11840889803386236, 0.11351017622359119, 0.10620469462937608, 0.10439929322757803, 0.10659060867612523, 0.10533418919723615, 0.10521037775567468, 0.10924572356987503, 0.10284970093461669, 0.09692350699725354, 0.09557694864849929, 0.09067643368154747, 0.08276049837021714, 0.08319783988808442, 0.08016127625487247, 0.07778329305779953, 0.07526307909681512, 0.07746208166099712, 0.07862772083534061, 0.08072584030558684, 0.0813854760310448, 0.08193875109141713, 0.08181822537778821, 0.07826162101560008, 0.07523674891085169, 0.07624350035478374, 0.07075253603048415, 0.0654899415194658, 0.06309722505957033, 0.0638351983789176, 0.06390594062858754, 0.06602224325649288, 0.0684603772408844, 0.06967560790789618, 0.07052037415217549, 0.07166934359299029, 0.07209983983820821, 0.07200219385962209, 0.07124646882028342, 0.07145619429590519, 0.07800246323430425, 0.08570696620289082, 0.09171463672327289, 0.09826663098644325, 0.1046412609668832, 0.1075743014910563, 0.1146927443513102, 0.12321401482902851, 0.12533993851863975, 0.13188539160552645, 0.14332265471080063, 0.1512729756766165, 0.15528974059536435, 0.16376378535052583, 0.16370916216375614, 0.1575477691221639, 0.15390046836954754, 0.153023498389146, 0.1465070602456015, 0.13545640934111947, 0.1225268777503452, 0.11147783020153322, 0.10757519323930521, 0.10001709862744773, 0.08997809971162953, 0.08005637144866454, 0.06741466743189449, 0.05637103478689709, 0.04848350272858885, 0.04102778626869905, 0.030829386461810025, 0.026017976402401704, 0.01502230233912431, 0.01533108828894754, 0.017026905582731403, 0.022095833167284376, 0.03063071095640676, 0.042305812088878646, 0.03691933652920798, 0.046748038545925776, 0.051228128143580146, 0.04419844172664114, 0.039962996490619185, 0.04433804462809127, 0.054763004366033624, 0.055455334312427704, 0.05774163591147189, 0.063815555920444, 0.061718061575167384, 0.0616731526071881, 0.06301920492113501, 0.06949742193112501, 0.08285002613974704, 0.07587584197229322, 0.07584913358243932, 0.0778044151751025, 0.0793777773395128, 0.08055274181362088, 0.07998223094072464, 0.07633891545011795, 0.07267006175461443, 0.0682826717648033, 0.06542589474120304, 0.06769752486804621, 0.06867087070008897, 0.07334800336943577, 0.0704683919450832, 0.06225794826156019, 0.0508386162592828, 0.04106379230246756, 0.038156318155050425, 0.036052569429418174, 0.03698948686118534, 0.04291254001528879, 0.049700686633452236, 0.057694415665796334, 0.06312529727809894, 0.061509523435132635, 0.06046048967162316, 0.05841677445452888, 0.06099588506465099, 0.0664589690831421, 0.06566936301727193, 0.05747071851591301, 0.04877279131529082, 0.04724766542198642, 0.0486682817795953, 0.05058833421340237, 0.0481222266899131, 0.050793224521151654, 0.05789539237506359, 0.06976079082900989, 0.07035066402453768, 0.08394421001280589, 0.09246294396505748, 0.09723690549693244, 0.10447837152821013, 0.11666379612956129, 0.12149892138738588, 0.12224972180957885, 0.1237931932350472, 0.12470490849787906, 0.12521898728052125, 0.1276960210082132, 0.13086464971723408, 0.133301320210369, 0.13037533473788937, 0.12571573905048186, 0.12166173561154861, 0.11484758665106612, 0.10906425794719246, 0.1043869782286522, 0.09819749733278396, 0.09367962829891321, 0.08285741670727219, 0.06947557969798691, 0.06084970346733056, 0.05717723991205483, 0.05136819056587013, 0.04671911917599042, 0.04476885639631116, 0.045154123081092686, 0.047020790853700124, 0.05025301900546438, 0.054308102305312016, 0.06066010336503572, 0.03837271345778004, 0.06067587781279934, 0.056560938130232996, 0.05210245537626398, 0.04721526632859745, 0.04410056271407615, 0.04326498617667934, 0.045203676908438434, 0.04270533254320366, 0.04378097027828887, 0.04174353362256057, 0.04705452640664498]}],                        {\"template\": {\"data\": {\"bar\": [{\"error_x\": {\"color\": \"#2a3f5f\"}, \"error_y\": {\"color\": \"#2a3f5f\"}, \"marker\": {\"line\": {\"color\": \"#E5ECF6\", \"width\": 0.5}}, \"type\": \"bar\"}], \"barpolar\": [{\"marker\": {\"line\": {\"color\": \"#E5ECF6\", \"width\": 0.5}}, \"type\": \"barpolar\"}], \"carpet\": [{\"aaxis\": {\"endlinecolor\": \"#2a3f5f\", \"gridcolor\": \"white\", \"linecolor\": \"white\", \"minorgridcolor\": \"white\", \"startlinecolor\": \"#2a3f5f\"}, \"baxis\": {\"endlinecolor\": \"#2a3f5f\", \"gridcolor\": \"white\", \"linecolor\": \"white\", \"minorgridcolor\": \"white\", \"startlinecolor\": \"#2a3f5f\"}, \"type\": \"carpet\"}], \"choropleth\": [{\"colorbar\": {\"outlinewidth\": 0, \"ticks\": \"\"}, \"type\": \"choropleth\"}], \"contour\": [{\"colorbar\": {\"outlinewidth\": 0, \"ticks\": \"\"}, \"colorscale\": [[0.0, \"#0d0887\"], [0.1111111111111111, \"#46039f\"], [0.2222222222222222, \"#7201a8\"], [0.3333333333333333, \"#9c179e\"], [0.4444444444444444, \"#bd3786\"], [0.5555555555555556, \"#d8576b\"], [0.6666666666666666, \"#ed7953\"], [0.7777777777777778, \"#fb9f3a\"], [0.8888888888888888, \"#fdca26\"], [1.0, \"#f0f921\"]], \"type\": \"contour\"}], \"contourcarpet\": [{\"colorbar\": {\"outlinewidth\": 0, \"ticks\": \"\"}, \"type\": \"contourcarpet\"}], \"heatmap\": [{\"colorbar\": {\"outlinewidth\": 0, \"ticks\": \"\"}, \"colorscale\": [[0.0, \"#0d0887\"], [0.1111111111111111, \"#46039f\"], [0.2222222222222222, \"#7201a8\"], [0.3333333333333333, \"#9c179e\"], [0.4444444444444444, \"#bd3786\"], [0.5555555555555556, \"#d8576b\"], [0.6666666666666666, \"#ed7953\"], [0.7777777777777778, \"#fb9f3a\"], [0.8888888888888888, \"#fdca26\"], [1.0, \"#f0f921\"]], \"type\": \"heatmap\"}], \"heatmapgl\": [{\"colorbar\": {\"outlinewidth\": 0, \"ticks\": \"\"}, \"colorscale\": [[0.0, \"#0d0887\"], [0.1111111111111111, \"#46039f\"], [0.2222222222222222, \"#7201a8\"], [0.3333333333333333, \"#9c179e\"], [0.4444444444444444, \"#bd3786\"], [0.5555555555555556, \"#d8576b\"], [0.6666666666666666, \"#ed7953\"], [0.7777777777777778, \"#fb9f3a\"], [0.8888888888888888, \"#fdca26\"], [1.0, \"#f0f921\"]], \"type\": \"heatmapgl\"}], \"histogram\": [{\"marker\": {\"colorbar\": {\"outlinewidth\": 0, \"ticks\": \"\"}}, \"type\": \"histogram\"}], \"histogram2d\": [{\"colorbar\": {\"outlinewidth\": 0, \"ticks\": \"\"}, \"colorscale\": [[0.0, \"#0d0887\"], [0.1111111111111111, \"#46039f\"], [0.2222222222222222, \"#7201a8\"], [0.3333333333333333, \"#9c179e\"], [0.4444444444444444, \"#bd3786\"], [0.5555555555555556, \"#d8576b\"], [0.6666666666666666, \"#ed7953\"], [0.7777777777777778, \"#fb9f3a\"], [0.8888888888888888, \"#fdca26\"], [1.0, \"#f0f921\"]], \"type\": \"histogram2d\"}], \"histogram2dcontour\": [{\"colorbar\": {\"outlinewidth\": 0, \"ticks\": \"\"}, \"colorscale\": [[0.0, \"#0d0887\"], [0.1111111111111111, \"#46039f\"], [0.2222222222222222, \"#7201a8\"], [0.3333333333333333, \"#9c179e\"], [0.4444444444444444, \"#bd3786\"], [0.5555555555555556, \"#d8576b\"], [0.6666666666666666, \"#ed7953\"], [0.7777777777777778, \"#fb9f3a\"], [0.8888888888888888, \"#fdca26\"], [1.0, \"#f0f921\"]], \"type\": \"histogram2dcontour\"}], \"mesh3d\": [{\"colorbar\": {\"outlinewidth\": 0, \"ticks\": \"\"}, \"type\": \"mesh3d\"}], \"parcoords\": [{\"line\": {\"colorbar\": {\"outlinewidth\": 0, \"ticks\": \"\"}}, \"type\": \"parcoords\"}], \"pie\": [{\"automargin\": true, \"type\": \"pie\"}], \"scatter\": [{\"marker\": {\"colorbar\": {\"outlinewidth\": 0, \"ticks\": \"\"}}, \"type\": \"scatter\"}], \"scatter3d\": [{\"line\": {\"colorbar\": {\"outlinewidth\": 0, \"ticks\": \"\"}}, \"marker\": {\"colorbar\": {\"outlinewidth\": 0, \"ticks\": \"\"}}, \"type\": \"scatter3d\"}], \"scattercarpet\": [{\"marker\": {\"colorbar\": {\"outlinewidth\": 0, \"ticks\": \"\"}}, \"type\": \"scattercarpet\"}], \"scattergeo\": [{\"marker\": {\"colorbar\": {\"outlinewidth\": 0, \"ticks\": \"\"}}, \"type\": \"scattergeo\"}], \"scattergl\": [{\"marker\": {\"colorbar\": {\"outlinewidth\": 0, \"ticks\": \"\"}}, \"type\": \"scattergl\"}], \"scattermapbox\": [{\"marker\": {\"colorbar\": {\"outlinewidth\": 0, \"ticks\": \"\"}}, \"type\": \"scattermapbox\"}], \"scatterpolar\": [{\"marker\": {\"colorbar\": {\"outlinewidth\": 0, \"ticks\": \"\"}}, \"type\": \"scatterpolar\"}], \"scatterpolargl\": [{\"marker\": {\"colorbar\": {\"outlinewidth\": 0, \"ticks\": \"\"}}, \"type\": \"scatterpolargl\"}], \"scatterternary\": [{\"marker\": {\"colorbar\": {\"outlinewidth\": 0, \"ticks\": \"\"}}, \"type\": \"scatterternary\"}], \"surface\": [{\"colorbar\": {\"outlinewidth\": 0, \"ticks\": \"\"}, \"colorscale\": [[0.0, \"#0d0887\"], [0.1111111111111111, \"#46039f\"], [0.2222222222222222, \"#7201a8\"], [0.3333333333333333, \"#9c179e\"], [0.4444444444444444, \"#bd3786\"], [0.5555555555555556, \"#d8576b\"], [0.6666666666666666, \"#ed7953\"], [0.7777777777777778, \"#fb9f3a\"], [0.8888888888888888, \"#fdca26\"], [1.0, \"#f0f921\"]], \"type\": \"surface\"}], \"table\": [{\"cells\": {\"fill\": {\"color\": \"#EBF0F8\"}, \"line\": {\"color\": \"white\"}}, \"header\": {\"fill\": {\"color\": \"#C8D4E3\"}, \"line\": {\"color\": \"white\"}}, \"type\": \"table\"}]}, \"layout\": {\"annotationdefaults\": {\"arrowcolor\": \"#2a3f5f\", \"arrowhead\": 0, \"arrowwidth\": 1}, \"autotypenumbers\": \"strict\", \"coloraxis\": {\"colorbar\": {\"outlinewidth\": 0, \"ticks\": \"\"}}, \"colorscale\": {\"diverging\": [[0, \"#8e0152\"], [0.1, \"#c51b7d\"], [0.2, \"#de77ae\"], [0.3, \"#f1b6da\"], [0.4, \"#fde0ef\"], [0.5, \"#f7f7f7\"], [0.6, \"#e6f5d0\"], [0.7, \"#b8e186\"], [0.8, \"#7fbc41\"], [0.9, \"#4d9221\"], [1, \"#276419\"]], \"sequential\": [[0.0, \"#0d0887\"], [0.1111111111111111, \"#46039f\"], [0.2222222222222222, \"#7201a8\"], [0.3333333333333333, \"#9c179e\"], [0.4444444444444444, \"#bd3786\"], [0.5555555555555556, \"#d8576b\"], [0.6666666666666666, \"#ed7953\"], [0.7777777777777778, \"#fb9f3a\"], [0.8888888888888888, \"#fdca26\"], [1.0, \"#f0f921\"]], \"sequentialminus\": [[0.0, \"#0d0887\"], [0.1111111111111111, \"#46039f\"], [0.2222222222222222, \"#7201a8\"], [0.3333333333333333, \"#9c179e\"], [0.4444444444444444, \"#bd3786\"], [0.5555555555555556, \"#d8576b\"], [0.6666666666666666, \"#ed7953\"], [0.7777777777777778, \"#fb9f3a\"], [0.8888888888888888, \"#fdca26\"], [1.0, \"#f0f921\"]]}, \"colorway\": [\"#636efa\", \"#EF553B\", \"#00cc96\", \"#ab63fa\", \"#FFA15A\", \"#19d3f3\", \"#FF6692\", \"#B6E880\", \"#FF97FF\", \"#FECB52\"], \"font\": {\"color\": \"#2a3f5f\"}, \"geo\": {\"bgcolor\": \"white\", \"lakecolor\": \"white\", \"landcolor\": \"#E5ECF6\", \"showlakes\": true, \"showland\": true, \"subunitcolor\": \"white\"}, \"hoverlabel\": {\"align\": \"left\"}, \"hovermode\": \"closest\", \"mapbox\": {\"style\": \"light\"}, \"paper_bgcolor\": \"white\", \"plot_bgcolor\": \"#E5ECF6\", \"polar\": {\"angularaxis\": {\"gridcolor\": \"white\", \"linecolor\": \"white\", \"ticks\": \"\"}, \"bgcolor\": \"#E5ECF6\", \"radialaxis\": {\"gridcolor\": \"white\", \"linecolor\": \"white\", \"ticks\": \"\"}}, \"scene\": {\"xaxis\": {\"backgroundcolor\": \"#E5ECF6\", \"gridcolor\": \"white\", \"gridwidth\": 2, \"linecolor\": \"white\", \"showbackground\": true, \"ticks\": \"\", \"zerolinecolor\": \"white\"}, \"yaxis\": {\"backgroundcolor\": \"#E5ECF6\", \"gridcolor\": \"white\", \"gridwidth\": 2, \"linecolor\": \"white\", \"showbackground\": true, \"ticks\": \"\", \"zerolinecolor\": \"white\"}, \"zaxis\": {\"backgroundcolor\": \"#E5ECF6\", \"gridcolor\": \"white\", \"gridwidth\": 2, \"linecolor\": \"white\", \"showbackground\": true, \"ticks\": \"\", \"zerolinecolor\": \"white\"}}, \"shapedefaults\": {\"line\": {\"color\": \"#2a3f5f\"}}, \"ternary\": {\"aaxis\": {\"gridcolor\": \"white\", \"linecolor\": \"white\", \"ticks\": \"\"}, \"baxis\": {\"gridcolor\": \"white\", \"linecolor\": \"white\", \"ticks\": \"\"}, \"bgcolor\": \"#E5ECF6\", \"caxis\": {\"gridcolor\": \"white\", \"linecolor\": \"white\", \"ticks\": \"\"}}, \"title\": {\"x\": 0.05}, \"xaxis\": {\"automargin\": true, \"gridcolor\": \"white\", \"linecolor\": \"white\", \"ticks\": \"\", \"title\": {\"standoff\": 15}, \"zerolinecolor\": \"white\", \"zerolinewidth\": 2}, \"yaxis\": {\"automargin\": true, \"gridcolor\": \"white\", \"linecolor\": \"white\", \"ticks\": \"\", \"title\": {\"standoff\": 15}, \"zerolinecolor\": \"white\", \"zerolinewidth\": 2}}}, \"title\": {\"text\": \"Influence of pixel count on the calculation time\"}, \"xaxis\": {\"title\": {\"text\": \"percentage of pixel count of original resolution (752 x 480)\"}}, \"yaxis\": {\"title\": {\"text\": \"calculation time in sec\"}}},                        {\"responsive\": true}                    ).then(function(){\n",
       "                            \n",
       "var gd = document.getElementById('400d1cf0-5ac4-4623-bd0b-628fb493260c');\n",
       "var x = new MutationObserver(function (mutations, observer) {{\n",
       "        var display = window.getComputedStyle(gd).display;\n",
       "        if (!display || display === 'none') {{\n",
       "            console.log([gd, 'removed!']);\n",
       "            Plotly.purge(gd);\n",
       "            observer.disconnect();\n",
       "        }}\n",
       "}});\n",
       "\n",
       "// Listen for the removal of the full notebook cells\n",
       "var notebookContainer = gd.closest('#notebook-container');\n",
       "if (notebookContainer) {{\n",
       "    x.observe(notebookContainer, {childList: true});\n",
       "}}\n",
       "\n",
       "// Listen for the clearing of the current output cell\n",
       "var outputEl = gd.closest('.output');\n",
       "if (outputEl) {{\n",
       "    x.observe(outputEl, {childList: true});\n",
       "}}\n",
       "\n",
       "                        })                };                });            </script>        </div>"
      ]
     },
     "metadata": {},
     "output_type": "display_data"
    }
   ],
   "source": [
    "fig = go.Figure(data=go.Scatter(x=est_long.timestamp - est_long.timestamp[0], y=dists_dsm))\n",
    "fig.update_layout(\n",
    "    title=\"Influence of pixel count on the calculation time\",\n",
    "    xaxis_title=\"percentage of pixel count of original resolution (752 x 480)\",\n",
    "    yaxis_title=\"calculation time in sec\"\n",
    ")\n",
    "fig.show()"
   ]
  },
  {
   "cell_type": "code",
   "execution_count": 116,
   "metadata": {},
   "outputs": [
    {
     "ename": "ValueError",
     "evalue": "Invalid property specified for object of type plotly.graph_objs.Layout: 'color'\n\nDid you mean \"polar\"?\n\n    Valid properties:\n        activeshape\n            :class:`plotly.graph_objects.layout.Activeshape`\n            instance or dict with compatible properties\n        angularaxis\n            :class:`plotly.graph_objects.layout.AngularAxis`\n            instance or dict with compatible properties\n        annotations\n            A tuple of\n            :class:`plotly.graph_objects.layout.Annotation`\n            instances or dicts with compatible properties\n        annotationdefaults\n            When used in a template (as\n            layout.template.layout.annotationdefaults), sets the\n            default property values to use for elements of\n            layout.annotations\n        autosize\n            Determines whether or not a layout width or height that\n            has been left undefined by the user is initialized on\n            each relayout. Note that, regardless of this attribute,\n            an undefined layout width or height is always\n            initialized on the first call to plot.\n        autotypenumbers\n            Using \"strict\" a numeric string in trace data is not\n            converted to a number. Using *convert types* a numeric\n            string in trace data may be treated as a number during\n            automatic axis `type` detection. This is the default\n            value; however it could be overridden for individual\n            axes.\n        bargap\n            Sets the gap (in plot fraction) between bars of\n            adjacent location coordinates.\n        bargroupgap\n            Sets the gap (in plot fraction) between bars of the\n            same location coordinate.\n        barmode\n            Determines how bars at the same location coordinate are\n            displayed on the graph. With \"stack\", the bars are\n            stacked on top of one another With \"relative\", the bars\n            are stacked on top of one another, with negative values\n            below the axis, positive values above With \"group\", the\n            bars are plotted next to one another centered around\n            the shared location. With \"overlay\", the bars are\n            plotted over one another, you might need to an\n            \"opacity\" to see multiple bars.\n        barnorm\n            Sets the normalization for bar traces on the graph.\n            With \"fraction\", the value of each bar is divided by\n            the sum of all values at that location coordinate.\n            \"percent\" is the same but multiplied by 100 to show\n            percentages.\n        boxgap\n            Sets the gap (in plot fraction) between boxes of\n            adjacent location coordinates. Has no effect on traces\n            that have \"width\" set.\n        boxgroupgap\n            Sets the gap (in plot fraction) between boxes of the\n            same location coordinate. Has no effect on traces that\n            have \"width\" set.\n        boxmode\n            Determines how boxes at the same location coordinate\n            are displayed on the graph. If \"group\", the boxes are\n            plotted next to one another centered around the shared\n            location. If \"overlay\", the boxes are plotted over one\n            another, you might need to set \"opacity\" to see them\n            multiple boxes. Has no effect on traces that have\n            \"width\" set.\n        calendar\n            Sets the default calendar system to use for\n            interpreting and displaying dates throughout the plot.\n        clickmode\n            Determines the mode of single click interactions.\n            \"event\" is the default value and emits the\n            `plotly_click` event. In addition this mode emits the\n            `plotly_selected` event in drag modes \"lasso\" and\n            \"select\", but with no event data attached (kept for\n            compatibility reasons). The \"select\" flag enables\n            selecting single data points via click. This mode also\n            supports persistent selections, meaning that pressing\n            Shift while clicking, adds to / subtracts from an\n            existing selection. \"select\" with `hovermode`: \"x\" can\n            be confusing, consider explicitly setting `hovermode`:\n            \"closest\" when using this feature. Selection events are\n            sent accordingly as long as \"event\" flag is set as\n            well. When the \"event\" flag is missing, `plotly_click`\n            and `plotly_selected` events are not fired.\n        coloraxis\n            :class:`plotly.graph_objects.layout.Coloraxis` instance\n            or dict with compatible properties\n        colorscale\n            :class:`plotly.graph_objects.layout.Colorscale`\n            instance or dict with compatible properties\n        colorway\n            Sets the default trace colors.\n        computed\n            Placeholder for exporting automargin-impacting values\n            namely `margin.t`, `margin.b`, `margin.l` and\n            `margin.r` in \"full-json\" mode.\n        datarevision\n            If provided, a changed value tells `Plotly.react` that\n            one or more data arrays has changed. This way you can\n            modify arrays in-place rather than making a complete\n            new copy for an incremental change. If NOT provided,\n            `Plotly.react` assumes that data arrays are being\n            treated as immutable, thus any data array with a\n            different identity from its predecessor contains new\n            data.\n        direction\n            Legacy polar charts are deprecated! Please switch to\n            \"polar\" subplots. Sets the direction corresponding to\n            positive angles in legacy polar charts.\n        dragmode\n            Determines the mode of drag interactions. \"select\" and\n            \"lasso\" apply only to scatter traces with markers or\n            text. \"orbit\" and \"turntable\" apply only to 3D scenes.\n        editrevision\n            Controls persistence of user-driven changes in\n            `editable: true` configuration, other than trace names\n            and axis titles. Defaults to `layout.uirevision`.\n        extendfunnelareacolors\n            If `true`, the funnelarea slice colors (whether given\n            by `funnelareacolorway` or inherited from `colorway`)\n            will be extended to three times its original length by\n            first repeating every color 20% lighter then each color\n            20% darker. This is intended to reduce the likelihood\n            of reusing the same color when you have many slices,\n            but you can set `false` to disable. Colors provided in\n            the trace, using `marker.colors`, are never extended.\n        extendpiecolors\n            If `true`, the pie slice colors (whether given by\n            `piecolorway` or inherited from `colorway`) will be\n            extended to three times its original length by first\n            repeating every color 20% lighter then each color 20%\n            darker. This is intended to reduce the likelihood of\n            reusing the same color when you have many slices, but\n            you can set `false` to disable. Colors provided in the\n            trace, using `marker.colors`, are never extended.\n        extendsunburstcolors\n            If `true`, the sunburst slice colors (whether given by\n            `sunburstcolorway` or inherited from `colorway`) will\n            be extended to three times its original length by first\n            repeating every color 20% lighter then each color 20%\n            darker. This is intended to reduce the likelihood of\n            reusing the same color when you have many slices, but\n            you can set `false` to disable. Colors provided in the\n            trace, using `marker.colors`, are never extended.\n        extendtreemapcolors\n            If `true`, the treemap slice colors (whether given by\n            `treemapcolorway` or inherited from `colorway`) will be\n            extended to three times its original length by first\n            repeating every color 20% lighter then each color 20%\n            darker. This is intended to reduce the likelihood of\n            reusing the same color when you have many slices, but\n            you can set `false` to disable. Colors provided in the\n            trace, using `marker.colors`, are never extended.\n        font\n            Sets the global font. Note that fonts used in traces\n            and other layout components inherit from the global\n            font.\n        funnelareacolorway\n            Sets the default funnelarea slice colors. Defaults to\n            the main `colorway` used for trace colors. If you\n            specify a new list here it can still be extended with\n            lighter and darker colors, see\n            `extendfunnelareacolors`.\n        funnelgap\n            Sets the gap (in plot fraction) between bars of\n            adjacent location coordinates.\n        funnelgroupgap\n            Sets the gap (in plot fraction) between bars of the\n            same location coordinate.\n        funnelmode\n            Determines how bars at the same location coordinate are\n            displayed on the graph. With \"stack\", the bars are\n            stacked on top of one another With \"group\", the bars\n            are plotted next to one another centered around the\n            shared location. With \"overlay\", the bars are plotted\n            over one another, you might need to an \"opacity\" to see\n            multiple bars.\n        geo\n            :class:`plotly.graph_objects.layout.Geo` instance or\n            dict with compatible properties\n        grid\n            :class:`plotly.graph_objects.layout.Grid` instance or\n            dict with compatible properties\n        height\n            Sets the plot's height (in px).\n        hiddenlabels\n            hiddenlabels is the funnelarea & pie chart analog of\n            visible:'legendonly' but it can contain many labels,\n            and can simultaneously hide slices from several\n            pies/funnelarea charts\n        hiddenlabelssrc\n            Sets the source reference on Chart Studio Cloud for\n            hiddenlabels .\n        hidesources\n            Determines whether or not a text link citing the data\n            source is placed at the bottom-right cored of the\n            figure. Has only an effect only on graphs that have\n            been generated via forked graphs from the Chart Studio\n            Cloud (at https://chart-studio.plotly.com or on-\n            premise).\n        hoverdistance\n            Sets the default distance (in pixels) to look for data\n            to add hover labels (-1 means no cutoff, 0 means no\n            looking for data). This is only a real distance for\n            hovering on point-like objects, like scatter points.\n            For area-like objects (bars, scatter fills, etc)\n            hovering is on inside the area and off outside, but\n            these objects will not supersede hover on point-like\n            objects in case of conflict.\n        hoverlabel\n            :class:`plotly.graph_objects.layout.Hoverlabel`\n            instance or dict with compatible properties\n        hovermode\n            Determines the mode of hover interactions. If\n            \"closest\", a single hoverlabel will appear for the\n            \"closest\" point within the `hoverdistance`. If \"x\" (or\n            \"y\"), multiple hoverlabels will appear for multiple\n            points at the \"closest\" x- (or y-) coordinate within\n            the `hoverdistance`, with the caveat that no more than\n            one hoverlabel will appear per trace. If *x unified*\n            (or *y unified*), a single hoverlabel will appear\n            multiple points at the closest x- (or y-) coordinate\n            within the `hoverdistance` with the caveat that no more\n            than one hoverlabel will appear per trace. In this\n            mode, spikelines are enabled by default perpendicular\n            to the specified axis. If false, hover interactions are\n            disabled. If `clickmode` includes the \"select\" flag,\n            `hovermode` defaults to \"closest\". If `clickmode` lacks\n            the \"select\" flag, it defaults to \"x\" or \"y\" (depending\n            on the trace's `orientation` value) for plots based on\n            cartesian coordinates. For anything else the default\n            value is \"closest\".\n        images\n            A tuple of :class:`plotly.graph_objects.layout.Image`\n            instances or dicts with compatible properties\n        imagedefaults\n            When used in a template (as\n            layout.template.layout.imagedefaults), sets the default\n            property values to use for elements of layout.images\n        legend\n            :class:`plotly.graph_objects.layout.Legend` instance or\n            dict with compatible properties\n        mapbox\n            :class:`plotly.graph_objects.layout.Mapbox` instance or\n            dict with compatible properties\n        margin\n            :class:`plotly.graph_objects.layout.Margin` instance or\n            dict with compatible properties\n        meta\n            Assigns extra meta information that can be used in\n            various `text` attributes. Attributes such as the\n            graph, axis and colorbar `title.text`, annotation\n            `text` `trace.name` in legend items, `rangeselector`,\n            `updatemenus` and `sliders` `label` text all support\n            `meta`. One can access `meta` fields using template\n            strings: `%{meta[i]}` where `i` is the index of the\n            `meta` item in question. `meta` can also be an object\n            for example `{key: value}` which can be accessed\n            %{meta[key]}.\n        metasrc\n            Sets the source reference on Chart Studio Cloud for\n            meta .\n        modebar\n            :class:`plotly.graph_objects.layout.Modebar` instance\n            or dict with compatible properties\n        newshape\n            :class:`plotly.graph_objects.layout.Newshape` instance\n            or dict with compatible properties\n        orientation\n            Legacy polar charts are deprecated! Please switch to\n            \"polar\" subplots. Rotates the entire polar by the given\n            angle in legacy polar charts.\n        paper_bgcolor\n            Sets the background color of the paper where the graph\n            is drawn.\n        piecolorway\n            Sets the default pie slice colors. Defaults to the main\n            `colorway` used for trace colors. If you specify a new\n            list here it can still be extended with lighter and\n            darker colors, see `extendpiecolors`.\n        plot_bgcolor\n            Sets the background color of the plotting area in-\n            between x and y axes.\n        polar\n            :class:`plotly.graph_objects.layout.Polar` instance or\n            dict with compatible properties\n        radialaxis\n            :class:`plotly.graph_objects.layout.RadialAxis`\n            instance or dict with compatible properties\n        scene\n            :class:`plotly.graph_objects.layout.Scene` instance or\n            dict with compatible properties\n        selectdirection\n            When `dragmode` is set to \"select\", this limits the\n            selection of the drag to horizontal, vertical or\n            diagonal. \"h\" only allows horizontal selection, \"v\"\n            only vertical, \"d\" only diagonal and \"any\" sets no\n            limit.\n        selectionrevision\n            Controls persistence of user-driven changes in selected\n            points from all traces.\n        separators\n            Sets the decimal and thousand separators. For example,\n            *. * puts a '.' before decimals and a space between\n            thousands. In English locales, dflt is \".,\" but other\n            locales may alter this default.\n        shapes\n            A tuple of :class:`plotly.graph_objects.layout.Shape`\n            instances or dicts with compatible properties\n        shapedefaults\n            When used in a template (as\n            layout.template.layout.shapedefaults), sets the default\n            property values to use for elements of layout.shapes\n        showlegend\n            Determines whether or not a legend is drawn. Default is\n            `true` if there is a trace to show and any of these: a)\n            Two or more traces would by default be shown in the\n            legend. b) One pie trace is shown in the legend. c) One\n            trace is explicitly given with `showlegend: true`.\n        sliders\n            A tuple of :class:`plotly.graph_objects.layout.Slider`\n            instances or dicts with compatible properties\n        sliderdefaults\n            When used in a template (as\n            layout.template.layout.sliderdefaults), sets the\n            default property values to use for elements of\n            layout.sliders\n        spikedistance\n            Sets the default distance (in pixels) to look for data\n            to draw spikelines to (-1 means no cutoff, 0 means no\n            looking for data). As with hoverdistance, distance does\n            not apply to area-like objects. In addition, some\n            objects can be hovered on but will not generate\n            spikelines, such as scatter fills.\n        sunburstcolorway\n            Sets the default sunburst slice colors. Defaults to the\n            main `colorway` used for trace colors. If you specify a\n            new list here it can still be extended with lighter and\n            darker colors, see `extendsunburstcolors`.\n        template\n            Default attributes to be applied to the plot. This\n            should be a dict with format: `{'layout':\n            layoutTemplate, 'data': {trace_type: [traceTemplate,\n            ...], ...}}` where `layoutTemplate` is a dict matching\n            the structure of `figure.layout` and `traceTemplate` is\n            a dict matching the structure of the trace with type\n            `trace_type` (e.g. 'scatter'). Alternatively, this may\n            be specified as an instance of\n            plotly.graph_objs.layout.Template.  Trace templates are\n            applied cyclically to traces of each type. Container\n            arrays (eg `annotations`) have special handling: An\n            object ending in `defaults` (eg `annotationdefaults`)\n            is applied to each array item. But if an item has a\n            `templateitemname` key we look in the template array\n            for an item with matching `name` and apply that\n            instead. If no matching `name` is found we mark the\n            item invisible. Any named template item not referenced\n            is appended to the end of the array, so this can be\n            used to add a watermark annotation or a logo image, for\n            example. To omit one of these items on the plot, make\n            an item with matching `templateitemname` and `visible:\n            false`.\n        ternary\n            :class:`plotly.graph_objects.layout.Ternary` instance\n            or dict with compatible properties\n        title\n            :class:`plotly.graph_objects.layout.Title` instance or\n            dict with compatible properties\n        titlefont\n            Deprecated: Please use layout.title.font instead. Sets\n            the title font. Note that the title's font used to be\n            customized by the now deprecated `titlefont` attribute.\n        transition\n            Sets transition options used during Plotly.react\n            updates.\n        treemapcolorway\n            Sets the default treemap slice colors. Defaults to the\n            main `colorway` used for trace colors. If you specify a\n            new list here it can still be extended with lighter and\n            darker colors, see `extendtreemapcolors`.\n        uirevision\n            Used to allow user interactions with the plot to\n            persist after `Plotly.react` calls that are unaware of\n            these interactions. If `uirevision` is omitted, or if\n            it is given and it changed from the previous\n            `Plotly.react` call, the exact new figure is used. If\n            `uirevision` is truthy and did NOT change, any\n            attribute that has been affected by user interactions\n            and did not receive a different value in the new figure\n            will keep the interaction value. `layout.uirevision`\n            attribute serves as the default for `uirevision`\n            attributes in various sub-containers. For finer control\n            you can set these sub-attributes directly. For example,\n            if your app separately controls the data on the x and y\n            axes you might set `xaxis.uirevision=*time*` and\n            `yaxis.uirevision=*cost*`. Then if only the y data is\n            changed, you can update `yaxis.uirevision=*quantity*`\n            and the y axis range will reset but the x axis range\n            will retain any user-driven zoom.\n        uniformtext\n            :class:`plotly.graph_objects.layout.Uniformtext`\n            instance or dict with compatible properties\n        updatemenus\n            A tuple of\n            :class:`plotly.graph_objects.layout.Updatemenu`\n            instances or dicts with compatible properties\n        updatemenudefaults\n            When used in a template (as\n            layout.template.layout.updatemenudefaults), sets the\n            default property values to use for elements of\n            layout.updatemenus\n        violingap\n            Sets the gap (in plot fraction) between violins of\n            adjacent location coordinates. Has no effect on traces\n            that have \"width\" set.\n        violingroupgap\n            Sets the gap (in plot fraction) between violins of the\n            same location coordinate. Has no effect on traces that\n            have \"width\" set.\n        violinmode\n            Determines how violins at the same location coordinate\n            are displayed on the graph. If \"group\", the violins are\n            plotted next to one another centered around the shared\n            location. If \"overlay\", the violins are plotted over\n            one another, you might need to set \"opacity\" to see\n            them multiple violins. Has no effect on traces that\n            have \"width\" set.\n        waterfallgap\n            Sets the gap (in plot fraction) between bars of\n            adjacent location coordinates.\n        waterfallgroupgap\n            Sets the gap (in plot fraction) between bars of the\n            same location coordinate.\n        waterfallmode\n            Determines how bars at the same location coordinate are\n            displayed on the graph. With \"group\", the bars are\n            plotted next to one another centered around the shared\n            location. With \"overlay\", the bars are plotted over one\n            another, you might need to an \"opacity\" to see multiple\n            bars.\n        width\n            Sets the plot's width (in px).\n        xaxis\n            :class:`plotly.graph_objects.layout.XAxis` instance or\n            dict with compatible properties\n        yaxis\n            :class:`plotly.graph_objects.layout.YAxis` instance or\n            dict with compatible properties\n        \nDid you mean \"polar\"?\n\nBad property path:\ncolor\n^^^^^",
     "output_type": "error",
     "traceback": [
      "\u001b[1;31m---------------------------------------------------------------------------\u001b[0m",
      "\u001b[1;31mValueError\u001b[0m                                Traceback (most recent call last)",
      "\u001b[1;32m<ipython-input-116-e46728409baf>\u001b[0m in \u001b[0;36m<module>\u001b[1;34m\u001b[0m\n\u001b[0;32m      1\u001b[0m \u001b[0mfig\u001b[0m \u001b[1;33m=\u001b[0m \u001b[0mgo\u001b[0m\u001b[1;33m.\u001b[0m\u001b[0mFigure\u001b[0m\u001b[1;33m(\u001b[0m\u001b[0mdata\u001b[0m\u001b[1;33m=\u001b[0m\u001b[0mgo\u001b[0m\u001b[1;33m.\u001b[0m\u001b[0mScatter\u001b[0m\u001b[1;33m(\u001b[0m\u001b[0mx\u001b[0m\u001b[1;33m=\u001b[0m\u001b[0mest_long_orb\u001b[0m\u001b[1;33m.\u001b[0m\u001b[0mtimestamp\u001b[0m \u001b[1;33m-\u001b[0m \u001b[0mest_long_orb\u001b[0m\u001b[1;33m.\u001b[0m\u001b[0mtimestamp\u001b[0m\u001b[1;33m[\u001b[0m\u001b[1;36m0\u001b[0m\u001b[1;33m]\u001b[0m\u001b[1;33m,\u001b[0m \u001b[0my\u001b[0m\u001b[1;33m=\u001b[0m\u001b[0mdists_orb\u001b[0m\u001b[1;33m)\u001b[0m\u001b[1;33m)\u001b[0m\u001b[1;33m\u001b[0m\u001b[1;33m\u001b[0m\u001b[0m\n\u001b[1;32m----> 2\u001b[1;33m fig.update_layout(\n\u001b[0m\u001b[0;32m      3\u001b[0m     \u001b[0mtitle\u001b[0m\u001b[1;33m=\u001b[0m\u001b[1;34m\"Influence of pixel count on the calculation time\"\u001b[0m\u001b[1;33m,\u001b[0m\u001b[1;33m\u001b[0m\u001b[1;33m\u001b[0m\u001b[0m\n\u001b[0;32m      4\u001b[0m     \u001b[0mxaxis_title\u001b[0m\u001b[1;33m=\u001b[0m\u001b[1;34m\"percentage of pixel count of original resolution (752 x 480)\"\u001b[0m\u001b[1;33m,\u001b[0m\u001b[1;33m\u001b[0m\u001b[1;33m\u001b[0m\u001b[0m\n\u001b[0;32m      5\u001b[0m     \u001b[0myaxis_title\u001b[0m\u001b[1;33m=\u001b[0m\u001b[1;34m\"calculation time in sec\"\u001b[0m\u001b[1;33m,\u001b[0m\u001b[1;33m\u001b[0m\u001b[1;33m\u001b[0m\u001b[0m\n",
      "\u001b[1;32m~\\AppData\\Roaming\\Python\\Python38\\site-packages\\plotly\\basedatatypes.py\u001b[0m in \u001b[0;36mupdate_layout\u001b[1;34m(self, dict1, overwrite, **kwargs)\u001b[0m\n\u001b[0;32m   1401\u001b[0m             \u001b[0mThe\u001b[0m \u001b[0mFigure\u001b[0m \u001b[0mobject\u001b[0m \u001b[0mthat\u001b[0m \u001b[0mthe\u001b[0m \u001b[0mupdate_layout\u001b[0m \u001b[0mmethod\u001b[0m \u001b[0mwas\u001b[0m \u001b[0mcalled\u001b[0m \u001b[0mon\u001b[0m\u001b[1;33m\u001b[0m\u001b[1;33m\u001b[0m\u001b[0m\n\u001b[0;32m   1402\u001b[0m         \"\"\"\n\u001b[1;32m-> 1403\u001b[1;33m         \u001b[0mself\u001b[0m\u001b[1;33m.\u001b[0m\u001b[0mlayout\u001b[0m\u001b[1;33m.\u001b[0m\u001b[0mupdate\u001b[0m\u001b[1;33m(\u001b[0m\u001b[0mdict1\u001b[0m\u001b[1;33m,\u001b[0m \u001b[0moverwrite\u001b[0m\u001b[1;33m=\u001b[0m\u001b[0moverwrite\u001b[0m\u001b[1;33m,\u001b[0m \u001b[1;33m**\u001b[0m\u001b[0mkwargs\u001b[0m\u001b[1;33m)\u001b[0m\u001b[1;33m\u001b[0m\u001b[1;33m\u001b[0m\u001b[0m\n\u001b[0m\u001b[0;32m   1404\u001b[0m         \u001b[1;32mreturn\u001b[0m \u001b[0mself\u001b[0m\u001b[1;33m\u001b[0m\u001b[1;33m\u001b[0m\u001b[0m\n\u001b[0;32m   1405\u001b[0m \u001b[1;33m\u001b[0m\u001b[0m\n",
      "\u001b[1;32m~\\AppData\\Roaming\\Python\\Python38\\site-packages\\plotly\\basedatatypes.py\u001b[0m in \u001b[0;36mupdate\u001b[1;34m(self, dict1, overwrite, **kwargs)\u001b[0m\n\u001b[0;32m   5065\u001b[0m             \u001b[1;32mwith\u001b[0m \u001b[0mself\u001b[0m\u001b[1;33m.\u001b[0m\u001b[0mfigure\u001b[0m\u001b[1;33m.\u001b[0m\u001b[0mbatch_update\u001b[0m\u001b[1;33m(\u001b[0m\u001b[1;33m)\u001b[0m\u001b[1;33m:\u001b[0m\u001b[1;33m\u001b[0m\u001b[1;33m\u001b[0m\u001b[0m\n\u001b[0;32m   5066\u001b[0m                 \u001b[0mBaseFigure\u001b[0m\u001b[1;33m.\u001b[0m\u001b[0m_perform_update\u001b[0m\u001b[1;33m(\u001b[0m\u001b[0mself\u001b[0m\u001b[1;33m,\u001b[0m \u001b[0mdict1\u001b[0m\u001b[1;33m,\u001b[0m \u001b[0moverwrite\u001b[0m\u001b[1;33m=\u001b[0m\u001b[0moverwrite\u001b[0m\u001b[1;33m)\u001b[0m\u001b[1;33m\u001b[0m\u001b[1;33m\u001b[0m\u001b[0m\n\u001b[1;32m-> 5067\u001b[1;33m                 \u001b[0mBaseFigure\u001b[0m\u001b[1;33m.\u001b[0m\u001b[0m_perform_update\u001b[0m\u001b[1;33m(\u001b[0m\u001b[0mself\u001b[0m\u001b[1;33m,\u001b[0m \u001b[0mkwargs\u001b[0m\u001b[1;33m,\u001b[0m \u001b[0moverwrite\u001b[0m\u001b[1;33m=\u001b[0m\u001b[0moverwrite\u001b[0m\u001b[1;33m)\u001b[0m\u001b[1;33m\u001b[0m\u001b[1;33m\u001b[0m\u001b[0m\n\u001b[0m\u001b[0;32m   5068\u001b[0m         \u001b[1;32melse\u001b[0m\u001b[1;33m:\u001b[0m\u001b[1;33m\u001b[0m\u001b[1;33m\u001b[0m\u001b[0m\n\u001b[0;32m   5069\u001b[0m             \u001b[0mBaseFigure\u001b[0m\u001b[1;33m.\u001b[0m\u001b[0m_perform_update\u001b[0m\u001b[1;33m(\u001b[0m\u001b[0mself\u001b[0m\u001b[1;33m,\u001b[0m \u001b[0mdict1\u001b[0m\u001b[1;33m,\u001b[0m \u001b[0moverwrite\u001b[0m\u001b[1;33m=\u001b[0m\u001b[0moverwrite\u001b[0m\u001b[1;33m)\u001b[0m\u001b[1;33m\u001b[0m\u001b[1;33m\u001b[0m\u001b[0m\n",
      "\u001b[1;32m~\\AppData\\Roaming\\Python\\Python38\\site-packages\\plotly\\basedatatypes.py\u001b[0m in \u001b[0;36m_perform_update\u001b[1;34m(plotly_obj, update_obj, overwrite)\u001b[0m\n\u001b[0;32m   3860\u001b[0m                     \u001b[1;31m# contain the _raise_on_invalid_property_error\u001b[0m\u001b[1;33m\u001b[0m\u001b[1;33m\u001b[0m\u001b[1;33m\u001b[0m\u001b[0m\n\u001b[0;32m   3861\u001b[0m                     \u001b[1;31m# generated message\u001b[0m\u001b[1;33m\u001b[0m\u001b[1;33m\u001b[0m\u001b[1;33m\u001b[0m\u001b[0m\n\u001b[1;32m-> 3862\u001b[1;33m                     \u001b[1;32mraise\u001b[0m \u001b[0merr\u001b[0m\u001b[1;33m\u001b[0m\u001b[1;33m\u001b[0m\u001b[0m\n\u001b[0m\u001b[0;32m   3863\u001b[0m \u001b[1;33m\u001b[0m\u001b[0m\n\u001b[0;32m   3864\u001b[0m             \u001b[1;31m# Convert update_obj to dict\u001b[0m\u001b[1;33m\u001b[0m\u001b[1;33m\u001b[0m\u001b[1;33m\u001b[0m\u001b[0m\n",
      "\u001b[1;31mValueError\u001b[0m: Invalid property specified for object of type plotly.graph_objs.Layout: 'color'\n\nDid you mean \"polar\"?\n\n    Valid properties:\n        activeshape\n            :class:`plotly.graph_objects.layout.Activeshape`\n            instance or dict with compatible properties\n        angularaxis\n            :class:`plotly.graph_objects.layout.AngularAxis`\n            instance or dict with compatible properties\n        annotations\n            A tuple of\n            :class:`plotly.graph_objects.layout.Annotation`\n            instances or dicts with compatible properties\n        annotationdefaults\n            When used in a template (as\n            layout.template.layout.annotationdefaults), sets the\n            default property values to use for elements of\n            layout.annotations\n        autosize\n            Determines whether or not a layout width or height that\n            has been left undefined by the user is initialized on\n            each relayout. Note that, regardless of this attribute,\n            an undefined layout width or height is always\n            initialized on the first call to plot.\n        autotypenumbers\n            Using \"strict\" a numeric string in trace data is not\n            converted to a number. Using *convert types* a numeric\n            string in trace data may be treated as a number during\n            automatic axis `type` detection. This is the default\n            value; however it could be overridden for individual\n            axes.\n        bargap\n            Sets the gap (in plot fraction) between bars of\n            adjacent location coordinates.\n        bargroupgap\n            Sets the gap (in plot fraction) between bars of the\n            same location coordinate.\n        barmode\n            Determines how bars at the same location coordinate are\n            displayed on the graph. With \"stack\", the bars are\n            stacked on top of one another With \"relative\", the bars\n            are stacked on top of one another, with negative values\n            below the axis, positive values above With \"group\", the\n            bars are plotted next to one another centered around\n            the shared location. With \"overlay\", the bars are\n            plotted over one another, you might need to an\n            \"opacity\" to see multiple bars.\n        barnorm\n            Sets the normalization for bar traces on the graph.\n            With \"fraction\", the value of each bar is divided by\n            the sum of all values at that location coordinate.\n            \"percent\" is the same but multiplied by 100 to show\n            percentages.\n        boxgap\n            Sets the gap (in plot fraction) between boxes of\n            adjacent location coordinates. Has no effect on traces\n            that have \"width\" set.\n        boxgroupgap\n            Sets the gap (in plot fraction) between boxes of the\n            same location coordinate. Has no effect on traces that\n            have \"width\" set.\n        boxmode\n            Determines how boxes at the same location coordinate\n            are displayed on the graph. If \"group\", the boxes are\n            plotted next to one another centered around the shared\n            location. If \"overlay\", the boxes are plotted over one\n            another, you might need to set \"opacity\" to see them\n            multiple boxes. Has no effect on traces that have\n            \"width\" set.\n        calendar\n            Sets the default calendar system to use for\n            interpreting and displaying dates throughout the plot.\n        clickmode\n            Determines the mode of single click interactions.\n            \"event\" is the default value and emits the\n            `plotly_click` event. In addition this mode emits the\n            `plotly_selected` event in drag modes \"lasso\" and\n            \"select\", but with no event data attached (kept for\n            compatibility reasons). The \"select\" flag enables\n            selecting single data points via click. This mode also\n            supports persistent selections, meaning that pressing\n            Shift while clicking, adds to / subtracts from an\n            existing selection. \"select\" with `hovermode`: \"x\" can\n            be confusing, consider explicitly setting `hovermode`:\n            \"closest\" when using this feature. Selection events are\n            sent accordingly as long as \"event\" flag is set as\n            well. When the \"event\" flag is missing, `plotly_click`\n            and `plotly_selected` events are not fired.\n        coloraxis\n            :class:`plotly.graph_objects.layout.Coloraxis` instance\n            or dict with compatible properties\n        colorscale\n            :class:`plotly.graph_objects.layout.Colorscale`\n            instance or dict with compatible properties\n        colorway\n            Sets the default trace colors.\n        computed\n            Placeholder for exporting automargin-impacting values\n            namely `margin.t`, `margin.b`, `margin.l` and\n            `margin.r` in \"full-json\" mode.\n        datarevision\n            If provided, a changed value tells `Plotly.react` that\n            one or more data arrays has changed. This way you can\n            modify arrays in-place rather than making a complete\n            new copy for an incremental change. If NOT provided,\n            `Plotly.react` assumes that data arrays are being\n            treated as immutable, thus any data array with a\n            different identity from its predecessor contains new\n            data.\n        direction\n            Legacy polar charts are deprecated! Please switch to\n            \"polar\" subplots. Sets the direction corresponding to\n            positive angles in legacy polar charts.\n        dragmode\n            Determines the mode of drag interactions. \"select\" and\n            \"lasso\" apply only to scatter traces with markers or\n            text. \"orbit\" and \"turntable\" apply only to 3D scenes.\n        editrevision\n            Controls persistence of user-driven changes in\n            `editable: true` configuration, other than trace names\n            and axis titles. Defaults to `layout.uirevision`.\n        extendfunnelareacolors\n            If `true`, the funnelarea slice colors (whether given\n            by `funnelareacolorway` or inherited from `colorway`)\n            will be extended to three times its original length by\n            first repeating every color 20% lighter then each color\n            20% darker. This is intended to reduce the likelihood\n            of reusing the same color when you have many slices,\n            but you can set `false` to disable. Colors provided in\n            the trace, using `marker.colors`, are never extended.\n        extendpiecolors\n            If `true`, the pie slice colors (whether given by\n            `piecolorway` or inherited from `colorway`) will be\n            extended to three times its original length by first\n            repeating every color 20% lighter then each color 20%\n            darker. This is intended to reduce the likelihood of\n            reusing the same color when you have many slices, but\n            you can set `false` to disable. Colors provided in the\n            trace, using `marker.colors`, are never extended.\n        extendsunburstcolors\n            If `true`, the sunburst slice colors (whether given by\n            `sunburstcolorway` or inherited from `colorway`) will\n            be extended to three times its original length by first\n            repeating every color 20% lighter then each color 20%\n            darker. This is intended to reduce the likelihood of\n            reusing the same color when you have many slices, but\n            you can set `false` to disable. Colors provided in the\n            trace, using `marker.colors`, are never extended.\n        extendtreemapcolors\n            If `true`, the treemap slice colors (whether given by\n            `treemapcolorway` or inherited from `colorway`) will be\n            extended to three times its original length by first\n            repeating every color 20% lighter then each color 20%\n            darker. This is intended to reduce the likelihood of\n            reusing the same color when you have many slices, but\n            you can set `false` to disable. Colors provided in the\n            trace, using `marker.colors`, are never extended.\n        font\n            Sets the global font. Note that fonts used in traces\n            and other layout components inherit from the global\n            font.\n        funnelareacolorway\n            Sets the default funnelarea slice colors. Defaults to\n            the main `colorway` used for trace colors. If you\n            specify a new list here it can still be extended with\n            lighter and darker colors, see\n            `extendfunnelareacolors`.\n        funnelgap\n            Sets the gap (in plot fraction) between bars of\n            adjacent location coordinates.\n        funnelgroupgap\n            Sets the gap (in plot fraction) between bars of the\n            same location coordinate.\n        funnelmode\n            Determines how bars at the same location coordinate are\n            displayed on the graph. With \"stack\", the bars are\n            stacked on top of one another With \"group\", the bars\n            are plotted next to one another centered around the\n            shared location. With \"overlay\", the bars are plotted\n            over one another, you might need to an \"opacity\" to see\n            multiple bars.\n        geo\n            :class:`plotly.graph_objects.layout.Geo` instance or\n            dict with compatible properties\n        grid\n            :class:`plotly.graph_objects.layout.Grid` instance or\n            dict with compatible properties\n        height\n            Sets the plot's height (in px).\n        hiddenlabels\n            hiddenlabels is the funnelarea & pie chart analog of\n            visible:'legendonly' but it can contain many labels,\n            and can simultaneously hide slices from several\n            pies/funnelarea charts\n        hiddenlabelssrc\n            Sets the source reference on Chart Studio Cloud for\n            hiddenlabels .\n        hidesources\n            Determines whether or not a text link citing the data\n            source is placed at the bottom-right cored of the\n            figure. Has only an effect only on graphs that have\n            been generated via forked graphs from the Chart Studio\n            Cloud (at https://chart-studio.plotly.com or on-\n            premise).\n        hoverdistance\n            Sets the default distance (in pixels) to look for data\n            to add hover labels (-1 means no cutoff, 0 means no\n            looking for data). This is only a real distance for\n            hovering on point-like objects, like scatter points.\n            For area-like objects (bars, scatter fills, etc)\n            hovering is on inside the area and off outside, but\n            these objects will not supersede hover on point-like\n            objects in case of conflict.\n        hoverlabel\n            :class:`plotly.graph_objects.layout.Hoverlabel`\n            instance or dict with compatible properties\n        hovermode\n            Determines the mode of hover interactions. If\n            \"closest\", a single hoverlabel will appear for the\n            \"closest\" point within the `hoverdistance`. If \"x\" (or\n            \"y\"), multiple hoverlabels will appear for multiple\n            points at the \"closest\" x- (or y-) coordinate within\n            the `hoverdistance`, with the caveat that no more than\n            one hoverlabel will appear per trace. If *x unified*\n            (or *y unified*), a single hoverlabel will appear\n            multiple points at the closest x- (or y-) coordinate\n            within the `hoverdistance` with the caveat that no more\n            than one hoverlabel will appear per trace. In this\n            mode, spikelines are enabled by default perpendicular\n            to the specified axis. If false, hover interactions are\n            disabled. If `clickmode` includes the \"select\" flag,\n            `hovermode` defaults to \"closest\". If `clickmode` lacks\n            the \"select\" flag, it defaults to \"x\" or \"y\" (depending\n            on the trace's `orientation` value) for plots based on\n            cartesian coordinates. For anything else the default\n            value is \"closest\".\n        images\n            A tuple of :class:`plotly.graph_objects.layout.Image`\n            instances or dicts with compatible properties\n        imagedefaults\n            When used in a template (as\n            layout.template.layout.imagedefaults), sets the default\n            property values to use for elements of layout.images\n        legend\n            :class:`plotly.graph_objects.layout.Legend` instance or\n            dict with compatible properties\n        mapbox\n            :class:`plotly.graph_objects.layout.Mapbox` instance or\n            dict with compatible properties\n        margin\n            :class:`plotly.graph_objects.layout.Margin` instance or\n            dict with compatible properties\n        meta\n            Assigns extra meta information that can be used in\n            various `text` attributes. Attributes such as the\n            graph, axis and colorbar `title.text`, annotation\n            `text` `trace.name` in legend items, `rangeselector`,\n            `updatemenus` and `sliders` `label` text all support\n            `meta`. One can access `meta` fields using template\n            strings: `%{meta[i]}` where `i` is the index of the\n            `meta` item in question. `meta` can also be an object\n            for example `{key: value}` which can be accessed\n            %{meta[key]}.\n        metasrc\n            Sets the source reference on Chart Studio Cloud for\n            meta .\n        modebar\n            :class:`plotly.graph_objects.layout.Modebar` instance\n            or dict with compatible properties\n        newshape\n            :class:`plotly.graph_objects.layout.Newshape` instance\n            or dict with compatible properties\n        orientation\n            Legacy polar charts are deprecated! Please switch to\n            \"polar\" subplots. Rotates the entire polar by the given\n            angle in legacy polar charts.\n        paper_bgcolor\n            Sets the background color of the paper where the graph\n            is drawn.\n        piecolorway\n            Sets the default pie slice colors. Defaults to the main\n            `colorway` used for trace colors. If you specify a new\n            list here it can still be extended with lighter and\n            darker colors, see `extendpiecolors`.\n        plot_bgcolor\n            Sets the background color of the plotting area in-\n            between x and y axes.\n        polar\n            :class:`plotly.graph_objects.layout.Polar` instance or\n            dict with compatible properties\n        radialaxis\n            :class:`plotly.graph_objects.layout.RadialAxis`\n            instance or dict with compatible properties\n        scene\n            :class:`plotly.graph_objects.layout.Scene` instance or\n            dict with compatible properties\n        selectdirection\n            When `dragmode` is set to \"select\", this limits the\n            selection of the drag to horizontal, vertical or\n            diagonal. \"h\" only allows horizontal selection, \"v\"\n            only vertical, \"d\" only diagonal and \"any\" sets no\n            limit.\n        selectionrevision\n            Controls persistence of user-driven changes in selected\n            points from all traces.\n        separators\n            Sets the decimal and thousand separators. For example,\n            *. * puts a '.' before decimals and a space between\n            thousands. In English locales, dflt is \".,\" but other\n            locales may alter this default.\n        shapes\n            A tuple of :class:`plotly.graph_objects.layout.Shape`\n            instances or dicts with compatible properties\n        shapedefaults\n            When used in a template (as\n            layout.template.layout.shapedefaults), sets the default\n            property values to use for elements of layout.shapes\n        showlegend\n            Determines whether or not a legend is drawn. Default is\n            `true` if there is a trace to show and any of these: a)\n            Two or more traces would by default be shown in the\n            legend. b) One pie trace is shown in the legend. c) One\n            trace is explicitly given with `showlegend: true`.\n        sliders\n            A tuple of :class:`plotly.graph_objects.layout.Slider`\n            instances or dicts with compatible properties\n        sliderdefaults\n            When used in a template (as\n            layout.template.layout.sliderdefaults), sets the\n            default property values to use for elements of\n            layout.sliders\n        spikedistance\n            Sets the default distance (in pixels) to look for data\n            to draw spikelines to (-1 means no cutoff, 0 means no\n            looking for data). As with hoverdistance, distance does\n            not apply to area-like objects. In addition, some\n            objects can be hovered on but will not generate\n            spikelines, such as scatter fills.\n        sunburstcolorway\n            Sets the default sunburst slice colors. Defaults to the\n            main `colorway` used for trace colors. If you specify a\n            new list here it can still be extended with lighter and\n            darker colors, see `extendsunburstcolors`.\n        template\n            Default attributes to be applied to the plot. This\n            should be a dict with format: `{'layout':\n            layoutTemplate, 'data': {trace_type: [traceTemplate,\n            ...], ...}}` where `layoutTemplate` is a dict matching\n            the structure of `figure.layout` and `traceTemplate` is\n            a dict matching the structure of the trace with type\n            `trace_type` (e.g. 'scatter'). Alternatively, this may\n            be specified as an instance of\n            plotly.graph_objs.layout.Template.  Trace templates are\n            applied cyclically to traces of each type. Container\n            arrays (eg `annotations`) have special handling: An\n            object ending in `defaults` (eg `annotationdefaults`)\n            is applied to each array item. But if an item has a\n            `templateitemname` key we look in the template array\n            for an item with matching `name` and apply that\n            instead. If no matching `name` is found we mark the\n            item invisible. Any named template item not referenced\n            is appended to the end of the array, so this can be\n            used to add a watermark annotation or a logo image, for\n            example. To omit one of these items on the plot, make\n            an item with matching `templateitemname` and `visible:\n            false`.\n        ternary\n            :class:`plotly.graph_objects.layout.Ternary` instance\n            or dict with compatible properties\n        title\n            :class:`plotly.graph_objects.layout.Title` instance or\n            dict with compatible properties\n        titlefont\n            Deprecated: Please use layout.title.font instead. Sets\n            the title font. Note that the title's font used to be\n            customized by the now deprecated `titlefont` attribute.\n        transition\n            Sets transition options used during Plotly.react\n            updates.\n        treemapcolorway\n            Sets the default treemap slice colors. Defaults to the\n            main `colorway` used for trace colors. If you specify a\n            new list here it can still be extended with lighter and\n            darker colors, see `extendtreemapcolors`.\n        uirevision\n            Used to allow user interactions with the plot to\n            persist after `Plotly.react` calls that are unaware of\n            these interactions. If `uirevision` is omitted, or if\n            it is given and it changed from the previous\n            `Plotly.react` call, the exact new figure is used. If\n            `uirevision` is truthy and did NOT change, any\n            attribute that has been affected by user interactions\n            and did not receive a different value in the new figure\n            will keep the interaction value. `layout.uirevision`\n            attribute serves as the default for `uirevision`\n            attributes in various sub-containers. For finer control\n            you can set these sub-attributes directly. For example,\n            if your app separately controls the data on the x and y\n            axes you might set `xaxis.uirevision=*time*` and\n            `yaxis.uirevision=*cost*`. Then if only the y data is\n            changed, you can update `yaxis.uirevision=*quantity*`\n            and the y axis range will reset but the x axis range\n            will retain any user-driven zoom.\n        uniformtext\n            :class:`plotly.graph_objects.layout.Uniformtext`\n            instance or dict with compatible properties\n        updatemenus\n            A tuple of\n            :class:`plotly.graph_objects.layout.Updatemenu`\n            instances or dicts with compatible properties\n        updatemenudefaults\n            When used in a template (as\n            layout.template.layout.updatemenudefaults), sets the\n            default property values to use for elements of\n            layout.updatemenus\n        violingap\n            Sets the gap (in plot fraction) between violins of\n            adjacent location coordinates. Has no effect on traces\n            that have \"width\" set.\n        violingroupgap\n            Sets the gap (in plot fraction) between violins of the\n            same location coordinate. Has no effect on traces that\n            have \"width\" set.\n        violinmode\n            Determines how violins at the same location coordinate\n            are displayed on the graph. If \"group\", the violins are\n            plotted next to one another centered around the shared\n            location. If \"overlay\", the violins are plotted over\n            one another, you might need to set \"opacity\" to see\n            them multiple violins. Has no effect on traces that\n            have \"width\" set.\n        waterfallgap\n            Sets the gap (in plot fraction) between bars of\n            adjacent location coordinates.\n        waterfallgroupgap\n            Sets the gap (in plot fraction) between bars of the\n            same location coordinate.\n        waterfallmode\n            Determines how bars at the same location coordinate are\n            displayed on the graph. With \"group\", the bars are\n            plotted next to one another centered around the shared\n            location. With \"overlay\", the bars are plotted over one\n            another, you might need to an \"opacity\" to see multiple\n            bars.\n        width\n            Sets the plot's width (in px).\n        xaxis\n            :class:`plotly.graph_objects.layout.XAxis` instance or\n            dict with compatible properties\n        yaxis\n            :class:`plotly.graph_objects.layout.YAxis` instance or\n            dict with compatible properties\n        \nDid you mean \"polar\"?\n\nBad property path:\ncolor\n^^^^^"
     ]
    }
   ],
   "source": [
    "fig = go.Figure(data=go.Scatter(x=est_long_orb.timestamp - est_long_orb.timestamp[0], y=dists_orb))\n",
    "fig.update_layout(\n",
    "    title=\"Influence of pixel count on the calculation time\",\n",
    "    xaxis_title=\"percentage of pixel count of original resolution (752 x 480)\",\n",
    "    yaxis_title=\"calculation time in sec\",\n",
    "    color=\"green\"\n",
    ")\n",
    "fig.show()"
   ]
  },
  {
   "cell_type": "code",
   "execution_count": 161,
   "metadata": {},
   "outputs": [
    {
     "data": {
      "application/vnd.plotly.v1+json": {
       "config": {
        "plotlyServerURL": "https://plot.ly"
       },
       "data": [
        {
         "mode": "lines",
         "name": "orb",
         "type": "scatter",
         "x": [
          0,
          0.04999995231628418,
          0.09999990463256836,
          0.15000009536743164,
          0.20000004768371582,
          0.25,
          0.2999999523162842,
          0.34999990463256836,
          0.40000009536743164,
          0.4500000476837158,
          0.5,
          0.5499999523162842,
          0.5999999046325684,
          0.6500000953674316,
          0.7000000476837158,
          0.75,
          0.7999999523162842,
          0.8499999046325684,
          0.9000000953674316,
          0.9500000476837158,
          1,
          1.0499999523162842,
          1.0999999046325684,
          1.1500000953674316,
          1.2000000476837158,
          1.25,
          1.2999999523162842,
          1.3499999046325684,
          1.4000000953674316,
          1.4500000476837158,
          1.5,
          1.5499999523162842,
          1.5999999046325684,
          1.6500000953674316,
          1.7000000476837158,
          1.75,
          1.7999999523162842,
          1.8499999046325684,
          1.9000000953674316,
          1.9500000476837158,
          2,
          2.049999952316284,
          2.0999999046325684,
          2.1500000953674316,
          2.200000047683716,
          2.25,
          2.299999952316284,
          2.3499999046325684,
          2.4000000953674316,
          2.450000047683716,
          2.5,
          2.549999952316284,
          2.5999999046325684,
          2.6500000953674316,
          2.700000047683716,
          2.75,
          2.799999952316284,
          2.8499999046325684,
          2.9000000953674316,
          2.950000047683716,
          3,
          3.049999952316284,
          3.0999999046325684,
          3.1500000953674316,
          3.200000047683716,
          3.25,
          3.299999952316284,
          3.3499999046325684,
          3.4000000953674316,
          3.450000047683716,
          3.5,
          3.549999952316284,
          3.5999999046325684,
          3.6500000953674316,
          3.700000047683716,
          3.75,
          3.799999952316284,
          3.8499999046325684,
          3.9000000953674316,
          3.950000047683716,
          4,
          4.049999952316284,
          4.099999904632568,
          4.150000095367432,
          4.200000047683716,
          4.25,
          4.299999952316284,
          4.349999904632568,
          4.400000095367432,
          4.450000047683716,
          4.5,
          4.549999952316284,
          4.599999904632568,
          4.650000095367432,
          4.700000047683716,
          4.75,
          4.799999952316284,
          4.849999904632568,
          4.900000095367432,
          4.950000047683716,
          5,
          5.049999952316284,
          5.099999904632568,
          5.150000095367432,
          5.200000047683716,
          5.25,
          5.299999952316284,
          5.349999904632568,
          5.400000095367432,
          5.450000047683716,
          5.5,
          5.549999952316284,
          5.599999904632568,
          5.650000095367432,
          5.700000047683716,
          5.75,
          5.799999952316284,
          5.849999904632568,
          5.900000095367432,
          5.950000047683716,
          6,
          6.049999952316284,
          6.099999904632568,
          6.150000095367432,
          6.200000047683716,
          6.25,
          6.299999952316284,
          6.349999904632568,
          6.400000095367432,
          6.450000047683716,
          6.5,
          6.549999952316284,
          6.599999904632568,
          6.650000095367432,
          6.700000047683716,
          6.75,
          6.799999952316284,
          6.849999904632568,
          6.900000095367432,
          6.950000047683716,
          7,
          7.049999952316284,
          7.099999904632568,
          7.150000095367432,
          7.200000047683716,
          7.25,
          7.299999952316284,
          7.349999904632568,
          7.400000095367432,
          7.450000047683716,
          7.5,
          7.549999952316284,
          7.599999904632568,
          7.650000095367432,
          7.700000047683716,
          7.75,
          7.799999952316284,
          7.849999904632568,
          7.900000095367432,
          7.950000047683716,
          8,
          8.049999952316284,
          8.099999904632568,
          8.150000095367432,
          8.200000047683716,
          8.25,
          8.299999952316284,
          8.349999904632568,
          8.400000095367432,
          8.450000047683716,
          8.5,
          8.549999952316284,
          8.599999904632568,
          8.650000095367432,
          8.700000047683716,
          8.75,
          8.799999952316284,
          8.849999904632568,
          8.900000095367432,
          8.950000047683716,
          9,
          9.049999952316284,
          9.099999904632568,
          9.150000095367432,
          9.200000047683716,
          9.25,
          9.299999952316284,
          9.349999904632568,
          9.400000095367432,
          9.450000047683716,
          9.5,
          9.549999952316284,
          9.599999904632568,
          9.650000095367432,
          9.700000047683716,
          9.75,
          9.799999952316284,
          9.849999904632568,
          9.900000095367432,
          9.950000047683716,
          10,
          10.049999952316284,
          10.099999904632568,
          10.150000095367432,
          10.200000047683716,
          10.25,
          10.299999952316284,
          10.349999904632568,
          10.400000095367432,
          10.450000047683716,
          10.5,
          10.549999952316284,
          10.599999904632568,
          10.650000095367432,
          10.700000047683716,
          10.75,
          10.799999952316284,
          10.849999904632568,
          10.900000095367432,
          10.950000047683716,
          11,
          11.049999952316284,
          11.099999904632568,
          11.150000095367432,
          11.200000047683716,
          11.25,
          11.299999952316284,
          11.349999904632568,
          11.400000095367432,
          11.450000047683716,
          11.5,
          11.549999952316284,
          11.599999904632568,
          11.650000095367432,
          11.700000047683716,
          11.75,
          11.799999952316284,
          11.849999904632568,
          11.900000095367432,
          11.950000047683716,
          12,
          12.049999952316284,
          12.099999904632568,
          12.150000095367432,
          12.200000047683716,
          12.25,
          12.299999952316284,
          12.349999904632568,
          12.400000095367432,
          12.450000047683716,
          12.5,
          12.549999952316284,
          12.599999904632568,
          12.650000095367432,
          12.700000047683716,
          12.75,
          12.799999952316284,
          12.849999904632568,
          12.900000095367432,
          12.950000047683716,
          13,
          13.049999952316284,
          13.099999904632568,
          13.150000095367432,
          13.200000047683716,
          13.25,
          13.299999952316284,
          13.349999904632568,
          13.400000095367432,
          13.450000047683716,
          13.5,
          13.549999952316284,
          13.599999904632568,
          13.650000095367432,
          13.700000047683716,
          13.75,
          13.799999952316284,
          13.849999904632568,
          13.900000095367432,
          13.950000047683716,
          14,
          14.049999952316284,
          14.099999904632568,
          14.150000095367432,
          14.200000047683716,
          14.25,
          14.299999952316284,
          14.349999904632568,
          14.400000095367432,
          14.450000047683716,
          14.5,
          14.549999952316284,
          14.599999904632568,
          14.650000095367432,
          14.700000047683716,
          14.75,
          14.799999952316284,
          14.849999904632568,
          14.900000095367432,
          14.950000047683716,
          15,
          15.049999952316284,
          15.099999904632568,
          15.150000095367432,
          15.200000047683716,
          15.25,
          15.299999952316284,
          15.349999904632568,
          15.400000095367432,
          15.450000047683716,
          15.5,
          15.549999952316284,
          15.599999904632568,
          15.650000095367432,
          15.700000047683716,
          15.75,
          15.799999952316284,
          15.849999904632568,
          15.900000095367432,
          15.950000047683716,
          16,
          16.049999952316284,
          16.09999990463257,
          16.15000009536743,
          16.200000047683716,
          16.25,
          16.299999952316284,
          16.34999990463257,
          16.40000009536743,
          16.450000047683716,
          16.5,
          16.549999952316284,
          16.59999990463257,
          16.65000009536743,
          16.700000047683716,
          16.75,
          16.799999952316284,
          16.84999990463257,
          16.90000009536743,
          16.950000047683716,
          17,
          17.049999952316284,
          17.09999990463257,
          17.15000009536743,
          17.200000047683716,
          17.25,
          17.299999952316284,
          17.34999990463257,
          17.40000009536743,
          17.450000047683716,
          17.5,
          17.549999952316284,
          17.59999990463257,
          17.65000009536743,
          17.700000047683716,
          17.75,
          17.799999952316284,
          17.84999990463257,
          17.90000009536743,
          17.950000047683716,
          18,
          18.049999952316284,
          18.09999990463257,
          18.15000009536743,
          18.200000047683716,
          18.25,
          18.299999952316284,
          18.34999990463257,
          18.40000009536743,
          18.450000047683716,
          18.5,
          18.549999952316284,
          18.59999990463257,
          18.65000009536743,
          18.700000047683716,
          18.75,
          18.799999952316284,
          18.84999990463257,
          18.90000009536743,
          18.950000047683716,
          19,
          19.049999952316284,
          19.09999990463257,
          19.15000009536743,
          19.200000047683716,
          19.25,
          19.299999952316284,
          19.34999990463257,
          19.40000009536743,
          19.450000047683716,
          19.5,
          19.549999952316284,
          19.59999990463257,
          19.65000009536743,
          19.700000047683716,
          19.75,
          19.799999952316284,
          19.84999990463257,
          19.90000009536743,
          19.950000047683716,
          20,
          20.049999952316284,
          20.09999990463257,
          20.15000009536743,
          20.200000047683716,
          20.25,
          20.299999952316284,
          20.34999990463257,
          20.40000009536743,
          20.450000047683716,
          20.5,
          20.549999952316284,
          20.59999990463257,
          20.65000009536743,
          20.700000047683716,
          20.75,
          20.799999952316284,
          20.84999990463257,
          20.90000009536743,
          20.950000047683716,
          21,
          21.049999952316284,
          21.09999990463257,
          21.15000009536743,
          21.200000047683716,
          21.25,
          21.299999952316284,
          21.34999990463257,
          21.40000009536743,
          21.450000047683716,
          21.5,
          21.549999952316284,
          21.59999990463257,
          21.65000009536743,
          21.700000047683716,
          21.75,
          21.799999952316284,
          21.84999990463257,
          21.90000009536743,
          21.950000047683716,
          22,
          22.049999952316284,
          22.09999990463257,
          22.15000009536743,
          22.200000047683716,
          22.25,
          22.299999952316284,
          22.34999990463257,
          22.40000009536743,
          22.450000047683716,
          22.5,
          22.549999952316284,
          22.59999990463257,
          22.65000009536743,
          22.700000047683716,
          22.75,
          22.799999952316284,
          22.84999990463257,
          22.90000009536743,
          22.950000047683716,
          23,
          23.049999952316284,
          23.09999990463257,
          23.15000009536743,
          23.200000047683716,
          23.25,
          23.299999952316284,
          23.34999990463257,
          23.40000009536743,
          23.450000047683716,
          23.5,
          23.549999952316284,
          23.59999990463257,
          23.65000009536743,
          23.700000047683716,
          23.75,
          23.799999952316284,
          23.84999990463257,
          23.90000009536743,
          23.950000047683716,
          24,
          24.049999952316284,
          24.09999990463257,
          24.15000009536743,
          24.200000047683716,
          24.25,
          24.299999952316284,
          24.34999990463257,
          24.40000009536743,
          24.450000047683716,
          24.5,
          24.549999952316284,
          24.59999990463257,
          24.65000009536743,
          24.700000047683716,
          24.75,
          24.799999952316284,
          24.84999990463257,
          24.90000009536743,
          24.950000047683716,
          25,
          25.049999952316284,
          25.09999990463257,
          25.15000009536743,
          25.200000047683716,
          25.25,
          25.299999952316284,
          25.34999990463257,
          25.40000009536743,
          25.450000047683716,
          25.5,
          25.549999952316284,
          25.59999990463257,
          25.65000009536743,
          25.700000047683716,
          25.75,
          25.799999952316284,
          25.84999990463257,
          25.90000009536743,
          25.950000047683716,
          26,
          26.049999952316284,
          26.09999990463257,
          26.15000009536743,
          26.200000047683716,
          26.25,
          26.299999952316284,
          26.34999990463257,
          26.40000009536743,
          26.450000047683716,
          26.5,
          26.549999952316284,
          26.59999990463257,
          26.65000009536743,
          26.700000047683716,
          26.75,
          26.799999952316284,
          26.84999990463257,
          26.90000009536743,
          26.950000047683716,
          27,
          27.049999952316284,
          27.09999990463257,
          27.15000009536743,
          27.200000047683716,
          27.25,
          27.299999952316284,
          27.34999990463257,
          27.40000009536743,
          27.450000047683716,
          27.5,
          27.549999952316284,
          27.59999990463257,
          27.65000009536743,
          27.700000047683716,
          27.75,
          27.799999952316284,
          27.84999990463257,
          27.90000009536743,
          27.950000047683716,
          28,
          28.049999952316284,
          28.09999990463257,
          28.15000009536743,
          28.200000047683716,
          28.25,
          28.299999952316284,
          28.34999990463257,
          28.40000009536743,
          28.450000047683716,
          28.5,
          28.549999952316284,
          28.59999990463257,
          28.65000009536743,
          28.700000047683716,
          28.75,
          28.799999952316284,
          28.84999990463257,
          28.90000009536743,
          28.950000047683716,
          29,
          29.049999952316284,
          29.09999990463257,
          29.15000009536743,
          29.200000047683716,
          29.25,
          29.299999952316284,
          29.34999990463257,
          29.40000009536743,
          29.450000047683716,
          29.5,
          29.549999952316284,
          29.59999990463257,
          29.65000009536743,
          29.700000047683716,
          29.75,
          29.799999952316284,
          29.84999990463257,
          29.90000009536743,
          29.950000047683716,
          30,
          30.049999952316284,
          30.09999990463257,
          30.15000009536743,
          30.200000047683716,
          30.25,
          30.299999952316284,
          30.34999990463257,
          30.40000009536743,
          30.450000047683716,
          30.5,
          30.549999952316284,
          30.59999990463257,
          30.65000009536743,
          30.700000047683716,
          30.75,
          30.799999952316284,
          30.84999990463257,
          30.90000009536743,
          30.950000047683716,
          31,
          31.049999952316284,
          31.09999990463257,
          31.15000009536743,
          31.200000047683716,
          31.25,
          31.299999952316284,
          31.34999990463257,
          31.40000009536743,
          31.450000047683716,
          31.5,
          31.549999952316284,
          31.59999990463257,
          31.65000009536743,
          31.700000047683716,
          31.75,
          31.799999952316284,
          31.84999990463257,
          31.90000009536743,
          31.950000047683716,
          32,
          32.049999952316284,
          32.09999990463257,
          32.15000009536743,
          32.200000047683716,
          32.25,
          32.299999952316284,
          32.34999990463257,
          32.40000009536743,
          32.450000047683716,
          32.5,
          32.549999952316284,
          32.59999990463257,
          32.65000009536743,
          32.700000047683716,
          32.75,
          32.799999952316284,
          32.84999990463257,
          32.90000009536743,
          32.950000047683716,
          33,
          33.049999952316284,
          33.09999990463257,
          33.15000009536743,
          33.200000047683716,
          33.25,
          33.299999952316284,
          33.34999990463257,
          33.40000009536743,
          33.450000047683716,
          33.5,
          33.549999952316284,
          33.59999990463257,
          33.65000009536743,
          33.700000047683716,
          33.75,
          33.799999952316284,
          33.84999990463257,
          33.90000009536743,
          33.950000047683716,
          34,
          34.049999952316284,
          34.09999990463257,
          34.15000009536743,
          34.200000047683716,
          34.25,
          34.299999952316284,
          34.34999990463257,
          34.40000009536743,
          34.450000047683716,
          34.5,
          34.549999952316284,
          34.59999990463257,
          34.65000009536743,
          34.700000047683716,
          34.75,
          34.799999952316284,
          34.84999990463257,
          34.90000009536743,
          34.950000047683716,
          35,
          35.049999952316284,
          35.09999990463257,
          35.15000009536743,
          35.200000047683716,
          35.25,
          35.299999952316284,
          35.34999990463257,
          35.40000009536743,
          35.450000047683716,
          35.5,
          35.549999952316284,
          35.59999990463257,
          35.65000009536743,
          35.700000047683716,
          35.75,
          35.799999952316284,
          35.84999990463257,
          35.90000009536743,
          35.950000047683716,
          36,
          36.049999952316284,
          36.09999990463257,
          36.15000009536743,
          36.200000047683716,
          36.25,
          36.299999952316284,
          36.34999990463257,
          36.40000009536743,
          36.450000047683716,
          36.5,
          36.549999952316284,
          36.59999990463257,
          36.65000009536743,
          36.700000047683716,
          36.75,
          36.799999952316284,
          36.84999990463257,
          36.90000009536743,
          36.950000047683716,
          37,
          37.049999952316284,
          37.09999990463257,
          37.15000009536743,
          37.200000047683716,
          37.25,
          37.299999952316284,
          37.34999990463257,
          37.40000009536743,
          37.450000047683716,
          37.5,
          37.549999952316284,
          37.59999990463257,
          37.65000009536743,
          37.700000047683716,
          37.75,
          37.799999952316284,
          37.84999990463257,
          37.90000009536743,
          37.950000047683716,
          38,
          38.049999952316284,
          38.09999990463257,
          38.15000009536743,
          38.200000047683716,
          38.25,
          38.299999952316284,
          38.34999990463257,
          38.40000009536743,
          38.450000047683716,
          38.5,
          38.549999952316284,
          38.59999990463257,
          38.65000009536743,
          38.700000047683716,
          38.75,
          38.799999952316284,
          38.84999990463257,
          38.90000009536743,
          38.950000047683716,
          39,
          39.049999952316284,
          39.09999990463257,
          39.15000009536743,
          39.200000047683716,
          39.25,
          39.299999952316284,
          39.34999990463257,
          39.40000009536743,
          39.450000047683716,
          39.5,
          39.549999952316284,
          39.59999990463257,
          39.65000009536743,
          39.700000047683716,
          39.75,
          39.799999952316284,
          39.84999990463257,
          39.90000009536743,
          39.950000047683716,
          40,
          40.049999952316284,
          40.09999990463257,
          40.15000009536743,
          40.200000047683716,
          40.25,
          40.299999952316284,
          40.34999990463257,
          40.40000009536743,
          40.450000047683716,
          40.5,
          40.549999952316284,
          40.59999990463257,
          40.65000009536743,
          40.700000047683716,
          40.75,
          40.799999952316284,
          40.84999990463257,
          40.90000009536743,
          40.950000047683716,
          41,
          41.049999952316284,
          41.09999990463257,
          41.15000009536743,
          41.200000047683716,
          41.25,
          41.299999952316284,
          41.34999990463257,
          41.40000009536743,
          41.450000047683716,
          41.5,
          41.549999952316284,
          41.59999990463257,
          41.65000009536743,
          41.700000047683716,
          41.75,
          41.799999952316284,
          41.84999990463257,
          41.90000009536743,
          41.950000047683716,
          42,
          42.049999952316284,
          42.09999990463257,
          42.15000009536743,
          42.200000047683716,
          42.25,
          42.299999952316284,
          42.34999990463257,
          42.40000009536743,
          42.450000047683716,
          42.5,
          42.549999952316284,
          42.59999990463257,
          42.65000009536743,
          42.700000047683716,
          42.75,
          42.799999952316284,
          42.84999990463257,
          42.90000009536743,
          42.950000047683716,
          43,
          43.049999952316284,
          43.09999990463257,
          43.15000009536743,
          43.200000047683716,
          43.25,
          43.299999952316284,
          43.34999990463257,
          43.40000009536743,
          43.450000047683716,
          43.5,
          43.549999952316284,
          43.59999990463257,
          43.65000009536743,
          43.700000047683716,
          43.75,
          43.799999952316284,
          43.84999990463257,
          43.90000009536743,
          43.950000047683716,
          44,
          44.049999952316284,
          44.09999990463257,
          44.15000009536743,
          44.200000047683716,
          44.25,
          44.299999952316284,
          44.34999990463257,
          44.40000009536743,
          44.450000047683716,
          44.5,
          44.549999952316284,
          44.59999990463257,
          44.65000009536743,
          44.700000047683716,
          44.75,
          44.799999952316284,
          44.84999990463257,
          44.90000009536743,
          44.950000047683716,
          45,
          45.049999952316284,
          45.09999990463257,
          45.15000009536743,
          45.200000047683716,
          45.25,
          45.299999952316284,
          45.34999990463257,
          45.40000009536743,
          45.450000047683716,
          45.5,
          45.549999952316284,
          45.59999990463257,
          45.65000009536743,
          45.700000047683716,
          45.75,
          45.799999952316284,
          45.84999990463257,
          45.90000009536743,
          45.950000047683716,
          46,
          46.049999952316284,
          46.09999990463257,
          46.15000009536743,
          46.200000047683716,
          46.25,
          46.299999952316284,
          46.34999990463257,
          46.40000009536743,
          46.450000047683716,
          46.5,
          46.549999952316284,
          46.59999990463257,
          46.65000009536743,
          46.700000047683716,
          46.75,
          46.799999952316284,
          46.84999990463257,
          46.90000009536743,
          46.950000047683716,
          47,
          47.049999952316284,
          47.09999990463257,
          47.15000009536743,
          47.200000047683716,
          47.25,
          47.299999952316284,
          47.34999990463257,
          47.40000009536743,
          47.450000047683716,
          47.5,
          47.549999952316284,
          47.59999990463257,
          47.65000009536743,
          47.700000047683716,
          47.75,
          47.799999952316284,
          47.84999990463257,
          47.90000009536743,
          47.950000047683716,
          48,
          48.049999952316284,
          48.09999990463257,
          48.15000009536743,
          48.200000047683716,
          48.25,
          48.299999952316284,
          48.34999990463257,
          48.40000009536743,
          48.450000047683716,
          48.5,
          48.549999952316284,
          48.59999990463257,
          48.65000009536743,
          48.700000047683716,
          48.75,
          48.799999952316284,
          48.84999990463257,
          48.90000009536743,
          48.950000047683716,
          49,
          49.049999952316284,
          49.09999990463257,
          49.15000009536743,
          49.200000047683716,
          49.25,
          49.299999952316284,
          49.34999990463257,
          49.40000009536743,
          49.450000047683716,
          49.5,
          49.549999952316284,
          49.59999990463257,
          49.65000009536743,
          49.700000047683716,
          49.75,
          49.799999952316284,
          49.84999990463257,
          49.90000009536743,
          49.950000047683716,
          50,
          50.049999952316284,
          50.09999990463257,
          50.15000009536743,
          50.200000047683716,
          50.25,
          50.299999952316284,
          50.34999990463257,
          50.40000009536743,
          50.450000047683716,
          50.5,
          50.549999952316284,
          50.59999990463257,
          50.65000009536743,
          50.700000047683716,
          50.75,
          50.799999952316284,
          50.84999990463257,
          50.90000009536743,
          50.950000047683716,
          51,
          51.049999952316284,
          51.09999990463257,
          51.15000009536743,
          51.200000047683716,
          51.25,
          51.299999952316284,
          51.34999990463257,
          51.40000009536743,
          51.450000047683716,
          51.5,
          51.549999952316284,
          51.59999990463257,
          51.65000009536743,
          51.700000047683716,
          51.75,
          51.799999952316284,
          51.84999990463257,
          51.90000009536743,
          51.950000047683716,
          52,
          52.049999952316284,
          52.09999990463257,
          52.15000009536743,
          52.200000047683716,
          52.25,
          52.299999952316284,
          52.34999990463257,
          52.40000009536743,
          52.450000047683716,
          52.5,
          52.549999952316284,
          52.59999990463257,
          52.65000009536743,
          52.700000047683716,
          52.75,
          52.799999952316284,
          52.84999990463257,
          52.90000009536743,
          52.950000047683716,
          53,
          53.049999952316284,
          53.09999990463257,
          53.15000009536743,
          53.200000047683716,
          53.25,
          53.299999952316284,
          53.34999990463257,
          53.40000009536743,
          53.450000047683716,
          53.5,
          53.549999952316284,
          53.59999990463257,
          53.65000009536743,
          53.700000047683716,
          53.75,
          53.799999952316284,
          53.84999990463257,
          53.90000009536743,
          53.950000047683716,
          54,
          54.049999952316284,
          54.09999990463257,
          54.15000009536743,
          54.200000047683716,
          54.25,
          54.299999952316284,
          54.34999990463257,
          54.40000009536743,
          54.450000047683716,
          54.5,
          54.549999952316284,
          54.59999990463257,
          54.65000009536743,
          54.700000047683716,
          54.75,
          54.799999952316284,
          54.84999990463257,
          54.90000009536743,
          54.950000047683716,
          55,
          55.049999952316284,
          55.09999990463257,
          55.15000009536743,
          55.200000047683716,
          55.25,
          55.299999952316284,
          55.34999990463257,
          55.40000009536743,
          55.450000047683716,
          55.5,
          55.549999952316284,
          55.59999990463257,
          55.65000009536743,
          55.700000047683716,
          55.75,
          55.799999952316284,
          55.84999990463257,
          55.90000009536743,
          55.950000047683716,
          56,
          56.049999952316284,
          56.09999990463257,
          56.15000009536743,
          56.200000047683716,
          56.25,
          56.299999952316284,
          56.34999990463257,
          56.40000009536743,
          56.450000047683716,
          56.5,
          56.549999952316284,
          56.59999990463257,
          56.65000009536743,
          56.700000047683716,
          56.75,
          56.799999952316284,
          56.84999990463257,
          56.90000009536743,
          56.950000047683716,
          57,
          57.049999952316284,
          57.09999990463257,
          57.15000009536743,
          57.200000047683716,
          57.25,
          57.299999952316284,
          57.34999990463257,
          57.40000009536743,
          57.450000047683716,
          57.5,
          57.549999952316284,
          57.59999990463257,
          57.65000009536743,
          57.700000047683716,
          57.75,
          57.799999952316284,
          57.84999990463257,
          57.90000009536743,
          57.950000047683716,
          58,
          58.049999952316284,
          58.09999990463257,
          58.15000009536743,
          58.200000047683716,
          58.25,
          58.299999952316284,
          58.34999990463257,
          58.40000009536743,
          58.450000047683716,
          58.5,
          58.549999952316284,
          58.59999990463257,
          58.65000009536743,
          58.700000047683716,
          58.75,
          58.799999952316284,
          58.84999990463257,
          58.90000009536743,
          58.950000047683716,
          59,
          59.049999952316284,
          59.09999990463257,
          59.15000009536743,
          59.200000047683716,
          59.25,
          59.299999952316284,
          59.34999990463257,
          59.40000009536743,
          59.450000047683716,
          59.5,
          59.549999952316284,
          59.59999990463257,
          59.65000009536743,
          59.700000047683716,
          59.75,
          59.799999952316284,
          59.84999990463257,
          59.90000009536743,
          59.950000047683716,
          60,
          60.049999952316284,
          60.09999990463257,
          60.15000009536743,
          60.200000047683716,
          60.25,
          60.299999952316284,
          60.34999990463257,
          60.40000009536743,
          60.450000047683716,
          60.5,
          60.549999952316284,
          60.59999990463257,
          60.65000009536743,
          60.700000047683716,
          60.75,
          60.799999952316284,
          60.84999990463257,
          60.90000009536743,
          60.950000047683716,
          61,
          61.049999952316284,
          61.09999990463257,
          61.15000009536743,
          61.200000047683716,
          61.25,
          61.299999952316284,
          61.34999990463257,
          61.40000009536743,
          61.450000047683716,
          61.5,
          61.549999952316284,
          61.59999990463257,
          61.65000009536743,
          61.700000047683716,
          61.75,
          61.799999952316284,
          61.84999990463257,
          61.90000009536743,
          61.950000047683716,
          62,
          62.049999952316284,
          62.09999990463257,
          62.15000009536743,
          62.200000047683716,
          62.25,
          62.299999952316284,
          62.34999990463257,
          62.40000009536743,
          62.450000047683716,
          62.5,
          62.549999952316284,
          62.59999990463257,
          62.65000009536743,
          62.700000047683716,
          62.75,
          62.799999952316284,
          62.84999990463257,
          62.90000009536743,
          62.950000047683716,
          63,
          63.049999952316284,
          63.09999990463257,
          63.15000009536743,
          63.200000047683716,
          63.25,
          63.299999952316284,
          63.34999990463257,
          63.40000009536743,
          63.450000047683716,
          63.5,
          63.549999952316284,
          63.59999990463257,
          63.65000009536743,
          63.700000047683716,
          63.75,
          63.799999952316284,
          63.84999990463257,
          63.90000009536743,
          63.950000047683716,
          64,
          64.04999995231628,
          64.09999990463257,
          64.15000009536743,
          64.20000004768372,
          64.25,
          64.29999995231628,
          64.34999990463257,
          64.40000009536743,
          64.45000004768372,
          64.5,
          64.54999995231628,
          64.59999990463257,
          64.65000009536743,
          64.70000004768372,
          64.75,
          64.79999995231628,
          64.84999990463257,
          64.90000009536743,
          64.95000004768372,
          65,
          65.04999995231628,
          65.09999990463257,
          65.15000009536743,
          65.20000004768372,
          65.25,
          65.29999995231628,
          65.34999990463257,
          65.40000009536743,
          65.45000004768372,
          65.5,
          65.54999995231628,
          65.59999990463257,
          65.65000009536743,
          65.70000004768372,
          65.75,
          65.79999995231628,
          65.84999990463257,
          65.90000009536743,
          65.95000004768372,
          66,
          66.04999995231628,
          66.09999990463257,
          66.15000009536743,
          66.20000004768372,
          66.25,
          66.29999995231628,
          66.34999990463257,
          66.40000009536743,
          66.45000004768372,
          66.5,
          66.54999995231628,
          66.59999990463257,
          66.65000009536743,
          66.70000004768372,
          66.75,
          66.79999995231628,
          66.84999990463257,
          66.90000009536743,
          66.95000004768372,
          67,
          67.04999995231628,
          67.09999990463257,
          67.15000009536743,
          67.20000004768372,
          67.25,
          67.29999995231628,
          67.34999990463257,
          67.40000009536743,
          67.45000004768372,
          67.5,
          67.54999995231628,
          67.59999990463257,
          67.65000009536743,
          67.70000004768372,
          67.75,
          67.79999995231628,
          67.84999990463257,
          67.90000009536743,
          67.95000004768372,
          68,
          68.04999995231628,
          68.09999990463257,
          68.15000009536743,
          68.20000004768372,
          68.25,
          68.29999995231628,
          68.34999990463257,
          68.40000009536743,
          68.45000004768372,
          68.5,
          68.54999995231628,
          68.59999990463257,
          68.65000009536743,
          68.70000004768372,
          68.75,
          68.79999995231628,
          68.84999990463257,
          68.90000009536743,
          68.95000004768372,
          69,
          69.04999995231628,
          69.09999990463257,
          69.15000009536743,
          69.20000004768372,
          69.25,
          69.29999995231628,
          69.34999990463257,
          69.40000009536743,
          69.45000004768372,
          69.5,
          69.54999995231628,
          69.59999990463257,
          69.65000009536743,
          69.70000004768372,
          69.75,
          69.79999995231628,
          69.84999990463257,
          69.90000009536743,
          69.95000004768372,
          70,
          70.04999995231628,
          70.09999990463257,
          70.15000009536743,
          70.20000004768372,
          70.25,
          70.29999995231628,
          70.34999990463257,
          70.40000009536743,
          70.45000004768372,
          70.5,
          70.54999995231628,
          70.59999990463257,
          70.65000009536743,
          70.70000004768372,
          70.75,
          70.79999995231628,
          70.84999990463257,
          70.90000009536743,
          70.95000004768372,
          71,
          71.04999995231628,
          71.09999990463257,
          71.15000009536743,
          71.20000004768372,
          71.25,
          71.29999995231628,
          71.34999990463257,
          71.40000009536743,
          71.45000004768372,
          71.5,
          71.54999995231628,
          71.59999990463257,
          71.65000009536743,
          71.70000004768372,
          71.75,
          71.79999995231628,
          71.84999990463257,
          71.90000009536743,
          71.95000004768372,
          72,
          72.04999995231628,
          72.09999990463257,
          72.15000009536743,
          72.20000004768372,
          72.25,
          72.29999995231628,
          72.34999990463257,
          72.40000009536743,
          72.45000004768372,
          72.5,
          72.54999995231628,
          72.59999990463257,
          72.65000009536743,
          72.70000004768372,
          72.75,
          72.79999995231628,
          72.84999990463257,
          72.90000009536743,
          72.95000004768372,
          73,
          73.04999995231628,
          73.09999990463257,
          73.15000009536743,
          73.20000004768372,
          73.25,
          73.29999995231628,
          73.34999990463257,
          73.40000009536743,
          73.45000004768372,
          73.5,
          73.54999995231628,
          73.59999990463257,
          73.65000009536743,
          73.70000004768372,
          73.75,
          73.79999995231628,
          73.84999990463257,
          73.90000009536743,
          73.95000004768372,
          74,
          74.04999995231628,
          74.09999990463257,
          74.15000009536743,
          74.20000004768372,
          74.25,
          74.29999995231628,
          74.34999990463257,
          74.40000009536743,
          74.45000004768372,
          74.5,
          74.54999995231628,
          74.59999990463257,
          74.65000009536743,
          74.70000004768372,
          74.75,
          74.79999995231628,
          74.84999990463257,
          74.90000009536743,
          74.95000004768372,
          75,
          75.04999995231628,
          75.09999990463257,
          75.15000009536743,
          75.20000004768372,
          75.25,
          75.29999995231628,
          75.34999990463257,
          75.40000009536743,
          75.45000004768372,
          75.5,
          75.54999995231628,
          75.59999990463257,
          75.65000009536743,
          75.70000004768372,
          75.75,
          75.79999995231628,
          75.84999990463257,
          75.90000009536743,
          75.95000004768372,
          76,
          76.04999995231628,
          76.09999990463257,
          76.15000009536743,
          76.20000004768372,
          76.25,
          76.29999995231628,
          76.34999990463257,
          76.40000009536743,
          76.45000004768372,
          76.5,
          76.54999995231628,
          76.59999990463257,
          76.65000009536743,
          76.70000004768372,
          76.75,
          76.79999995231628,
          76.84999990463257,
          76.90000009536743,
          76.95000004768372,
          77,
          77.04999995231628,
          77.09999990463257,
          77.15000009536743,
          77.20000004768372,
          77.25,
          77.29999995231628,
          77.34999990463257,
          77.40000009536743,
          77.45000004768372,
          77.5,
          77.54999995231628,
          77.59999990463257,
          77.65000009536743,
          77.70000004768372,
          77.75,
          77.79999995231628,
          77.84999990463257,
          77.90000009536743,
          77.95000004768372,
          78,
          78.04999995231628,
          78.09999990463257,
          78.15000009536743,
          78.20000004768372,
          78.25,
          78.29999995231628,
          78.34999990463257,
          78.40000009536743,
          78.45000004768372,
          78.5,
          78.54999995231628,
          78.59999990463257,
          78.65000009536743,
          78.70000004768372,
          78.75,
          78.79999995231628,
          78.84999990463257,
          78.90000009536743,
          78.95000004768372,
          79,
          79.04999995231628,
          79.09999990463257,
          79.15000009536743,
          79.20000004768372,
          79.25,
          79.29999995231628,
          79.34999990463257,
          79.40000009536743,
          79.45000004768372,
          79.5,
          79.54999995231628,
          79.59999990463257,
          79.65000009536743,
          79.70000004768372,
          79.75,
          79.79999995231628,
          79.84999990463257,
          79.90000009536743,
          79.95000004768372,
          80,
          80.04999995231628,
          80.09999990463257,
          80.15000009536743,
          80.20000004768372,
          80.25,
          80.29999995231628,
          80.34999990463257,
          80.40000009536743,
          80.45000004768372,
          80.5,
          80.54999995231628,
          80.59999990463257,
          80.65000009536743,
          80.70000004768372,
          80.75,
          80.79999995231628,
          80.84999990463257,
          80.90000009536743,
          80.95000004768372,
          81,
          81.04999995231628,
          81.09999990463257,
          81.15000009536743,
          81.20000004768372,
          81.25,
          81.29999995231628,
          81.34999990463257,
          81.40000009536743,
          81.45000004768372,
          81.5,
          81.54999995231628,
          81.59999990463257,
          81.65000009536743,
          81.70000004768372,
          81.75,
          81.79999995231628,
          81.84999990463257,
          81.90000009536743,
          81.95000004768372,
          82,
          82.04999995231628,
          82.09999990463257,
          82.15000009536743,
          82.20000004768372,
          82.25,
          82.29999995231628,
          82.34999990463257,
          82.40000009536743,
          82.45000004768372,
          82.5,
          82.54999995231628,
          82.59999990463257,
          82.65000009536743,
          82.70000004768372,
          82.75,
          82.79999995231628,
          82.84999990463257,
          82.90000009536743,
          82.95000004768372,
          83,
          83.04999995231628,
          83.09999990463257,
          83.15000009536743,
          83.20000004768372,
          83.25,
          83.29999995231628,
          83.34999990463257,
          83.40000009536743,
          83.45000004768372,
          83.5,
          83.54999995231628,
          83.59999990463257,
          83.65000009536743,
          83.70000004768372,
          83.75,
          83.79999995231628,
          83.84999990463257,
          83.90000009536743,
          83.95000004768372,
          84,
          84.04999995231628,
          84.09999990463257,
          84.15000009536743,
          84.20000004768372,
          84.25,
          84.29999995231628,
          84.34999990463257,
          84.40000009536743,
          84.45000004768372,
          84.5,
          84.54999995231628,
          84.59999990463257,
          84.65000009536743,
          84.70000004768372,
          84.75,
          84.79999995231628,
          84.84999990463257,
          84.90000009536743,
          84.95000004768372,
          85,
          85.04999995231628,
          85.09999990463257,
          85.15000009536743,
          85.20000004768372,
          85.25,
          85.29999995231628,
          85.34999990463257,
          85.40000009536743,
          85.45000004768372,
          85.5,
          85.54999995231628,
          85.59999990463257,
          85.65000009536743,
          85.70000004768372,
          85.75,
          85.79999995231628,
          85.84999990463257,
          85.90000009536743,
          85.95000004768372,
          86,
          86.04999995231628,
          86.09999990463257,
          86.15000009536743,
          86.20000004768372,
          86.25,
          86.29999995231628,
          86.34999990463257,
          86.40000009536743,
          86.45000004768372,
          86.5,
          86.54999995231628,
          86.59999990463257,
          86.65000009536743,
          86.70000004768372,
          86.75,
          86.79999995231628,
          86.84999990463257,
          86.90000009536743,
          86.95000004768372,
          87,
          87.04999995231628,
          87.09999990463257,
          87.15000009536743,
          87.20000004768372,
          87.25,
          87.29999995231628,
          87.34999990463257,
          87.40000009536743,
          87.45000004768372,
          87.5,
          87.54999995231628,
          87.59999990463257,
          87.65000009536743,
          87.70000004768372,
          87.75,
          87.79999995231628,
          87.84999990463257,
          87.90000009536743,
          87.95000004768372,
          88,
          88.04999995231628,
          88.09999990463257,
          88.15000009536743,
          88.20000004768372,
          88.25,
          88.29999995231628,
          88.34999990463257,
          88.40000009536743,
          88.45000004768372,
          88.5,
          88.54999995231628,
          88.59999990463257,
          88.65000009536743,
          88.70000004768372,
          88.75,
          88.79999995231628,
          88.84999990463257,
          88.90000009536743,
          88.95000004768372,
          89,
          89.04999995231628,
          89.09999990463257,
          89.15000009536743,
          89.20000004768372,
          89.25,
          89.29999995231628,
          89.34999990463257,
          89.40000009536743,
          89.45000004768372,
          89.5,
          89.54999995231628,
          89.59999990463257,
          89.65000009536743,
          89.70000004768372,
          89.75,
          89.79999995231628,
          89.84999990463257,
          89.90000009536743,
          89.95000004768372,
          90,
          90.04999995231628,
          90.09999990463257,
          90.15000009536743,
          90.20000004768372,
          90.25,
          90.29999995231628,
          90.34999990463257,
          90.40000009536743,
          90.45000004768372,
          90.5,
          90.54999995231628,
          90.59999990463257,
          90.65000009536743,
          90.70000004768372,
          90.75,
          90.79999995231628,
          90.84999990463257,
          90.90000009536743,
          90.95000004768372,
          91,
          91.04999995231628,
          91.09999990463257,
          91.15000009536743,
          91.20000004768372,
          91.25,
          91.29999995231628,
          91.34999990463257,
          91.40000009536743,
          91.45000004768372,
          91.5,
          91.54999995231628,
          91.59999990463257,
          91.65000009536743,
          91.70000004768372,
          91.75,
          91.79999995231628,
          91.84999990463257,
          91.90000009536743,
          91.95000004768372,
          92,
          92.04999995231628,
          92.09999990463257,
          92.15000009536743,
          92.20000004768372,
          92.25,
          92.29999995231628,
          92.34999990463257,
          92.40000009536743,
          92.45000004768372,
          92.5,
          92.54999995231628,
          92.59999990463257,
          92.65000009536743,
          92.70000004768372,
          92.75,
          92.79999995231628,
          92.84999990463257,
          92.90000009536743,
          92.95000004768372,
          93,
          93.04999995231628,
          93.09999990463257,
          93.15000009536743,
          93.20000004768372,
          93.25,
          93.29999995231628,
          93.34999990463257,
          93.40000009536743,
          93.45000004768372,
          93.5,
          93.54999995231628,
          93.59999990463257,
          93.65000009536743,
          93.70000004768372,
          93.75,
          93.79999995231628,
          93.84999990463257,
          93.90000009536743,
          93.95000004768372,
          94,
          94.04999995231628,
          94.09999990463257,
          94.15000009536743,
          94.20000004768372,
          94.25,
          94.29999995231628,
          94.34999990463257,
          94.40000009536743,
          94.45000004768372,
          94.5,
          94.54999995231628,
          94.59999990463257,
          94.65000009536743,
          94.70000004768372,
          94.75,
          94.79999995231628,
          94.84999990463257,
          94.90000009536743,
          94.95000004768372,
          95,
          95.04999995231628,
          95.09999990463257,
          95.15000009536743,
          95.20000004768372,
          95.25,
          95.29999995231628,
          95.34999990463257,
          95.40000009536743,
          95.45000004768372,
          95.5,
          95.54999995231628,
          95.59999990463257,
          95.65000009536743,
          95.70000004768372,
          95.75,
          95.79999995231628,
          95.84999990463257,
          95.90000009536743,
          95.95000004768372,
          96,
          96.04999995231628,
          96.09999990463257,
          96.15000009536743,
          96.20000004768372,
          96.25,
          96.29999995231628,
          96.34999990463257,
          96.40000009536743,
          96.45000004768372,
          96.5,
          96.54999995231628,
          96.59999990463257,
          96.65000009536743,
          96.70000004768372,
          96.75,
          96.79999995231628,
          96.84999990463257,
          96.90000009536743,
          96.95000004768372,
          97,
          97.04999995231628,
          97.09999990463257,
          97.15000009536743,
          97.20000004768372,
          97.25,
          97.29999995231628,
          97.34999990463257,
          97.40000009536743,
          97.45000004768372,
          97.5,
          97.54999995231628,
          97.59999990463257,
          97.65000009536743,
          97.70000004768372,
          97.75,
          97.79999995231628,
          97.84999990463257,
          97.90000009536743,
          97.95000004768372,
          98,
          98.04999995231628,
          98.09999990463257,
          98.15000009536743,
          98.20000004768372,
          98.25,
          98.29999995231628,
          98.34999990463257,
          98.40000009536743,
          98.45000004768372,
          98.5,
          98.54999995231628,
          98.59999990463257,
          98.65000009536743,
          98.70000004768372,
          98.75,
          98.79999995231628,
          98.84999990463257,
          98.90000009536743,
          98.95000004768372,
          99,
          99.04999995231628,
          99.09999990463257,
          99.15000009536743,
          99.20000004768372,
          99.25,
          99.29999995231628,
          99.34999990463257,
          99.40000009536743,
          99.45000004768372,
          99.5,
          99.54999995231628,
          99.59999990463257,
          99.65000009536743,
          99.70000004768372,
          99.75,
          99.79999995231628,
          99.84999990463257,
          99.90000009536743,
          99.95000004768372,
          100,
          100.04999995231628,
          100.09999990463257,
          100.15000009536743,
          100.20000004768372,
          100.25,
          100.29999995231628,
          100.34999990463257,
          100.40000009536743,
          100.45000004768372,
          100.5,
          100.54999995231628,
          100.59999990463257,
          100.65000009536743,
          100.70000004768372,
          100.75,
          100.79999995231628,
          100.84999990463257,
          100.90000009536743,
          100.95000004768372,
          101,
          101.04999995231628,
          101.09999990463257,
          101.15000009536743,
          101.20000004768372,
          101.25,
          101.29999995231628,
          101.34999990463257,
          101.40000009536743,
          101.45000004768372,
          101.5,
          101.54999995231628,
          101.59999990463257,
          101.65000009536743,
          101.70000004768372,
          101.75,
          101.79999995231628,
          101.84999990463257,
          101.90000009536743,
          101.95000004768372,
          102,
          102.04999995231628,
          102.09999990463257,
          102.15000009536743,
          102.20000004768372,
          102.25,
          102.29999995231628,
          102.34999990463257,
          102.40000009536743,
          102.45000004768372,
          102.5,
          102.54999995231628,
          102.59999990463257,
          102.65000009536743,
          102.70000004768372,
          102.75,
          102.79999995231628,
          102.84999990463257,
          102.90000009536743,
          102.95000004768372,
          103,
          103.04999995231628,
          103.09999990463257,
          103.15000009536743,
          103.20000004768372,
          103.25,
          103.29999995231628,
          103.34999990463257,
          103.40000009536743,
          103.45000004768372,
          103.5,
          103.54999995231628,
          103.59999990463257,
          103.65000009536743,
          103.70000004768372,
          103.75,
          103.79999995231628,
          103.84999990463257,
          103.90000009536743,
          103.95000004768372,
          104,
          104.04999995231628,
          104.09999990463257,
          104.15000009536743,
          104.20000004768372,
          104.25,
          104.29999995231628,
          104.34999990463257,
          104.40000009536743,
          104.45000004768372,
          104.5,
          104.54999995231628,
          104.59999990463257,
          104.65000009536743,
          104.70000004768372,
          104.75,
          104.79999995231628,
          104.84999990463257,
          104.90000009536743,
          104.95000004768372,
          105,
          105.04999995231628,
          105.09999990463257,
          105.15000009536743,
          105.20000004768372,
          105.25,
          105.29999995231628,
          105.34999990463257,
          105.40000009536743,
          105.45000004768372,
          105.5,
          105.54999995231628,
          105.59999990463257,
          105.65000009536743,
          105.70000004768372,
          105.75,
          105.79999995231628,
          105.84999990463257,
          105.90000009536743,
          105.95000004768372,
          106,
          106.04999995231628,
          106.09999990463257,
          106.15000009536743,
          106.20000004768372,
          106.25,
          106.29999995231628,
          106.34999990463257,
          106.40000009536743,
          106.45000004768372,
          106.5,
          106.54999995231628,
          106.59999990463257,
          106.65000009536743,
          106.70000004768372,
          106.75,
          106.79999995231628,
          106.84999990463257,
          106.90000009536743,
          106.95000004768372,
          107,
          107.04999995231628,
          107.09999990463257,
          107.15000009536743,
          107.20000004768372,
          107.25,
          107.29999995231628,
          107.34999990463257,
          107.40000009536743,
          107.45000004768372,
          107.5,
          107.54999995231628,
          107.59999990463257,
          107.65000009536743,
          107.70000004768372,
          107.75,
          107.79999995231628,
          107.84999990463257,
          107.90000009536743,
          107.95000004768372,
          108,
          108.04999995231628,
          108.09999990463257,
          108.15000009536743,
          108.20000004768372,
          108.25,
          108.29999995231628,
          108.34999990463257,
          108.40000009536743,
          108.45000004768372,
          108.5,
          108.54999995231628,
          108.59999990463257,
          108.65000009536743,
          108.70000004768372,
          108.75,
          108.79999995231628,
          108.84999990463257,
          108.90000009536743,
          108.95000004768372,
          109,
          109.04999995231628,
          109.09999990463257,
          109.15000009536743,
          109.20000004768372,
          109.25,
          109.29999995231628,
          109.34999990463257,
          109.40000009536743,
          109.45000004768372,
          109.5,
          109.54999995231628,
          109.59999990463257,
          109.65000009536743,
          109.70000004768372,
          109.75,
          109.79999995231628,
          109.84999990463257,
          109.90000009536743,
          109.95000004768372,
          110,
          110.04999995231628,
          110.09999990463257,
          110.15000009536743,
          110.20000004768372,
          110.25,
          110.29999995231628,
          110.34999990463257,
          110.40000009536743,
          110.45000004768372,
          110.5,
          110.54999995231628,
          110.59999990463257,
          110.65000009536743,
          110.70000004768372,
          110.75,
          110.79999995231628,
          110.84999990463257,
          110.90000009536743,
          110.95000004768372,
          111,
          111.04999995231628,
          111.09999990463257,
          111.15000009536743,
          111.20000004768372,
          111.25,
          111.29999995231628,
          111.34999990463257,
          111.40000009536743,
          111.45000004768372,
          111.5,
          111.54999995231628,
          111.59999990463257,
          111.65000009536743,
          111.70000004768372,
          111.75,
          111.79999995231628,
          111.84999990463257,
          111.90000009536743,
          111.95000004768372,
          112,
          112.04999995231628,
          112.09999990463257,
          112.15000009536743,
          112.20000004768372,
          112.25,
          112.29999995231628,
          112.34999990463257,
          112.40000009536743,
          112.45000004768372,
          112.5,
          112.54999995231628,
          112.59999990463257,
          112.65000009536743,
          112.70000004768372,
          112.75,
          112.79999995231628,
          112.84999990463257,
          112.90000009536743,
          112.95000004768372,
          113,
          113.04999995231628,
          113.09999990463257,
          113.15000009536743,
          113.20000004768372,
          113.25,
          113.29999995231628,
          113.34999990463257,
          113.40000009536743,
          113.45000004768372,
          113.5,
          113.54999995231628,
          113.59999990463257,
          113.65000009536743,
          113.70000004768372,
          113.75,
          113.79999995231628,
          113.84999990463257,
          113.90000009536743,
          113.95000004768372,
          114,
          114.04999995231628,
          114.09999990463257,
          114.15000009536743,
          114.20000004768372,
          114.25,
          114.29999995231628,
          114.34999990463257,
          114.40000009536743,
          114.45000004768372,
          114.5,
          114.54999995231628,
          114.59999990463257,
          114.65000009536743,
          114.70000004768372,
          114.75,
          114.79999995231628,
          114.84999990463257,
          114.90000009536743,
          114.95000004768372,
          115,
          115.04999995231628,
          115.09999990463257,
          115.15000009536743,
          115.20000004768372,
          115.25,
          115.29999995231628,
          115.34999990463257,
          115.40000009536743,
          115.45000004768372,
          115.5,
          115.54999995231628,
          115.59999990463257,
          115.65000009536743,
          115.70000004768372,
          115.75,
          115.79999995231628,
          115.84999990463257,
          115.90000009536743,
          115.95000004768372,
          116,
          116.04999995231628,
          116.09999990463257,
          116.15000009536743,
          116.20000004768372,
          116.25,
          116.29999995231628,
          116.34999990463257,
          116.40000009536743,
          116.45000004768372,
          116.5,
          116.54999995231628,
          116.59999990463257,
          116.65000009536743,
          116.70000004768372,
          116.75,
          116.79999995231628,
          116.84999990463257,
          116.90000009536743,
          116.95000004768372,
          117,
          117.04999995231628,
          117.09999990463257,
          117.15000009536743,
          117.20000004768372,
          117.25,
          117.29999995231628,
          117.34999990463257,
          117.40000009536743,
          117.45000004768372,
          117.5,
          117.54999995231628,
          117.59999990463257,
          117.65000009536743,
          117.70000004768372,
          117.75,
          117.79999995231628,
          117.84999990463257,
          117.90000009536743,
          117.95000004768372,
          118,
          118.04999995231628,
          118.09999990463257,
          118.15000009536743,
          118.20000004768372,
          118.25,
          118.29999995231628,
          118.34999990463257,
          118.40000009536743,
          118.45000004768372,
          118.5,
          118.54999995231628,
          118.59999990463257,
          118.65000009536743,
          118.70000004768372,
          118.75,
          118.79999995231628,
          118.84999990463257,
          118.90000009536743,
          118.95000004768372,
          119,
          119.04999995231628,
          119.09999990463257,
          119.15000009536743,
          119.20000004768372,
          119.25,
          119.29999995231628,
          119.34999990463257,
          119.40000009536743,
          119.45000004768372,
          119.5,
          119.54999995231628,
          119.59999990463257,
          119.65000009536743,
          119.70000004768372,
          119.75,
          119.79999995231628,
          119.84999990463257,
          119.90000009536743,
          119.95000004768372,
          120,
          120.04999995231628,
          120.09999990463257,
          120.15000009536743,
          120.20000004768372,
          120.25,
          120.29999995231628,
          120.34999990463257,
          120.40000009536743,
          120.45000004768372,
          120.5,
          120.54999995231628,
          120.59999990463257,
          120.65000009536743,
          120.70000004768372,
          120.75,
          120.79999995231628,
          120.84999990463257,
          120.90000009536743,
          120.95000004768372,
          121,
          121.04999995231628,
          121.09999990463257,
          121.15000009536743,
          121.20000004768372,
          121.25,
          121.29999995231628,
          121.34999990463257,
          121.40000009536743,
          121.45000004768372,
          121.5,
          121.54999995231628,
          121.59999990463257,
          121.65000009536743,
          121.70000004768372,
          121.75,
          121.79999995231628,
          121.84999990463257,
          121.90000009536743,
          121.95000004768372,
          122,
          122.04999995231628,
          122.09999990463257,
          122.15000009536743,
          122.20000004768372,
          122.25,
          122.29999995231628,
          122.34999990463257,
          122.40000009536743,
          122.45000004768372,
          122.5,
          122.54999995231628,
          122.59999990463257,
          122.65000009536743,
          122.70000004768372,
          122.75,
          122.79999995231628,
          122.84999990463257,
          122.90000009536743,
          122.95000004768372,
          123,
          123.04999995231628,
          123.09999990463257,
          123.15000009536743,
          123.20000004768372,
          123.25,
          123.29999995231628,
          123.34999990463257,
          123.40000009536743,
          123.45000004768372,
          123.5,
          123.54999995231628,
          123.59999990463257,
          123.65000009536743,
          123.70000004768372,
          123.75,
          123.79999995231628,
          123.84999990463257,
          123.90000009536743,
          123.95000004768372,
          124,
          124.04999995231628,
          124.09999990463257,
          124.15000009536743,
          124.20000004768372,
          124.25,
          124.29999995231628,
          124.34999990463257,
          124.40000009536743,
          124.45000004768372,
          124.5,
          124.54999995231628,
          124.59999990463257,
          124.65000009536743,
          124.70000004768372,
          124.75,
          124.79999995231628,
          124.84999990463257,
          124.90000009536743,
          124.95000004768372,
          125,
          125.04999995231628,
          125.09999990463257,
          125.15000009536743,
          125.20000004768372,
          125.25,
          125.29999995231628,
          125.34999990463257,
          125.40000009536743,
          125.45000004768372,
          125.5,
          125.54999995231628,
          125.59999990463257,
          125.65000009536743,
          125.70000004768372,
          125.75,
          125.79999995231628,
          125.84999990463257,
          125.90000009536743,
          125.95000004768372,
          126,
          126.04999995231628,
          126.09999990463257,
          126.15000009536743,
          126.20000004768372,
          126.25,
          126.29999995231628,
          126.34999990463257,
          126.40000009536743,
          126.45000004768372,
          126.5,
          126.54999995231628,
          126.59999990463257,
          126.65000009536743,
          126.70000004768372,
          126.75,
          126.79999995231628,
          126.84999990463257,
          126.90000009536743,
          126.95000004768372,
          127,
          127.04999995231628,
          127.09999990463257,
          127.15000009536743,
          127.20000004768372,
          127.25,
          127.29999995231628,
          127.34999990463257,
          127.40000009536743,
          127.45000004768372,
          127.5,
          127.54999995231628,
          127.59999990463257,
          127.65000009536743,
          127.70000004768372,
          127.75,
          127.79999995231628,
          127.84999990463257,
          127.90000009536743,
          127.95000004768372,
          128,
          128.04999995231628,
          128.09999990463257,
          128.15000009536743,
          128.20000004768372,
          128.25,
          128.29999995231628,
          128.34999990463257,
          128.40000009536743,
          128.45000004768372,
          128.5,
          128.54999995231628,
          128.59999990463257,
          128.65000009536743,
          128.70000004768372,
          128.75,
          128.79999995231628,
          128.84999990463257,
          128.90000009536743,
          128.95000004768372,
          129,
          129.04999995231628,
          129.09999990463257,
          129.15000009536743,
          129.20000004768372,
          129.25,
          129.29999995231628,
          129.34999990463257,
          129.40000009536743,
          129.45000004768372,
          129.5,
          129.54999995231628,
          129.59999990463257,
          129.65000009536743,
          129.70000004768372,
          129.75,
          129.79999995231628,
          129.84999990463257,
          129.90000009536743,
          129.95000004768372,
          130,
          130.04999995231628,
          130.09999990463257,
          130.15000009536743,
          130.20000004768372,
          130.25,
          130.29999995231628,
          130.34999990463257,
          130.40000009536743,
          130.45000004768372,
          130.5,
          130.54999995231628,
          130.59999990463257,
          130.65000009536743,
          130.70000004768372,
          130.75,
          130.79999995231628,
          130.84999990463257,
          130.90000009536743,
          130.95000004768372,
          131,
          131.04999995231628,
          131.09999990463257,
          131.15000009536743,
          131.20000004768372,
          131.25,
          131.29999995231628,
          131.34999990463257,
          131.40000009536743,
          131.45000004768372,
          131.5,
          131.54999995231628,
          131.59999990463257,
          131.65000009536743,
          131.70000004768372,
          131.75,
          131.79999995231628,
          131.84999990463257,
          131.90000009536743,
          131.95000004768372,
          132,
          132.04999995231628,
          132.09999990463257,
          132.15000009536743,
          132.20000004768372,
          132.25,
          132.29999995231628,
          132.34999990463257,
          132.40000009536743,
          132.45000004768372,
          132.5,
          132.54999995231628,
          132.59999990463257,
          132.65000009536743,
          132.70000004768372,
          132.75,
          132.79999995231628,
          132.84999990463257,
          132.90000009536743,
          132.95000004768372,
          133,
          133.04999995231628,
          133.09999990463257,
          133.15000009536743,
          133.20000004768372,
          133.25,
          133.29999995231628,
          133.34999990463257,
          133.40000009536743,
          133.45000004768372,
          133.5,
          133.54999995231628,
          133.59999990463257,
          133.65000009536743,
          133.70000004768372,
          133.75,
          133.79999995231628,
          133.84999990463257,
          133.90000009536743,
          133.95000004768372,
          134,
          134.04999995231628,
          134.09999990463257,
          134.15000009536743,
          134.20000004768372,
          134.25,
          134.29999995231628,
          134.34999990463257,
          134.40000009536743,
          134.45000004768372,
          134.5,
          134.54999995231628,
          134.59999990463257,
          134.65000009536743,
          134.70000004768372,
          134.75,
          134.79999995231628,
          134.84999990463257,
          134.90000009536743,
          134.95000004768372,
          135,
          135.04999995231628,
          135.09999990463257,
          135.15000009536743,
          135.20000004768372,
          135.25,
          135.29999995231628,
          135.34999990463257,
          135.40000009536743,
          135.45000004768372,
          135.5,
          135.54999995231628,
          135.59999990463257,
          135.65000009536743,
          135.70000004768372,
          135.75,
          135.79999995231628,
          135.84999990463257,
          135.90000009536743,
          135.95000004768372,
          136,
          136.04999995231628,
          136.09999990463257,
          136.15000009536743,
          136.20000004768372,
          136.25,
          136.29999995231628,
          136.34999990463257,
          136.40000009536743,
          136.45000004768372,
          136.5,
          136.54999995231628,
          136.59999990463257,
          136.65000009536743,
          136.70000004768372,
          136.75,
          136.79999995231628,
          136.84999990463257,
          136.90000009536743,
          136.95000004768372,
          137,
          137.04999995231628,
          137.09999990463257,
          137.15000009536743,
          137.20000004768372,
          137.25,
          137.29999995231628,
          137.34999990463257,
          137.40000009536743,
          137.45000004768372,
          137.5,
          137.54999995231628,
          137.59999990463257,
          137.65000009536743,
          137.70000004768372,
          137.75,
          137.79999995231628,
          137.84999990463257,
          137.90000009536743,
          137.95000004768372,
          138,
          138.04999995231628,
          138.09999990463257,
          138.15000009536743,
          138.20000004768372,
          138.25,
          138.29999995231628,
          138.34999990463257,
          138.40000009536743,
          138.45000004768372,
          138.5,
          138.54999995231628,
          138.59999990463257,
          138.65000009536743,
          138.70000004768372,
          138.75,
          138.79999995231628,
          138.84999990463257,
          138.90000009536743,
          138.95000004768372
         ],
         "y": [
          0.07305869366551956,
          0.07404840909016402,
          0.07445129909855848,
          0.07436022092914435,
          0.07418678282340804,
          0.07456901760044127,
          0.07393105565769252,
          0.07294235750574123,
          0.07357569862027462,
          0.07436394354713204,
          0.07348821667755041,
          0.07224152693894854,
          0.07387615217197413,
          0.07366268185503116,
          0.07452260251602348,
          0.07575264014984628,
          0.07538011559494999,
          0.07435104401135012,
          0.07439035731138414,
          0.07493178333565506,
          0.07675239379055994,
          0.07574687212109182,
          0.07551560514964177,
          0.07467786255728366,
          0.07581186975410215,
          0.07524549185866976,
          0.07556250415121595,
          0.07572294988112964,
          0.07576244095281187,
          0.07657051852039862,
          0.0753027773899572,
          0.07376068478363482,
          0.07542924352072937,
          0.07428322105290108,
          0.07312072562783208,
          0.0711591586797661,
          0.06970565803707725,
          0.06983412066193771,
          0.0697020299633979,
          0.06776128217271854,
          0.06600101976303546,
          0.06678615075195317,
          0.06362142417986888,
          0.060248056500595656,
          0.05877568856155447,
          0.06114113315465566,
          0.058237930684543665,
          0.057924432946599644,
          0.05783312792002553,
          0.06066206733986663,
          0.057967501331878335,
          0.05466904906782204,
          0.05578028449520337,
          0.05595777172483699,
          0.05395616305857019,
          0.051508766820378894,
          0.051737297986043,
          0.05057683475680458,
          0.0463427740905362,
          0.04468971653842877,
          0.043007326353454306,
          0.04236361124257988,
          0.04268553564339354,
          0.04645726311129562,
          0.041453892904098504,
          0.03975166119552221,
          0.043665686528875994,
          0.04193702228438748,
          0.04397999540988371,
          0.043380890111743925,
          0.04087069957017359,
          0.04305096276093413,
          0.04179427551452715,
          0.03918123767281973,
          0.04142329851529488,
          0.04364726551953401,
          0.0423609538769284,
          0.046623536726768756,
          0.04318804367978156,
          0.04628794523580284,
          0.046810951566411484,
          0.055819146662299104,
          0.05436200403301481,
          0.05814851615863336,
          0.05154366150062453,
          0.05474620598348163,
          0.05471254299766947,
          0.05749299149342386,
          0.06242613601873712,
          0.06231117176064499,
          0.059859542779625824,
          0.06329701621966279,
          0.060812456911696136,
          0.06407667865963683,
          0.06372192392862555,
          0.061452707117872096,
          0.06515502049837649,
          0.06352816389495364,
          0.06644330445603032,
          0.06777549969009644,
          0.06693749797601903,
          0.06528860178057344,
          0.06525636982545822,
          0.06464798902568585,
          0.0653613035228294,
          0.06555554538477411,
          0.06526356287861626,
          0.06141792162066261,
          0.06272894317792181,
          0.06246826671453559,
          0.06215680123220497,
          0.06258434865796546,
          0.06245635249463213,
          0.0596703182073692,
          0.05947686762252745,
          0.06033962026786941,
          0.060224007580424566,
          0.058634875130459105,
          0.057264080492388826,
          0.059508102256992025,
          0.06053512860176434,
          0.06232775135800184,
          0.06284700859303934,
          0.0655748926610457,
          0.06758020319278757,
          0.0651627411256338,
          0.06558504661108108,
          0.06658370631140136,
          0.06776489635441937,
          0.0693017767286699,
          0.06859116672717513,
          0.06901123656574223,
          0.07084298177309008,
          0.07263839831572319,
          0.07381869647215357,
          0.06983837977264039,
          0.07078729207821505,
          0.07117157166585199,
          0.07084927098051558,
          0.06987462170309974,
          0.06919362054581729,
          0.06985241641911831,
          0.07156636599856442,
          0.06930421895727586,
          0.06909353276239359,
          0.06818910750056231,
          0.07010609338894977,
          0.07022811886761182,
          0.07005924414187853,
          0.07074706636482593,
          0.07131554929620941,
          0.07152385227532836,
          0.07156942301940213,
          0.06974181455039274,
          0.07202695736739669,
          0.07228354881628675,
          0.07180735873065212,
          0.07329935904000245,
          0.07550425969775311,
          0.07455956496302896,
          0.07561833369193664,
          0.07897352588308966,
          0.07955925207916668,
          0.07998947178397199,
          0.0813707732055055,
          0.07974590613906485,
          0.08161759145751425,
          0.08051010754462075,
          0.08010838844108002,
          0.0825949540833198,
          0.08238576871364382,
          0.08355485042240242,
          0.08242863720663961,
          0.08171800998636793,
          0.08389632292524464,
          0.08033149283839362,
          0.08218831347288431,
          0.08578309837888311,
          0.08715330153021349,
          0.08662708537584259,
          0.0872636766985604,
          0.09367127930187301,
          0.09530626974423284,
          0.09611379764557078,
          0.09710957688995826,
          0.09721654116342428,
          0.09988257211874411,
          0.10092485868961866,
          0.1005563172602402,
          0.10001892560234063,
          0.10062225721774117,
          0.10059140127314788,
          0.09947663362521213,
          0.10278247425342679,
          0.10316567544306678,
          0.10460609414660506,
          0.10402844174802396,
          0.10484702200275836,
          0.1041509076113781,
          0.1031880361802629,
          0.10305709063407481,
          0.10327934758806273,
          0.1054713789190914,
          0.10477500426803765,
          0.1057795690436881,
          0.10374884020844488,
          0.10605449354254638,
          0.10619340287730682,
          0.10623512029829682,
          0.10903793506626566,
          0.11019312301780611,
          0.10941825415978479,
          0.11243587228904788,
          0.11265809005960847,
          0.11286406593353868,
          0.11351419808884562,
          0.11534432225584164,
          0.11589020912674634,
          0.11573203383410305,
          0.11643682797309628,
          0.11680976661197387,
          0.11670549460571991,
          0.11620592100568443,
          0.11745808568724278,
          0.11657750126957989,
          0.11622881373589987,
          0.11588623446503564,
          0.1155063819305184,
          0.1157952135919251,
          0.11456172848425343,
          0.11454224433835605,
          0.11526024154017041,
          0.11544734355581986,
          0.11482519699987591,
          0.1149932506786039,
          0.11586975317682918,
          0.11515418741902621,
          0.11523907458826745,
          0.11622761496358844,
          0.11637671268854662,
          0.11841762064095314,
          0.11693050123728517,
          0.11671308223391405,
          0.11718437878208268,
          0.11618487350231724,
          0.12024545350412322,
          0.11925832528978032,
          0.11845501461470072,
          0.12055119232993235,
          0.11721250137276976,
          0.11983347940597447,
          0.12020549294795979,
          0.11975166863504763,
          0.11940184778831243,
          0.1186128634924592,
          0.12207441568164835,
          0.12150831567278077,
          0.124471914232956,
          0.12257607543778795,
          0.12481372098543868,
          0.12425595427136255,
          0.12290277500935817,
          0.12385991353908435,
          0.12621897725731612,
          0.12063333187493012,
          0.12509284196924447,
          0.12436778298919328,
          0.12476063854413746,
          0.12390905170991495,
          0.12149268801243773,
          0.12250509947135092,
          0.12364200922623557,
          0.12125983768238593,
          0.1228480510395261,
          0.12090522010269882,
          0.11848769514058835,
          0.117812992307623,
          0.11495197685806252,
          0.11413582899809946,
          0.11071200311923957,
          0.10820112963135406,
          0.10610646317984167,
          0.10669536171946577,
          0.10343214615473102,
          0.10236238658251397,
          0.10038846900111488,
          0.10018009395853104,
          0.10049876310932727,
          0.1011356178213241,
          0.09634594346015785,
          0.09892462113406171,
          0.09614870147141466,
          0.09616829133850555,
          0.09384643555554015,
          0.09437331917632491,
          0.09195538310486466,
          0.09158317303395513,
          0.0922527090335846,
          0.0882431834647058,
          0.08779214000332873,
          0.08603992209697607,
          0.08396596274054607,
          0.08321673561438928,
          0.08239667687975613,
          0.0816525853401504,
          0.07894454460680182,
          0.08024321884890544,
          0.08281790720612466,
          0.07810660060982093,
          0.07455245333693128,
          0.07483588224957967,
          0.07417124643758258,
          0.07587265937174195,
          0.0758663670891162,
          0.0724453311806781,
          0.06925143577075474,
          0.07056940317541098,
          0.06667099898427932,
          0.06736390925652233,
          0.06433073246535112,
          0.06634482126288653,
          0.06383151150195239,
          0.06094256687311256,
          0.0625744520762539,
          0.061207242708964195,
          0.059673388560091606,
          0.05858373553897998,
          0.0576331103532736,
          0.05737707598138005,
          0.05750887018748623,
          0.058074966891497715,
          0.05402655046354646,
          0.05604111119240332,
          0.054682080201287675,
          0.05297431910769765,
          0.05164653631594054,
          0.05463224077013726,
          0.05802892809585631,
          0.05599504097651815,
          0.05309187436199928,
          0.052097780144306195,
          0.05301845131531695,
          0.0517853863354418,
          0.05381631783115852,
          0.05350672613409427,
          0.055655652395552785,
          0.05106880123225527,
          0.05264455460468818,
          0.053714499584799374,
          0.05157577387488114,
          0.053432856572850865,
          0.05058076336609475,
          0.0538534891564316,
          0.05417708089564696,
          0.05206344249490011,
          0.05408305998810668,
          0.05453742323141383,
          0.05521950523690841,
          0.052790697915516376,
          0.05278844509655781,
          0.05039319032442321,
          0.05037892344707062,
          0.05026223652996777,
          0.050838244100520326,
          0.05044401311635593,
          0.0519998607524665,
          0.05116462171970353,
          0.05067944858824638,
          0.052866406188882026,
          0.050443136861304236,
          0.051789484678053915,
          0.05238049749946919,
          0.056046949773514765,
          0.05613552647037168,
          0.058594790285008275,
          0.057260350747264765,
          0.0556409024545382,
          0.05843337011597144,
          0.060931159603941736,
          0.06098515313391728,
          0.0621749091687524,
          0.06667681537631456,
          0.060419345291401375,
          0.058809241962523254,
          0.06347056442269298,
          0.06498124206050054,
          0.06449224313319439,
          0.0671783107568199,
          0.07381724329015256,
          0.07251939571159256,
          0.07563609030284348,
          0.07313085123255868,
          0.07430903335565618,
          0.06678014119411659,
          0.0656921028327654,
          0.06832514437841361,
          0.06610723792243135,
          0.07013830873971491,
          0.07111615084213474,
          0.07160300108546923,
          0.07080384174682545,
          0.0685459645052316,
          0.07069371323191706,
          0.07161173156399687,
          0.07182230709117614,
          0.07259436380500744,
          0.07500864125525107,
          0.07351930140329765,
          0.07187106748445066,
          0.07648884917378745,
          0.07459657214704628,
          0.07686036046055551,
          0.07810216737350052,
          0.07870804025855241,
          0.08067888083830144,
          0.08221009514010677,
          0.08310335462145373,
          0.0872200911187835,
          0.08687994018841143,
          0.0872213884564241,
          0.08926869505349197,
          0.09068858863315876,
          0.09345859497616978,
          0.09488407139127147,
          0.09531424061991685,
          0.09519980191937863,
          0.10033974412587905,
          0.09737874039226434,
          0.09796432606506088,
          0.10092876596071716,
          0.10000977173009509,
          0.10024952922162383,
          0.10270345182794775,
          0.1047978860285899,
          0.10538887386911258,
          0.10574845986373213,
          0.10476176967566034,
          0.10464247997110605,
          0.10357707196742215,
          0.10251200755816431,
          0.1055187385711249,
          0.10258704067226034,
          0.10339759415512446,
          0.10477534002781567,
          0.10246301230950466,
          0.10328757280302912,
          0.10290326887055354,
          0.10263489907126319,
          0.1033053563986972,
          0.10123858187913279,
          0.10024708247624034,
          0.10084798155691233,
          0.10091700514856589,
          0.10183987546680111,
          0.10157699495206395,
          0.1021864717966322,
          0.10267026438228764,
          0.10303052556175088,
          0.10142515116826889,
          0.09924010521432307,
          0.10205869378854432,
          0.10004393876434743,
          0.09948494086965083,
          0.10068054873348162,
          0.09966866799278197,
          0.09889921818839302,
          0.09917047074321265,
          0.09818657405151456,
          0.0976965219590149,
          0.09697563947197325,
          0.09690004660302609,
          0.09696932195950522,
          0.09676046617132093,
          0.09692326881578094,
          0.09596287214666106,
          0.09627154852279235,
          0.09507983370190624,
          0.09490215999901792,
          0.09631527024071032,
          0.0947370117897183,
          0.09559893330996455,
          0.09521180691303462,
          0.09496266201528372,
          0.09714968745409819,
          0.09815598957208217,
          0.09900674673258474,
          0.10062644966716228,
          0.10098229071100222,
          0.10280222759480437,
          0.10320737139171375,
          0.10419288355978139,
          0.10414671153812989,
          0.10602538873170639,
          0.10490618433745798,
          0.10935258760214361,
          0.10914398357375203,
          0.11020209806234219,
          0.11347045950392437,
          0.11875806533728904,
          0.11715075964801798,
          0.11963697064133269,
          0.1202788210015663,
          0.12085676209708988,
          0.12215407812373207,
          0.122592579846672,
          0.12250069304350003,
          0.12567214961718504,
          0.12438703066276896,
          0.12427243367932228,
          0.12396480197470564,
          0.12384415698410885,
          0.122871812660651,
          0.12342540301425775,
          0.12423228697580625,
          0.12161628638406217,
          0.12129973141688964,
          0.12167396241845888,
          0.12052806137135899,
          0.12127520389041681,
          0.11904098839628412,
          0.1182168978286659,
          0.11772655559971702,
          0.11785640915583286,
          0.11763540976344958,
          0.11719107498241468,
          0.11881516845950164,
          0.11805368421922484,
          0.11906687148287634,
          0.11954956360949948,
          0.1186361287874568,
          0.1197044329084851,
          0.11867730791063118,
          0.12044794423943608,
          0.12045318190508332,
          0.12072281826023445,
          0.12051113261725127,
          0.12017621620815803,
          0.11917832625631082,
          0.12052605840205581,
          0.12023870170768602,
          0.12020767541570515,
          0.1211990635146655,
          0.12097470312709392,
          0.1215315491707764,
          0.12187095879527217,
          0.12170260571473547,
          0.12177239367037246,
          0.12282063261136314,
          0.12230187901732549,
          0.12265698435591818,
          0.12110868275727256,
          0.1207940822158124,
          0.12058816132402372,
          0.11887110361176183,
          0.119096039974931,
          0.11808167038468731,
          0.11725464784775036,
          0.11682925537921658,
          0.11670751467538235,
          0.11459518426061438,
          0.11336163095004871,
          0.10906046148494222,
          0.10905768402935838,
          0.1046953148377367,
          0.10523559153234137,
          0.10058874120797437,
          0.10113276402734106,
          0.09911690036466997,
          0.09517380445624449,
          0.0951596176951787,
          0.09457862545108901,
          0.09113447352038793,
          0.08688820107862377,
          0.08870520003983429,
          0.08692222780410491,
          0.08498380777485934,
          0.08597345209342296,
          0.08263768322902507,
          0.0827083638418198,
          0.08147564528973653,
          0.07894402407628297,
          0.07775813752587618,
          0.07404865986163585,
          0.07309351831574845,
          0.07136169123054983,
          0.0689286336662101,
          0.07055289093907145,
          0.06739370956290748,
          0.0676843912246093,
          0.06772162026372194,
          0.06810312366348407,
          0.067119756918234,
          0.06719482871178241,
          0.0659026977480898,
          0.0662478409737026,
          0.06643537184929761,
          0.06631884045660404,
          0.06663728402139706,
          0.06473053671829136,
          0.06559681743186836,
          0.06650622036041426,
          0.06522834899755425,
          0.0664601854386021,
          0.0667819364305749,
          0.06446364258196555,
          0.06649997596303525,
          0.06763610374636643,
          0.06731951647356832,
          0.06938573446413446,
          0.06745584385481813,
          0.0678928919781735,
          0.06707123653469095,
          0.0671559531532345,
          0.06623938777103369,
          0.06650751407938636,
          0.06611633788844733,
          0.06843757420603487,
          0.06832487723973862,
          0.06856586989754147,
          0.06725137845978733,
          0.06770650303644558,
          0.06900563700799116,
          0.06791010912166119,
          0.06802556723556144,
          0.06722744484843499,
          0.06771418976244518,
          0.06753378787972987,
          0.06796456533191,
          0.06967131689932173,
          0.06930221588933222,
          0.06637803851425288,
          0.06413861182699675,
          0.06470257457148229,
          0.0666803507852594,
          0.0642157562848429,
          0.0645287814529824,
          0.06266956198600024,
          0.06300023283581271,
          0.058994243254937344,
          0.059866408131895796,
          0.05635603059347868,
          0.059766306051952316,
          0.06002561583494825,
          0.06215054364481739,
          0.06244904603131493,
          0.060038165461701154,
          0.06213855917881024,
          0.06217388537783706,
          0.0634883558308997,
          0.06089702108952369,
          0.06291717894670881,
          0.061126338991840716,
          0.058434359442803764,
          0.06234696288500344,
          0.06023663003124389,
          0.06108658333454493,
          0.05891260586665375,
          0.061741294891070955,
          0.06453438297758245,
          0.06407148353357352,
          0.062195719294228444,
          0.06410922940660178,
          0.06461939389546811,
          0.06384016008672747,
          0.06000400263857185,
          0.059798771478825515,
          0.06100442881215789,
          0.060285758224495375,
          0.06072961985343619,
          0.06325569131532091,
          0.059698648347850866,
          0.057611209417248996,
          0.06190221491790491,
          0.05772177215842216,
          0.060917265990453,
          0.06002573635603743,
          0.05984781477827594,
          0.060480325233627376,
          0.06004378693057777,
          0.05818289288111999,
          0.06354941059200904,
          0.06525418676080814,
          0.059934739319807195,
          0.06696295246053117,
          0.073755728110556,
          0.06921660774217397,
          0.06855090678240211,
          0.06757642793464556,
          0.06553338452008252,
          0.0659640135613965,
          0.06649568883969874,
          0.06923891254430158,
          0.06656626733037826,
          0.06674925049862522,
          0.06658691583148658,
          0.06636735358763275,
          0.06606360242437798,
          0.06394318109163467,
          0.06603839559462521,
          0.06957598997004893,
          0.07019407849380745,
          0.0697359618005294,
          0.0677361874521773,
          0.06943620438373205,
          0.069082761634445,
          0.07110166745050078,
          0.06821992552159412,
          0.06900042177340367,
          0.06484316889754682,
          0.0687525625185975,
          0.06379361948693847,
          0.06490428826058009,
          0.06729081607156971,
          0.06580954047745696,
          0.068453701530666,
          0.06456782469159926,
          0.0605354529943181,
          0.062090366578884185,
          0.062292237615961345,
          0.06426942542576201,
          0.06172490320829425,
          0.06351715170791684,
          0.06189798950295168,
          0.06532270368925817,
          0.06261696973134642,
          0.06718882109154531,
          0.061003406888953164,
          0.06434589556928708,
          0.063926519233266,
          0.06124138000754864,
          0.06277662235761339,
          0.06185718749216973,
          0.05906687167191423,
          0.061133316044644254,
          0.06296093183580209,
          0.05855258966830877,
          0.0692672491222347,
          0.07122140096302618,
          0.07242704455625164,
          0.0665078993358138,
          0.06904991086693434,
          0.06963058658907931,
          0.06621145804149123,
          0.0718515050440858,
          0.06864945523962795,
          0.06621384278699267,
          0.06684222662694111,
          0.06851848006497684,
          0.06233699894522571,
          0.06430975439979877,
          0.06580242881807534,
          0.05957520469544802,
          0.07078622825266795,
          0.07245760619168215,
          0.0719117240545539,
          0.07237142171285368,
          0.07480492897577638,
          0.07377004114731803,
          0.0698260367368265,
          0.07398607914279964,
          0.07509611495264497,
          0.07387965146155721,
          0.07192819461340341,
          0.07082000237413329,
          0.07515427008796906,
          0.07634878659543799,
          0.07454902253488707,
          0.07721768073281562,
          0.0792530030219047,
          0.0797445853978784,
          0.0746191362107942,
          0.07868203855649473,
          0.08083320073466904,
          0.08488801815730568,
          0.08383317383330112,
          0.08818873579140929,
          0.09096814199626865,
          0.08949993384023151,
          0.09038651660300881,
          0.09097998481747634,
          0.08957699753943951,
          0.09528304006331113,
          0.09731963912522137,
          0.09751212401676662,
          0.10074715790972527,
          0.09742013758274097,
          0.09841151922542418,
          0.09687802748512757,
          0.0953928575224459,
          0.09291601744604036,
          0.09811900660232722,
          0.10283556431702708,
          0.09942124787378036,
          0.09506582075073615,
          0.10077739636918889,
          0.09815322330065739,
          0.09683634723978354,
          0.09739160117698441,
          0.09569040882269203,
          0.09783285024358877,
          0.09647609867323859,
          0.09960991282301297,
          0.10157639405225047,
          0.10275138072860493,
          0.10279706027488016,
          0.10257559428450387,
          0.1047188498578039,
          0.10484479154651603,
          0.1093101133702971,
          0.10837950172793649,
          0.111458692686511,
          0.11179093648089393,
          0.10711228376587267,
          0.11267914465062397,
          0.11458966383271725,
          0.11598298582499056,
          0.11697504455637994,
          0.11621079357018797,
          0.11501991882602718,
          0.11572591156292618,
          0.11973430954089502,
          0.11772616188170822,
          0.12240159354371134,
          0.11853974399559099,
          0.1215297465014413,
          0.11754747551066413,
          0.12234219913055601,
          0.12601040531321767,
          0.12730405138179735,
          0.13322037824183686,
          0.12836159115754156,
          0.12856953189207695,
          0.13076116589706757,
          0.13084074992309247,
          0.12821965028315127,
          0.13161628099851763,
          0.12927973157489703,
          0.12911057558632774,
          0.13209659483721345,
          0.1283155846681816,
          0.1322678134747297,
          0.12986081950937747,
          0.13088836318380204,
          0.13465047677628286,
          0.13360042551943235,
          0.13506184574559837,
          0.13609885398475177,
          0.13313179440196896,
          0.13286441693541995,
          0.13403839325344005,
          0.13218550677800997,
          0.13535802223727791,
          0.13493611796463226,
          0.13230476305158426,
          0.133307066888537,
          0.13326399095095454,
          0.1295198932118722,
          0.12919251727225387,
          0.13093747290751467,
          0.12845734977506812,
          0.12706928132731812,
          0.12579984085299722,
          0.13050418009002912,
          0.12934165693503377,
          0.12982884487236881,
          0.1308907972721928,
          0.12758152098668576,
          0.12789064183507007,
          0.1246334737852705,
          0.12728788863887236,
          0.12354013532763224,
          0.12212354130860636,
          0.12302040687647606,
          0.13030547409931134,
          0.12244652772519689,
          0.12611097285482223,
          0.11667830777988665,
          0.1270664242963369,
          0.11274125866995534,
          0.12205675328202713,
          0.12607931130758568,
          0.12544767865229947,
          0.1216522797592461,
          0.12875493142596559,
          0.12898397370136672,
          0.13118606298269672,
          0.1307529096375242,
          0.13289714975758296,
          0.13712186761420084,
          0.139006104854096,
          0.13901402999554163,
          0.1329550065476124,
          0.13179964313035472,
          0.12979276774272921,
          0.13148995265418725,
          0.1306131915211313,
          0.13230761174214797,
          0.13168631025759944,
          0.13637961314316585,
          0.13993833281030463,
          0.14050970513889102,
          0.13851770287013201,
          0.14013640497794672,
          0.13791336196375073,
          0.14151730230893297,
          0.14416201525041086,
          0.1445300118957787,
          0.1451780400416504,
          0.14398664181898813,
          0.143912789037308,
          0.14048243489559029,
          0.1390577413164498,
          0.13866812361128653,
          0.1347916841354645,
          0.13759893308764026,
          0.13571562341325638,
          0.13721137539700284,
          0.1364497273270271,
          0.13478113286674825,
          0.14012248942379363,
          0.13845245742693038,
          0.13537734940382126,
          0.13518004957713697,
          0.1379674138935678,
          0.1370056748011412,
          0.13626979809870227,
          0.13302732681549836,
          0.13679573940067158,
          0.1374828911320022,
          0.1377979591209084,
          0.137345800602825,
          0.13632787357354714,
          0.1362631617710887,
          0.13559442297569632,
          0.13616725166319696,
          0.13676001839420934,
          0.13601820066321313,
          0.1365006423264282,
          0.1355530493626919,
          0.13637480546557998,
          0.13852984679313637,
          0.13343668871839603,
          0.13927317587525773,
          0.13814866513560423,
          0.13663385759258187,
          0.13734231511371228,
          0.13704888703902218,
          0.13412931600317762,
          0.13494337014734706,
          0.1344768325242343,
          0.13294366263844928,
          0.13482991253460233,
          0.13690130958628105,
          0.1377315491994521,
          0.13665308865049428,
          0.1377384829949958,
          0.13771607774064332,
          0.1376767252148474,
          0.13791798544200073,
          0.1375982484407581,
          0.13836620152949783,
          0.13919973739703434,
          0.13947935331650613,
          0.13875176286329038,
          0.13858578349587045,
          0.13984973320944846,
          0.1367106443191607,
          0.13690402975043378,
          0.13685544341520436,
          0.13829981110041617,
          0.13732353847310566,
          0.137815472115514,
          0.1363567404202388,
          0.1360668798711025,
          0.13548817469191346,
          0.1374040888501131,
          0.13372212348760698,
          0.13417491310285906,
          0.13750738374496843,
          0.13472704596934632,
          0.13370906142661684,
          0.13528790267809973,
          0.13642131803458876,
          0.13229527068744046,
          0.12893771666565362,
          0.1309637927164498,
          0.13126888772296233,
          0.13242064584534366,
          0.13016567741911178,
          0.133837698830368,
          0.1320661285587454,
          0.13282745680874417,
          0.13127442551912266,
          0.13016607529434698,
          0.13102748054086627,
          0.13155646230893164,
          0.13498917668714364,
          0.1338235712284038,
          0.13256619381977008,
          0.13313671500017918,
          0.13264201295076158,
          0.13144276909300906,
          0.1308087929922718,
          0.128926969136107,
          0.1295136930683935,
          0.12498438001990866,
          0.12381930378075338,
          0.12313854679663355,
          0.12324203416631355,
          0.12024752472120093,
          0.12284645941179367,
          0.11929245033621132,
          0.11943697247599232,
          0.12032472897453493,
          0.12008594786169002,
          0.11826115886377654,
          0.11798919824771614,
          0.12064046053997486,
          0.11980400099490959,
          0.11775094597775186,
          0.12036756444160425,
          0.11985128287929328,
          0.12000176738932561,
          0.11803035076060027,
          0.1197420516590737,
          0.1199888705956417,
          0.1179538690778606,
          0.12045644211099685,
          0.11843001474039715,
          0.11867058254002337,
          0.11710437682424142,
          0.11693912277966896,
          0.11648078837762751,
          0.11703545076341094,
          0.1182372797275946,
          0.11704134687956705,
          0.11781285954064692,
          0.12010040613159971,
          0.11973730864123319,
          0.12038685887165232,
          0.11791782401204529,
          0.11706027927223871,
          0.11470980108370585,
          0.11404436210363063,
          0.11294352430890399,
          0.11221881498585484,
          0.10881501408554285,
          0.1082593877944597,
          0.10730792361791573,
          0.1071103590478788,
          0.10536021229522408,
          0.10217669812998527,
          0.10276400229641391,
          0.10333724291553315,
          0.10204236006763577,
          0.10207612739123877,
          0.10359254256825753,
          0.10430218994888266,
          0.10324556705790197,
          0.10092816037121448,
          0.10578576618845448,
          0.1029981908961723,
          0.10334997138829564,
          0.10299635013535378,
          0.10261706454169595,
          0.10443048637968995,
          0.10470570845655637,
          0.10432038460177154,
          0.10492866792852576,
          0.10520914201714211,
          0.10446794006537427,
          0.10437487858210723,
          0.10447298076429477,
          0.10725431156155006,
          0.10388812683650252,
          0.10357331708498999,
          0.10427226258343798,
          0.1044732839854397,
          0.10510104633260862,
          0.10415318844795782,
          0.10046971817934428,
          0.1020192910770731,
          0.10191109335783122,
          0.09803110011449388,
          0.1018627892900904,
          0.10484703623375619,
          0.10521739650551651,
          0.10455244932753238,
          0.10491185336473698,
          0.10496751399017887,
          0.10513616328865255,
          0.10602203194236866,
          0.10264961215209442,
          0.10397601827133157,
          0.10318558952045839,
          0.10296906943675015,
          0.10332272373757898,
          0.10007623851860377,
          0.0966392470332909,
          0.10131109455349009,
          0.10216567076068371,
          0.09895032519081869,
          0.09697625502321373,
          0.0976653125614352,
          0.09483674901328004,
          0.09478755991833078,
          0.09563633571524373,
          0.10076184329306484,
          0.09438025457080411,
          0.09478052077913224,
          0.09489512412976811,
          0.093577470002493,
          0.0958824392133511,
          0.09644483956514921,
          0.09322655792416173,
          0.09585674418918835,
          0.09571980174348774,
          0.09798688167670161,
          0.09830458158238792,
          0.0990888875187728,
          0.0985169827403064,
          0.09781072898319595,
          0.09869736860731956,
          0.10023799964622761,
          0.09887862449548464,
          0.10086957168452726,
          0.10407902271411854,
          0.1011980358541815,
          0.10206144735296775,
          0.101478036710374,
          0.09928438699235917,
          0.09597192696672605,
          0.10132699275894114,
          0.09683348407162524,
          0.09514322162366902,
          0.09660004867817168,
          0.09772721802619805,
          0.09626127928365957,
          0.09381864273889652,
          0.09387224317102245,
          0.0984174251750058,
          0.09653517379221199,
          0.09253439800462449,
          0.09284360690147332,
          0.0918102029612336,
          0.0923926845516315,
          0.09251352678596558,
          0.09424182617519691,
          0.09196347080193121,
          0.09427345253024087,
          0.09333054129216983,
          0.09505853531733327,
          0.09426662175262457,
          0.09352934395924517,
          0.09407509315499879,
          0.09363899509602965,
          0.09426431372995484,
          0.09300816802955143,
          0.0942508626138604,
          0.09752185580962436,
          0.10005692704150813,
          0.09428711289522634,
          0.09799126292409484,
          0.09657962197760762,
          0.095777924652212,
          0.09536185094591287,
          0.09518980868664455,
          0.09444499252466443,
          0.09424177950228471,
          0.09051307714172732,
          0.09021030544404784,
          0.08845658615940824,
          0.08947045682474941,
          0.08746535354871834,
          0.08729080830999007,
          0.08830490196389525,
          0.08781179924284316,
          0.08869131423590126,
          0.08850237556348928,
          0.08859881448645085,
          0.09013714044531439,
          0.08965323120919738,
          0.09149984580240127,
          0.09157228656008687,
          0.0925891182842827,
          0.08971384177615664,
          0.09273448098724578,
          0.09191531501421724,
          0.09114686354439194,
          0.09273225587412492,
          0.08931891100412315,
          0.09129868880799154,
          0.09084013849854483,
          0.08681305610975398,
          0.08742781614236093,
          0.08595582366557748,
          0.08590017309791512,
          0.08280244077969,
          0.0814947634367369,
          0.08098345448028367,
          0.08036305580728151,
          0.07990846864877507,
          0.08212677197302289,
          0.08433740979758404,
          0.08301692858715826,
          0.0838802337608138,
          0.08370535333288713,
          0.0833458265452134,
          0.08302062347814473,
          0.08371178912431014,
          0.08536851587896417,
          0.0843801490239713,
          0.08681367647706588,
          0.08610492217509001,
          0.08731011561517968,
          0.08723656640540496,
          0.08554573473948987,
          0.0869111631690686,
          0.08594819556528824,
          0.08656187449745804,
          0.08678499879708836,
          0.08701280515568442,
          0.08765258303483764,
          0.08762759168972183,
          0.08740856860975856,
          0.08506063567507155,
          0.08705824042455336,
          0.08543189578314152,
          0.08536700824828497,
          0.08376811848505687,
          0.08204515229611702,
          0.08250656768661721,
          0.08102377659955094,
          0.08026545524060737,
          0.07516673070861798,
          0.07467754638381736,
          0.07244814129792493,
          0.07356858810788078,
          0.07451487125513256,
          0.07194623844868352,
          0.07079763374148221,
          0.0712569691732291,
          0.0728023785381567,
          0.06980091737355044,
          0.07065096034214859,
          0.07165834669716627,
          0.07256503546793669,
          0.07322055763281088,
          0.07381596019170422,
          0.07452962456694733,
          0.07580005030827969,
          0.07702855252770133,
          0.07748459456837575,
          0.07807102522745553,
          0.07845560538214812,
          0.0788690924728151,
          0.07942426052312508,
          0.07998801979236565,
          0.08077151833875486,
          0.08165078684564056,
          0.08069347178706668,
          0.08002824690691138,
          0.0789485785012569,
          0.07948541593283799,
          0.07950993985579986,
          0.07822314538166823,
          0.07930753458177296,
          0.07986715020573287,
          0.07999478080902947,
          0.07878638620901661,
          0.07793495194457961,
          0.07852692435880741,
          0.0783768993477876,
          0.07716488855234667,
          0.07561272817880882,
          0.07412958795452097,
          0.07365216280441972,
          0.07243331191849792,
          0.07213606340779538,
          0.07147317481447782,
          0.07181517447263885,
          0.07087782843496104,
          0.07175711903825559,
          0.06955387002081345,
          0.07000365342273003,
          0.06909756754239492,
          0.06960605662626725,
          0.06722514692548814,
          0.0713594949300095,
          0.06990183463567279,
          0.06932783010035291,
          0.06879113028350654,
          0.07014421276476232,
          0.06846016106314283,
          0.070060561165488,
          0.06866835479616071,
          0.06990150857761829,
          0.07053274399000307,
          0.07075750904007168,
          0.07017009625811663,
          0.0706537845216426,
          0.0698800344520838,
          0.07020314110617117,
          0.06978463106681125,
          0.07046844659038783,
          0.06943994954521433,
          0.07096172337527451,
          0.06694380765364354,
          0.0657226892200263,
          0.06651886470344008,
          0.06537347861990948,
          0.0660696800885737,
          0.06567766291663386,
          0.06597036035000738,
          0.06657806985923238,
          0.06619372118412475,
          0.0682318347185795,
          0.0703829319389122,
          0.06990839330583111,
          0.06543321932478316,
          0.06516145919103403,
          0.06857523099329092,
          0.061307054083285004,
          0.06461592478015206,
          0.06681732958073885,
          0.06618268227822824,
          0.06138572494142156,
          0.061428183923648974,
          0.06563333253382207,
          0.06020813040559692,
          0.059855542023589635,
          0.06101995384184145,
          0.060742479639254665,
          0.061454217752300526,
          0.06638508795314463,
          0.0681578417149306,
          0.06577203041221458,
          0.06475787298903017,
          0.06206592401318646,
          0.06257371800691208,
          0.0674709143994774,
          0.060532516399562315,
          0.06640459238304965,
          0.06060121338788142,
          0.059069090351861586,
          0.05631439915510008,
          0.05447650698889335,
          0.05612271031384572,
          0.05737643494444381,
          0.05624796522264654,
          0.058945312184506285,
          0.05911272635044886,
          0.05918459215210033,
          0.05931438538801575,
          0.06092146734552299,
          0.057595908624132976,
          0.059781220105085874,
          0.06438327766511308,
          0.0627537168916096,
          0.060752439761767134,
          0.05936743754455799,
          0.06392913556443908,
          0.0634207569977384,
          0.05934683006040864,
          0.05775078708704,
          0.05831873136312106,
          0.05567055493900657,
          0.06113428706895642,
          0.05704476209004731,
          0.060982942693291485,
          0.05796514132826008,
          0.05537544875268021,
          0.05859079037887636,
          0.05745374896578425,
          0.058228440920876555,
          0.058236731412829666,
          0.0595423139070932,
          0.05871206664091489,
          0.06132690271888094,
          0.058379977524277774,
          0.057508518111455256,
          0.05744467035913506,
          0.05867719352772056,
          0.06106506727323029,
          0.06306059675212891,
          0.06519884879581395,
          0.06254872893747461,
          0.06003563142702184,
          0.06589347026896694,
          0.06519243668361374,
          0.06633748137111813,
          0.06693343911104041,
          0.06940131582753956,
          0.06725773348929363,
          0.07052206663034506,
          0.07108466338430691,
          0.07163997603835612,
          0.06661494181279151,
          0.0692731849364177,
          0.0729792721921319,
          0.07467111876595321,
          0.07344819347989462,
          0.07293592689082501,
          0.07043373315991708,
          0.07231996999031062,
          0.06544824018426691,
          0.06987520863320473,
          0.0724894792534307,
          0.07512618886256862,
          0.07018280584607813,
          0.07357254169644349,
          0.07294438773741557,
          0.0684800179308163,
          0.0701050721769076,
          0.07212562618109113,
          0.07442519393140874,
          0.07514707231219488,
          0.0744550375680118,
          0.07557519521399311,
          0.074424384267256,
          0.07528168188057786,
          0.07749549562819572,
          0.08064745054957256,
          0.07889141115355912,
          0.07583904518333572,
          0.07947218169281357,
          0.0791895136181875,
          0.0816717467785297,
          0.08407480040313203,
          0.08371646709608675,
          0.08425955412256127,
          0.08138861476082765,
          0.08046431942446464,
          0.08098278967060885,
          0.07810760782337521,
          0.07868104102067765,
          0.08027840905914996,
          0.08074935842067639,
          0.08078880683433834,
          0.08043188226225415,
          0.07981770251664672,
          0.08143949535951618,
          0.0833232707633426,
          0.08474892620901904,
          0.08091948677614197,
          0.08128502676711598,
          0.08071201922652248,
          0.08119053840477823,
          0.08130799323444692,
          0.0819238321992024,
          0.08310290797898023,
          0.08299498401116416,
          0.08304084415544097,
          0.08327139854357177,
          0.08714740213527532,
          0.08632756988462638,
          0.08783151803301245,
          0.08628915113399813,
          0.09081784401750788,
          0.08883791174611894,
          0.08722252005705806,
          0.09024963110037472,
          0.0940810529511275,
          0.09117758951112998,
          0.09434014273484613,
          0.09555966777699809,
          0.09546794982133935,
          0.09544591374582868,
          0.09516716225491013,
          0.09583879967906081,
          0.09205793255717461,
          0.09882672085976078,
          0.0977874933216349,
          0.09623111717526536,
          0.09596269534914166,
          0.09852907975229831,
          0.09870038364551573,
          0.09732492169363241,
          0.09714542211125166,
          0.0972159153999136,
          0.09909014884276159,
          0.10193959812075482,
          0.09737573976142487,
          0.09716696864066898,
          0.10022453147168844,
          0.09817921957160013,
          0.09903635602193783,
          0.10224183400396987,
          0.09812697811570055,
          0.09828792865020161,
          0.10318307031966008,
          0.10582705777218122,
          0.10555813029236219,
          0.10290763778657115,
          0.10327466707013525,
          0.10527097057771381,
          0.10074721708847523,
          0.10277767981246844,
          0.1075846091472534,
          0.09982290569896973,
          0.10685894698289702,
          0.10679480130809038,
          0.10851391195880827,
          0.1058871403663245,
          0.10748569676246315,
          0.10956968755887081,
          0.10593451774604466,
          0.10196958101794769,
          0.10343967972995298,
          0.10471942594876776,
          0.10405986771794322,
          0.10344392691365005,
          0.10294905815762065,
          0.10464025907288207,
          0.10513637417268909,
          0.10572455216755103,
          0.1018513875435925,
          0.10555053649002194,
          0.10541680921873187,
          0.10393921107072127,
          0.10142931976563643,
          0.10247537126062913,
          0.10736724038849521,
          0.10494185380935409,
          0.10445621335196618,
          0.10573647364637451,
          0.10718795796745258,
          0.1071006553072893,
          0.10753215386887871,
          0.1101161325475856,
          0.1090457260141783,
          0.11115815579315688,
          0.11340447981812181,
          0.11163354760148467,
          0.112767608997801,
          0.11742709114507928,
          0.11475434456689548,
          0.11733192149934225,
          0.1203947992943076,
          0.11906181792202863,
          0.11644229439715033,
          0.11949100311132449,
          0.11935359495562771,
          0.12022043688878925,
          0.12164693059109855,
          0.11869268785316198,
          0.11715907660164457,
          0.12055798875253908,
          0.11895730351637147,
          0.11353549590021915,
          0.11541695899791496,
          0.11576194493707737,
          0.12147346346972049,
          0.11918174844771336,
          0.12233299393799357,
          0.11705610143674042,
          0.12097792543796358,
          0.12694391149654718,
          0.122397000902888,
          0.1261363357151219,
          0.12552316360885382,
          0.12470717211915378,
          0.12073622944992533,
          0.11919052728312414,
          0.12305415686029847,
          0.1268936314816826,
          0.1320589534257458,
          0.13083235156916417,
          0.13174056031029097,
          0.13422204351020608,
          0.1370572966116853,
          0.14235375053465565,
          0.1322468586495321,
          0.13689755865352488,
          0.1301186124877102,
          0.13078494112042502,
          0.13249974933699354,
          0.12727346468711656,
          0.12815166456626975,
          0.1294052125979596,
          0.1316972171758738,
          0.13260642976153061,
          0.13043677596995137,
          0.12251283636019254,
          0.12940321297678614,
          0.13115781864981987,
          0.12795772957165844,
          0.12747612055541224,
          0.12803608616800552,
          0.13342450233351424,
          0.13711344013791688,
          0.13899007141999178,
          0.13696533155247487,
          0.13851754982081918,
          0.14189076312020532,
          0.13891591303514492,
          0.14396390103620677,
          0.14317306063119278,
          0.1380991238686929,
          0.14538302557490082,
          0.13387086598525885,
          0.1375873178438242,
          0.14566939419911132,
          0.1329748960534563,
          0.15582202629175831,
          0.150059857993715,
          0.1522557362984503,
          0.15505929368472332,
          0.15404672351153811,
          0.14974720231536007,
          0.1487639283711587,
          0.15193687664934696,
          0.1484314043126415,
          0.1500004416570614,
          0.15412223653091664,
          0.15719075143849945,
          0.15688882031893198,
          0.1557057458037897,
          0.15307302562795802,
          0.15331831514397182,
          0.15065171812395226,
          0.1506422627998323,
          0.15375339200232407,
          0.15122898362624096,
          0.1509028332650402,
          0.1476402296858704,
          0.15627542792894208,
          0.15552257222844296,
          0.1557422478649682,
          0.15786927360262767,
          0.16077833712559014,
          0.15385114617481083,
          0.15536996341808426,
          0.15639156337267146,
          0.15441965987579637,
          0.1533317855220038,
          0.153984061375153,
          0.15511177484586325,
          0.15173400877984292,
          0.15315112686523563,
          0.14993416282614064,
          0.14534268714390394,
          0.14658056838374217,
          0.14239433576097332,
          0.13955810838377597,
          0.1384771813615819,
          0.13745250132365533,
          0.13689293497599694,
          0.13229901930121346,
          0.13184672527332988,
          0.13159782853297528,
          0.12789730926960755,
          0.12329640021693389,
          0.1228974780736158,
          0.12431635624627724,
          0.11720174811907624,
          0.11662054062620321,
          0.11637824613672093,
          0.11594234200012125,
          0.10939804073563408,
          0.11265089774921686,
          0.11181851092203388,
          0.10393205618866101,
          0.11223534050069886,
          0.10192779862311935,
          0.10068715132556273,
          0.09548615200685572,
          0.09681089640730668,
          0.09496356196688868,
          0.09547171591845707,
          0.09670991389091041,
          0.09043788111034638,
          0.09094822380637466,
          0.09315554852791279,
          0.09245243636617442,
          0.08695003164092177,
          0.0899843114938245,
          0.08428796634583374,
          0.08902478613072735,
          0.08428489416787631,
          0.08244199389625308,
          0.08026438815907436,
          0.07927785892048266,
          0.0774297885705105,
          0.0783478991866098,
          0.07635615981291832,
          0.0766199289736973,
          0.0738643035888965,
          0.07372819945493733,
          0.07299418459403699,
          0.07405790580468566,
          0.07069811663523408,
          0.06701825400613018,
          0.06602547783094345,
          0.06526384033512306,
          0.06347601623788608,
          0.0589220318312359,
          0.05318116621476814,
          0.053753886551899104,
          0.052467018111850665,
          0.048618631829233754,
          0.047376907136816526,
          0.04826955141466008,
          0.04128871409161991,
          0.042032662237631885,
          0.03833199226176057,
          0.0360813285730938,
          0.03662664875720115,
          0.03418636367286824,
          0.03377456991284713,
          0.03584159596385334,
          0.03252895184915117,
          0.033417163846064656,
          0.03324587264945105,
          0.026878730551080067,
          0.027970880209838407,
          0.03389325840617638,
          0.031993355812441615,
          0.035898662669227435,
          0.03569180742430161,
          0.03754910208224426,
          0.03744183975503856,
          0.03282677755115859,
          0.03459932411636093,
          0.03319804348305153,
          0.039430370734113526,
          0.03921815143006294,
          0.037601207799824746,
          0.040842632038129004,
          0.04141517613030773,
          0.04314510591223503,
          0.04401529242268083,
          0.037995906124002464,
          0.03923550113496331,
          0.04434009716094015,
          0.049981063896152665,
          0.04371955147263107,
          0.04907516982180294,
          0.04587456868333309,
          0.043648929078744424,
          0.040722379100265875,
          0.04656693835131916,
          0.04920218437663982,
          0.04578465194297818,
          0.04953751440697106,
          0.04893012002966172,
          0.049643841893733914,
          0.05128409995164386,
          0.05301360896240006,
          0.056613178335075176,
          0.0509157340104569,
          0.05196001738232284,
          0.04966178616650569,
          0.05138228246118223,
          0.04897569718463007,
          0.04691974969332382,
          0.052549414123815946,
          0.05205483462073319,
          0.05404958984505104,
          0.05393249904235177,
          0.04812831440599507,
          0.0527208613243818,
          0.05018517676419817,
          0.04912680818139196,
          0.05353808883757846,
          0.04602596074323234,
          0.04904094273803832,
          0.05163329258854101,
          0.049163878482870634,
          0.05028342340277559,
          0.04946231955367239,
          0.0490490143002544,
          0.04363710162277537,
          0.04894486494337403,
          0.04527051053363521,
          0.04623600839501949,
          0.04484299027198483,
          0.046484462259599124,
          0.049049283338783146,
          0.046094270511867756,
          0.04376147254574917,
          0.04603691385165561,
          0.0517714427291575,
          0.05617496678570162,
          0.05343154205776864,
          0.05651973727735694,
          0.05154395703590912,
          0.048967558207174466,
          0.048241287763570076,
          0.05206717363726945,
          0.05245836332060766,
          0.049660273114662604,
          0.057125623058971786,
          0.056903783604514147,
          0.05322052370848611,
          0.05795011425445631,
          0.0519075749088423,
          0.05149109111670984,
          0.056159380627594985,
          0.05381700766637258,
          0.05904435502367697,
          0.05508642165371473,
          0.0553411460058723,
          0.06047489898368058,
          0.05345456170942453,
          0.05133313513445414,
          0.04788808262954659,
          0.04892855486975614,
          0.054720204107874794,
          0.051390561103297434,
          0.04594515693462025,
          0.04444510615402075,
          0.042983188363376376,
          0.04447061312901113,
          0.038790616864076935,
          0.03597084735757965,
          0.0373221316155823,
          0.03912801418249561,
          0.040437140791809004,
          0.03958494629504543,
          0.03682823503391017,
          0.039501523683411484,
          0.03684686623877113,
          0.0382138380042184,
          0.034486567843331865,
          0.03231280101579018,
          0.0379042443278968,
          0.03479311550656743,
          0.03525603709777196,
          0.042930417071524736,
          0.04153593960046778,
          0.043302132668203694,
          0.04306762835532197,
          0.04266706182108586,
          0.045151258976395776,
          0.04321651907807216,
          0.04789304128231408,
          0.04683527452460743,
          0.04829908139536063,
          0.04706137808827526,
          0.045676140657613815,
          0.04673527730551895,
          0.04703283170292925,
          0.04470156895087711,
          0.03921873060276729,
          0.043887228267064315,
          0.04062246538999766,
          0.0437128757813107,
          0.0449586865550852,
          0.04133347682236471,
          0.044939418878064706,
          0.04231533666309303,
          0.04743795400740163,
          0.0514117791602561,
          0.04754245296484878,
          0.0460706243632314,
          0.04497966846002342,
          0.04795595209522499,
          0.05142181866255906,
          0.05530346530064381,
          0.053782089317476495,
          0.050781456822788104,
          0.05403516645950665,
          0.056647420653197604,
          0.05192596870878301,
          0.056702257391376014,
          0.05524373129115536,
          0.055058632472904684,
          0.05429897973475442,
          0.05600194113093453,
          0.0510938055267762,
          0.052396232762441465,
          0.05166675199233215,
          0.05587969161447525,
          0.053568092155824226,
          0.0522755450222109,
          0.050996607073618395,
          0.05546300424551488,
          0.05049904512040287,
          0.053102058017194184,
          0.0513417419621564,
          0.0544581055449861,
          0.04990838602077868,
          0.04823818686118197,
          0.051934557114974404,
          0.04947281587839135,
          0.05513137683510633,
          0.04782391176309074,
          0.050449797696871725,
          0.05095153295928512,
          0.05226948167393412,
          0.054069769388869544,
          0.055878375062035426,
          0.05384763635644615,
          0.05186517925021441,
          0.05318271899082109,
          0.05152946429214931,
          0.05128942950920876,
          0.05752689338926677,
          0.055930025565993705,
          0.05072940836788975,
          0.053023520296029074,
          0.05064007376990883,
          0.05054274214368606,
          0.052033999363292865,
          0.054015089778865974,
          0.0537077332970131,
          0.04797274660403123,
          0.04643407010248915,
          0.04845241200761222,
          0.050063876601539624,
          0.05052231943417654,
          0.05447357510598036,
          0.05716694678626332,
          0.057428114596718184,
          0.057375187442846705,
          0.059465171233350725,
          0.06053264725476942,
          0.056974250575899,
          0.05711162101670768,
          0.05741567243354801,
          0.057881524940091945,
          0.05854219603125502,
          0.05830876877139094,
          0.054063699834327766,
          0.05840920012930379,
          0.0594811213965359,
          0.060824407999255925,
          0.06135338501654298,
          0.059843940333281796,
          0.05914914328064442,
          0.05396732030279747,
          0.06020977094960354,
          0.056182478793794136,
          0.06172351128562315,
          0.060088537858213664,
          0.05915297861777603,
          0.060072568613998095,
          0.06277732046704536,
          0.061145471264161956,
          0.06263861935944001,
          0.0635306590673195,
          0.06077225282482631,
          0.06299550227405808,
          0.06757133632838272,
          0.0634122522700247,
          0.06361521540213018,
          0.06657126422132076,
          0.06300538219392454,
          0.06507131131594114,
          0.06037058602450879,
          0.06014927071127563,
          0.0601297536654961,
          0.06145369236157476,
          0.06302975925358839,
          0.06459927321076712,
          0.06060679860803683,
          0.06454294144655738,
          0.0606060874402711,
          0.06160500411690413,
          0.06188878702185489,
          0.06712321747140752,
          0.052541093440914524,
          0.06336998770581413,
          0.05885298439106368,
          0.06343768122433456,
          0.06678622877328468,
          0.0646812369118416,
          0.06542578647245798,
          0.06669831756711612,
          0.06770440449767764,
          0.07190018467073951,
          0.06705558876527395,
          0.06918163842461149,
          0.06887904543089925,
          0.06801174210674396,
          0.06987179660851572,
          0.06910748810010077,
          0.07047408859937632,
          0.0690991739462837,
          0.06783023243169639,
          0.07167459998189425,
          0.06968753684129335,
          0.07062233107459169,
          0.06838244396311881,
          0.06670428385929605,
          0.07230778057472499,
          0.0707506535798706,
          0.07214950830504259,
          0.07200524986706083,
          0.07362948649995125,
          0.0741980487631434,
          0.07135898891556121,
          0.072496057793552,
          0.06621682930696199,
          0.06576495842193598,
          0.06841918915200389,
          0.06746877302967233,
          0.0634588695210901,
          0.06353009137878111,
          0.06422019109529523,
          0.06459988247976893,
          0.06308700726436046,
          0.0658148594215511,
          0.05945539564812669,
          0.06365245728226748,
          0.06429821287136321,
          0.06344474237603435,
          0.06153391123717343,
          0.06293205328435407,
          0.06419619541092511,
          0.06151275390860395,
          0.0653026861568887,
          0.062489609306017324,
          0.062096532332157055,
          0.06412030833346387,
          0.06752720978090772,
          0.06406118384501291,
          0.06259336403556617,
          0.06426896635665345,
          0.06479412182092716,
          0.06269712098366914,
          0.06579602489312272,
          0.06346022197834476,
          0.06606201976932638,
          0.06373944360006237,
          0.07150311788964986,
          0.06662283006751328,
          0.06347526684901532,
          0.0642957076963602,
          0.06053980404670019,
          0.06323902758330856,
          0.06281755806230978,
          0.0679693345623314,
          0.06284676060943935,
          0.06831413311284608,
          0.07018831218920363,
          0.07103365406728966,
          0.07051765425598001,
          0.06956750578023345,
          0.07397448501643168,
          0.07142923835447937,
          0.07505009732357229,
          0.07692726619926274,
          0.08878340613302584,
          0.08192940067102196,
          0.08609556078240341,
          0.08672185377532378,
          0.07171531093459037,
          0.07270829870984788,
          0.07778098007383975,
          0.08131930635212209,
          0.07850292378269037,
          0.08028992208318231,
          0.07826537433734371,
          0.07711638311720663,
          0.06865762922753052,
          0.07633426886199979,
          0.07929287860482866,
          0.06996015010329151,
          0.068290462765938,
          0.07434375543040916,
          0.06465119910868013,
          0.0650291413995548,
          0.0659493571316114,
          0.06679149565886869,
          0.06425782452459505,
          0.057693295224001295,
          0.05082060629608837,
          0.05600665007924973,
          0.05429558084987527,
          0.05274789723318223,
          0.05334032945222035,
          0.04893623836869235,
          0.058990727079797245,
          0.05833641877556119,
          0.054055793861340545,
          0.05935283493920746,
          0.05160859468031547,
          0.04759025911423082,
          0.051540302718481215,
          0.0484453200999455,
          0.047046143591767495,
          0.04996113728925056,
          0.04920766921469963,
          0.047909163850621966,
          0.04592367737141526,
          0.046835921496557735,
          0.046154005207044504,
          0.04304492623859653,
          0.04286385474412817,
          0.04532319893925206,
          0.04462418878679285,
          0.037975364093232995,
          0.038996946093211665,
          0.04224765325256573,
          0.03603507313888727,
          0.046376651773382106,
          0.046366563076841436,
          0.04354599340988084,
          0.039656665789781234,
          0.04231993460693308,
          0.042600248284478115,
          0.042671979636791195,
          0.04213553435413539,
          0.04403185766608858,
          0.04948091188895624,
          0.04777780377321922,
          0.04727639398934535,
          0.04341146227034919,
          0.04910836247131014,
          0.04768642458755012,
          0.052460651973115696,
          0.05104170203966836,
          0.05270996340496017,
          0.05320966947275968,
          0.05478750963273348,
          0.05360145988440765,
          0.05635536279040708,
          0.05621381137463651,
          0.0596763335543605,
          0.05534041943714802,
          0.059835186773341625,
          0.06050804811930031,
          0.0611898930183888,
          0.06025084673590857,
          0.05724515255534914,
          0.05943179552945805,
          0.059576963428232925,
          0.06133129499561489,
          0.05976295502088012,
          0.05979571509047631,
          0.060351498108026265,
          0.06136256053020994,
          0.06076428257050403,
          0.06376660185361435,
          0.062090211274510976,
          0.05985429595572237,
          0.06372177493701538,
          0.06405172985528962,
          0.06491098718544312,
          0.06302502508925069,
          0.06252715117408435,
          0.06425468678087973,
          0.06708412511583008,
          0.0623100792883995,
          0.06516672263384388,
          0.06409277528788486,
          0.06543353180327548,
          0.06596524761347058,
          0.064664468517948,
          0.06729944684393606,
          0.06524495468273735,
          0.06531082472786479,
          0.06489810572898039,
          0.0637657262456885,
          0.06367459991454041,
          0.0685651987207949,
          0.06500597667328277,
          0.06473726309850547,
          0.06404106950148082,
          0.06541232903314907,
          0.0636249631153865,
          0.0631243948891554,
          0.06428942723277563,
          0.06420474907183535,
          0.06397080225137786,
          0.06247512187037356,
          0.06248584753057175,
          0.06337634201223075,
          0.06499830400979682,
          0.06268177027087536,
          0.06363969597098008,
          0.06561650901338603,
          0.06547997695076757,
          0.06214635392425301,
          0.0648737695393153,
          0.06604074142029613,
          0.062242538148857836,
          0.061739289530887004,
          0.06657877127535537,
          0.06494947008009049,
          0.06506171684807924,
          0.06599492094293163,
          0.06404461845872775,
          0.060683341194985134,
          0.06232829480341271,
          0.06358962002623023,
          0.06670927416503857,
          0.06737177313020148,
          0.06895025264714764,
          0.06952654004734588,
          0.06745903323610132,
          0.06894394425945306,
          0.06710375906242069,
          0.0700470873698253,
          0.07032634851679155,
          0.06914640455962713,
          0.07122482172313924,
          0.06966399416437415,
          0.07413915660397763,
          0.06986289938154634,
          0.06985427405935282,
          0.07095335502380805,
          0.06788031297257809,
          0.07030548886764922,
          0.07109132243886045,
          0.07514931312702813,
          0.07227431528566663,
          0.0720155672935397,
          0.07249486685376323,
          0.07577026950570068,
          0.0757377066803774,
          0.07300502984486931,
          0.07958702786904095,
          0.07218526357796394,
          0.07568460566923167,
          0.07738673756765758,
          0.07181959759075018,
          0.07349582613530072,
          0.07182559080961298,
          0.07291959985665836,
          0.0737281258659996,
          0.06775998159095922,
          0.06873289935555764,
          0.06756270507490421,
          0.06345533428061095,
          0.06870741158475317,
          0.06615965019764265,
          0.0659104023979991,
          0.06486951998511384,
          0.06661576972815339,
          0.05838758901478796,
          0.062435985442066855,
          0.05816603134487808,
          0.05610506400337842,
          0.05424824370706448,
          0.054399609024907244,
          0.05474074756033685,
          0.05440228059652583,
          0.053312393461230574,
          0.051061460616668684,
          0.05073420516729649,
          0.05093067352149876,
          0.05230222402817135,
          0.05096424607807635,
          0.05003003901761516,
          0.05113052413344455,
          0.050368680056974736,
          0.05303170890688111,
          0.05238413177056382,
          0.049955011862179155,
          0.04961235486939368,
          0.05402173863883101,
          0.053404358380792306,
          0.05613553084486162,
          0.053562849503159454,
          0.052839994220096435,
          0.05272125844460164,
          0.05033204390378568,
          0.051486075877697816,
          0.05080498583063831,
          0.05115509138135533,
          0.04951237966787729,
          0.04896668435003801,
          0.050378258868908385,
          0.047666769530762626,
          0.04917028410299569,
          0.053901178081543766,
          0.05398444182766275,
          0.051346055849751084,
          0.04971385147135651,
          0.05194865182181597,
          0.053709226777918666,
          0.05658979304058894,
          0.053558800906289644,
          0.05469670937736317,
          0.05045539258917283,
          0.05263048603175423,
          0.05537413722672067,
          0.05112092887300856,
          0.054593613859980954,
          0.05223284322823763,
          0.05328220901189084,
          0.051468977943651524,
          0.05520447027098283,
          0.05608134797760616,
          0.055269831967105595,
          0.05497944889887718,
          0.05565380144365199,
          0.053962027069413825,
          0.05261412800002706,
          0.05515162875502001,
          0.05422783348386746,
          0.05664083958955129,
          0.0560202659863557,
          0.0574948496044422,
          0.0627501204513514,
          0.06546956472178453,
          0.0637763419827223,
          0.06793004416969556,
          0.06518111214697624,
          0.0681821777147439,
          0.06956575129059978,
          0.06964273406163442,
          0.07025606638481746,
          0.07128719966722502,
          0.07319831159616887,
          0.07398246706760762,
          0.07493157095898478,
          0.07753505785802582,
          0.07750955589361702,
          0.08080656473784881,
          0.08433221815727526,
          0.08513485481363961,
          0.08612232571410638,
          0.09316268839277612,
          0.09102856791859018,
          0.09196731941789753,
          0.09173664210240627,
          0.09303790007630428,
          0.09251039307525091,
          0.09712365048447934,
          0.09897664197114377,
          0.10211503638033792,
          0.1034260265944768,
          0.10870056568935581,
          0.10945199879208654,
          0.11422327050364459,
          0.11041368357406885,
          0.11315909274026757,
          0.11677341429481196,
          0.11497897480608295,
          0.11403973731958456,
          0.11616962827777921,
          0.11778254733202621,
          0.1178585511215764,
          0.11751986848258586,
          0.11820717546760116,
          0.11996951201398018,
          0.11995595019195324,
          0.12105032437029278,
          0.12258548158080103,
          0.12265372409254242,
          0.1240700193308436,
          0.1245130558969119,
          0.12451132951516478,
          0.12433283673598776,
          0.12400330016966324,
          0.12404501630929717,
          0.12336296644909465,
          0.1216024172933415,
          0.12315470920478414,
          0.12182968749236085,
          0.1239276592739065,
          0.125974116581251,
          0.12403764150439425,
          0.12593802348239716,
          0.12376626996891793,
          0.12455326160085003,
          0.12494290202591758,
          0.1251952350288815,
          0.12475997453957871,
          0.12440490365367299,
          0.12333366573268625,
          0.127329248019152,
          0.1252223470085051,
          0.12393230401250889,
          0.12751310180384953,
          0.12485174000980721,
          0.12768987675774124,
          0.12851415613439657,
          0.12908825505852403,
          0.12747462488150788,
          0.12857235616160756,
          0.1279339290165678,
          0.1290163382962737,
          0.1319562333180679,
          0.1300304804244737,
          0.12901211319717062,
          0.1308702240133475,
          0.1299683960485018,
          0.13119482203170005,
          0.13058786955354348,
          0.12937073620819023,
          0.12869892146518147,
          0.12894830773044672,
          0.12836289899654318,
          0.12926082679861697,
          0.12872944938057218,
          0.1292629665329027,
          0.12891728652693607,
          0.12962076670752049,
          0.1299846693703139,
          0.12958823821850668,
          0.12977819287376813,
          0.13103819293470192,
          0.13066794104087218,
          0.13195046789248235,
          0.13226652394124844,
          0.13144643979220927,
          0.13324855188280088,
          0.13220678465878177,
          0.13234765194178144,
          0.13455481828684995,
          0.13410454066677432,
          0.1346272056451657,
          0.13522778473743818,
          0.13409777600568426,
          0.13381522851357847,
          0.13338015086560592,
          0.13260808917260336,
          0.13382017289402384,
          0.13358991659855546,
          0.13355069328730734,
          0.13334622592544065,
          0.13457577432417975,
          0.13289008658885687,
          0.13370103198928385,
          0.1342145936529265,
          0.13465586324986256,
          0.1341282621861082,
          0.13457658201551798,
          0.13444699130592763,
          0.1333231428618722,
          0.1329483314356773,
          0.13216463727226346,
          0.13298576664167822,
          0.12986351468088106,
          0.12962033508664234,
          0.1266175972253789,
          0.12561237443208623,
          0.12368090904661218,
          0.12231016638463382,
          0.12293127699863866,
          0.1209644325459167,
          0.11852454994840876,
          0.1176846019272303,
          0.11632073585244543,
          0.11534134196927087,
          0.1165538369895912,
          0.11543108248825343,
          0.11064831067980063,
          0.10803615563773501,
          0.10679234887746783,
          0.10745288128505966,
          0.1046635942875042,
          0.10433459437676826,
          0.10631150454817802,
          0.10786300925326427,
          0.10713275989658945,
          0.1071930492179074,
          0.10413114128153285,
          0.10661329293606062,
          0.10529068626530805,
          0.11010725126788169,
          0.10812320142923085,
          0.11024800151147979,
          0.11189148789762618,
          0.10925776025625995,
          0.11198178668062737,
          0.10851406814947114,
          0.11002029561980768,
          0.10538134238864627,
          0.10996495923124981,
          0.10777662548225615,
          0.10818938260305536,
          0.1068821482025538,
          0.10774272829861842,
          0.1071727180492127,
          0.10957162540601587,
          0.1070957608738059,
          0.10537571391233819,
          0.1111127771856762,
          0.11172858835119587,
          0.10696014133093473,
          0.09728735400585607,
          0.10097870569789762,
          0.10411384624028133,
          0.10198099740072789,
          0.1012470399459397,
          0.10511949791784776,
          0.09731696065945404,
          0.10476067623879858,
          0.10239004253063434,
          0.10296532133137061,
          0.10192502305677091,
          0.09889148537271858,
          0.10031218147844828,
          0.10147083963636162,
          0.09927779189358348,
          0.09942490055613007,
          0.10008638531407646,
          0.10170861097084098,
          0.0991011941025537,
          0.09946958815372994,
          0.09534646594110203,
          0.09300425107851554,
          0.09032840094549008,
          0.08911779460623376,
          0.08929614550214973,
          0.08758431726073117,
          0.08619203787714648,
          0.08454741002912204,
          0.07890353519614308,
          0.07730915850557997,
          0.07820345772257897,
          0.07479309149117826,
          0.07700955867466937,
          0.07573623224933256,
          0.07548682208065235,
          0.07399775676631376,
          0.07405846940187526,
          0.07506705078973061,
          0.07657282445389713,
          0.07691170334231934,
          0.07693248551287006,
          0.07467119633057885,
          0.07612708589804017,
          0.07886723984916524,
          0.0793682877209021,
          0.08047162848282009,
          0.0782287024616335,
          0.07481170595849702,
          0.07235473605018646,
          0.06752965268940536,
          0.06931834677939887,
          0.06618737753773704,
          0.06150134935757994,
          0.06165559852370571,
          0.062415660316302614,
          0.06179708084794041,
          0.056019825089156226,
          0.052415655104701295,
          0.052065314879998846,
          0.04431756489651381,
          0.04233698399572164,
          0.038238963484131826,
          0.03218753722451116,
          0.034135745219753155,
          0.027192802955833976,
          0.04235816760460413,
          0.04316656972424459,
          0.023872581376151798,
          0.03432303647890069,
          0.033862940842108676,
          0.0320766323832052,
          0.03182051651785616,
          0.029418121115774108,
          0.03565078390303773,
          0.036695075062009155,
          0.03496970447770763,
          0.03468210274653718,
          0.03906044835474618,
          0.037999588510210146,
          0.03990451709601066,
          0.0454280249345723,
          0.02555545765794992,
          0.03552771083161976,
          0.050970186793677125,
          0.05144160748670674,
          0.05068392015254459,
          0.053075619399030445,
          0.05550884693370733,
          0.04731611615399112,
          0.05869066728534851,
          0.05846038297367556,
          0.04158333123438674,
          0.04280410407782202,
          0.06521560056456044,
          0.09249010617857684,
          0.1163212393163224,
          0.13831331135533623,
          0.14189495940827748,
          0.13482432500828467,
          0.12319828587227642,
          0.0698113764874289,
          0.06407173046909011,
          0.06985000325759094,
          0.06628880028485166,
          0.06843348150231365,
          0.08313240721456554,
          0.07472226889723,
          0.07084544434019546,
          0.07398540354079923,
          0.04566414903629002,
          0.040447180602141294,
          0.06635861896234424,
          0.07004576939125166,
          0.07076052856526077,
          0.0531725769950125,
          0.04446458750168987,
          0.039413394476941324,
          0.06248632273614995,
          0.05663227146508516,
          0.052815661233900184,
          0.06935784863129789,
          0.05560752711043616,
          0.05270733274453019,
          0.05022092890921275,
          0.04568758816055385,
          0.04938825275171937,
          0.04581201711078057,
          0.04492044978725365,
          0.044917788641271106,
          0.046770113412724426,
          0.046207614353069124,
          0.0377605854000405,
          0.046979335313250395,
          0.04296563301067103,
          0.03966601185396575,
          0.037033488116228586,
          0.040924161793567046,
          0.038794119311590027,
          0.04496446314638888,
          0.03767691166500286,
          0.036303625614288036,
          0.037783541875935266,
          0.04401809928423038,
          0.04271495345341745,
          0.041323466809650995,
          0.04093589274175631,
          0.03785193194915694,
          0.03767342502398867,
          0.042685686883507545,
          0.04522270685659642,
          0.03938766472999097,
          0.04143958316449239,
          0.04248504568259966,
          0.04075726402272321,
          0.04309854095358706,
          0.04303913129888287,
          0.04286491609105677,
          0.04465740656035034,
          0.0459086912336891,
          0.042107246150106366,
          0.0409875443554295,
          0.04494413356337877,
          0.04402895608358566,
          0.04524580716404126,
          0.043175126359453114,
          0.043990792779251234,
          0.04294765659437734,
          0.04395190026759592,
          0.041155029795144085,
          0.0441820957438985,
          0.043832371036941056,
          0.044558393826829155,
          0.04454059846185041,
          0.04431302175049372,
          0.044691681997067745,
          0.04251984134666733,
          0.04399393331601074,
          0.043252426033529294,
          0.0411792352393605,
          0.03916635210198077,
          0.04261419079009895,
          0.04350490930929019,
          0.04269448126299726,
          0.04158133145479177,
          0.0425308628395699,
          0.04411886200496687,
          0.04115250127121405,
          0.041159603816553654,
          0.0421522976495193,
          0.040004964969809056,
          0.04026823016528531,
          0.040797058091358106,
          0.04127032580860788,
          0.04061612264559026,
          0.040172619746992405,
          0.038840435497938204,
          0.0401638053332171,
          0.038800839561365034,
          0.04076919266186855,
          0.042703637093934814,
          0.03989477452410559,
          0.042663659828475316,
          0.04258011183675776,
          0.040068763197131305,
          0.04201302842608696,
          0.04152425291842688,
          0.03806472278698767,
          0.040481720282152266,
          0.039381591135309583,
          0.04106906698290376,
          0.04117651195032987,
          0.042739758903168765,
          0.041924762792491424,
          0.04297343051249618,
          0.04209629019831913,
          0.046240121530550536,
          0.044768987125226804,
          0.04580336246611303,
          0.041322160057651304,
          0.042304754688409225,
          0.04574204736315476,
          0.0482765210378854,
          0.045383683569804184,
          0.04368615316228884,
          0.04661350273348797,
          0.046670946954807606,
          0.0452180335000391,
          0.04418169192554924,
          0.04949835856847671,
          0.0433570988803455,
          0.038338772660469825,
          0.04314743277100467,
          0.04721409097780146,
          0.04364912971906695,
          0.04497756749882076,
          0.046179064007028967,
          0.042138762025378695,
          0.03987367108651578,
          0.047810052671572054,
          0.05047611938172642,
          0.04798711510604587,
          0.045882397187146935,
          0.03912389502839366,
          0.040200489092269566,
          0.03693710619788144,
          0.033949325912244636,
          0.03443831523772706,
          0.034629584491187776,
          0.03624825251188995,
          0.037895587214029,
          0.04337277946698324,
          0.04072008469133823,
          0.03949315830659759,
          0.04478332412063456,
          0.042721465338710546,
          0.04315534699619917,
          0.03967793067060529,
          0.0427353987382426,
          0.04592948713271632,
          0.04962874672597914,
          0.056475267908652704,
          0.05038509774942974,
          0.024138811778786434,
          0.04310080104492922,
          0.06471166519054197,
          0.09476692433212404,
          0.08236266423388643,
          0.046380369333953696,
          0.0500932339448244,
          0.04648118924100519,
          0.05100254386616194,
          0.05020403453424741,
          0.05143448640805066,
          0.035387585402964265,
          0.04454535705599468,
          0.03841766618879176,
          0.045051178993609414,
          0.037211432973757515,
          0.048632490419554045,
          0.04995074081366144,
          0.03459184247973295,
          0.060989220657922956,
          0.04850974722980543,
          0.04069868867541158,
          0.03377691344013117,
          0.0488400625557711,
          0.03621445809666151,
          0.041418781632116874,
          0.0521790327305825,
          0.06726653668768748,
          0.04824169868557486,
          0.042190022403305244,
          0.054100131619894784,
          0.03884367169923914,
          0.04810488846716797,
          0.039910009936063286,
          0.043644927623017644,
          0.04018205454121364,
          0.04840373457897656,
          0.04306426597740802,
          0.04231256450050454,
          0.02733231841891079,
          0.03368896645671378,
          0.04112793936780382
         ]
        },
        {
         "mode": "lines",
         "name": "dsm",
         "type": "scatter",
         "x": [
          0,
          0.35000014305114746,
          1.8500001430511475,
          2.1500000953674316,
          2.8000001907348633,
          3.200000047683716,
          3.5,
          3.9000000953674316,
          4.3500001430511475,
          4.700000047683716,
          5.1000001430511475,
          5.550000190734863,
          6.3500001430511475,
          6.6000001430511475,
          6.950000047683716,
          7.450000047683716,
          7.950000047683716,
          8.400000095367432,
          8.900000095367432,
          9.150000095367432,
          9.450000047683716,
          10,
          10.600000143051147,
          10.900000095367432,
          12.100000143051147,
          12.850000143051147,
          13.200000047683716,
          13.700000047683716,
          13.850000143051147,
          14.150000095367432,
          14.400000095367432,
          14.650000095367432,
          14.950000047683716,
          15.300000190734863,
          15.650000095367432,
          15.900000095367432,
          16.15000009536743,
          16.450000047683716,
          16.700000047683716,
          17,
          17.300000190734863,
          17.550000190734863,
          17.90000009536743,
          18.350000143051147,
          18.65000009536743,
          19.050000190734863,
          19.40000009536743,
          20.450000047683716,
          20.950000047683716,
          21.300000190734863,
          22.550000190734863,
          23.600000143051147,
          24.40000009536743,
          24.65000009536743,
          24.90000009536743,
          25.100000143051147,
          25.300000190734863,
          27.100000143051147,
          27.65000009536743,
          27.90000009536743,
          28.100000143051147,
          28.300000190734863,
          28.5,
          28.90000009536743,
          29.600000143051147,
          31.550000190734863,
          32.05000019073486,
          32.80000019073486,
          33.30000019073486,
          33.60000014305115,
          33.90000009536743,
          34.15000009536743,
          34.40000009536743,
          34.85000014305115,
          35.450000047683716,
          35.80000019073486,
          36.30000019073486,
          36.65000009536743,
          37.10000014305115,
          37.40000009536743,
          37.65000009536743,
          37.85000014305115,
          38.200000047683716,
          38.450000047683716,
          38.65000009536743,
          38.950000047683716,
          39.25,
          39.75,
          40,
          40.35000014305115,
          40.60000014305115,
          40.90000009536743,
          41.200000047683716,
          41.450000047683716,
          41.65000009536743,
          41.85000014305115,
          42.05000019073486,
          42.35000014305115,
          42.950000047683716,
          43.200000047683716,
          43.40000009536743,
          43.60000014305115,
          43.75,
          43.90000009536743,
          44.05000019073486,
          44.25,
          44.5,
          44.85000014305115,
          45.10000014305115,
          45.30000019073486,
          45.40000009536743,
          45.700000047683716,
          46.30000019073486,
          46.90000009536743,
          47.40000009536743,
          47.700000047683716,
          48.30000019073486,
          48.80000019073486,
          49.15000009536743,
          49.5,
          49.85000014305115,
          50.15000009536743,
          50.35000014305115,
          50.55000019073486,
          50.75,
          51.30000019073486,
          52.15000009536743,
          52.35000014305115,
          52.60000014305115,
          53.15000009536743,
          54.15000009536743,
          54.60000014305115,
          55.5,
          56.35000014305115,
          57.40000009536743,
          58.75,
          59.25,
          59.950000047683716,
          60.60000014305115,
          61.10000014305115,
          61.5,
          61.700000047683716,
          61.90000009536743,
          62.700000047683716,
          63.90000009536743,
          64.30000019073486,
          64.90000009536743,
          65.40000009536743,
          65.85000014305115,
          66.25,
          66.60000014305115,
          66.90000009536743,
          67.20000004768372,
          67.5,
          67.95000004768372,
          68.40000009536743,
          68.65000009536743,
          68.95000004768372,
          69.20000004768372,
          69.45000004768372,
          69.65000009536743,
          70,
          70.35000014305115,
          71.10000014305115,
          71.55000019073486,
          72,
          72.95000004768372,
          73.35000014305115,
          73.55000019073486,
          73.95000004768372,
          74.80000019073486,
          76.40000009536743,
          76.70000004768372,
          77.10000014305115,
          78.05000019073486,
          78.35000014305115,
          78.65000009536743,
          79.40000009536743,
          79.80000019073486,
          80,
          80.30000019073486,
          80.85000014305115,
          81.20000004768372,
          81.60000014305115,
          82,
          82.20000004768372,
          82.5,
          82.70000004768372,
          83,
          83.25,
          83.5,
          83.75,
          84,
          84.20000004768372,
          84.40000009536743,
          84.65000009536743,
          84.90000009536743,
          85.10000014305115,
          85.40000009536743,
          86.25,
          86.60000014305115,
          86.90000009536743,
          87.15000009536743,
          87.55000019073486,
          88.60000014305115,
          89.60000014305115,
          90.15000009536743,
          90.75,
          91.10000014305115,
          92.20000004768372,
          93.25,
          93.90000009536743,
          94.45000004768372,
          95.05000019073486,
          95.35000014305115,
          95.60000014305115,
          95.90000009536743,
          96.55000019073486,
          97.10000014305115,
          97.55000019073486,
          98.20000004768372,
          98.30000019073486,
          98.60000014305115,
          99.05000019073486,
          99.35000014305115,
          99.65000009536743,
          99.95000004768372,
          100.40000009536743,
          101.05000019073486,
          101.35000014305115,
          101.60000014305115,
          102.05000019073486,
          102.55000019073486,
          103.30000019073486,
          103.70000004768372,
          104.30000019073486,
          104.90000009536743,
          105.15000009536743,
          105.40000009536743,
          105.65000009536743,
          105.95000004768372,
          106.25,
          106.70000004768372,
          107.20000004768372,
          108.10000014305115,
          108.80000019073486,
          109.5,
          110.20000004768372,
          111.15000009536743,
          111.55000019073486,
          112.10000014305115,
          112.90000009536743,
          113.40000009536743,
          113.75,
          114.05000019073486,
          114.30000019073486,
          114.55000019073486,
          114.90000009536743,
          115.20000004768372,
          115.5,
          115.80000019073486,
          116.05000019073486,
          116.30000019073486,
          116.60000014305115,
          116.90000009536743,
          117.15000009536743,
          118.05000019073486,
          118.40000009536743,
          118.90000009536743,
          119.35000014305115,
          120,
          120.95000004768372,
          121.45000004768372,
          121.75,
          122,
          122.30000019073486,
          122.90000009536743,
          123.45000004768372,
          123.95000004768372,
          124.35000014305115,
          124.95000004768372,
          125.35000014305115,
          125.70000004768372,
          126.35000014305115,
          126.65000009536743,
          126.85000014305115,
          127.10000014305115,
          127.5,
          127.70000004768372,
          127.95000004768372,
          128.25,
          128.60000014305115,
          129.20000004768372,
          129.85000014305115,
          130.10000014305115,
          130.30000019073486,
          130.45000004768372,
          130.65000009536743,
          131.45000004768372,
          132.20000004768372,
          133.05000019073486,
          134.85000014305115,
          135.45000004768372,
          136.85000014305115
         ],
         "y": [
          0.06683441166824411,
          0.07048670822719542,
          0.06894625778469649,
          0.05988653091924713,
          0.04916133499576541,
          0.035259047794062456,
          0.03266281921261482,
          0.03896334533255744,
          0.04834751194635029,
          0.05415720041724258,
          0.06079170621883163,
          0.059397294547524584,
          0.06338086957573445,
          0.06871518136676764,
          0.0719674672679853,
          0.07252525561347854,
          0.07465469415012316,
          0.08310290124823548,
          0.08582814012483493,
          0.0936121386406942,
          0.10288434814576619,
          0.1079739013918712,
          0.11066367419549863,
          0.1181047562486716,
          0.11897246014211962,
          0.12300975171997328,
          0.12703955908010195,
          0.12413878954208786,
          0.12086849566261298,
          0.1113703491995426,
          0.10310598824330681,
          0.0958018469983838,
          0.08901706786554349,
          0.08234443481881396,
          0.07892962509949088,
          0.07651341676474654,
          0.0722979136658897,
          0.06758066237086058,
          0.06551239079933861,
          0.06408324825762245,
          0.06169575164435531,
          0.060874340514984096,
          0.05842181110669959,
          0.05920724142691328,
          0.05990281994662727,
          0.062364001566707045,
          0.06552441129537828,
          0.073398676534126,
          0.08394706339203398,
          0.09965469039863208,
          0.10389270187138816,
          0.10161557923377648,
          0.1072037430039937,
          0.11275301218799953,
          0.11879772086142397,
          0.1238443628343108,
          0.12624064741155858,
          0.12318160061909988,
          0.12360651682452874,
          0.12021065544482253,
          0.1164026490332716,
          0.11087357515260032,
          0.10261081712910008,
          0.08867721187822417,
          0.06778816032942427,
          0.07286428518156686,
          0.06756825684726113,
          0.06795569764015084,
          0.06812051600320246,
          0.06948621750407699,
          0.07231223206159801,
          0.0756363098877973,
          0.0782920268661164,
          0.0802305587840474,
          0.08130897714778665,
          0.07766211098340603,
          0.07895227362024247,
          0.07282534364728104,
          0.07910473677924103,
          0.07961224980520808,
          0.07238030307386518,
          0.07008972489090765,
          0.07427413138600245,
          0.07752238316224438,
          0.08649354509866082,
          0.08736395726440674,
          0.09241611908136124,
          0.0938616563412626,
          0.09592272295829078,
          0.10186040964941931,
          0.10714345083737718,
          0.1156949501234241,
          0.12098776337881703,
          0.12435722515558241,
          0.12881930640530964,
          0.13415273776847247,
          0.13768957070852683,
          0.1399962760743722,
          0.1376581856814173,
          0.13656748345993983,
          0.13442440592332033,
          0.13473986673533137,
          0.13430290651288107,
          0.13315355875387183,
          0.13159894845902076,
          0.13223503172236184,
          0.13454713339591187,
          0.13453645942946849,
          0.1385455220372272,
          0.1412723298285238,
          0.14178694626333208,
          0.1405649346704178,
          0.13738355556348042,
          0.13596006891197862,
          0.13397688343017936,
          0.1356391922534688,
          0.1346718562893623,
          0.13396595030756067,
          0.13208540319128798,
          0.1293549272685014,
          0.1300388887037579,
          0.12922061250556066,
          0.1292867740018191,
          0.12367774510242631,
          0.11948298070872515,
          0.11994334813881344,
          0.11840889803386236,
          0.11351017622359119,
          0.10620469462937608,
          0.10439929322757803,
          0.10659060867612523,
          0.10533418919723615,
          0.10521037775567468,
          0.10924572356987503,
          0.10284970093461669,
          0.09692350699725354,
          0.09557694864849929,
          0.09067643368154747,
          0.08276049837021714,
          0.08319783988808442,
          0.08016127625487247,
          0.07778329305779953,
          0.07526307909681512,
          0.07746208166099712,
          0.07862772083534061,
          0.08072584030558684,
          0.0813854760310448,
          0.08193875109141713,
          0.08181822537778821,
          0.07826162101560008,
          0.07523674891085169,
          0.07624350035478374,
          0.07075253603048415,
          0.0654899415194658,
          0.06309722505957033,
          0.0638351983789176,
          0.06390594062858754,
          0.06602224325649288,
          0.0684603772408844,
          0.06967560790789618,
          0.07052037415217549,
          0.07166934359299029,
          0.07209983983820821,
          0.07200219385962209,
          0.07124646882028342,
          0.07145619429590519,
          0.07800246323430425,
          0.08570696620289082,
          0.09171463672327289,
          0.09826663098644325,
          0.1046412609668832,
          0.1075743014910563,
          0.1146927443513102,
          0.12321401482902851,
          0.12533993851863975,
          0.13188539160552645,
          0.14332265471080063,
          0.1512729756766165,
          0.15528974059536435,
          0.16376378535052583,
          0.16370916216375614,
          0.1575477691221639,
          0.15390046836954754,
          0.153023498389146,
          0.1465070602456015,
          0.13545640934111947,
          0.1225268777503452,
          0.11147783020153322,
          0.10757519323930521,
          0.10001709862744773,
          0.08997809971162953,
          0.08005637144866454,
          0.06741466743189449,
          0.05637103478689709,
          0.04848350272858885,
          0.04102778626869905,
          0.030829386461810025,
          0.026017976402401704,
          0.01502230233912431,
          0.01533108828894754,
          0.017026905582731403,
          0.022095833167284376,
          0.03063071095640676,
          0.042305812088878646,
          0.03691933652920798,
          0.046748038545925776,
          0.051228128143580146,
          0.04419844172664114,
          0.039962996490619185,
          0.04433804462809127,
          0.054763004366033624,
          0.055455334312427704,
          0.05774163591147189,
          0.063815555920444,
          0.061718061575167384,
          0.0616731526071881,
          0.06301920492113501,
          0.06949742193112501,
          0.08285002613974704,
          0.07587584197229322,
          0.07584913358243932,
          0.0778044151751025,
          0.0793777773395128,
          0.08055274181362088,
          0.07998223094072464,
          0.07633891545011795,
          0.07267006175461443,
          0.0682826717648033,
          0.06542589474120304,
          0.06769752486804621,
          0.06867087070008897,
          0.07334800336943577,
          0.0704683919450832,
          0.06225794826156019,
          0.0508386162592828,
          0.04106379230246756,
          0.038156318155050425,
          0.036052569429418174,
          0.03698948686118534,
          0.04291254001528879,
          0.049700686633452236,
          0.057694415665796334,
          0.06312529727809894,
          0.061509523435132635,
          0.06046048967162316,
          0.05841677445452888,
          0.06099588506465099,
          0.0664589690831421,
          0.06566936301727193,
          0.05747071851591301,
          0.04877279131529082,
          0.04724766542198642,
          0.0486682817795953,
          0.05058833421340237,
          0.0481222266899131,
          0.050793224521151654,
          0.05789539237506359,
          0.06976079082900989,
          0.07035066402453768,
          0.08394421001280589,
          0.09246294396505748,
          0.09723690549693244,
          0.10447837152821013,
          0.11666379612956129,
          0.12149892138738588,
          0.12224972180957885,
          0.1237931932350472,
          0.12470490849787906,
          0.12521898728052125,
          0.1276960210082132,
          0.13086464971723408,
          0.133301320210369,
          0.13037533473788937,
          0.12571573905048186,
          0.12166173561154861,
          0.11484758665106612,
          0.10906425794719246,
          0.1043869782286522,
          0.09819749733278396,
          0.09367962829891321,
          0.08285741670727219,
          0.06947557969798691,
          0.06084970346733056,
          0.05717723991205483,
          0.05136819056587013,
          0.04671911917599042,
          0.04476885639631116,
          0.045154123081092686,
          0.047020790853700124,
          0.05025301900546438,
          0.054308102305312016,
          0.06066010336503572,
          0.03837271345778004,
          0.06067587781279934,
          0.056560938130232996,
          0.05210245537626398,
          0.04721526632859745,
          0.04410056271407615,
          0.04326498617667934,
          0.045203676908438434,
          0.04270533254320366,
          0.04378097027828887,
          0.04174353362256057,
          0.04705452640664498
         ]
        }
       ],
       "layout": {
        "template": {
         "data": {
          "bar": [
           {
            "error_x": {
             "color": "#2a3f5f"
            },
            "error_y": {
             "color": "#2a3f5f"
            },
            "marker": {
             "line": {
              "color": "#E5ECF6",
              "width": 0.5
             }
            },
            "type": "bar"
           }
          ],
          "barpolar": [
           {
            "marker": {
             "line": {
              "color": "#E5ECF6",
              "width": 0.5
             }
            },
            "type": "barpolar"
           }
          ],
          "carpet": [
           {
            "aaxis": {
             "endlinecolor": "#2a3f5f",
             "gridcolor": "white",
             "linecolor": "white",
             "minorgridcolor": "white",
             "startlinecolor": "#2a3f5f"
            },
            "baxis": {
             "endlinecolor": "#2a3f5f",
             "gridcolor": "white",
             "linecolor": "white",
             "minorgridcolor": "white",
             "startlinecolor": "#2a3f5f"
            },
            "type": "carpet"
           }
          ],
          "choropleth": [
           {
            "colorbar": {
             "outlinewidth": 0,
             "ticks": ""
            },
            "type": "choropleth"
           }
          ],
          "contour": [
           {
            "colorbar": {
             "outlinewidth": 0,
             "ticks": ""
            },
            "colorscale": [
             [
              0,
              "#0d0887"
             ],
             [
              0.1111111111111111,
              "#46039f"
             ],
             [
              0.2222222222222222,
              "#7201a8"
             ],
             [
              0.3333333333333333,
              "#9c179e"
             ],
             [
              0.4444444444444444,
              "#bd3786"
             ],
             [
              0.5555555555555556,
              "#d8576b"
             ],
             [
              0.6666666666666666,
              "#ed7953"
             ],
             [
              0.7777777777777778,
              "#fb9f3a"
             ],
             [
              0.8888888888888888,
              "#fdca26"
             ],
             [
              1,
              "#f0f921"
             ]
            ],
            "type": "contour"
           }
          ],
          "contourcarpet": [
           {
            "colorbar": {
             "outlinewidth": 0,
             "ticks": ""
            },
            "type": "contourcarpet"
           }
          ],
          "heatmap": [
           {
            "colorbar": {
             "outlinewidth": 0,
             "ticks": ""
            },
            "colorscale": [
             [
              0,
              "#0d0887"
             ],
             [
              0.1111111111111111,
              "#46039f"
             ],
             [
              0.2222222222222222,
              "#7201a8"
             ],
             [
              0.3333333333333333,
              "#9c179e"
             ],
             [
              0.4444444444444444,
              "#bd3786"
             ],
             [
              0.5555555555555556,
              "#d8576b"
             ],
             [
              0.6666666666666666,
              "#ed7953"
             ],
             [
              0.7777777777777778,
              "#fb9f3a"
             ],
             [
              0.8888888888888888,
              "#fdca26"
             ],
             [
              1,
              "#f0f921"
             ]
            ],
            "type": "heatmap"
           }
          ],
          "heatmapgl": [
           {
            "colorbar": {
             "outlinewidth": 0,
             "ticks": ""
            },
            "colorscale": [
             [
              0,
              "#0d0887"
             ],
             [
              0.1111111111111111,
              "#46039f"
             ],
             [
              0.2222222222222222,
              "#7201a8"
             ],
             [
              0.3333333333333333,
              "#9c179e"
             ],
             [
              0.4444444444444444,
              "#bd3786"
             ],
             [
              0.5555555555555556,
              "#d8576b"
             ],
             [
              0.6666666666666666,
              "#ed7953"
             ],
             [
              0.7777777777777778,
              "#fb9f3a"
             ],
             [
              0.8888888888888888,
              "#fdca26"
             ],
             [
              1,
              "#f0f921"
             ]
            ],
            "type": "heatmapgl"
           }
          ],
          "histogram": [
           {
            "marker": {
             "colorbar": {
              "outlinewidth": 0,
              "ticks": ""
             }
            },
            "type": "histogram"
           }
          ],
          "histogram2d": [
           {
            "colorbar": {
             "outlinewidth": 0,
             "ticks": ""
            },
            "colorscale": [
             [
              0,
              "#0d0887"
             ],
             [
              0.1111111111111111,
              "#46039f"
             ],
             [
              0.2222222222222222,
              "#7201a8"
             ],
             [
              0.3333333333333333,
              "#9c179e"
             ],
             [
              0.4444444444444444,
              "#bd3786"
             ],
             [
              0.5555555555555556,
              "#d8576b"
             ],
             [
              0.6666666666666666,
              "#ed7953"
             ],
             [
              0.7777777777777778,
              "#fb9f3a"
             ],
             [
              0.8888888888888888,
              "#fdca26"
             ],
             [
              1,
              "#f0f921"
             ]
            ],
            "type": "histogram2d"
           }
          ],
          "histogram2dcontour": [
           {
            "colorbar": {
             "outlinewidth": 0,
             "ticks": ""
            },
            "colorscale": [
             [
              0,
              "#0d0887"
             ],
             [
              0.1111111111111111,
              "#46039f"
             ],
             [
              0.2222222222222222,
              "#7201a8"
             ],
             [
              0.3333333333333333,
              "#9c179e"
             ],
             [
              0.4444444444444444,
              "#bd3786"
             ],
             [
              0.5555555555555556,
              "#d8576b"
             ],
             [
              0.6666666666666666,
              "#ed7953"
             ],
             [
              0.7777777777777778,
              "#fb9f3a"
             ],
             [
              0.8888888888888888,
              "#fdca26"
             ],
             [
              1,
              "#f0f921"
             ]
            ],
            "type": "histogram2dcontour"
           }
          ],
          "mesh3d": [
           {
            "colorbar": {
             "outlinewidth": 0,
             "ticks": ""
            },
            "type": "mesh3d"
           }
          ],
          "parcoords": [
           {
            "line": {
             "colorbar": {
              "outlinewidth": 0,
              "ticks": ""
             }
            },
            "type": "parcoords"
           }
          ],
          "pie": [
           {
            "automargin": true,
            "type": "pie"
           }
          ],
          "scatter": [
           {
            "marker": {
             "colorbar": {
              "outlinewidth": 0,
              "ticks": ""
             }
            },
            "type": "scatter"
           }
          ],
          "scatter3d": [
           {
            "line": {
             "colorbar": {
              "outlinewidth": 0,
              "ticks": ""
             }
            },
            "marker": {
             "colorbar": {
              "outlinewidth": 0,
              "ticks": ""
             }
            },
            "type": "scatter3d"
           }
          ],
          "scattercarpet": [
           {
            "marker": {
             "colorbar": {
              "outlinewidth": 0,
              "ticks": ""
             }
            },
            "type": "scattercarpet"
           }
          ],
          "scattergeo": [
           {
            "marker": {
             "colorbar": {
              "outlinewidth": 0,
              "ticks": ""
             }
            },
            "type": "scattergeo"
           }
          ],
          "scattergl": [
           {
            "marker": {
             "colorbar": {
              "outlinewidth": 0,
              "ticks": ""
             }
            },
            "type": "scattergl"
           }
          ],
          "scattermapbox": [
           {
            "marker": {
             "colorbar": {
              "outlinewidth": 0,
              "ticks": ""
             }
            },
            "type": "scattermapbox"
           }
          ],
          "scatterpolar": [
           {
            "marker": {
             "colorbar": {
              "outlinewidth": 0,
              "ticks": ""
             }
            },
            "type": "scatterpolar"
           }
          ],
          "scatterpolargl": [
           {
            "marker": {
             "colorbar": {
              "outlinewidth": 0,
              "ticks": ""
             }
            },
            "type": "scatterpolargl"
           }
          ],
          "scatterternary": [
           {
            "marker": {
             "colorbar": {
              "outlinewidth": 0,
              "ticks": ""
             }
            },
            "type": "scatterternary"
           }
          ],
          "surface": [
           {
            "colorbar": {
             "outlinewidth": 0,
             "ticks": ""
            },
            "colorscale": [
             [
              0,
              "#0d0887"
             ],
             [
              0.1111111111111111,
              "#46039f"
             ],
             [
              0.2222222222222222,
              "#7201a8"
             ],
             [
              0.3333333333333333,
              "#9c179e"
             ],
             [
              0.4444444444444444,
              "#bd3786"
             ],
             [
              0.5555555555555556,
              "#d8576b"
             ],
             [
              0.6666666666666666,
              "#ed7953"
             ],
             [
              0.7777777777777778,
              "#fb9f3a"
             ],
             [
              0.8888888888888888,
              "#fdca26"
             ],
             [
              1,
              "#f0f921"
             ]
            ],
            "type": "surface"
           }
          ],
          "table": [
           {
            "cells": {
             "fill": {
              "color": "#EBF0F8"
             },
             "line": {
              "color": "white"
             }
            },
            "header": {
             "fill": {
              "color": "#C8D4E3"
             },
             "line": {
              "color": "white"
             }
            },
            "type": "table"
           }
          ]
         },
         "layout": {
          "annotationdefaults": {
           "arrowcolor": "#2a3f5f",
           "arrowhead": 0,
           "arrowwidth": 1
          },
          "autotypenumbers": "strict",
          "coloraxis": {
           "colorbar": {
            "outlinewidth": 0,
            "ticks": ""
           }
          },
          "colorscale": {
           "diverging": [
            [
             0,
             "#8e0152"
            ],
            [
             0.1,
             "#c51b7d"
            ],
            [
             0.2,
             "#de77ae"
            ],
            [
             0.3,
             "#f1b6da"
            ],
            [
             0.4,
             "#fde0ef"
            ],
            [
             0.5,
             "#f7f7f7"
            ],
            [
             0.6,
             "#e6f5d0"
            ],
            [
             0.7,
             "#b8e186"
            ],
            [
             0.8,
             "#7fbc41"
            ],
            [
             0.9,
             "#4d9221"
            ],
            [
             1,
             "#276419"
            ]
           ],
           "sequential": [
            [
             0,
             "#0d0887"
            ],
            [
             0.1111111111111111,
             "#46039f"
            ],
            [
             0.2222222222222222,
             "#7201a8"
            ],
            [
             0.3333333333333333,
             "#9c179e"
            ],
            [
             0.4444444444444444,
             "#bd3786"
            ],
            [
             0.5555555555555556,
             "#d8576b"
            ],
            [
             0.6666666666666666,
             "#ed7953"
            ],
            [
             0.7777777777777778,
             "#fb9f3a"
            ],
            [
             0.8888888888888888,
             "#fdca26"
            ],
            [
             1,
             "#f0f921"
            ]
           ],
           "sequentialminus": [
            [
             0,
             "#0d0887"
            ],
            [
             0.1111111111111111,
             "#46039f"
            ],
            [
             0.2222222222222222,
             "#7201a8"
            ],
            [
             0.3333333333333333,
             "#9c179e"
            ],
            [
             0.4444444444444444,
             "#bd3786"
            ],
            [
             0.5555555555555556,
             "#d8576b"
            ],
            [
             0.6666666666666666,
             "#ed7953"
            ],
            [
             0.7777777777777778,
             "#fb9f3a"
            ],
            [
             0.8888888888888888,
             "#fdca26"
            ],
            [
             1,
             "#f0f921"
            ]
           ]
          },
          "colorway": [
           "#636efa",
           "#EF553B",
           "#00cc96",
           "#ab63fa",
           "#FFA15A",
           "#19d3f3",
           "#FF6692",
           "#B6E880",
           "#FF97FF",
           "#FECB52"
          ],
          "font": {
           "color": "#2a3f5f"
          },
          "geo": {
           "bgcolor": "white",
           "lakecolor": "white",
           "landcolor": "#E5ECF6",
           "showlakes": true,
           "showland": true,
           "subunitcolor": "white"
          },
          "hoverlabel": {
           "align": "left"
          },
          "hovermode": "closest",
          "mapbox": {
           "style": "light"
          },
          "paper_bgcolor": "white",
          "plot_bgcolor": "#E5ECF6",
          "polar": {
           "angularaxis": {
            "gridcolor": "white",
            "linecolor": "white",
            "ticks": ""
           },
           "bgcolor": "#E5ECF6",
           "radialaxis": {
            "gridcolor": "white",
            "linecolor": "white",
            "ticks": ""
           }
          },
          "scene": {
           "xaxis": {
            "backgroundcolor": "#E5ECF6",
            "gridcolor": "white",
            "gridwidth": 2,
            "linecolor": "white",
            "showbackground": true,
            "ticks": "",
            "zerolinecolor": "white"
           },
           "yaxis": {
            "backgroundcolor": "#E5ECF6",
            "gridcolor": "white",
            "gridwidth": 2,
            "linecolor": "white",
            "showbackground": true,
            "ticks": "",
            "zerolinecolor": "white"
           },
           "zaxis": {
            "backgroundcolor": "#E5ECF6",
            "gridcolor": "white",
            "gridwidth": 2,
            "linecolor": "white",
            "showbackground": true,
            "ticks": "",
            "zerolinecolor": "white"
           }
          },
          "shapedefaults": {
           "line": {
            "color": "#2a3f5f"
           }
          },
          "ternary": {
           "aaxis": {
            "gridcolor": "white",
            "linecolor": "white",
            "ticks": ""
           },
           "baxis": {
            "gridcolor": "white",
            "linecolor": "white",
            "ticks": ""
           },
           "bgcolor": "#E5ECF6",
           "caxis": {
            "gridcolor": "white",
            "linecolor": "white",
            "ticks": ""
           }
          },
          "title": {
           "x": 0.05
          },
          "xaxis": {
           "automargin": true,
           "gridcolor": "white",
           "linecolor": "white",
           "ticks": "",
           "title": {
            "standoff": 15
           },
           "zerolinecolor": "white",
           "zerolinewidth": 2
          },
          "yaxis": {
           "automargin": true,
           "gridcolor": "white",
           "linecolor": "white",
           "ticks": "",
           "title": {
            "standoff": 15
           },
           "zerolinecolor": "white",
           "zerolinewidth": 2
          }
         }
        },
        "title": {
         "text": "Error of estimated position over time"
        },
        "xaxis": {
         "title": {
          "text": "Time in s"
         }
        },
        "yaxis": {
         "title": {
          "text": "Euclidean distance to true position"
         }
        }
       }
      },
      "text/html": [
       "<div>                            <div id=\"701813e8-f6c6-4e2e-b013-9893a4066085\" class=\"plotly-graph-div\" style=\"height:525px; width:100%;\"></div>            <script type=\"text/javascript\">                require([\"plotly\"], function(Plotly) {                    window.PLOTLYENV=window.PLOTLYENV || {};                                    if (document.getElementById(\"701813e8-f6c6-4e2e-b013-9893a4066085\")) {                    Plotly.newPlot(                        \"701813e8-f6c6-4e2e-b013-9893a4066085\",                        [{\"mode\": \"lines\", \"name\": \"orb\", \"type\": \"scatter\", \"x\": [0.0, 0.04999995231628418, 0.09999990463256836, 0.15000009536743164, 0.20000004768371582, 0.25, 0.2999999523162842, 0.34999990463256836, 0.40000009536743164, 0.4500000476837158, 0.5, 0.5499999523162842, 0.5999999046325684, 0.6500000953674316, 0.7000000476837158, 0.75, 0.7999999523162842, 0.8499999046325684, 0.9000000953674316, 0.9500000476837158, 1.0, 1.0499999523162842, 1.0999999046325684, 1.1500000953674316, 1.2000000476837158, 1.25, 1.2999999523162842, 1.3499999046325684, 1.4000000953674316, 1.4500000476837158, 1.5, 1.5499999523162842, 1.5999999046325684, 1.6500000953674316, 1.7000000476837158, 1.75, 1.7999999523162842, 1.8499999046325684, 1.9000000953674316, 1.9500000476837158, 2.0, 2.049999952316284, 2.0999999046325684, 2.1500000953674316, 2.200000047683716, 2.25, 2.299999952316284, 2.3499999046325684, 2.4000000953674316, 2.450000047683716, 2.5, 2.549999952316284, 2.5999999046325684, 2.6500000953674316, 2.700000047683716, 2.75, 2.799999952316284, 2.8499999046325684, 2.9000000953674316, 2.950000047683716, 3.0, 3.049999952316284, 3.0999999046325684, 3.1500000953674316, 3.200000047683716, 3.25, 3.299999952316284, 3.3499999046325684, 3.4000000953674316, 3.450000047683716, 3.5, 3.549999952316284, 3.5999999046325684, 3.6500000953674316, 3.700000047683716, 3.75, 3.799999952316284, 3.8499999046325684, 3.9000000953674316, 3.950000047683716, 4.0, 4.049999952316284, 4.099999904632568, 4.150000095367432, 4.200000047683716, 4.25, 4.299999952316284, 4.349999904632568, 4.400000095367432, 4.450000047683716, 4.5, 4.549999952316284, 4.599999904632568, 4.650000095367432, 4.700000047683716, 4.75, 4.799999952316284, 4.849999904632568, 4.900000095367432, 4.950000047683716, 5.0, 5.049999952316284, 5.099999904632568, 5.150000095367432, 5.200000047683716, 5.25, 5.299999952316284, 5.349999904632568, 5.400000095367432, 5.450000047683716, 5.5, 5.549999952316284, 5.599999904632568, 5.650000095367432, 5.700000047683716, 5.75, 5.799999952316284, 5.849999904632568, 5.900000095367432, 5.950000047683716, 6.0, 6.049999952316284, 6.099999904632568, 6.150000095367432, 6.200000047683716, 6.25, 6.299999952316284, 6.349999904632568, 6.400000095367432, 6.450000047683716, 6.5, 6.549999952316284, 6.599999904632568, 6.650000095367432, 6.700000047683716, 6.75, 6.799999952316284, 6.849999904632568, 6.900000095367432, 6.950000047683716, 7.0, 7.049999952316284, 7.099999904632568, 7.150000095367432, 7.200000047683716, 7.25, 7.299999952316284, 7.349999904632568, 7.400000095367432, 7.450000047683716, 7.5, 7.549999952316284, 7.599999904632568, 7.650000095367432, 7.700000047683716, 7.75, 7.799999952316284, 7.849999904632568, 7.900000095367432, 7.950000047683716, 8.0, 8.049999952316284, 8.099999904632568, 8.150000095367432, 8.200000047683716, 8.25, 8.299999952316284, 8.349999904632568, 8.400000095367432, 8.450000047683716, 8.5, 8.549999952316284, 8.599999904632568, 8.650000095367432, 8.700000047683716, 8.75, 8.799999952316284, 8.849999904632568, 8.900000095367432, 8.950000047683716, 9.0, 9.049999952316284, 9.099999904632568, 9.150000095367432, 9.200000047683716, 9.25, 9.299999952316284, 9.349999904632568, 9.400000095367432, 9.450000047683716, 9.5, 9.549999952316284, 9.599999904632568, 9.650000095367432, 9.700000047683716, 9.75, 9.799999952316284, 9.849999904632568, 9.900000095367432, 9.950000047683716, 10.0, 10.049999952316284, 10.099999904632568, 10.150000095367432, 10.200000047683716, 10.25, 10.299999952316284, 10.349999904632568, 10.400000095367432, 10.450000047683716, 10.5, 10.549999952316284, 10.599999904632568, 10.650000095367432, 10.700000047683716, 10.75, 10.799999952316284, 10.849999904632568, 10.900000095367432, 10.950000047683716, 11.0, 11.049999952316284, 11.099999904632568, 11.150000095367432, 11.200000047683716, 11.25, 11.299999952316284, 11.349999904632568, 11.400000095367432, 11.450000047683716, 11.5, 11.549999952316284, 11.599999904632568, 11.650000095367432, 11.700000047683716, 11.75, 11.799999952316284, 11.849999904632568, 11.900000095367432, 11.950000047683716, 12.0, 12.049999952316284, 12.099999904632568, 12.150000095367432, 12.200000047683716, 12.25, 12.299999952316284, 12.349999904632568, 12.400000095367432, 12.450000047683716, 12.5, 12.549999952316284, 12.599999904632568, 12.650000095367432, 12.700000047683716, 12.75, 12.799999952316284, 12.849999904632568, 12.900000095367432, 12.950000047683716, 13.0, 13.049999952316284, 13.099999904632568, 13.150000095367432, 13.200000047683716, 13.25, 13.299999952316284, 13.349999904632568, 13.400000095367432, 13.450000047683716, 13.5, 13.549999952316284, 13.599999904632568, 13.650000095367432, 13.700000047683716, 13.75, 13.799999952316284, 13.849999904632568, 13.900000095367432, 13.950000047683716, 14.0, 14.049999952316284, 14.099999904632568, 14.150000095367432, 14.200000047683716, 14.25, 14.299999952316284, 14.349999904632568, 14.400000095367432, 14.450000047683716, 14.5, 14.549999952316284, 14.599999904632568, 14.650000095367432, 14.700000047683716, 14.75, 14.799999952316284, 14.849999904632568, 14.900000095367432, 14.950000047683716, 15.0, 15.049999952316284, 15.099999904632568, 15.150000095367432, 15.200000047683716, 15.25, 15.299999952316284, 15.349999904632568, 15.400000095367432, 15.450000047683716, 15.5, 15.549999952316284, 15.599999904632568, 15.650000095367432, 15.700000047683716, 15.75, 15.799999952316284, 15.849999904632568, 15.900000095367432, 15.950000047683716, 16.0, 16.049999952316284, 16.09999990463257, 16.15000009536743, 16.200000047683716, 16.25, 16.299999952316284, 16.34999990463257, 16.40000009536743, 16.450000047683716, 16.5, 16.549999952316284, 16.59999990463257, 16.65000009536743, 16.700000047683716, 16.75, 16.799999952316284, 16.84999990463257, 16.90000009536743, 16.950000047683716, 17.0, 17.049999952316284, 17.09999990463257, 17.15000009536743, 17.200000047683716, 17.25, 17.299999952316284, 17.34999990463257, 17.40000009536743, 17.450000047683716, 17.5, 17.549999952316284, 17.59999990463257, 17.65000009536743, 17.700000047683716, 17.75, 17.799999952316284, 17.84999990463257, 17.90000009536743, 17.950000047683716, 18.0, 18.049999952316284, 18.09999990463257, 18.15000009536743, 18.200000047683716, 18.25, 18.299999952316284, 18.34999990463257, 18.40000009536743, 18.450000047683716, 18.5, 18.549999952316284, 18.59999990463257, 18.65000009536743, 18.700000047683716, 18.75, 18.799999952316284, 18.84999990463257, 18.90000009536743, 18.950000047683716, 19.0, 19.049999952316284, 19.09999990463257, 19.15000009536743, 19.200000047683716, 19.25, 19.299999952316284, 19.34999990463257, 19.40000009536743, 19.450000047683716, 19.5, 19.549999952316284, 19.59999990463257, 19.65000009536743, 19.700000047683716, 19.75, 19.799999952316284, 19.84999990463257, 19.90000009536743, 19.950000047683716, 20.0, 20.049999952316284, 20.09999990463257, 20.15000009536743, 20.200000047683716, 20.25, 20.299999952316284, 20.34999990463257, 20.40000009536743, 20.450000047683716, 20.5, 20.549999952316284, 20.59999990463257, 20.65000009536743, 20.700000047683716, 20.75, 20.799999952316284, 20.84999990463257, 20.90000009536743, 20.950000047683716, 21.0, 21.049999952316284, 21.09999990463257, 21.15000009536743, 21.200000047683716, 21.25, 21.299999952316284, 21.34999990463257, 21.40000009536743, 21.450000047683716, 21.5, 21.549999952316284, 21.59999990463257, 21.65000009536743, 21.700000047683716, 21.75, 21.799999952316284, 21.84999990463257, 21.90000009536743, 21.950000047683716, 22.0, 22.049999952316284, 22.09999990463257, 22.15000009536743, 22.200000047683716, 22.25, 22.299999952316284, 22.34999990463257, 22.40000009536743, 22.450000047683716, 22.5, 22.549999952316284, 22.59999990463257, 22.65000009536743, 22.700000047683716, 22.75, 22.799999952316284, 22.84999990463257, 22.90000009536743, 22.950000047683716, 23.0, 23.049999952316284, 23.09999990463257, 23.15000009536743, 23.200000047683716, 23.25, 23.299999952316284, 23.34999990463257, 23.40000009536743, 23.450000047683716, 23.5, 23.549999952316284, 23.59999990463257, 23.65000009536743, 23.700000047683716, 23.75, 23.799999952316284, 23.84999990463257, 23.90000009536743, 23.950000047683716, 24.0, 24.049999952316284, 24.09999990463257, 24.15000009536743, 24.200000047683716, 24.25, 24.299999952316284, 24.34999990463257, 24.40000009536743, 24.450000047683716, 24.5, 24.549999952316284, 24.59999990463257, 24.65000009536743, 24.700000047683716, 24.75, 24.799999952316284, 24.84999990463257, 24.90000009536743, 24.950000047683716, 25.0, 25.049999952316284, 25.09999990463257, 25.15000009536743, 25.200000047683716, 25.25, 25.299999952316284, 25.34999990463257, 25.40000009536743, 25.450000047683716, 25.5, 25.549999952316284, 25.59999990463257, 25.65000009536743, 25.700000047683716, 25.75, 25.799999952316284, 25.84999990463257, 25.90000009536743, 25.950000047683716, 26.0, 26.049999952316284, 26.09999990463257, 26.15000009536743, 26.200000047683716, 26.25, 26.299999952316284, 26.34999990463257, 26.40000009536743, 26.450000047683716, 26.5, 26.549999952316284, 26.59999990463257, 26.65000009536743, 26.700000047683716, 26.75, 26.799999952316284, 26.84999990463257, 26.90000009536743, 26.950000047683716, 27.0, 27.049999952316284, 27.09999990463257, 27.15000009536743, 27.200000047683716, 27.25, 27.299999952316284, 27.34999990463257, 27.40000009536743, 27.450000047683716, 27.5, 27.549999952316284, 27.59999990463257, 27.65000009536743, 27.700000047683716, 27.75, 27.799999952316284, 27.84999990463257, 27.90000009536743, 27.950000047683716, 28.0, 28.049999952316284, 28.09999990463257, 28.15000009536743, 28.200000047683716, 28.25, 28.299999952316284, 28.34999990463257, 28.40000009536743, 28.450000047683716, 28.5, 28.549999952316284, 28.59999990463257, 28.65000009536743, 28.700000047683716, 28.75, 28.799999952316284, 28.84999990463257, 28.90000009536743, 28.950000047683716, 29.0, 29.049999952316284, 29.09999990463257, 29.15000009536743, 29.200000047683716, 29.25, 29.299999952316284, 29.34999990463257, 29.40000009536743, 29.450000047683716, 29.5, 29.549999952316284, 29.59999990463257, 29.65000009536743, 29.700000047683716, 29.75, 29.799999952316284, 29.84999990463257, 29.90000009536743, 29.950000047683716, 30.0, 30.049999952316284, 30.09999990463257, 30.15000009536743, 30.200000047683716, 30.25, 30.299999952316284, 30.34999990463257, 30.40000009536743, 30.450000047683716, 30.5, 30.549999952316284, 30.59999990463257, 30.65000009536743, 30.700000047683716, 30.75, 30.799999952316284, 30.84999990463257, 30.90000009536743, 30.950000047683716, 31.0, 31.049999952316284, 31.09999990463257, 31.15000009536743, 31.200000047683716, 31.25, 31.299999952316284, 31.34999990463257, 31.40000009536743, 31.450000047683716, 31.5, 31.549999952316284, 31.59999990463257, 31.65000009536743, 31.700000047683716, 31.75, 31.799999952316284, 31.84999990463257, 31.90000009536743, 31.950000047683716, 32.0, 32.049999952316284, 32.09999990463257, 32.15000009536743, 32.200000047683716, 32.25, 32.299999952316284, 32.34999990463257, 32.40000009536743, 32.450000047683716, 32.5, 32.549999952316284, 32.59999990463257, 32.65000009536743, 32.700000047683716, 32.75, 32.799999952316284, 32.84999990463257, 32.90000009536743, 32.950000047683716, 33.0, 33.049999952316284, 33.09999990463257, 33.15000009536743, 33.200000047683716, 33.25, 33.299999952316284, 33.34999990463257, 33.40000009536743, 33.450000047683716, 33.5, 33.549999952316284, 33.59999990463257, 33.65000009536743, 33.700000047683716, 33.75, 33.799999952316284, 33.84999990463257, 33.90000009536743, 33.950000047683716, 34.0, 34.049999952316284, 34.09999990463257, 34.15000009536743, 34.200000047683716, 34.25, 34.299999952316284, 34.34999990463257, 34.40000009536743, 34.450000047683716, 34.5, 34.549999952316284, 34.59999990463257, 34.65000009536743, 34.700000047683716, 34.75, 34.799999952316284, 34.84999990463257, 34.90000009536743, 34.950000047683716, 35.0, 35.049999952316284, 35.09999990463257, 35.15000009536743, 35.200000047683716, 35.25, 35.299999952316284, 35.34999990463257, 35.40000009536743, 35.450000047683716, 35.5, 35.549999952316284, 35.59999990463257, 35.65000009536743, 35.700000047683716, 35.75, 35.799999952316284, 35.84999990463257, 35.90000009536743, 35.950000047683716, 36.0, 36.049999952316284, 36.09999990463257, 36.15000009536743, 36.200000047683716, 36.25, 36.299999952316284, 36.34999990463257, 36.40000009536743, 36.450000047683716, 36.5, 36.549999952316284, 36.59999990463257, 36.65000009536743, 36.700000047683716, 36.75, 36.799999952316284, 36.84999990463257, 36.90000009536743, 36.950000047683716, 37.0, 37.049999952316284, 37.09999990463257, 37.15000009536743, 37.200000047683716, 37.25, 37.299999952316284, 37.34999990463257, 37.40000009536743, 37.450000047683716, 37.5, 37.549999952316284, 37.59999990463257, 37.65000009536743, 37.700000047683716, 37.75, 37.799999952316284, 37.84999990463257, 37.90000009536743, 37.950000047683716, 38.0, 38.049999952316284, 38.09999990463257, 38.15000009536743, 38.200000047683716, 38.25, 38.299999952316284, 38.34999990463257, 38.40000009536743, 38.450000047683716, 38.5, 38.549999952316284, 38.59999990463257, 38.65000009536743, 38.700000047683716, 38.75, 38.799999952316284, 38.84999990463257, 38.90000009536743, 38.950000047683716, 39.0, 39.049999952316284, 39.09999990463257, 39.15000009536743, 39.200000047683716, 39.25, 39.299999952316284, 39.34999990463257, 39.40000009536743, 39.450000047683716, 39.5, 39.549999952316284, 39.59999990463257, 39.65000009536743, 39.700000047683716, 39.75, 39.799999952316284, 39.84999990463257, 39.90000009536743, 39.950000047683716, 40.0, 40.049999952316284, 40.09999990463257, 40.15000009536743, 40.200000047683716, 40.25, 40.299999952316284, 40.34999990463257, 40.40000009536743, 40.450000047683716, 40.5, 40.549999952316284, 40.59999990463257, 40.65000009536743, 40.700000047683716, 40.75, 40.799999952316284, 40.84999990463257, 40.90000009536743, 40.950000047683716, 41.0, 41.049999952316284, 41.09999990463257, 41.15000009536743, 41.200000047683716, 41.25, 41.299999952316284, 41.34999990463257, 41.40000009536743, 41.450000047683716, 41.5, 41.549999952316284, 41.59999990463257, 41.65000009536743, 41.700000047683716, 41.75, 41.799999952316284, 41.84999990463257, 41.90000009536743, 41.950000047683716, 42.0, 42.049999952316284, 42.09999990463257, 42.15000009536743, 42.200000047683716, 42.25, 42.299999952316284, 42.34999990463257, 42.40000009536743, 42.450000047683716, 42.5, 42.549999952316284, 42.59999990463257, 42.65000009536743, 42.700000047683716, 42.75, 42.799999952316284, 42.84999990463257, 42.90000009536743, 42.950000047683716, 43.0, 43.049999952316284, 43.09999990463257, 43.15000009536743, 43.200000047683716, 43.25, 43.299999952316284, 43.34999990463257, 43.40000009536743, 43.450000047683716, 43.5, 43.549999952316284, 43.59999990463257, 43.65000009536743, 43.700000047683716, 43.75, 43.799999952316284, 43.84999990463257, 43.90000009536743, 43.950000047683716, 44.0, 44.049999952316284, 44.09999990463257, 44.15000009536743, 44.200000047683716, 44.25, 44.299999952316284, 44.34999990463257, 44.40000009536743, 44.450000047683716, 44.5, 44.549999952316284, 44.59999990463257, 44.65000009536743, 44.700000047683716, 44.75, 44.799999952316284, 44.84999990463257, 44.90000009536743, 44.950000047683716, 45.0, 45.049999952316284, 45.09999990463257, 45.15000009536743, 45.200000047683716, 45.25, 45.299999952316284, 45.34999990463257, 45.40000009536743, 45.450000047683716, 45.5, 45.549999952316284, 45.59999990463257, 45.65000009536743, 45.700000047683716, 45.75, 45.799999952316284, 45.84999990463257, 45.90000009536743, 45.950000047683716, 46.0, 46.049999952316284, 46.09999990463257, 46.15000009536743, 46.200000047683716, 46.25, 46.299999952316284, 46.34999990463257, 46.40000009536743, 46.450000047683716, 46.5, 46.549999952316284, 46.59999990463257, 46.65000009536743, 46.700000047683716, 46.75, 46.799999952316284, 46.84999990463257, 46.90000009536743, 46.950000047683716, 47.0, 47.049999952316284, 47.09999990463257, 47.15000009536743, 47.200000047683716, 47.25, 47.299999952316284, 47.34999990463257, 47.40000009536743, 47.450000047683716, 47.5, 47.549999952316284, 47.59999990463257, 47.65000009536743, 47.700000047683716, 47.75, 47.799999952316284, 47.84999990463257, 47.90000009536743, 47.950000047683716, 48.0, 48.049999952316284, 48.09999990463257, 48.15000009536743, 48.200000047683716, 48.25, 48.299999952316284, 48.34999990463257, 48.40000009536743, 48.450000047683716, 48.5, 48.549999952316284, 48.59999990463257, 48.65000009536743, 48.700000047683716, 48.75, 48.799999952316284, 48.84999990463257, 48.90000009536743, 48.950000047683716, 49.0, 49.049999952316284, 49.09999990463257, 49.15000009536743, 49.200000047683716, 49.25, 49.299999952316284, 49.34999990463257, 49.40000009536743, 49.450000047683716, 49.5, 49.549999952316284, 49.59999990463257, 49.65000009536743, 49.700000047683716, 49.75, 49.799999952316284, 49.84999990463257, 49.90000009536743, 49.950000047683716, 50.0, 50.049999952316284, 50.09999990463257, 50.15000009536743, 50.200000047683716, 50.25, 50.299999952316284, 50.34999990463257, 50.40000009536743, 50.450000047683716, 50.5, 50.549999952316284, 50.59999990463257, 50.65000009536743, 50.700000047683716, 50.75, 50.799999952316284, 50.84999990463257, 50.90000009536743, 50.950000047683716, 51.0, 51.049999952316284, 51.09999990463257, 51.15000009536743, 51.200000047683716, 51.25, 51.299999952316284, 51.34999990463257, 51.40000009536743, 51.450000047683716, 51.5, 51.549999952316284, 51.59999990463257, 51.65000009536743, 51.700000047683716, 51.75, 51.799999952316284, 51.84999990463257, 51.90000009536743, 51.950000047683716, 52.0, 52.049999952316284, 52.09999990463257, 52.15000009536743, 52.200000047683716, 52.25, 52.299999952316284, 52.34999990463257, 52.40000009536743, 52.450000047683716, 52.5, 52.549999952316284, 52.59999990463257, 52.65000009536743, 52.700000047683716, 52.75, 52.799999952316284, 52.84999990463257, 52.90000009536743, 52.950000047683716, 53.0, 53.049999952316284, 53.09999990463257, 53.15000009536743, 53.200000047683716, 53.25, 53.299999952316284, 53.34999990463257, 53.40000009536743, 53.450000047683716, 53.5, 53.549999952316284, 53.59999990463257, 53.65000009536743, 53.700000047683716, 53.75, 53.799999952316284, 53.84999990463257, 53.90000009536743, 53.950000047683716, 54.0, 54.049999952316284, 54.09999990463257, 54.15000009536743, 54.200000047683716, 54.25, 54.299999952316284, 54.34999990463257, 54.40000009536743, 54.450000047683716, 54.5, 54.549999952316284, 54.59999990463257, 54.65000009536743, 54.700000047683716, 54.75, 54.799999952316284, 54.84999990463257, 54.90000009536743, 54.950000047683716, 55.0, 55.049999952316284, 55.09999990463257, 55.15000009536743, 55.200000047683716, 55.25, 55.299999952316284, 55.34999990463257, 55.40000009536743, 55.450000047683716, 55.5, 55.549999952316284, 55.59999990463257, 55.65000009536743, 55.700000047683716, 55.75, 55.799999952316284, 55.84999990463257, 55.90000009536743, 55.950000047683716, 56.0, 56.049999952316284, 56.09999990463257, 56.15000009536743, 56.200000047683716, 56.25, 56.299999952316284, 56.34999990463257, 56.40000009536743, 56.450000047683716, 56.5, 56.549999952316284, 56.59999990463257, 56.65000009536743, 56.700000047683716, 56.75, 56.799999952316284, 56.84999990463257, 56.90000009536743, 56.950000047683716, 57.0, 57.049999952316284, 57.09999990463257, 57.15000009536743, 57.200000047683716, 57.25, 57.299999952316284, 57.34999990463257, 57.40000009536743, 57.450000047683716, 57.5, 57.549999952316284, 57.59999990463257, 57.65000009536743, 57.700000047683716, 57.75, 57.799999952316284, 57.84999990463257, 57.90000009536743, 57.950000047683716, 58.0, 58.049999952316284, 58.09999990463257, 58.15000009536743, 58.200000047683716, 58.25, 58.299999952316284, 58.34999990463257, 58.40000009536743, 58.450000047683716, 58.5, 58.549999952316284, 58.59999990463257, 58.65000009536743, 58.700000047683716, 58.75, 58.799999952316284, 58.84999990463257, 58.90000009536743, 58.950000047683716, 59.0, 59.049999952316284, 59.09999990463257, 59.15000009536743, 59.200000047683716, 59.25, 59.299999952316284, 59.34999990463257, 59.40000009536743, 59.450000047683716, 59.5, 59.549999952316284, 59.59999990463257, 59.65000009536743, 59.700000047683716, 59.75, 59.799999952316284, 59.84999990463257, 59.90000009536743, 59.950000047683716, 60.0, 60.049999952316284, 60.09999990463257, 60.15000009536743, 60.200000047683716, 60.25, 60.299999952316284, 60.34999990463257, 60.40000009536743, 60.450000047683716, 60.5, 60.549999952316284, 60.59999990463257, 60.65000009536743, 60.700000047683716, 60.75, 60.799999952316284, 60.84999990463257, 60.90000009536743, 60.950000047683716, 61.0, 61.049999952316284, 61.09999990463257, 61.15000009536743, 61.200000047683716, 61.25, 61.299999952316284, 61.34999990463257, 61.40000009536743, 61.450000047683716, 61.5, 61.549999952316284, 61.59999990463257, 61.65000009536743, 61.700000047683716, 61.75, 61.799999952316284, 61.84999990463257, 61.90000009536743, 61.950000047683716, 62.0, 62.049999952316284, 62.09999990463257, 62.15000009536743, 62.200000047683716, 62.25, 62.299999952316284, 62.34999990463257, 62.40000009536743, 62.450000047683716, 62.5, 62.549999952316284, 62.59999990463257, 62.65000009536743, 62.700000047683716, 62.75, 62.799999952316284, 62.84999990463257, 62.90000009536743, 62.950000047683716, 63.0, 63.049999952316284, 63.09999990463257, 63.15000009536743, 63.200000047683716, 63.25, 63.299999952316284, 63.34999990463257, 63.40000009536743, 63.450000047683716, 63.5, 63.549999952316284, 63.59999990463257, 63.65000009536743, 63.700000047683716, 63.75, 63.799999952316284, 63.84999990463257, 63.90000009536743, 63.950000047683716, 64.0, 64.04999995231628, 64.09999990463257, 64.15000009536743, 64.20000004768372, 64.25, 64.29999995231628, 64.34999990463257, 64.40000009536743, 64.45000004768372, 64.5, 64.54999995231628, 64.59999990463257, 64.65000009536743, 64.70000004768372, 64.75, 64.79999995231628, 64.84999990463257, 64.90000009536743, 64.95000004768372, 65.0, 65.04999995231628, 65.09999990463257, 65.15000009536743, 65.20000004768372, 65.25, 65.29999995231628, 65.34999990463257, 65.40000009536743, 65.45000004768372, 65.5, 65.54999995231628, 65.59999990463257, 65.65000009536743, 65.70000004768372, 65.75, 65.79999995231628, 65.84999990463257, 65.90000009536743, 65.95000004768372, 66.0, 66.04999995231628, 66.09999990463257, 66.15000009536743, 66.20000004768372, 66.25, 66.29999995231628, 66.34999990463257, 66.40000009536743, 66.45000004768372, 66.5, 66.54999995231628, 66.59999990463257, 66.65000009536743, 66.70000004768372, 66.75, 66.79999995231628, 66.84999990463257, 66.90000009536743, 66.95000004768372, 67.0, 67.04999995231628, 67.09999990463257, 67.15000009536743, 67.20000004768372, 67.25, 67.29999995231628, 67.34999990463257, 67.40000009536743, 67.45000004768372, 67.5, 67.54999995231628, 67.59999990463257, 67.65000009536743, 67.70000004768372, 67.75, 67.79999995231628, 67.84999990463257, 67.90000009536743, 67.95000004768372, 68.0, 68.04999995231628, 68.09999990463257, 68.15000009536743, 68.20000004768372, 68.25, 68.29999995231628, 68.34999990463257, 68.40000009536743, 68.45000004768372, 68.5, 68.54999995231628, 68.59999990463257, 68.65000009536743, 68.70000004768372, 68.75, 68.79999995231628, 68.84999990463257, 68.90000009536743, 68.95000004768372, 69.0, 69.04999995231628, 69.09999990463257, 69.15000009536743, 69.20000004768372, 69.25, 69.29999995231628, 69.34999990463257, 69.40000009536743, 69.45000004768372, 69.5, 69.54999995231628, 69.59999990463257, 69.65000009536743, 69.70000004768372, 69.75, 69.79999995231628, 69.84999990463257, 69.90000009536743, 69.95000004768372, 70.0, 70.04999995231628, 70.09999990463257, 70.15000009536743, 70.20000004768372, 70.25, 70.29999995231628, 70.34999990463257, 70.40000009536743, 70.45000004768372, 70.5, 70.54999995231628, 70.59999990463257, 70.65000009536743, 70.70000004768372, 70.75, 70.79999995231628, 70.84999990463257, 70.90000009536743, 70.95000004768372, 71.0, 71.04999995231628, 71.09999990463257, 71.15000009536743, 71.20000004768372, 71.25, 71.29999995231628, 71.34999990463257, 71.40000009536743, 71.45000004768372, 71.5, 71.54999995231628, 71.59999990463257, 71.65000009536743, 71.70000004768372, 71.75, 71.79999995231628, 71.84999990463257, 71.90000009536743, 71.95000004768372, 72.0, 72.04999995231628, 72.09999990463257, 72.15000009536743, 72.20000004768372, 72.25, 72.29999995231628, 72.34999990463257, 72.40000009536743, 72.45000004768372, 72.5, 72.54999995231628, 72.59999990463257, 72.65000009536743, 72.70000004768372, 72.75, 72.79999995231628, 72.84999990463257, 72.90000009536743, 72.95000004768372, 73.0, 73.04999995231628, 73.09999990463257, 73.15000009536743, 73.20000004768372, 73.25, 73.29999995231628, 73.34999990463257, 73.40000009536743, 73.45000004768372, 73.5, 73.54999995231628, 73.59999990463257, 73.65000009536743, 73.70000004768372, 73.75, 73.79999995231628, 73.84999990463257, 73.90000009536743, 73.95000004768372, 74.0, 74.04999995231628, 74.09999990463257, 74.15000009536743, 74.20000004768372, 74.25, 74.29999995231628, 74.34999990463257, 74.40000009536743, 74.45000004768372, 74.5, 74.54999995231628, 74.59999990463257, 74.65000009536743, 74.70000004768372, 74.75, 74.79999995231628, 74.84999990463257, 74.90000009536743, 74.95000004768372, 75.0, 75.04999995231628, 75.09999990463257, 75.15000009536743, 75.20000004768372, 75.25, 75.29999995231628, 75.34999990463257, 75.40000009536743, 75.45000004768372, 75.5, 75.54999995231628, 75.59999990463257, 75.65000009536743, 75.70000004768372, 75.75, 75.79999995231628, 75.84999990463257, 75.90000009536743, 75.95000004768372, 76.0, 76.04999995231628, 76.09999990463257, 76.15000009536743, 76.20000004768372, 76.25, 76.29999995231628, 76.34999990463257, 76.40000009536743, 76.45000004768372, 76.5, 76.54999995231628, 76.59999990463257, 76.65000009536743, 76.70000004768372, 76.75, 76.79999995231628, 76.84999990463257, 76.90000009536743, 76.95000004768372, 77.0, 77.04999995231628, 77.09999990463257, 77.15000009536743, 77.20000004768372, 77.25, 77.29999995231628, 77.34999990463257, 77.40000009536743, 77.45000004768372, 77.5, 77.54999995231628, 77.59999990463257, 77.65000009536743, 77.70000004768372, 77.75, 77.79999995231628, 77.84999990463257, 77.90000009536743, 77.95000004768372, 78.0, 78.04999995231628, 78.09999990463257, 78.15000009536743, 78.20000004768372, 78.25, 78.29999995231628, 78.34999990463257, 78.40000009536743, 78.45000004768372, 78.5, 78.54999995231628, 78.59999990463257, 78.65000009536743, 78.70000004768372, 78.75, 78.79999995231628, 78.84999990463257, 78.90000009536743, 78.95000004768372, 79.0, 79.04999995231628, 79.09999990463257, 79.15000009536743, 79.20000004768372, 79.25, 79.29999995231628, 79.34999990463257, 79.40000009536743, 79.45000004768372, 79.5, 79.54999995231628, 79.59999990463257, 79.65000009536743, 79.70000004768372, 79.75, 79.79999995231628, 79.84999990463257, 79.90000009536743, 79.95000004768372, 80.0, 80.04999995231628, 80.09999990463257, 80.15000009536743, 80.20000004768372, 80.25, 80.29999995231628, 80.34999990463257, 80.40000009536743, 80.45000004768372, 80.5, 80.54999995231628, 80.59999990463257, 80.65000009536743, 80.70000004768372, 80.75, 80.79999995231628, 80.84999990463257, 80.90000009536743, 80.95000004768372, 81.0, 81.04999995231628, 81.09999990463257, 81.15000009536743, 81.20000004768372, 81.25, 81.29999995231628, 81.34999990463257, 81.40000009536743, 81.45000004768372, 81.5, 81.54999995231628, 81.59999990463257, 81.65000009536743, 81.70000004768372, 81.75, 81.79999995231628, 81.84999990463257, 81.90000009536743, 81.95000004768372, 82.0, 82.04999995231628, 82.09999990463257, 82.15000009536743, 82.20000004768372, 82.25, 82.29999995231628, 82.34999990463257, 82.40000009536743, 82.45000004768372, 82.5, 82.54999995231628, 82.59999990463257, 82.65000009536743, 82.70000004768372, 82.75, 82.79999995231628, 82.84999990463257, 82.90000009536743, 82.95000004768372, 83.0, 83.04999995231628, 83.09999990463257, 83.15000009536743, 83.20000004768372, 83.25, 83.29999995231628, 83.34999990463257, 83.40000009536743, 83.45000004768372, 83.5, 83.54999995231628, 83.59999990463257, 83.65000009536743, 83.70000004768372, 83.75, 83.79999995231628, 83.84999990463257, 83.90000009536743, 83.95000004768372, 84.0, 84.04999995231628, 84.09999990463257, 84.15000009536743, 84.20000004768372, 84.25, 84.29999995231628, 84.34999990463257, 84.40000009536743, 84.45000004768372, 84.5, 84.54999995231628, 84.59999990463257, 84.65000009536743, 84.70000004768372, 84.75, 84.79999995231628, 84.84999990463257, 84.90000009536743, 84.95000004768372, 85.0, 85.04999995231628, 85.09999990463257, 85.15000009536743, 85.20000004768372, 85.25, 85.29999995231628, 85.34999990463257, 85.40000009536743, 85.45000004768372, 85.5, 85.54999995231628, 85.59999990463257, 85.65000009536743, 85.70000004768372, 85.75, 85.79999995231628, 85.84999990463257, 85.90000009536743, 85.95000004768372, 86.0, 86.04999995231628, 86.09999990463257, 86.15000009536743, 86.20000004768372, 86.25, 86.29999995231628, 86.34999990463257, 86.40000009536743, 86.45000004768372, 86.5, 86.54999995231628, 86.59999990463257, 86.65000009536743, 86.70000004768372, 86.75, 86.79999995231628, 86.84999990463257, 86.90000009536743, 86.95000004768372, 87.0, 87.04999995231628, 87.09999990463257, 87.15000009536743, 87.20000004768372, 87.25, 87.29999995231628, 87.34999990463257, 87.40000009536743, 87.45000004768372, 87.5, 87.54999995231628, 87.59999990463257, 87.65000009536743, 87.70000004768372, 87.75, 87.79999995231628, 87.84999990463257, 87.90000009536743, 87.95000004768372, 88.0, 88.04999995231628, 88.09999990463257, 88.15000009536743, 88.20000004768372, 88.25, 88.29999995231628, 88.34999990463257, 88.40000009536743, 88.45000004768372, 88.5, 88.54999995231628, 88.59999990463257, 88.65000009536743, 88.70000004768372, 88.75, 88.79999995231628, 88.84999990463257, 88.90000009536743, 88.95000004768372, 89.0, 89.04999995231628, 89.09999990463257, 89.15000009536743, 89.20000004768372, 89.25, 89.29999995231628, 89.34999990463257, 89.40000009536743, 89.45000004768372, 89.5, 89.54999995231628, 89.59999990463257, 89.65000009536743, 89.70000004768372, 89.75, 89.79999995231628, 89.84999990463257, 89.90000009536743, 89.95000004768372, 90.0, 90.04999995231628, 90.09999990463257, 90.15000009536743, 90.20000004768372, 90.25, 90.29999995231628, 90.34999990463257, 90.40000009536743, 90.45000004768372, 90.5, 90.54999995231628, 90.59999990463257, 90.65000009536743, 90.70000004768372, 90.75, 90.79999995231628, 90.84999990463257, 90.90000009536743, 90.95000004768372, 91.0, 91.04999995231628, 91.09999990463257, 91.15000009536743, 91.20000004768372, 91.25, 91.29999995231628, 91.34999990463257, 91.40000009536743, 91.45000004768372, 91.5, 91.54999995231628, 91.59999990463257, 91.65000009536743, 91.70000004768372, 91.75, 91.79999995231628, 91.84999990463257, 91.90000009536743, 91.95000004768372, 92.0, 92.04999995231628, 92.09999990463257, 92.15000009536743, 92.20000004768372, 92.25, 92.29999995231628, 92.34999990463257, 92.40000009536743, 92.45000004768372, 92.5, 92.54999995231628, 92.59999990463257, 92.65000009536743, 92.70000004768372, 92.75, 92.79999995231628, 92.84999990463257, 92.90000009536743, 92.95000004768372, 93.0, 93.04999995231628, 93.09999990463257, 93.15000009536743, 93.20000004768372, 93.25, 93.29999995231628, 93.34999990463257, 93.40000009536743, 93.45000004768372, 93.5, 93.54999995231628, 93.59999990463257, 93.65000009536743, 93.70000004768372, 93.75, 93.79999995231628, 93.84999990463257, 93.90000009536743, 93.95000004768372, 94.0, 94.04999995231628, 94.09999990463257, 94.15000009536743, 94.20000004768372, 94.25, 94.29999995231628, 94.34999990463257, 94.40000009536743, 94.45000004768372, 94.5, 94.54999995231628, 94.59999990463257, 94.65000009536743, 94.70000004768372, 94.75, 94.79999995231628, 94.84999990463257, 94.90000009536743, 94.95000004768372, 95.0, 95.04999995231628, 95.09999990463257, 95.15000009536743, 95.20000004768372, 95.25, 95.29999995231628, 95.34999990463257, 95.40000009536743, 95.45000004768372, 95.5, 95.54999995231628, 95.59999990463257, 95.65000009536743, 95.70000004768372, 95.75, 95.79999995231628, 95.84999990463257, 95.90000009536743, 95.95000004768372, 96.0, 96.04999995231628, 96.09999990463257, 96.15000009536743, 96.20000004768372, 96.25, 96.29999995231628, 96.34999990463257, 96.40000009536743, 96.45000004768372, 96.5, 96.54999995231628, 96.59999990463257, 96.65000009536743, 96.70000004768372, 96.75, 96.79999995231628, 96.84999990463257, 96.90000009536743, 96.95000004768372, 97.0, 97.04999995231628, 97.09999990463257, 97.15000009536743, 97.20000004768372, 97.25, 97.29999995231628, 97.34999990463257, 97.40000009536743, 97.45000004768372, 97.5, 97.54999995231628, 97.59999990463257, 97.65000009536743, 97.70000004768372, 97.75, 97.79999995231628, 97.84999990463257, 97.90000009536743, 97.95000004768372, 98.0, 98.04999995231628, 98.09999990463257, 98.15000009536743, 98.20000004768372, 98.25, 98.29999995231628, 98.34999990463257, 98.40000009536743, 98.45000004768372, 98.5, 98.54999995231628, 98.59999990463257, 98.65000009536743, 98.70000004768372, 98.75, 98.79999995231628, 98.84999990463257, 98.90000009536743, 98.95000004768372, 99.0, 99.04999995231628, 99.09999990463257, 99.15000009536743, 99.20000004768372, 99.25, 99.29999995231628, 99.34999990463257, 99.40000009536743, 99.45000004768372, 99.5, 99.54999995231628, 99.59999990463257, 99.65000009536743, 99.70000004768372, 99.75, 99.79999995231628, 99.84999990463257, 99.90000009536743, 99.95000004768372, 100.0, 100.04999995231628, 100.09999990463257, 100.15000009536743, 100.20000004768372, 100.25, 100.29999995231628, 100.34999990463257, 100.40000009536743, 100.45000004768372, 100.5, 100.54999995231628, 100.59999990463257, 100.65000009536743, 100.70000004768372, 100.75, 100.79999995231628, 100.84999990463257, 100.90000009536743, 100.95000004768372, 101.0, 101.04999995231628, 101.09999990463257, 101.15000009536743, 101.20000004768372, 101.25, 101.29999995231628, 101.34999990463257, 101.40000009536743, 101.45000004768372, 101.5, 101.54999995231628, 101.59999990463257, 101.65000009536743, 101.70000004768372, 101.75, 101.79999995231628, 101.84999990463257, 101.90000009536743, 101.95000004768372, 102.0, 102.04999995231628, 102.09999990463257, 102.15000009536743, 102.20000004768372, 102.25, 102.29999995231628, 102.34999990463257, 102.40000009536743, 102.45000004768372, 102.5, 102.54999995231628, 102.59999990463257, 102.65000009536743, 102.70000004768372, 102.75, 102.79999995231628, 102.84999990463257, 102.90000009536743, 102.95000004768372, 103.0, 103.04999995231628, 103.09999990463257, 103.15000009536743, 103.20000004768372, 103.25, 103.29999995231628, 103.34999990463257, 103.40000009536743, 103.45000004768372, 103.5, 103.54999995231628, 103.59999990463257, 103.65000009536743, 103.70000004768372, 103.75, 103.79999995231628, 103.84999990463257, 103.90000009536743, 103.95000004768372, 104.0, 104.04999995231628, 104.09999990463257, 104.15000009536743, 104.20000004768372, 104.25, 104.29999995231628, 104.34999990463257, 104.40000009536743, 104.45000004768372, 104.5, 104.54999995231628, 104.59999990463257, 104.65000009536743, 104.70000004768372, 104.75, 104.79999995231628, 104.84999990463257, 104.90000009536743, 104.95000004768372, 105.0, 105.04999995231628, 105.09999990463257, 105.15000009536743, 105.20000004768372, 105.25, 105.29999995231628, 105.34999990463257, 105.40000009536743, 105.45000004768372, 105.5, 105.54999995231628, 105.59999990463257, 105.65000009536743, 105.70000004768372, 105.75, 105.79999995231628, 105.84999990463257, 105.90000009536743, 105.95000004768372, 106.0, 106.04999995231628, 106.09999990463257, 106.15000009536743, 106.20000004768372, 106.25, 106.29999995231628, 106.34999990463257, 106.40000009536743, 106.45000004768372, 106.5, 106.54999995231628, 106.59999990463257, 106.65000009536743, 106.70000004768372, 106.75, 106.79999995231628, 106.84999990463257, 106.90000009536743, 106.95000004768372, 107.0, 107.04999995231628, 107.09999990463257, 107.15000009536743, 107.20000004768372, 107.25, 107.29999995231628, 107.34999990463257, 107.40000009536743, 107.45000004768372, 107.5, 107.54999995231628, 107.59999990463257, 107.65000009536743, 107.70000004768372, 107.75, 107.79999995231628, 107.84999990463257, 107.90000009536743, 107.95000004768372, 108.0, 108.04999995231628, 108.09999990463257, 108.15000009536743, 108.20000004768372, 108.25, 108.29999995231628, 108.34999990463257, 108.40000009536743, 108.45000004768372, 108.5, 108.54999995231628, 108.59999990463257, 108.65000009536743, 108.70000004768372, 108.75, 108.79999995231628, 108.84999990463257, 108.90000009536743, 108.95000004768372, 109.0, 109.04999995231628, 109.09999990463257, 109.15000009536743, 109.20000004768372, 109.25, 109.29999995231628, 109.34999990463257, 109.40000009536743, 109.45000004768372, 109.5, 109.54999995231628, 109.59999990463257, 109.65000009536743, 109.70000004768372, 109.75, 109.79999995231628, 109.84999990463257, 109.90000009536743, 109.95000004768372, 110.0, 110.04999995231628, 110.09999990463257, 110.15000009536743, 110.20000004768372, 110.25, 110.29999995231628, 110.34999990463257, 110.40000009536743, 110.45000004768372, 110.5, 110.54999995231628, 110.59999990463257, 110.65000009536743, 110.70000004768372, 110.75, 110.79999995231628, 110.84999990463257, 110.90000009536743, 110.95000004768372, 111.0, 111.04999995231628, 111.09999990463257, 111.15000009536743, 111.20000004768372, 111.25, 111.29999995231628, 111.34999990463257, 111.40000009536743, 111.45000004768372, 111.5, 111.54999995231628, 111.59999990463257, 111.65000009536743, 111.70000004768372, 111.75, 111.79999995231628, 111.84999990463257, 111.90000009536743, 111.95000004768372, 112.0, 112.04999995231628, 112.09999990463257, 112.15000009536743, 112.20000004768372, 112.25, 112.29999995231628, 112.34999990463257, 112.40000009536743, 112.45000004768372, 112.5, 112.54999995231628, 112.59999990463257, 112.65000009536743, 112.70000004768372, 112.75, 112.79999995231628, 112.84999990463257, 112.90000009536743, 112.95000004768372, 113.0, 113.04999995231628, 113.09999990463257, 113.15000009536743, 113.20000004768372, 113.25, 113.29999995231628, 113.34999990463257, 113.40000009536743, 113.45000004768372, 113.5, 113.54999995231628, 113.59999990463257, 113.65000009536743, 113.70000004768372, 113.75, 113.79999995231628, 113.84999990463257, 113.90000009536743, 113.95000004768372, 114.0, 114.04999995231628, 114.09999990463257, 114.15000009536743, 114.20000004768372, 114.25, 114.29999995231628, 114.34999990463257, 114.40000009536743, 114.45000004768372, 114.5, 114.54999995231628, 114.59999990463257, 114.65000009536743, 114.70000004768372, 114.75, 114.79999995231628, 114.84999990463257, 114.90000009536743, 114.95000004768372, 115.0, 115.04999995231628, 115.09999990463257, 115.15000009536743, 115.20000004768372, 115.25, 115.29999995231628, 115.34999990463257, 115.40000009536743, 115.45000004768372, 115.5, 115.54999995231628, 115.59999990463257, 115.65000009536743, 115.70000004768372, 115.75, 115.79999995231628, 115.84999990463257, 115.90000009536743, 115.95000004768372, 116.0, 116.04999995231628, 116.09999990463257, 116.15000009536743, 116.20000004768372, 116.25, 116.29999995231628, 116.34999990463257, 116.40000009536743, 116.45000004768372, 116.5, 116.54999995231628, 116.59999990463257, 116.65000009536743, 116.70000004768372, 116.75, 116.79999995231628, 116.84999990463257, 116.90000009536743, 116.95000004768372, 117.0, 117.04999995231628, 117.09999990463257, 117.15000009536743, 117.20000004768372, 117.25, 117.29999995231628, 117.34999990463257, 117.40000009536743, 117.45000004768372, 117.5, 117.54999995231628, 117.59999990463257, 117.65000009536743, 117.70000004768372, 117.75, 117.79999995231628, 117.84999990463257, 117.90000009536743, 117.95000004768372, 118.0, 118.04999995231628, 118.09999990463257, 118.15000009536743, 118.20000004768372, 118.25, 118.29999995231628, 118.34999990463257, 118.40000009536743, 118.45000004768372, 118.5, 118.54999995231628, 118.59999990463257, 118.65000009536743, 118.70000004768372, 118.75, 118.79999995231628, 118.84999990463257, 118.90000009536743, 118.95000004768372, 119.0, 119.04999995231628, 119.09999990463257, 119.15000009536743, 119.20000004768372, 119.25, 119.29999995231628, 119.34999990463257, 119.40000009536743, 119.45000004768372, 119.5, 119.54999995231628, 119.59999990463257, 119.65000009536743, 119.70000004768372, 119.75, 119.79999995231628, 119.84999990463257, 119.90000009536743, 119.95000004768372, 120.0, 120.04999995231628, 120.09999990463257, 120.15000009536743, 120.20000004768372, 120.25, 120.29999995231628, 120.34999990463257, 120.40000009536743, 120.45000004768372, 120.5, 120.54999995231628, 120.59999990463257, 120.65000009536743, 120.70000004768372, 120.75, 120.79999995231628, 120.84999990463257, 120.90000009536743, 120.95000004768372, 121.0, 121.04999995231628, 121.09999990463257, 121.15000009536743, 121.20000004768372, 121.25, 121.29999995231628, 121.34999990463257, 121.40000009536743, 121.45000004768372, 121.5, 121.54999995231628, 121.59999990463257, 121.65000009536743, 121.70000004768372, 121.75, 121.79999995231628, 121.84999990463257, 121.90000009536743, 121.95000004768372, 122.0, 122.04999995231628, 122.09999990463257, 122.15000009536743, 122.20000004768372, 122.25, 122.29999995231628, 122.34999990463257, 122.40000009536743, 122.45000004768372, 122.5, 122.54999995231628, 122.59999990463257, 122.65000009536743, 122.70000004768372, 122.75, 122.79999995231628, 122.84999990463257, 122.90000009536743, 122.95000004768372, 123.0, 123.04999995231628, 123.09999990463257, 123.15000009536743, 123.20000004768372, 123.25, 123.29999995231628, 123.34999990463257, 123.40000009536743, 123.45000004768372, 123.5, 123.54999995231628, 123.59999990463257, 123.65000009536743, 123.70000004768372, 123.75, 123.79999995231628, 123.84999990463257, 123.90000009536743, 123.95000004768372, 124.0, 124.04999995231628, 124.09999990463257, 124.15000009536743, 124.20000004768372, 124.25, 124.29999995231628, 124.34999990463257, 124.40000009536743, 124.45000004768372, 124.5, 124.54999995231628, 124.59999990463257, 124.65000009536743, 124.70000004768372, 124.75, 124.79999995231628, 124.84999990463257, 124.90000009536743, 124.95000004768372, 125.0, 125.04999995231628, 125.09999990463257, 125.15000009536743, 125.20000004768372, 125.25, 125.29999995231628, 125.34999990463257, 125.40000009536743, 125.45000004768372, 125.5, 125.54999995231628, 125.59999990463257, 125.65000009536743, 125.70000004768372, 125.75, 125.79999995231628, 125.84999990463257, 125.90000009536743, 125.95000004768372, 126.0, 126.04999995231628, 126.09999990463257, 126.15000009536743, 126.20000004768372, 126.25, 126.29999995231628, 126.34999990463257, 126.40000009536743, 126.45000004768372, 126.5, 126.54999995231628, 126.59999990463257, 126.65000009536743, 126.70000004768372, 126.75, 126.79999995231628, 126.84999990463257, 126.90000009536743, 126.95000004768372, 127.0, 127.04999995231628, 127.09999990463257, 127.15000009536743, 127.20000004768372, 127.25, 127.29999995231628, 127.34999990463257, 127.40000009536743, 127.45000004768372, 127.5, 127.54999995231628, 127.59999990463257, 127.65000009536743, 127.70000004768372, 127.75, 127.79999995231628, 127.84999990463257, 127.90000009536743, 127.95000004768372, 128.0, 128.04999995231628, 128.09999990463257, 128.15000009536743, 128.20000004768372, 128.25, 128.29999995231628, 128.34999990463257, 128.40000009536743, 128.45000004768372, 128.5, 128.54999995231628, 128.59999990463257, 128.65000009536743, 128.70000004768372, 128.75, 128.79999995231628, 128.84999990463257, 128.90000009536743, 128.95000004768372, 129.0, 129.04999995231628, 129.09999990463257, 129.15000009536743, 129.20000004768372, 129.25, 129.29999995231628, 129.34999990463257, 129.40000009536743, 129.45000004768372, 129.5, 129.54999995231628, 129.59999990463257, 129.65000009536743, 129.70000004768372, 129.75, 129.79999995231628, 129.84999990463257, 129.90000009536743, 129.95000004768372, 130.0, 130.04999995231628, 130.09999990463257, 130.15000009536743, 130.20000004768372, 130.25, 130.29999995231628, 130.34999990463257, 130.40000009536743, 130.45000004768372, 130.5, 130.54999995231628, 130.59999990463257, 130.65000009536743, 130.70000004768372, 130.75, 130.79999995231628, 130.84999990463257, 130.90000009536743, 130.95000004768372, 131.0, 131.04999995231628, 131.09999990463257, 131.15000009536743, 131.20000004768372, 131.25, 131.29999995231628, 131.34999990463257, 131.40000009536743, 131.45000004768372, 131.5, 131.54999995231628, 131.59999990463257, 131.65000009536743, 131.70000004768372, 131.75, 131.79999995231628, 131.84999990463257, 131.90000009536743, 131.95000004768372, 132.0, 132.04999995231628, 132.09999990463257, 132.15000009536743, 132.20000004768372, 132.25, 132.29999995231628, 132.34999990463257, 132.40000009536743, 132.45000004768372, 132.5, 132.54999995231628, 132.59999990463257, 132.65000009536743, 132.70000004768372, 132.75, 132.79999995231628, 132.84999990463257, 132.90000009536743, 132.95000004768372, 133.0, 133.04999995231628, 133.09999990463257, 133.15000009536743, 133.20000004768372, 133.25, 133.29999995231628, 133.34999990463257, 133.40000009536743, 133.45000004768372, 133.5, 133.54999995231628, 133.59999990463257, 133.65000009536743, 133.70000004768372, 133.75, 133.79999995231628, 133.84999990463257, 133.90000009536743, 133.95000004768372, 134.0, 134.04999995231628, 134.09999990463257, 134.15000009536743, 134.20000004768372, 134.25, 134.29999995231628, 134.34999990463257, 134.40000009536743, 134.45000004768372, 134.5, 134.54999995231628, 134.59999990463257, 134.65000009536743, 134.70000004768372, 134.75, 134.79999995231628, 134.84999990463257, 134.90000009536743, 134.95000004768372, 135.0, 135.04999995231628, 135.09999990463257, 135.15000009536743, 135.20000004768372, 135.25, 135.29999995231628, 135.34999990463257, 135.40000009536743, 135.45000004768372, 135.5, 135.54999995231628, 135.59999990463257, 135.65000009536743, 135.70000004768372, 135.75, 135.79999995231628, 135.84999990463257, 135.90000009536743, 135.95000004768372, 136.0, 136.04999995231628, 136.09999990463257, 136.15000009536743, 136.20000004768372, 136.25, 136.29999995231628, 136.34999990463257, 136.40000009536743, 136.45000004768372, 136.5, 136.54999995231628, 136.59999990463257, 136.65000009536743, 136.70000004768372, 136.75, 136.79999995231628, 136.84999990463257, 136.90000009536743, 136.95000004768372, 137.0, 137.04999995231628, 137.09999990463257, 137.15000009536743, 137.20000004768372, 137.25, 137.29999995231628, 137.34999990463257, 137.40000009536743, 137.45000004768372, 137.5, 137.54999995231628, 137.59999990463257, 137.65000009536743, 137.70000004768372, 137.75, 137.79999995231628, 137.84999990463257, 137.90000009536743, 137.95000004768372, 138.0, 138.04999995231628, 138.09999990463257, 138.15000009536743, 138.20000004768372, 138.25, 138.29999995231628, 138.34999990463257, 138.40000009536743, 138.45000004768372, 138.5, 138.54999995231628, 138.59999990463257, 138.65000009536743, 138.70000004768372, 138.75, 138.79999995231628, 138.84999990463257, 138.90000009536743, 138.95000004768372], \"y\": [0.07305869366551956, 0.07404840909016402, 0.07445129909855848, 0.07436022092914435, 0.07418678282340804, 0.07456901760044127, 0.07393105565769252, 0.07294235750574123, 0.07357569862027462, 0.07436394354713204, 0.07348821667755041, 0.07224152693894854, 0.07387615217197413, 0.07366268185503116, 0.07452260251602348, 0.07575264014984628, 0.07538011559494999, 0.07435104401135012, 0.07439035731138414, 0.07493178333565506, 0.07675239379055994, 0.07574687212109182, 0.07551560514964177, 0.07467786255728366, 0.07581186975410215, 0.07524549185866976, 0.07556250415121595, 0.07572294988112964, 0.07576244095281187, 0.07657051852039862, 0.0753027773899572, 0.07376068478363482, 0.07542924352072937, 0.07428322105290108, 0.07312072562783208, 0.0711591586797661, 0.06970565803707725, 0.06983412066193771, 0.0697020299633979, 0.06776128217271854, 0.06600101976303546, 0.06678615075195317, 0.06362142417986888, 0.060248056500595656, 0.05877568856155447, 0.06114113315465566, 0.058237930684543665, 0.057924432946599644, 0.05783312792002553, 0.06066206733986663, 0.057967501331878335, 0.05466904906782204, 0.05578028449520337, 0.05595777172483699, 0.05395616305857019, 0.051508766820378894, 0.051737297986043, 0.05057683475680458, 0.0463427740905362, 0.04468971653842877, 0.043007326353454306, 0.04236361124257988, 0.04268553564339354, 0.04645726311129562, 0.041453892904098504, 0.03975166119552221, 0.043665686528875994, 0.04193702228438748, 0.04397999540988371, 0.043380890111743925, 0.04087069957017359, 0.04305096276093413, 0.04179427551452715, 0.03918123767281973, 0.04142329851529488, 0.04364726551953401, 0.0423609538769284, 0.046623536726768756, 0.04318804367978156, 0.04628794523580284, 0.046810951566411484, 0.055819146662299104, 0.05436200403301481, 0.05814851615863336, 0.05154366150062453, 0.05474620598348163, 0.05471254299766947, 0.05749299149342386, 0.06242613601873712, 0.06231117176064499, 0.059859542779625824, 0.06329701621966279, 0.060812456911696136, 0.06407667865963683, 0.06372192392862555, 0.061452707117872096, 0.06515502049837649, 0.06352816389495364, 0.06644330445603032, 0.06777549969009644, 0.06693749797601903, 0.06528860178057344, 0.06525636982545822, 0.06464798902568585, 0.0653613035228294, 0.06555554538477411, 0.06526356287861626, 0.06141792162066261, 0.06272894317792181, 0.06246826671453559, 0.06215680123220497, 0.06258434865796546, 0.06245635249463213, 0.0596703182073692, 0.05947686762252745, 0.06033962026786941, 0.060224007580424566, 0.058634875130459105, 0.057264080492388826, 0.059508102256992025, 0.06053512860176434, 0.06232775135800184, 0.06284700859303934, 0.0655748926610457, 0.06758020319278757, 0.0651627411256338, 0.06558504661108108, 0.06658370631140136, 0.06776489635441937, 0.0693017767286699, 0.06859116672717513, 0.06901123656574223, 0.07084298177309008, 0.07263839831572319, 0.07381869647215357, 0.06983837977264039, 0.07078729207821505, 0.07117157166585199, 0.07084927098051558, 0.06987462170309974, 0.06919362054581729, 0.06985241641911831, 0.07156636599856442, 0.06930421895727586, 0.06909353276239359, 0.06818910750056231, 0.07010609338894977, 0.07022811886761182, 0.07005924414187853, 0.07074706636482593, 0.07131554929620941, 0.07152385227532836, 0.07156942301940213, 0.06974181455039274, 0.07202695736739669, 0.07228354881628675, 0.07180735873065212, 0.07329935904000245, 0.07550425969775311, 0.07455956496302896, 0.07561833369193664, 0.07897352588308966, 0.07955925207916668, 0.07998947178397199, 0.0813707732055055, 0.07974590613906485, 0.08161759145751425, 0.08051010754462075, 0.08010838844108002, 0.0825949540833198, 0.08238576871364382, 0.08355485042240242, 0.08242863720663961, 0.08171800998636793, 0.08389632292524464, 0.08033149283839362, 0.08218831347288431, 0.08578309837888311, 0.08715330153021349, 0.08662708537584259, 0.0872636766985604, 0.09367127930187301, 0.09530626974423284, 0.09611379764557078, 0.09710957688995826, 0.09721654116342428, 0.09988257211874411, 0.10092485868961866, 0.1005563172602402, 0.10001892560234063, 0.10062225721774117, 0.10059140127314788, 0.09947663362521213, 0.10278247425342679, 0.10316567544306678, 0.10460609414660506, 0.10402844174802396, 0.10484702200275836, 0.1041509076113781, 0.1031880361802629, 0.10305709063407481, 0.10327934758806273, 0.1054713789190914, 0.10477500426803765, 0.1057795690436881, 0.10374884020844488, 0.10605449354254638, 0.10619340287730682, 0.10623512029829682, 0.10903793506626566, 0.11019312301780611, 0.10941825415978479, 0.11243587228904788, 0.11265809005960847, 0.11286406593353868, 0.11351419808884562, 0.11534432225584164, 0.11589020912674634, 0.11573203383410305, 0.11643682797309628, 0.11680976661197387, 0.11670549460571991, 0.11620592100568443, 0.11745808568724278, 0.11657750126957989, 0.11622881373589987, 0.11588623446503564, 0.1155063819305184, 0.1157952135919251, 0.11456172848425343, 0.11454224433835605, 0.11526024154017041, 0.11544734355581986, 0.11482519699987591, 0.1149932506786039, 0.11586975317682918, 0.11515418741902621, 0.11523907458826745, 0.11622761496358844, 0.11637671268854662, 0.11841762064095314, 0.11693050123728517, 0.11671308223391405, 0.11718437878208268, 0.11618487350231724, 0.12024545350412322, 0.11925832528978032, 0.11845501461470072, 0.12055119232993235, 0.11721250137276976, 0.11983347940597447, 0.12020549294795979, 0.11975166863504763, 0.11940184778831243, 0.1186128634924592, 0.12207441568164835, 0.12150831567278077, 0.124471914232956, 0.12257607543778795, 0.12481372098543868, 0.12425595427136255, 0.12290277500935817, 0.12385991353908435, 0.12621897725731612, 0.12063333187493012, 0.12509284196924447, 0.12436778298919328, 0.12476063854413746, 0.12390905170991495, 0.12149268801243773, 0.12250509947135092, 0.12364200922623557, 0.12125983768238593, 0.1228480510395261, 0.12090522010269882, 0.11848769514058835, 0.117812992307623, 0.11495197685806252, 0.11413582899809946, 0.11071200311923957, 0.10820112963135406, 0.10610646317984167, 0.10669536171946577, 0.10343214615473102, 0.10236238658251397, 0.10038846900111488, 0.10018009395853104, 0.10049876310932727, 0.1011356178213241, 0.09634594346015785, 0.09892462113406171, 0.09614870147141466, 0.09616829133850555, 0.09384643555554015, 0.09437331917632491, 0.09195538310486466, 0.09158317303395513, 0.0922527090335846, 0.0882431834647058, 0.08779214000332873, 0.08603992209697607, 0.08396596274054607, 0.08321673561438928, 0.08239667687975613, 0.0816525853401504, 0.07894454460680182, 0.08024321884890544, 0.08281790720612466, 0.07810660060982093, 0.07455245333693128, 0.07483588224957967, 0.07417124643758258, 0.07587265937174195, 0.0758663670891162, 0.0724453311806781, 0.06925143577075474, 0.07056940317541098, 0.06667099898427932, 0.06736390925652233, 0.06433073246535112, 0.06634482126288653, 0.06383151150195239, 0.06094256687311256, 0.0625744520762539, 0.061207242708964195, 0.059673388560091606, 0.05858373553897998, 0.0576331103532736, 0.05737707598138005, 0.05750887018748623, 0.058074966891497715, 0.05402655046354646, 0.05604111119240332, 0.054682080201287675, 0.05297431910769765, 0.05164653631594054, 0.05463224077013726, 0.05802892809585631, 0.05599504097651815, 0.05309187436199928, 0.052097780144306195, 0.05301845131531695, 0.0517853863354418, 0.05381631783115852, 0.05350672613409427, 0.055655652395552785, 0.05106880123225527, 0.05264455460468818, 0.053714499584799374, 0.05157577387488114, 0.053432856572850865, 0.05058076336609475, 0.0538534891564316, 0.05417708089564696, 0.05206344249490011, 0.05408305998810668, 0.05453742323141383, 0.05521950523690841, 0.052790697915516376, 0.05278844509655781, 0.05039319032442321, 0.05037892344707062, 0.05026223652996777, 0.050838244100520326, 0.05044401311635593, 0.0519998607524665, 0.05116462171970353, 0.05067944858824638, 0.052866406188882026, 0.050443136861304236, 0.051789484678053915, 0.05238049749946919, 0.056046949773514765, 0.05613552647037168, 0.058594790285008275, 0.057260350747264765, 0.0556409024545382, 0.05843337011597144, 0.060931159603941736, 0.06098515313391728, 0.0621749091687524, 0.06667681537631456, 0.060419345291401375, 0.058809241962523254, 0.06347056442269298, 0.06498124206050054, 0.06449224313319439, 0.0671783107568199, 0.07381724329015256, 0.07251939571159256, 0.07563609030284348, 0.07313085123255868, 0.07430903335565618, 0.06678014119411659, 0.0656921028327654, 0.06832514437841361, 0.06610723792243135, 0.07013830873971491, 0.07111615084213474, 0.07160300108546923, 0.07080384174682545, 0.0685459645052316, 0.07069371323191706, 0.07161173156399687, 0.07182230709117614, 0.07259436380500744, 0.07500864125525107, 0.07351930140329765, 0.07187106748445066, 0.07648884917378745, 0.07459657214704628, 0.07686036046055551, 0.07810216737350052, 0.07870804025855241, 0.08067888083830144, 0.08221009514010677, 0.08310335462145373, 0.0872200911187835, 0.08687994018841143, 0.0872213884564241, 0.08926869505349197, 0.09068858863315876, 0.09345859497616978, 0.09488407139127147, 0.09531424061991685, 0.09519980191937863, 0.10033974412587905, 0.09737874039226434, 0.09796432606506088, 0.10092876596071716, 0.10000977173009509, 0.10024952922162383, 0.10270345182794775, 0.1047978860285899, 0.10538887386911258, 0.10574845986373213, 0.10476176967566034, 0.10464247997110605, 0.10357707196742215, 0.10251200755816431, 0.1055187385711249, 0.10258704067226034, 0.10339759415512446, 0.10477534002781567, 0.10246301230950466, 0.10328757280302912, 0.10290326887055354, 0.10263489907126319, 0.1033053563986972, 0.10123858187913279, 0.10024708247624034, 0.10084798155691233, 0.10091700514856589, 0.10183987546680111, 0.10157699495206395, 0.1021864717966322, 0.10267026438228764, 0.10303052556175088, 0.10142515116826889, 0.09924010521432307, 0.10205869378854432, 0.10004393876434743, 0.09948494086965083, 0.10068054873348162, 0.09966866799278197, 0.09889921818839302, 0.09917047074321265, 0.09818657405151456, 0.0976965219590149, 0.09697563947197325, 0.09690004660302609, 0.09696932195950522, 0.09676046617132093, 0.09692326881578094, 0.09596287214666106, 0.09627154852279235, 0.09507983370190624, 0.09490215999901792, 0.09631527024071032, 0.0947370117897183, 0.09559893330996455, 0.09521180691303462, 0.09496266201528372, 0.09714968745409819, 0.09815598957208217, 0.09900674673258474, 0.10062644966716228, 0.10098229071100222, 0.10280222759480437, 0.10320737139171375, 0.10419288355978139, 0.10414671153812989, 0.10602538873170639, 0.10490618433745798, 0.10935258760214361, 0.10914398357375203, 0.11020209806234219, 0.11347045950392437, 0.11875806533728904, 0.11715075964801798, 0.11963697064133269, 0.1202788210015663, 0.12085676209708988, 0.12215407812373207, 0.122592579846672, 0.12250069304350003, 0.12567214961718504, 0.12438703066276896, 0.12427243367932228, 0.12396480197470564, 0.12384415698410885, 0.122871812660651, 0.12342540301425775, 0.12423228697580625, 0.12161628638406217, 0.12129973141688964, 0.12167396241845888, 0.12052806137135899, 0.12127520389041681, 0.11904098839628412, 0.1182168978286659, 0.11772655559971702, 0.11785640915583286, 0.11763540976344958, 0.11719107498241468, 0.11881516845950164, 0.11805368421922484, 0.11906687148287634, 0.11954956360949948, 0.1186361287874568, 0.1197044329084851, 0.11867730791063118, 0.12044794423943608, 0.12045318190508332, 0.12072281826023445, 0.12051113261725127, 0.12017621620815803, 0.11917832625631082, 0.12052605840205581, 0.12023870170768602, 0.12020767541570515, 0.1211990635146655, 0.12097470312709392, 0.1215315491707764, 0.12187095879527217, 0.12170260571473547, 0.12177239367037246, 0.12282063261136314, 0.12230187901732549, 0.12265698435591818, 0.12110868275727256, 0.1207940822158124, 0.12058816132402372, 0.11887110361176183, 0.119096039974931, 0.11808167038468731, 0.11725464784775036, 0.11682925537921658, 0.11670751467538235, 0.11459518426061438, 0.11336163095004871, 0.10906046148494222, 0.10905768402935838, 0.1046953148377367, 0.10523559153234137, 0.10058874120797437, 0.10113276402734106, 0.09911690036466997, 0.09517380445624449, 0.0951596176951787, 0.09457862545108901, 0.09113447352038793, 0.08688820107862377, 0.08870520003983429, 0.08692222780410491, 0.08498380777485934, 0.08597345209342296, 0.08263768322902507, 0.0827083638418198, 0.08147564528973653, 0.07894402407628297, 0.07775813752587618, 0.07404865986163585, 0.07309351831574845, 0.07136169123054983, 0.0689286336662101, 0.07055289093907145, 0.06739370956290748, 0.0676843912246093, 0.06772162026372194, 0.06810312366348407, 0.067119756918234, 0.06719482871178241, 0.0659026977480898, 0.0662478409737026, 0.06643537184929761, 0.06631884045660404, 0.06663728402139706, 0.06473053671829136, 0.06559681743186836, 0.06650622036041426, 0.06522834899755425, 0.0664601854386021, 0.0667819364305749, 0.06446364258196555, 0.06649997596303525, 0.06763610374636643, 0.06731951647356832, 0.06938573446413446, 0.06745584385481813, 0.0678928919781735, 0.06707123653469095, 0.0671559531532345, 0.06623938777103369, 0.06650751407938636, 0.06611633788844733, 0.06843757420603487, 0.06832487723973862, 0.06856586989754147, 0.06725137845978733, 0.06770650303644558, 0.06900563700799116, 0.06791010912166119, 0.06802556723556144, 0.06722744484843499, 0.06771418976244518, 0.06753378787972987, 0.06796456533191, 0.06967131689932173, 0.06930221588933222, 0.06637803851425288, 0.06413861182699675, 0.06470257457148229, 0.0666803507852594, 0.0642157562848429, 0.0645287814529824, 0.06266956198600024, 0.06300023283581271, 0.058994243254937344, 0.059866408131895796, 0.05635603059347868, 0.059766306051952316, 0.06002561583494825, 0.06215054364481739, 0.06244904603131493, 0.060038165461701154, 0.06213855917881024, 0.06217388537783706, 0.0634883558308997, 0.06089702108952369, 0.06291717894670881, 0.061126338991840716, 0.058434359442803764, 0.06234696288500344, 0.06023663003124389, 0.06108658333454493, 0.05891260586665375, 0.061741294891070955, 0.06453438297758245, 0.06407148353357352, 0.062195719294228444, 0.06410922940660178, 0.06461939389546811, 0.06384016008672747, 0.06000400263857185, 0.059798771478825515, 0.06100442881215789, 0.060285758224495375, 0.06072961985343619, 0.06325569131532091, 0.059698648347850866, 0.057611209417248996, 0.06190221491790491, 0.05772177215842216, 0.060917265990453, 0.06002573635603743, 0.05984781477827594, 0.060480325233627376, 0.06004378693057777, 0.05818289288111999, 0.06354941059200904, 0.06525418676080814, 0.059934739319807195, 0.06696295246053117, 0.073755728110556, 0.06921660774217397, 0.06855090678240211, 0.06757642793464556, 0.06553338452008252, 0.0659640135613965, 0.06649568883969874, 0.06923891254430158, 0.06656626733037826, 0.06674925049862522, 0.06658691583148658, 0.06636735358763275, 0.06606360242437798, 0.06394318109163467, 0.06603839559462521, 0.06957598997004893, 0.07019407849380745, 0.0697359618005294, 0.0677361874521773, 0.06943620438373205, 0.069082761634445, 0.07110166745050078, 0.06821992552159412, 0.06900042177340367, 0.06484316889754682, 0.0687525625185975, 0.06379361948693847, 0.06490428826058009, 0.06729081607156971, 0.06580954047745696, 0.068453701530666, 0.06456782469159926, 0.0605354529943181, 0.062090366578884185, 0.062292237615961345, 0.06426942542576201, 0.06172490320829425, 0.06351715170791684, 0.06189798950295168, 0.06532270368925817, 0.06261696973134642, 0.06718882109154531, 0.061003406888953164, 0.06434589556928708, 0.063926519233266, 0.06124138000754864, 0.06277662235761339, 0.06185718749216973, 0.05906687167191423, 0.061133316044644254, 0.06296093183580209, 0.05855258966830877, 0.0692672491222347, 0.07122140096302618, 0.07242704455625164, 0.0665078993358138, 0.06904991086693434, 0.06963058658907931, 0.06621145804149123, 0.0718515050440858, 0.06864945523962795, 0.06621384278699267, 0.06684222662694111, 0.06851848006497684, 0.06233699894522571, 0.06430975439979877, 0.06580242881807534, 0.05957520469544802, 0.07078622825266795, 0.07245760619168215, 0.0719117240545539, 0.07237142171285368, 0.07480492897577638, 0.07377004114731803, 0.0698260367368265, 0.07398607914279964, 0.07509611495264497, 0.07387965146155721, 0.07192819461340341, 0.07082000237413329, 0.07515427008796906, 0.07634878659543799, 0.07454902253488707, 0.07721768073281562, 0.0792530030219047, 0.0797445853978784, 0.0746191362107942, 0.07868203855649473, 0.08083320073466904, 0.08488801815730568, 0.08383317383330112, 0.08818873579140929, 0.09096814199626865, 0.08949993384023151, 0.09038651660300881, 0.09097998481747634, 0.08957699753943951, 0.09528304006331113, 0.09731963912522137, 0.09751212401676662, 0.10074715790972527, 0.09742013758274097, 0.09841151922542418, 0.09687802748512757, 0.0953928575224459, 0.09291601744604036, 0.09811900660232722, 0.10283556431702708, 0.09942124787378036, 0.09506582075073615, 0.10077739636918889, 0.09815322330065739, 0.09683634723978354, 0.09739160117698441, 0.09569040882269203, 0.09783285024358877, 0.09647609867323859, 0.09960991282301297, 0.10157639405225047, 0.10275138072860493, 0.10279706027488016, 0.10257559428450387, 0.1047188498578039, 0.10484479154651603, 0.1093101133702971, 0.10837950172793649, 0.111458692686511, 0.11179093648089393, 0.10711228376587267, 0.11267914465062397, 0.11458966383271725, 0.11598298582499056, 0.11697504455637994, 0.11621079357018797, 0.11501991882602718, 0.11572591156292618, 0.11973430954089502, 0.11772616188170822, 0.12240159354371134, 0.11853974399559099, 0.1215297465014413, 0.11754747551066413, 0.12234219913055601, 0.12601040531321767, 0.12730405138179735, 0.13322037824183686, 0.12836159115754156, 0.12856953189207695, 0.13076116589706757, 0.13084074992309247, 0.12821965028315127, 0.13161628099851763, 0.12927973157489703, 0.12911057558632774, 0.13209659483721345, 0.1283155846681816, 0.1322678134747297, 0.12986081950937747, 0.13088836318380204, 0.13465047677628286, 0.13360042551943235, 0.13506184574559837, 0.13609885398475177, 0.13313179440196896, 0.13286441693541995, 0.13403839325344005, 0.13218550677800997, 0.13535802223727791, 0.13493611796463226, 0.13230476305158426, 0.133307066888537, 0.13326399095095454, 0.1295198932118722, 0.12919251727225387, 0.13093747290751467, 0.12845734977506812, 0.12706928132731812, 0.12579984085299722, 0.13050418009002912, 0.12934165693503377, 0.12982884487236881, 0.1308907972721928, 0.12758152098668576, 0.12789064183507007, 0.1246334737852705, 0.12728788863887236, 0.12354013532763224, 0.12212354130860636, 0.12302040687647606, 0.13030547409931134, 0.12244652772519689, 0.12611097285482223, 0.11667830777988665, 0.1270664242963369, 0.11274125866995534, 0.12205675328202713, 0.12607931130758568, 0.12544767865229947, 0.1216522797592461, 0.12875493142596559, 0.12898397370136672, 0.13118606298269672, 0.1307529096375242, 0.13289714975758296, 0.13712186761420084, 0.139006104854096, 0.13901402999554163, 0.1329550065476124, 0.13179964313035472, 0.12979276774272921, 0.13148995265418725, 0.1306131915211313, 0.13230761174214797, 0.13168631025759944, 0.13637961314316585, 0.13993833281030463, 0.14050970513889102, 0.13851770287013201, 0.14013640497794672, 0.13791336196375073, 0.14151730230893297, 0.14416201525041086, 0.1445300118957787, 0.1451780400416504, 0.14398664181898813, 0.143912789037308, 0.14048243489559029, 0.1390577413164498, 0.13866812361128653, 0.1347916841354645, 0.13759893308764026, 0.13571562341325638, 0.13721137539700284, 0.1364497273270271, 0.13478113286674825, 0.14012248942379363, 0.13845245742693038, 0.13537734940382126, 0.13518004957713697, 0.1379674138935678, 0.1370056748011412, 0.13626979809870227, 0.13302732681549836, 0.13679573940067158, 0.1374828911320022, 0.1377979591209084, 0.137345800602825, 0.13632787357354714, 0.1362631617710887, 0.13559442297569632, 0.13616725166319696, 0.13676001839420934, 0.13601820066321313, 0.1365006423264282, 0.1355530493626919, 0.13637480546557998, 0.13852984679313637, 0.13343668871839603, 0.13927317587525773, 0.13814866513560423, 0.13663385759258187, 0.13734231511371228, 0.13704888703902218, 0.13412931600317762, 0.13494337014734706, 0.1344768325242343, 0.13294366263844928, 0.13482991253460233, 0.13690130958628105, 0.1377315491994521, 0.13665308865049428, 0.1377384829949958, 0.13771607774064332, 0.1376767252148474, 0.13791798544200073, 0.1375982484407581, 0.13836620152949783, 0.13919973739703434, 0.13947935331650613, 0.13875176286329038, 0.13858578349587045, 0.13984973320944846, 0.1367106443191607, 0.13690402975043378, 0.13685544341520436, 0.13829981110041617, 0.13732353847310566, 0.137815472115514, 0.1363567404202388, 0.1360668798711025, 0.13548817469191346, 0.1374040888501131, 0.13372212348760698, 0.13417491310285906, 0.13750738374496843, 0.13472704596934632, 0.13370906142661684, 0.13528790267809973, 0.13642131803458876, 0.13229527068744046, 0.12893771666565362, 0.1309637927164498, 0.13126888772296233, 0.13242064584534366, 0.13016567741911178, 0.133837698830368, 0.1320661285587454, 0.13282745680874417, 0.13127442551912266, 0.13016607529434698, 0.13102748054086627, 0.13155646230893164, 0.13498917668714364, 0.1338235712284038, 0.13256619381977008, 0.13313671500017918, 0.13264201295076158, 0.13144276909300906, 0.1308087929922718, 0.128926969136107, 0.1295136930683935, 0.12498438001990866, 0.12381930378075338, 0.12313854679663355, 0.12324203416631355, 0.12024752472120093, 0.12284645941179367, 0.11929245033621132, 0.11943697247599232, 0.12032472897453493, 0.12008594786169002, 0.11826115886377654, 0.11798919824771614, 0.12064046053997486, 0.11980400099490959, 0.11775094597775186, 0.12036756444160425, 0.11985128287929328, 0.12000176738932561, 0.11803035076060027, 0.1197420516590737, 0.1199888705956417, 0.1179538690778606, 0.12045644211099685, 0.11843001474039715, 0.11867058254002337, 0.11710437682424142, 0.11693912277966896, 0.11648078837762751, 0.11703545076341094, 0.1182372797275946, 0.11704134687956705, 0.11781285954064692, 0.12010040613159971, 0.11973730864123319, 0.12038685887165232, 0.11791782401204529, 0.11706027927223871, 0.11470980108370585, 0.11404436210363063, 0.11294352430890399, 0.11221881498585484, 0.10881501408554285, 0.1082593877944597, 0.10730792361791573, 0.1071103590478788, 0.10536021229522408, 0.10217669812998527, 0.10276400229641391, 0.10333724291553315, 0.10204236006763577, 0.10207612739123877, 0.10359254256825753, 0.10430218994888266, 0.10324556705790197, 0.10092816037121448, 0.10578576618845448, 0.1029981908961723, 0.10334997138829564, 0.10299635013535378, 0.10261706454169595, 0.10443048637968995, 0.10470570845655637, 0.10432038460177154, 0.10492866792852576, 0.10520914201714211, 0.10446794006537427, 0.10437487858210723, 0.10447298076429477, 0.10725431156155006, 0.10388812683650252, 0.10357331708498999, 0.10427226258343798, 0.1044732839854397, 0.10510104633260862, 0.10415318844795782, 0.10046971817934428, 0.1020192910770731, 0.10191109335783122, 0.09803110011449388, 0.1018627892900904, 0.10484703623375619, 0.10521739650551651, 0.10455244932753238, 0.10491185336473698, 0.10496751399017887, 0.10513616328865255, 0.10602203194236866, 0.10264961215209442, 0.10397601827133157, 0.10318558952045839, 0.10296906943675015, 0.10332272373757898, 0.10007623851860377, 0.0966392470332909, 0.10131109455349009, 0.10216567076068371, 0.09895032519081869, 0.09697625502321373, 0.0976653125614352, 0.09483674901328004, 0.09478755991833078, 0.09563633571524373, 0.10076184329306484, 0.09438025457080411, 0.09478052077913224, 0.09489512412976811, 0.093577470002493, 0.0958824392133511, 0.09644483956514921, 0.09322655792416173, 0.09585674418918835, 0.09571980174348774, 0.09798688167670161, 0.09830458158238792, 0.0990888875187728, 0.0985169827403064, 0.09781072898319595, 0.09869736860731956, 0.10023799964622761, 0.09887862449548464, 0.10086957168452726, 0.10407902271411854, 0.1011980358541815, 0.10206144735296775, 0.101478036710374, 0.09928438699235917, 0.09597192696672605, 0.10132699275894114, 0.09683348407162524, 0.09514322162366902, 0.09660004867817168, 0.09772721802619805, 0.09626127928365957, 0.09381864273889652, 0.09387224317102245, 0.0984174251750058, 0.09653517379221199, 0.09253439800462449, 0.09284360690147332, 0.0918102029612336, 0.0923926845516315, 0.09251352678596558, 0.09424182617519691, 0.09196347080193121, 0.09427345253024087, 0.09333054129216983, 0.09505853531733327, 0.09426662175262457, 0.09352934395924517, 0.09407509315499879, 0.09363899509602965, 0.09426431372995484, 0.09300816802955143, 0.0942508626138604, 0.09752185580962436, 0.10005692704150813, 0.09428711289522634, 0.09799126292409484, 0.09657962197760762, 0.095777924652212, 0.09536185094591287, 0.09518980868664455, 0.09444499252466443, 0.09424177950228471, 0.09051307714172732, 0.09021030544404784, 0.08845658615940824, 0.08947045682474941, 0.08746535354871834, 0.08729080830999007, 0.08830490196389525, 0.08781179924284316, 0.08869131423590126, 0.08850237556348928, 0.08859881448645085, 0.09013714044531439, 0.08965323120919738, 0.09149984580240127, 0.09157228656008687, 0.0925891182842827, 0.08971384177615664, 0.09273448098724578, 0.09191531501421724, 0.09114686354439194, 0.09273225587412492, 0.08931891100412315, 0.09129868880799154, 0.09084013849854483, 0.08681305610975398, 0.08742781614236093, 0.08595582366557748, 0.08590017309791512, 0.08280244077969, 0.0814947634367369, 0.08098345448028367, 0.08036305580728151, 0.07990846864877507, 0.08212677197302289, 0.08433740979758404, 0.08301692858715826, 0.0838802337608138, 0.08370535333288713, 0.0833458265452134, 0.08302062347814473, 0.08371178912431014, 0.08536851587896417, 0.0843801490239713, 0.08681367647706588, 0.08610492217509001, 0.08731011561517968, 0.08723656640540496, 0.08554573473948987, 0.0869111631690686, 0.08594819556528824, 0.08656187449745804, 0.08678499879708836, 0.08701280515568442, 0.08765258303483764, 0.08762759168972183, 0.08740856860975856, 0.08506063567507155, 0.08705824042455336, 0.08543189578314152, 0.08536700824828497, 0.08376811848505687, 0.08204515229611702, 0.08250656768661721, 0.08102377659955094, 0.08026545524060737, 0.07516673070861798, 0.07467754638381736, 0.07244814129792493, 0.07356858810788078, 0.07451487125513256, 0.07194623844868352, 0.07079763374148221, 0.0712569691732291, 0.0728023785381567, 0.06980091737355044, 0.07065096034214859, 0.07165834669716627, 0.07256503546793669, 0.07322055763281088, 0.07381596019170422, 0.07452962456694733, 0.07580005030827969, 0.07702855252770133, 0.07748459456837575, 0.07807102522745553, 0.07845560538214812, 0.0788690924728151, 0.07942426052312508, 0.07998801979236565, 0.08077151833875486, 0.08165078684564056, 0.08069347178706668, 0.08002824690691138, 0.0789485785012569, 0.07948541593283799, 0.07950993985579986, 0.07822314538166823, 0.07930753458177296, 0.07986715020573287, 0.07999478080902947, 0.07878638620901661, 0.07793495194457961, 0.07852692435880741, 0.0783768993477876, 0.07716488855234667, 0.07561272817880882, 0.07412958795452097, 0.07365216280441972, 0.07243331191849792, 0.07213606340779538, 0.07147317481447782, 0.07181517447263885, 0.07087782843496104, 0.07175711903825559, 0.06955387002081345, 0.07000365342273003, 0.06909756754239492, 0.06960605662626725, 0.06722514692548814, 0.0713594949300095, 0.06990183463567279, 0.06932783010035291, 0.06879113028350654, 0.07014421276476232, 0.06846016106314283, 0.070060561165488, 0.06866835479616071, 0.06990150857761829, 0.07053274399000307, 0.07075750904007168, 0.07017009625811663, 0.0706537845216426, 0.0698800344520838, 0.07020314110617117, 0.06978463106681125, 0.07046844659038783, 0.06943994954521433, 0.07096172337527451, 0.06694380765364354, 0.0657226892200263, 0.06651886470344008, 0.06537347861990948, 0.0660696800885737, 0.06567766291663386, 0.06597036035000738, 0.06657806985923238, 0.06619372118412475, 0.0682318347185795, 0.0703829319389122, 0.06990839330583111, 0.06543321932478316, 0.06516145919103403, 0.06857523099329092, 0.061307054083285004, 0.06461592478015206, 0.06681732958073885, 0.06618268227822824, 0.06138572494142156, 0.061428183923648974, 0.06563333253382207, 0.06020813040559692, 0.059855542023589635, 0.06101995384184145, 0.060742479639254665, 0.061454217752300526, 0.06638508795314463, 0.0681578417149306, 0.06577203041221458, 0.06475787298903017, 0.06206592401318646, 0.06257371800691208, 0.0674709143994774, 0.060532516399562315, 0.06640459238304965, 0.06060121338788142, 0.059069090351861586, 0.05631439915510008, 0.05447650698889335, 0.05612271031384572, 0.05737643494444381, 0.05624796522264654, 0.058945312184506285, 0.05911272635044886, 0.05918459215210033, 0.05931438538801575, 0.06092146734552299, 0.057595908624132976, 0.059781220105085874, 0.06438327766511308, 0.0627537168916096, 0.060752439761767134, 0.05936743754455799, 0.06392913556443908, 0.0634207569977384, 0.05934683006040864, 0.05775078708704, 0.05831873136312106, 0.05567055493900657, 0.06113428706895642, 0.05704476209004731, 0.060982942693291485, 0.05796514132826008, 0.05537544875268021, 0.05859079037887636, 0.05745374896578425, 0.058228440920876555, 0.058236731412829666, 0.0595423139070932, 0.05871206664091489, 0.06132690271888094, 0.058379977524277774, 0.057508518111455256, 0.05744467035913506, 0.05867719352772056, 0.06106506727323029, 0.06306059675212891, 0.06519884879581395, 0.06254872893747461, 0.06003563142702184, 0.06589347026896694, 0.06519243668361374, 0.06633748137111813, 0.06693343911104041, 0.06940131582753956, 0.06725773348929363, 0.07052206663034506, 0.07108466338430691, 0.07163997603835612, 0.06661494181279151, 0.0692731849364177, 0.0729792721921319, 0.07467111876595321, 0.07344819347989462, 0.07293592689082501, 0.07043373315991708, 0.07231996999031062, 0.06544824018426691, 0.06987520863320473, 0.0724894792534307, 0.07512618886256862, 0.07018280584607813, 0.07357254169644349, 0.07294438773741557, 0.0684800179308163, 0.0701050721769076, 0.07212562618109113, 0.07442519393140874, 0.07514707231219488, 0.0744550375680118, 0.07557519521399311, 0.074424384267256, 0.07528168188057786, 0.07749549562819572, 0.08064745054957256, 0.07889141115355912, 0.07583904518333572, 0.07947218169281357, 0.0791895136181875, 0.0816717467785297, 0.08407480040313203, 0.08371646709608675, 0.08425955412256127, 0.08138861476082765, 0.08046431942446464, 0.08098278967060885, 0.07810760782337521, 0.07868104102067765, 0.08027840905914996, 0.08074935842067639, 0.08078880683433834, 0.08043188226225415, 0.07981770251664672, 0.08143949535951618, 0.0833232707633426, 0.08474892620901904, 0.08091948677614197, 0.08128502676711598, 0.08071201922652248, 0.08119053840477823, 0.08130799323444692, 0.0819238321992024, 0.08310290797898023, 0.08299498401116416, 0.08304084415544097, 0.08327139854357177, 0.08714740213527532, 0.08632756988462638, 0.08783151803301245, 0.08628915113399813, 0.09081784401750788, 0.08883791174611894, 0.08722252005705806, 0.09024963110037472, 0.0940810529511275, 0.09117758951112998, 0.09434014273484613, 0.09555966777699809, 0.09546794982133935, 0.09544591374582868, 0.09516716225491013, 0.09583879967906081, 0.09205793255717461, 0.09882672085976078, 0.0977874933216349, 0.09623111717526536, 0.09596269534914166, 0.09852907975229831, 0.09870038364551573, 0.09732492169363241, 0.09714542211125166, 0.0972159153999136, 0.09909014884276159, 0.10193959812075482, 0.09737573976142487, 0.09716696864066898, 0.10022453147168844, 0.09817921957160013, 0.09903635602193783, 0.10224183400396987, 0.09812697811570055, 0.09828792865020161, 0.10318307031966008, 0.10582705777218122, 0.10555813029236219, 0.10290763778657115, 0.10327466707013525, 0.10527097057771381, 0.10074721708847523, 0.10277767981246844, 0.1075846091472534, 0.09982290569896973, 0.10685894698289702, 0.10679480130809038, 0.10851391195880827, 0.1058871403663245, 0.10748569676246315, 0.10956968755887081, 0.10593451774604466, 0.10196958101794769, 0.10343967972995298, 0.10471942594876776, 0.10405986771794322, 0.10344392691365005, 0.10294905815762065, 0.10464025907288207, 0.10513637417268909, 0.10572455216755103, 0.1018513875435925, 0.10555053649002194, 0.10541680921873187, 0.10393921107072127, 0.10142931976563643, 0.10247537126062913, 0.10736724038849521, 0.10494185380935409, 0.10445621335196618, 0.10573647364637451, 0.10718795796745258, 0.1071006553072893, 0.10753215386887871, 0.1101161325475856, 0.1090457260141783, 0.11115815579315688, 0.11340447981812181, 0.11163354760148467, 0.112767608997801, 0.11742709114507928, 0.11475434456689548, 0.11733192149934225, 0.1203947992943076, 0.11906181792202863, 0.11644229439715033, 0.11949100311132449, 0.11935359495562771, 0.12022043688878925, 0.12164693059109855, 0.11869268785316198, 0.11715907660164457, 0.12055798875253908, 0.11895730351637147, 0.11353549590021915, 0.11541695899791496, 0.11576194493707737, 0.12147346346972049, 0.11918174844771336, 0.12233299393799357, 0.11705610143674042, 0.12097792543796358, 0.12694391149654718, 0.122397000902888, 0.1261363357151219, 0.12552316360885382, 0.12470717211915378, 0.12073622944992533, 0.11919052728312414, 0.12305415686029847, 0.1268936314816826, 0.1320589534257458, 0.13083235156916417, 0.13174056031029097, 0.13422204351020608, 0.1370572966116853, 0.14235375053465565, 0.1322468586495321, 0.13689755865352488, 0.1301186124877102, 0.13078494112042502, 0.13249974933699354, 0.12727346468711656, 0.12815166456626975, 0.1294052125979596, 0.1316972171758738, 0.13260642976153061, 0.13043677596995137, 0.12251283636019254, 0.12940321297678614, 0.13115781864981987, 0.12795772957165844, 0.12747612055541224, 0.12803608616800552, 0.13342450233351424, 0.13711344013791688, 0.13899007141999178, 0.13696533155247487, 0.13851754982081918, 0.14189076312020532, 0.13891591303514492, 0.14396390103620677, 0.14317306063119278, 0.1380991238686929, 0.14538302557490082, 0.13387086598525885, 0.1375873178438242, 0.14566939419911132, 0.1329748960534563, 0.15582202629175831, 0.150059857993715, 0.1522557362984503, 0.15505929368472332, 0.15404672351153811, 0.14974720231536007, 0.1487639283711587, 0.15193687664934696, 0.1484314043126415, 0.1500004416570614, 0.15412223653091664, 0.15719075143849945, 0.15688882031893198, 0.1557057458037897, 0.15307302562795802, 0.15331831514397182, 0.15065171812395226, 0.1506422627998323, 0.15375339200232407, 0.15122898362624096, 0.1509028332650402, 0.1476402296858704, 0.15627542792894208, 0.15552257222844296, 0.1557422478649682, 0.15786927360262767, 0.16077833712559014, 0.15385114617481083, 0.15536996341808426, 0.15639156337267146, 0.15441965987579637, 0.1533317855220038, 0.153984061375153, 0.15511177484586325, 0.15173400877984292, 0.15315112686523563, 0.14993416282614064, 0.14534268714390394, 0.14658056838374217, 0.14239433576097332, 0.13955810838377597, 0.1384771813615819, 0.13745250132365533, 0.13689293497599694, 0.13229901930121346, 0.13184672527332988, 0.13159782853297528, 0.12789730926960755, 0.12329640021693389, 0.1228974780736158, 0.12431635624627724, 0.11720174811907624, 0.11662054062620321, 0.11637824613672093, 0.11594234200012125, 0.10939804073563408, 0.11265089774921686, 0.11181851092203388, 0.10393205618866101, 0.11223534050069886, 0.10192779862311935, 0.10068715132556273, 0.09548615200685572, 0.09681089640730668, 0.09496356196688868, 0.09547171591845707, 0.09670991389091041, 0.09043788111034638, 0.09094822380637466, 0.09315554852791279, 0.09245243636617442, 0.08695003164092177, 0.0899843114938245, 0.08428796634583374, 0.08902478613072735, 0.08428489416787631, 0.08244199389625308, 0.08026438815907436, 0.07927785892048266, 0.0774297885705105, 0.0783478991866098, 0.07635615981291832, 0.0766199289736973, 0.0738643035888965, 0.07372819945493733, 0.07299418459403699, 0.07405790580468566, 0.07069811663523408, 0.06701825400613018, 0.06602547783094345, 0.06526384033512306, 0.06347601623788608, 0.0589220318312359, 0.05318116621476814, 0.053753886551899104, 0.052467018111850665, 0.048618631829233754, 0.047376907136816526, 0.04826955141466008, 0.04128871409161991, 0.042032662237631885, 0.03833199226176057, 0.0360813285730938, 0.03662664875720115, 0.03418636367286824, 0.03377456991284713, 0.03584159596385334, 0.03252895184915117, 0.033417163846064656, 0.03324587264945105, 0.026878730551080067, 0.027970880209838407, 0.03389325840617638, 0.031993355812441615, 0.035898662669227435, 0.03569180742430161, 0.03754910208224426, 0.03744183975503856, 0.03282677755115859, 0.03459932411636093, 0.03319804348305153, 0.039430370734113526, 0.03921815143006294, 0.037601207799824746, 0.040842632038129004, 0.04141517613030773, 0.04314510591223503, 0.04401529242268083, 0.037995906124002464, 0.03923550113496331, 0.04434009716094015, 0.049981063896152665, 0.04371955147263107, 0.04907516982180294, 0.04587456868333309, 0.043648929078744424, 0.040722379100265875, 0.04656693835131916, 0.04920218437663982, 0.04578465194297818, 0.04953751440697106, 0.04893012002966172, 0.049643841893733914, 0.05128409995164386, 0.05301360896240006, 0.056613178335075176, 0.0509157340104569, 0.05196001738232284, 0.04966178616650569, 0.05138228246118223, 0.04897569718463007, 0.04691974969332382, 0.052549414123815946, 0.05205483462073319, 0.05404958984505104, 0.05393249904235177, 0.04812831440599507, 0.0527208613243818, 0.05018517676419817, 0.04912680818139196, 0.05353808883757846, 0.04602596074323234, 0.04904094273803832, 0.05163329258854101, 0.049163878482870634, 0.05028342340277559, 0.04946231955367239, 0.0490490143002544, 0.04363710162277537, 0.04894486494337403, 0.04527051053363521, 0.04623600839501949, 0.04484299027198483, 0.046484462259599124, 0.049049283338783146, 0.046094270511867756, 0.04376147254574917, 0.04603691385165561, 0.0517714427291575, 0.05617496678570162, 0.05343154205776864, 0.05651973727735694, 0.05154395703590912, 0.048967558207174466, 0.048241287763570076, 0.05206717363726945, 0.05245836332060766, 0.049660273114662604, 0.057125623058971786, 0.056903783604514147, 0.05322052370848611, 0.05795011425445631, 0.0519075749088423, 0.05149109111670984, 0.056159380627594985, 0.05381700766637258, 0.05904435502367697, 0.05508642165371473, 0.0553411460058723, 0.06047489898368058, 0.05345456170942453, 0.05133313513445414, 0.04788808262954659, 0.04892855486975614, 0.054720204107874794, 0.051390561103297434, 0.04594515693462025, 0.04444510615402075, 0.042983188363376376, 0.04447061312901113, 0.038790616864076935, 0.03597084735757965, 0.0373221316155823, 0.03912801418249561, 0.040437140791809004, 0.03958494629504543, 0.03682823503391017, 0.039501523683411484, 0.03684686623877113, 0.0382138380042184, 0.034486567843331865, 0.03231280101579018, 0.0379042443278968, 0.03479311550656743, 0.03525603709777196, 0.042930417071524736, 0.04153593960046778, 0.043302132668203694, 0.04306762835532197, 0.04266706182108586, 0.045151258976395776, 0.04321651907807216, 0.04789304128231408, 0.04683527452460743, 0.04829908139536063, 0.04706137808827526, 0.045676140657613815, 0.04673527730551895, 0.04703283170292925, 0.04470156895087711, 0.03921873060276729, 0.043887228267064315, 0.04062246538999766, 0.0437128757813107, 0.0449586865550852, 0.04133347682236471, 0.044939418878064706, 0.04231533666309303, 0.04743795400740163, 0.0514117791602561, 0.04754245296484878, 0.0460706243632314, 0.04497966846002342, 0.04795595209522499, 0.05142181866255906, 0.05530346530064381, 0.053782089317476495, 0.050781456822788104, 0.05403516645950665, 0.056647420653197604, 0.05192596870878301, 0.056702257391376014, 0.05524373129115536, 0.055058632472904684, 0.05429897973475442, 0.05600194113093453, 0.0510938055267762, 0.052396232762441465, 0.05166675199233215, 0.05587969161447525, 0.053568092155824226, 0.0522755450222109, 0.050996607073618395, 0.05546300424551488, 0.05049904512040287, 0.053102058017194184, 0.0513417419621564, 0.0544581055449861, 0.04990838602077868, 0.04823818686118197, 0.051934557114974404, 0.04947281587839135, 0.05513137683510633, 0.04782391176309074, 0.050449797696871725, 0.05095153295928512, 0.05226948167393412, 0.054069769388869544, 0.055878375062035426, 0.05384763635644615, 0.05186517925021441, 0.05318271899082109, 0.05152946429214931, 0.05128942950920876, 0.05752689338926677, 0.055930025565993705, 0.05072940836788975, 0.053023520296029074, 0.05064007376990883, 0.05054274214368606, 0.052033999363292865, 0.054015089778865974, 0.0537077332970131, 0.04797274660403123, 0.04643407010248915, 0.04845241200761222, 0.050063876601539624, 0.05052231943417654, 0.05447357510598036, 0.05716694678626332, 0.057428114596718184, 0.057375187442846705, 0.059465171233350725, 0.06053264725476942, 0.056974250575899, 0.05711162101670768, 0.05741567243354801, 0.057881524940091945, 0.05854219603125502, 0.05830876877139094, 0.054063699834327766, 0.05840920012930379, 0.0594811213965359, 0.060824407999255925, 0.06135338501654298, 0.059843940333281796, 0.05914914328064442, 0.05396732030279747, 0.06020977094960354, 0.056182478793794136, 0.06172351128562315, 0.060088537858213664, 0.05915297861777603, 0.060072568613998095, 0.06277732046704536, 0.061145471264161956, 0.06263861935944001, 0.0635306590673195, 0.06077225282482631, 0.06299550227405808, 0.06757133632838272, 0.0634122522700247, 0.06361521540213018, 0.06657126422132076, 0.06300538219392454, 0.06507131131594114, 0.06037058602450879, 0.06014927071127563, 0.0601297536654961, 0.06145369236157476, 0.06302975925358839, 0.06459927321076712, 0.06060679860803683, 0.06454294144655738, 0.0606060874402711, 0.06160500411690413, 0.06188878702185489, 0.06712321747140752, 0.052541093440914524, 0.06336998770581413, 0.05885298439106368, 0.06343768122433456, 0.06678622877328468, 0.0646812369118416, 0.06542578647245798, 0.06669831756711612, 0.06770440449767764, 0.07190018467073951, 0.06705558876527395, 0.06918163842461149, 0.06887904543089925, 0.06801174210674396, 0.06987179660851572, 0.06910748810010077, 0.07047408859937632, 0.0690991739462837, 0.06783023243169639, 0.07167459998189425, 0.06968753684129335, 0.07062233107459169, 0.06838244396311881, 0.06670428385929605, 0.07230778057472499, 0.0707506535798706, 0.07214950830504259, 0.07200524986706083, 0.07362948649995125, 0.0741980487631434, 0.07135898891556121, 0.072496057793552, 0.06621682930696199, 0.06576495842193598, 0.06841918915200389, 0.06746877302967233, 0.0634588695210901, 0.06353009137878111, 0.06422019109529523, 0.06459988247976893, 0.06308700726436046, 0.0658148594215511, 0.05945539564812669, 0.06365245728226748, 0.06429821287136321, 0.06344474237603435, 0.06153391123717343, 0.06293205328435407, 0.06419619541092511, 0.06151275390860395, 0.0653026861568887, 0.062489609306017324, 0.062096532332157055, 0.06412030833346387, 0.06752720978090772, 0.06406118384501291, 0.06259336403556617, 0.06426896635665345, 0.06479412182092716, 0.06269712098366914, 0.06579602489312272, 0.06346022197834476, 0.06606201976932638, 0.06373944360006237, 0.07150311788964986, 0.06662283006751328, 0.06347526684901532, 0.0642957076963602, 0.06053980404670019, 0.06323902758330856, 0.06281755806230978, 0.0679693345623314, 0.06284676060943935, 0.06831413311284608, 0.07018831218920363, 0.07103365406728966, 0.07051765425598001, 0.06956750578023345, 0.07397448501643168, 0.07142923835447937, 0.07505009732357229, 0.07692726619926274, 0.08878340613302584, 0.08192940067102196, 0.08609556078240341, 0.08672185377532378, 0.07171531093459037, 0.07270829870984788, 0.07778098007383975, 0.08131930635212209, 0.07850292378269037, 0.08028992208318231, 0.07826537433734371, 0.07711638311720663, 0.06865762922753052, 0.07633426886199979, 0.07929287860482866, 0.06996015010329151, 0.068290462765938, 0.07434375543040916, 0.06465119910868013, 0.0650291413995548, 0.0659493571316114, 0.06679149565886869, 0.06425782452459505, 0.057693295224001295, 0.05082060629608837, 0.05600665007924973, 0.05429558084987527, 0.05274789723318223, 0.05334032945222035, 0.04893623836869235, 0.058990727079797245, 0.05833641877556119, 0.054055793861340545, 0.05935283493920746, 0.05160859468031547, 0.04759025911423082, 0.051540302718481215, 0.0484453200999455, 0.047046143591767495, 0.04996113728925056, 0.04920766921469963, 0.047909163850621966, 0.04592367737141526, 0.046835921496557735, 0.046154005207044504, 0.04304492623859653, 0.04286385474412817, 0.04532319893925206, 0.04462418878679285, 0.037975364093232995, 0.038996946093211665, 0.04224765325256573, 0.03603507313888727, 0.046376651773382106, 0.046366563076841436, 0.04354599340988084, 0.039656665789781234, 0.04231993460693308, 0.042600248284478115, 0.042671979636791195, 0.04213553435413539, 0.04403185766608858, 0.04948091188895624, 0.04777780377321922, 0.04727639398934535, 0.04341146227034919, 0.04910836247131014, 0.04768642458755012, 0.052460651973115696, 0.05104170203966836, 0.05270996340496017, 0.05320966947275968, 0.05478750963273348, 0.05360145988440765, 0.05635536279040708, 0.05621381137463651, 0.0596763335543605, 0.05534041943714802, 0.059835186773341625, 0.06050804811930031, 0.0611898930183888, 0.06025084673590857, 0.05724515255534914, 0.05943179552945805, 0.059576963428232925, 0.06133129499561489, 0.05976295502088012, 0.05979571509047631, 0.060351498108026265, 0.06136256053020994, 0.06076428257050403, 0.06376660185361435, 0.062090211274510976, 0.05985429595572237, 0.06372177493701538, 0.06405172985528962, 0.06491098718544312, 0.06302502508925069, 0.06252715117408435, 0.06425468678087973, 0.06708412511583008, 0.0623100792883995, 0.06516672263384388, 0.06409277528788486, 0.06543353180327548, 0.06596524761347058, 0.064664468517948, 0.06729944684393606, 0.06524495468273735, 0.06531082472786479, 0.06489810572898039, 0.0637657262456885, 0.06367459991454041, 0.0685651987207949, 0.06500597667328277, 0.06473726309850547, 0.06404106950148082, 0.06541232903314907, 0.0636249631153865, 0.0631243948891554, 0.06428942723277563, 0.06420474907183535, 0.06397080225137786, 0.06247512187037356, 0.06248584753057175, 0.06337634201223075, 0.06499830400979682, 0.06268177027087536, 0.06363969597098008, 0.06561650901338603, 0.06547997695076757, 0.06214635392425301, 0.0648737695393153, 0.06604074142029613, 0.062242538148857836, 0.061739289530887004, 0.06657877127535537, 0.06494947008009049, 0.06506171684807924, 0.06599492094293163, 0.06404461845872775, 0.060683341194985134, 0.06232829480341271, 0.06358962002623023, 0.06670927416503857, 0.06737177313020148, 0.06895025264714764, 0.06952654004734588, 0.06745903323610132, 0.06894394425945306, 0.06710375906242069, 0.0700470873698253, 0.07032634851679155, 0.06914640455962713, 0.07122482172313924, 0.06966399416437415, 0.07413915660397763, 0.06986289938154634, 0.06985427405935282, 0.07095335502380805, 0.06788031297257809, 0.07030548886764922, 0.07109132243886045, 0.07514931312702813, 0.07227431528566663, 0.0720155672935397, 0.07249486685376323, 0.07577026950570068, 0.0757377066803774, 0.07300502984486931, 0.07958702786904095, 0.07218526357796394, 0.07568460566923167, 0.07738673756765758, 0.07181959759075018, 0.07349582613530072, 0.07182559080961298, 0.07291959985665836, 0.0737281258659996, 0.06775998159095922, 0.06873289935555764, 0.06756270507490421, 0.06345533428061095, 0.06870741158475317, 0.06615965019764265, 0.0659104023979991, 0.06486951998511384, 0.06661576972815339, 0.05838758901478796, 0.062435985442066855, 0.05816603134487808, 0.05610506400337842, 0.05424824370706448, 0.054399609024907244, 0.05474074756033685, 0.05440228059652583, 0.053312393461230574, 0.051061460616668684, 0.05073420516729649, 0.05093067352149876, 0.05230222402817135, 0.05096424607807635, 0.05003003901761516, 0.05113052413344455, 0.050368680056974736, 0.05303170890688111, 0.05238413177056382, 0.049955011862179155, 0.04961235486939368, 0.05402173863883101, 0.053404358380792306, 0.05613553084486162, 0.053562849503159454, 0.052839994220096435, 0.05272125844460164, 0.05033204390378568, 0.051486075877697816, 0.05080498583063831, 0.05115509138135533, 0.04951237966787729, 0.04896668435003801, 0.050378258868908385, 0.047666769530762626, 0.04917028410299569, 0.053901178081543766, 0.05398444182766275, 0.051346055849751084, 0.04971385147135651, 0.05194865182181597, 0.053709226777918666, 0.05658979304058894, 0.053558800906289644, 0.05469670937736317, 0.05045539258917283, 0.05263048603175423, 0.05537413722672067, 0.05112092887300856, 0.054593613859980954, 0.05223284322823763, 0.05328220901189084, 0.051468977943651524, 0.05520447027098283, 0.05608134797760616, 0.055269831967105595, 0.05497944889887718, 0.05565380144365199, 0.053962027069413825, 0.05261412800002706, 0.05515162875502001, 0.05422783348386746, 0.05664083958955129, 0.0560202659863557, 0.0574948496044422, 0.0627501204513514, 0.06546956472178453, 0.0637763419827223, 0.06793004416969556, 0.06518111214697624, 0.0681821777147439, 0.06956575129059978, 0.06964273406163442, 0.07025606638481746, 0.07128719966722502, 0.07319831159616887, 0.07398246706760762, 0.07493157095898478, 0.07753505785802582, 0.07750955589361702, 0.08080656473784881, 0.08433221815727526, 0.08513485481363961, 0.08612232571410638, 0.09316268839277612, 0.09102856791859018, 0.09196731941789753, 0.09173664210240627, 0.09303790007630428, 0.09251039307525091, 0.09712365048447934, 0.09897664197114377, 0.10211503638033792, 0.1034260265944768, 0.10870056568935581, 0.10945199879208654, 0.11422327050364459, 0.11041368357406885, 0.11315909274026757, 0.11677341429481196, 0.11497897480608295, 0.11403973731958456, 0.11616962827777921, 0.11778254733202621, 0.1178585511215764, 0.11751986848258586, 0.11820717546760116, 0.11996951201398018, 0.11995595019195324, 0.12105032437029278, 0.12258548158080103, 0.12265372409254242, 0.1240700193308436, 0.1245130558969119, 0.12451132951516478, 0.12433283673598776, 0.12400330016966324, 0.12404501630929717, 0.12336296644909465, 0.1216024172933415, 0.12315470920478414, 0.12182968749236085, 0.1239276592739065, 0.125974116581251, 0.12403764150439425, 0.12593802348239716, 0.12376626996891793, 0.12455326160085003, 0.12494290202591758, 0.1251952350288815, 0.12475997453957871, 0.12440490365367299, 0.12333366573268625, 0.127329248019152, 0.1252223470085051, 0.12393230401250889, 0.12751310180384953, 0.12485174000980721, 0.12768987675774124, 0.12851415613439657, 0.12908825505852403, 0.12747462488150788, 0.12857235616160756, 0.1279339290165678, 0.1290163382962737, 0.1319562333180679, 0.1300304804244737, 0.12901211319717062, 0.1308702240133475, 0.1299683960485018, 0.13119482203170005, 0.13058786955354348, 0.12937073620819023, 0.12869892146518147, 0.12894830773044672, 0.12836289899654318, 0.12926082679861697, 0.12872944938057218, 0.1292629665329027, 0.12891728652693607, 0.12962076670752049, 0.1299846693703139, 0.12958823821850668, 0.12977819287376813, 0.13103819293470192, 0.13066794104087218, 0.13195046789248235, 0.13226652394124844, 0.13144643979220927, 0.13324855188280088, 0.13220678465878177, 0.13234765194178144, 0.13455481828684995, 0.13410454066677432, 0.1346272056451657, 0.13522778473743818, 0.13409777600568426, 0.13381522851357847, 0.13338015086560592, 0.13260808917260336, 0.13382017289402384, 0.13358991659855546, 0.13355069328730734, 0.13334622592544065, 0.13457577432417975, 0.13289008658885687, 0.13370103198928385, 0.1342145936529265, 0.13465586324986256, 0.1341282621861082, 0.13457658201551798, 0.13444699130592763, 0.1333231428618722, 0.1329483314356773, 0.13216463727226346, 0.13298576664167822, 0.12986351468088106, 0.12962033508664234, 0.1266175972253789, 0.12561237443208623, 0.12368090904661218, 0.12231016638463382, 0.12293127699863866, 0.1209644325459167, 0.11852454994840876, 0.1176846019272303, 0.11632073585244543, 0.11534134196927087, 0.1165538369895912, 0.11543108248825343, 0.11064831067980063, 0.10803615563773501, 0.10679234887746783, 0.10745288128505966, 0.1046635942875042, 0.10433459437676826, 0.10631150454817802, 0.10786300925326427, 0.10713275989658945, 0.1071930492179074, 0.10413114128153285, 0.10661329293606062, 0.10529068626530805, 0.11010725126788169, 0.10812320142923085, 0.11024800151147979, 0.11189148789762618, 0.10925776025625995, 0.11198178668062737, 0.10851406814947114, 0.11002029561980768, 0.10538134238864627, 0.10996495923124981, 0.10777662548225615, 0.10818938260305536, 0.1068821482025538, 0.10774272829861842, 0.1071727180492127, 0.10957162540601587, 0.1070957608738059, 0.10537571391233819, 0.1111127771856762, 0.11172858835119587, 0.10696014133093473, 0.09728735400585607, 0.10097870569789762, 0.10411384624028133, 0.10198099740072789, 0.1012470399459397, 0.10511949791784776, 0.09731696065945404, 0.10476067623879858, 0.10239004253063434, 0.10296532133137061, 0.10192502305677091, 0.09889148537271858, 0.10031218147844828, 0.10147083963636162, 0.09927779189358348, 0.09942490055613007, 0.10008638531407646, 0.10170861097084098, 0.0991011941025537, 0.09946958815372994, 0.09534646594110203, 0.09300425107851554, 0.09032840094549008, 0.08911779460623376, 0.08929614550214973, 0.08758431726073117, 0.08619203787714648, 0.08454741002912204, 0.07890353519614308, 0.07730915850557997, 0.07820345772257897, 0.07479309149117826, 0.07700955867466937, 0.07573623224933256, 0.07548682208065235, 0.07399775676631376, 0.07405846940187526, 0.07506705078973061, 0.07657282445389713, 0.07691170334231934, 0.07693248551287006, 0.07467119633057885, 0.07612708589804017, 0.07886723984916524, 0.0793682877209021, 0.08047162848282009, 0.0782287024616335, 0.07481170595849702, 0.07235473605018646, 0.06752965268940536, 0.06931834677939887, 0.06618737753773704, 0.06150134935757994, 0.06165559852370571, 0.062415660316302614, 0.06179708084794041, 0.056019825089156226, 0.052415655104701295, 0.052065314879998846, 0.04431756489651381, 0.04233698399572164, 0.038238963484131826, 0.03218753722451116, 0.034135745219753155, 0.027192802955833976, 0.04235816760460413, 0.04316656972424459, 0.023872581376151798, 0.03432303647890069, 0.033862940842108676, 0.0320766323832052, 0.03182051651785616, 0.029418121115774108, 0.03565078390303773, 0.036695075062009155, 0.03496970447770763, 0.03468210274653718, 0.03906044835474618, 0.037999588510210146, 0.03990451709601066, 0.0454280249345723, 0.02555545765794992, 0.03552771083161976, 0.050970186793677125, 0.05144160748670674, 0.05068392015254459, 0.053075619399030445, 0.05550884693370733, 0.04731611615399112, 0.05869066728534851, 0.05846038297367556, 0.04158333123438674, 0.04280410407782202, 0.06521560056456044, 0.09249010617857684, 0.1163212393163224, 0.13831331135533623, 0.14189495940827748, 0.13482432500828467, 0.12319828587227642, 0.0698113764874289, 0.06407173046909011, 0.06985000325759094, 0.06628880028485166, 0.06843348150231365, 0.08313240721456554, 0.07472226889723, 0.07084544434019546, 0.07398540354079923, 0.04566414903629002, 0.040447180602141294, 0.06635861896234424, 0.07004576939125166, 0.07076052856526077, 0.0531725769950125, 0.04446458750168987, 0.039413394476941324, 0.06248632273614995, 0.05663227146508516, 0.052815661233900184, 0.06935784863129789, 0.05560752711043616, 0.05270733274453019, 0.05022092890921275, 0.04568758816055385, 0.04938825275171937, 0.04581201711078057, 0.04492044978725365, 0.044917788641271106, 0.046770113412724426, 0.046207614353069124, 0.0377605854000405, 0.046979335313250395, 0.04296563301067103, 0.03966601185396575, 0.037033488116228586, 0.040924161793567046, 0.038794119311590027, 0.04496446314638888, 0.03767691166500286, 0.036303625614288036, 0.037783541875935266, 0.04401809928423038, 0.04271495345341745, 0.041323466809650995, 0.04093589274175631, 0.03785193194915694, 0.03767342502398867, 0.042685686883507545, 0.04522270685659642, 0.03938766472999097, 0.04143958316449239, 0.04248504568259966, 0.04075726402272321, 0.04309854095358706, 0.04303913129888287, 0.04286491609105677, 0.04465740656035034, 0.0459086912336891, 0.042107246150106366, 0.0409875443554295, 0.04494413356337877, 0.04402895608358566, 0.04524580716404126, 0.043175126359453114, 0.043990792779251234, 0.04294765659437734, 0.04395190026759592, 0.041155029795144085, 0.0441820957438985, 0.043832371036941056, 0.044558393826829155, 0.04454059846185041, 0.04431302175049372, 0.044691681997067745, 0.04251984134666733, 0.04399393331601074, 0.043252426033529294, 0.0411792352393605, 0.03916635210198077, 0.04261419079009895, 0.04350490930929019, 0.04269448126299726, 0.04158133145479177, 0.0425308628395699, 0.04411886200496687, 0.04115250127121405, 0.041159603816553654, 0.0421522976495193, 0.040004964969809056, 0.04026823016528531, 0.040797058091358106, 0.04127032580860788, 0.04061612264559026, 0.040172619746992405, 0.038840435497938204, 0.0401638053332171, 0.038800839561365034, 0.04076919266186855, 0.042703637093934814, 0.03989477452410559, 0.042663659828475316, 0.04258011183675776, 0.040068763197131305, 0.04201302842608696, 0.04152425291842688, 0.03806472278698767, 0.040481720282152266, 0.039381591135309583, 0.04106906698290376, 0.04117651195032987, 0.042739758903168765, 0.041924762792491424, 0.04297343051249618, 0.04209629019831913, 0.046240121530550536, 0.044768987125226804, 0.04580336246611303, 0.041322160057651304, 0.042304754688409225, 0.04574204736315476, 0.0482765210378854, 0.045383683569804184, 0.04368615316228884, 0.04661350273348797, 0.046670946954807606, 0.0452180335000391, 0.04418169192554924, 0.04949835856847671, 0.0433570988803455, 0.038338772660469825, 0.04314743277100467, 0.04721409097780146, 0.04364912971906695, 0.04497756749882076, 0.046179064007028967, 0.042138762025378695, 0.03987367108651578, 0.047810052671572054, 0.05047611938172642, 0.04798711510604587, 0.045882397187146935, 0.03912389502839366, 0.040200489092269566, 0.03693710619788144, 0.033949325912244636, 0.03443831523772706, 0.034629584491187776, 0.03624825251188995, 0.037895587214029, 0.04337277946698324, 0.04072008469133823, 0.03949315830659759, 0.04478332412063456, 0.042721465338710546, 0.04315534699619917, 0.03967793067060529, 0.0427353987382426, 0.04592948713271632, 0.04962874672597914, 0.056475267908652704, 0.05038509774942974, 0.024138811778786434, 0.04310080104492922, 0.06471166519054197, 0.09476692433212404, 0.08236266423388643, 0.046380369333953696, 0.0500932339448244, 0.04648118924100519, 0.05100254386616194, 0.05020403453424741, 0.05143448640805066, 0.035387585402964265, 0.04454535705599468, 0.03841766618879176, 0.045051178993609414, 0.037211432973757515, 0.048632490419554045, 0.04995074081366144, 0.03459184247973295, 0.060989220657922956, 0.04850974722980543, 0.04069868867541158, 0.03377691344013117, 0.0488400625557711, 0.03621445809666151, 0.041418781632116874, 0.0521790327305825, 0.06726653668768748, 0.04824169868557486, 0.042190022403305244, 0.054100131619894784, 0.03884367169923914, 0.04810488846716797, 0.039910009936063286, 0.043644927623017644, 0.04018205454121364, 0.04840373457897656, 0.04306426597740802, 0.04231256450050454, 0.02733231841891079, 0.03368896645671378, 0.04112793936780382]}, {\"mode\": \"lines\", \"name\": \"dsm\", \"type\": \"scatter\", \"x\": [0.0, 0.35000014305114746, 1.8500001430511475, 2.1500000953674316, 2.8000001907348633, 3.200000047683716, 3.5, 3.9000000953674316, 4.3500001430511475, 4.700000047683716, 5.1000001430511475, 5.550000190734863, 6.3500001430511475, 6.6000001430511475, 6.950000047683716, 7.450000047683716, 7.950000047683716, 8.400000095367432, 8.900000095367432, 9.150000095367432, 9.450000047683716, 10.0, 10.600000143051147, 10.900000095367432, 12.100000143051147, 12.850000143051147, 13.200000047683716, 13.700000047683716, 13.850000143051147, 14.150000095367432, 14.400000095367432, 14.650000095367432, 14.950000047683716, 15.300000190734863, 15.650000095367432, 15.900000095367432, 16.15000009536743, 16.450000047683716, 16.700000047683716, 17.0, 17.300000190734863, 17.550000190734863, 17.90000009536743, 18.350000143051147, 18.65000009536743, 19.050000190734863, 19.40000009536743, 20.450000047683716, 20.950000047683716, 21.300000190734863, 22.550000190734863, 23.600000143051147, 24.40000009536743, 24.65000009536743, 24.90000009536743, 25.100000143051147, 25.300000190734863, 27.100000143051147, 27.65000009536743, 27.90000009536743, 28.100000143051147, 28.300000190734863, 28.5, 28.90000009536743, 29.600000143051147, 31.550000190734863, 32.05000019073486, 32.80000019073486, 33.30000019073486, 33.60000014305115, 33.90000009536743, 34.15000009536743, 34.40000009536743, 34.85000014305115, 35.450000047683716, 35.80000019073486, 36.30000019073486, 36.65000009536743, 37.10000014305115, 37.40000009536743, 37.65000009536743, 37.85000014305115, 38.200000047683716, 38.450000047683716, 38.65000009536743, 38.950000047683716, 39.25, 39.75, 40.0, 40.35000014305115, 40.60000014305115, 40.90000009536743, 41.200000047683716, 41.450000047683716, 41.65000009536743, 41.85000014305115, 42.05000019073486, 42.35000014305115, 42.950000047683716, 43.200000047683716, 43.40000009536743, 43.60000014305115, 43.75, 43.90000009536743, 44.05000019073486, 44.25, 44.5, 44.85000014305115, 45.10000014305115, 45.30000019073486, 45.40000009536743, 45.700000047683716, 46.30000019073486, 46.90000009536743, 47.40000009536743, 47.700000047683716, 48.30000019073486, 48.80000019073486, 49.15000009536743, 49.5, 49.85000014305115, 50.15000009536743, 50.35000014305115, 50.55000019073486, 50.75, 51.30000019073486, 52.15000009536743, 52.35000014305115, 52.60000014305115, 53.15000009536743, 54.15000009536743, 54.60000014305115, 55.5, 56.35000014305115, 57.40000009536743, 58.75, 59.25, 59.950000047683716, 60.60000014305115, 61.10000014305115, 61.5, 61.700000047683716, 61.90000009536743, 62.700000047683716, 63.90000009536743, 64.30000019073486, 64.90000009536743, 65.40000009536743, 65.85000014305115, 66.25, 66.60000014305115, 66.90000009536743, 67.20000004768372, 67.5, 67.95000004768372, 68.40000009536743, 68.65000009536743, 68.95000004768372, 69.20000004768372, 69.45000004768372, 69.65000009536743, 70.0, 70.35000014305115, 71.10000014305115, 71.55000019073486, 72.0, 72.95000004768372, 73.35000014305115, 73.55000019073486, 73.95000004768372, 74.80000019073486, 76.40000009536743, 76.70000004768372, 77.10000014305115, 78.05000019073486, 78.35000014305115, 78.65000009536743, 79.40000009536743, 79.80000019073486, 80.0, 80.30000019073486, 80.85000014305115, 81.20000004768372, 81.60000014305115, 82.0, 82.20000004768372, 82.5, 82.70000004768372, 83.0, 83.25, 83.5, 83.75, 84.0, 84.20000004768372, 84.40000009536743, 84.65000009536743, 84.90000009536743, 85.10000014305115, 85.40000009536743, 86.25, 86.60000014305115, 86.90000009536743, 87.15000009536743, 87.55000019073486, 88.60000014305115, 89.60000014305115, 90.15000009536743, 90.75, 91.10000014305115, 92.20000004768372, 93.25, 93.90000009536743, 94.45000004768372, 95.05000019073486, 95.35000014305115, 95.60000014305115, 95.90000009536743, 96.55000019073486, 97.10000014305115, 97.55000019073486, 98.20000004768372, 98.30000019073486, 98.60000014305115, 99.05000019073486, 99.35000014305115, 99.65000009536743, 99.95000004768372, 100.40000009536743, 101.05000019073486, 101.35000014305115, 101.60000014305115, 102.05000019073486, 102.55000019073486, 103.30000019073486, 103.70000004768372, 104.30000019073486, 104.90000009536743, 105.15000009536743, 105.40000009536743, 105.65000009536743, 105.95000004768372, 106.25, 106.70000004768372, 107.20000004768372, 108.10000014305115, 108.80000019073486, 109.5, 110.20000004768372, 111.15000009536743, 111.55000019073486, 112.10000014305115, 112.90000009536743, 113.40000009536743, 113.75, 114.05000019073486, 114.30000019073486, 114.55000019073486, 114.90000009536743, 115.20000004768372, 115.5, 115.80000019073486, 116.05000019073486, 116.30000019073486, 116.60000014305115, 116.90000009536743, 117.15000009536743, 118.05000019073486, 118.40000009536743, 118.90000009536743, 119.35000014305115, 120.0, 120.95000004768372, 121.45000004768372, 121.75, 122.0, 122.30000019073486, 122.90000009536743, 123.45000004768372, 123.95000004768372, 124.35000014305115, 124.95000004768372, 125.35000014305115, 125.70000004768372, 126.35000014305115, 126.65000009536743, 126.85000014305115, 127.10000014305115, 127.5, 127.70000004768372, 127.95000004768372, 128.25, 128.60000014305115, 129.20000004768372, 129.85000014305115, 130.10000014305115, 130.30000019073486, 130.45000004768372, 130.65000009536743, 131.45000004768372, 132.20000004768372, 133.05000019073486, 134.85000014305115, 135.45000004768372, 136.85000014305115], \"y\": [0.06683441166824411, 0.07048670822719542, 0.06894625778469649, 0.05988653091924713, 0.04916133499576541, 0.035259047794062456, 0.03266281921261482, 0.03896334533255744, 0.04834751194635029, 0.05415720041724258, 0.06079170621883163, 0.059397294547524584, 0.06338086957573445, 0.06871518136676764, 0.0719674672679853, 0.07252525561347854, 0.07465469415012316, 0.08310290124823548, 0.08582814012483493, 0.0936121386406942, 0.10288434814576619, 0.1079739013918712, 0.11066367419549863, 0.1181047562486716, 0.11897246014211962, 0.12300975171997328, 0.12703955908010195, 0.12413878954208786, 0.12086849566261298, 0.1113703491995426, 0.10310598824330681, 0.0958018469983838, 0.08901706786554349, 0.08234443481881396, 0.07892962509949088, 0.07651341676474654, 0.0722979136658897, 0.06758066237086058, 0.06551239079933861, 0.06408324825762245, 0.06169575164435531, 0.060874340514984096, 0.05842181110669959, 0.05920724142691328, 0.05990281994662727, 0.062364001566707045, 0.06552441129537828, 0.073398676534126, 0.08394706339203398, 0.09965469039863208, 0.10389270187138816, 0.10161557923377648, 0.1072037430039937, 0.11275301218799953, 0.11879772086142397, 0.1238443628343108, 0.12624064741155858, 0.12318160061909988, 0.12360651682452874, 0.12021065544482253, 0.1164026490332716, 0.11087357515260032, 0.10261081712910008, 0.08867721187822417, 0.06778816032942427, 0.07286428518156686, 0.06756825684726113, 0.06795569764015084, 0.06812051600320246, 0.06948621750407699, 0.07231223206159801, 0.0756363098877973, 0.0782920268661164, 0.0802305587840474, 0.08130897714778665, 0.07766211098340603, 0.07895227362024247, 0.07282534364728104, 0.07910473677924103, 0.07961224980520808, 0.07238030307386518, 0.07008972489090765, 0.07427413138600245, 0.07752238316224438, 0.08649354509866082, 0.08736395726440674, 0.09241611908136124, 0.0938616563412626, 0.09592272295829078, 0.10186040964941931, 0.10714345083737718, 0.1156949501234241, 0.12098776337881703, 0.12435722515558241, 0.12881930640530964, 0.13415273776847247, 0.13768957070852683, 0.1399962760743722, 0.1376581856814173, 0.13656748345993983, 0.13442440592332033, 0.13473986673533137, 0.13430290651288107, 0.13315355875387183, 0.13159894845902076, 0.13223503172236184, 0.13454713339591187, 0.13453645942946849, 0.1385455220372272, 0.1412723298285238, 0.14178694626333208, 0.1405649346704178, 0.13738355556348042, 0.13596006891197862, 0.13397688343017936, 0.1356391922534688, 0.1346718562893623, 0.13396595030756067, 0.13208540319128798, 0.1293549272685014, 0.1300388887037579, 0.12922061250556066, 0.1292867740018191, 0.12367774510242631, 0.11948298070872515, 0.11994334813881344, 0.11840889803386236, 0.11351017622359119, 0.10620469462937608, 0.10439929322757803, 0.10659060867612523, 0.10533418919723615, 0.10521037775567468, 0.10924572356987503, 0.10284970093461669, 0.09692350699725354, 0.09557694864849929, 0.09067643368154747, 0.08276049837021714, 0.08319783988808442, 0.08016127625487247, 0.07778329305779953, 0.07526307909681512, 0.07746208166099712, 0.07862772083534061, 0.08072584030558684, 0.0813854760310448, 0.08193875109141713, 0.08181822537778821, 0.07826162101560008, 0.07523674891085169, 0.07624350035478374, 0.07075253603048415, 0.0654899415194658, 0.06309722505957033, 0.0638351983789176, 0.06390594062858754, 0.06602224325649288, 0.0684603772408844, 0.06967560790789618, 0.07052037415217549, 0.07166934359299029, 0.07209983983820821, 0.07200219385962209, 0.07124646882028342, 0.07145619429590519, 0.07800246323430425, 0.08570696620289082, 0.09171463672327289, 0.09826663098644325, 0.1046412609668832, 0.1075743014910563, 0.1146927443513102, 0.12321401482902851, 0.12533993851863975, 0.13188539160552645, 0.14332265471080063, 0.1512729756766165, 0.15528974059536435, 0.16376378535052583, 0.16370916216375614, 0.1575477691221639, 0.15390046836954754, 0.153023498389146, 0.1465070602456015, 0.13545640934111947, 0.1225268777503452, 0.11147783020153322, 0.10757519323930521, 0.10001709862744773, 0.08997809971162953, 0.08005637144866454, 0.06741466743189449, 0.05637103478689709, 0.04848350272858885, 0.04102778626869905, 0.030829386461810025, 0.026017976402401704, 0.01502230233912431, 0.01533108828894754, 0.017026905582731403, 0.022095833167284376, 0.03063071095640676, 0.042305812088878646, 0.03691933652920798, 0.046748038545925776, 0.051228128143580146, 0.04419844172664114, 0.039962996490619185, 0.04433804462809127, 0.054763004366033624, 0.055455334312427704, 0.05774163591147189, 0.063815555920444, 0.061718061575167384, 0.0616731526071881, 0.06301920492113501, 0.06949742193112501, 0.08285002613974704, 0.07587584197229322, 0.07584913358243932, 0.0778044151751025, 0.0793777773395128, 0.08055274181362088, 0.07998223094072464, 0.07633891545011795, 0.07267006175461443, 0.0682826717648033, 0.06542589474120304, 0.06769752486804621, 0.06867087070008897, 0.07334800336943577, 0.0704683919450832, 0.06225794826156019, 0.0508386162592828, 0.04106379230246756, 0.038156318155050425, 0.036052569429418174, 0.03698948686118534, 0.04291254001528879, 0.049700686633452236, 0.057694415665796334, 0.06312529727809894, 0.061509523435132635, 0.06046048967162316, 0.05841677445452888, 0.06099588506465099, 0.0664589690831421, 0.06566936301727193, 0.05747071851591301, 0.04877279131529082, 0.04724766542198642, 0.0486682817795953, 0.05058833421340237, 0.0481222266899131, 0.050793224521151654, 0.05789539237506359, 0.06976079082900989, 0.07035066402453768, 0.08394421001280589, 0.09246294396505748, 0.09723690549693244, 0.10447837152821013, 0.11666379612956129, 0.12149892138738588, 0.12224972180957885, 0.1237931932350472, 0.12470490849787906, 0.12521898728052125, 0.1276960210082132, 0.13086464971723408, 0.133301320210369, 0.13037533473788937, 0.12571573905048186, 0.12166173561154861, 0.11484758665106612, 0.10906425794719246, 0.1043869782286522, 0.09819749733278396, 0.09367962829891321, 0.08285741670727219, 0.06947557969798691, 0.06084970346733056, 0.05717723991205483, 0.05136819056587013, 0.04671911917599042, 0.04476885639631116, 0.045154123081092686, 0.047020790853700124, 0.05025301900546438, 0.054308102305312016, 0.06066010336503572, 0.03837271345778004, 0.06067587781279934, 0.056560938130232996, 0.05210245537626398, 0.04721526632859745, 0.04410056271407615, 0.04326498617667934, 0.045203676908438434, 0.04270533254320366, 0.04378097027828887, 0.04174353362256057, 0.04705452640664498]}],                        {\"template\": {\"data\": {\"bar\": [{\"error_x\": {\"color\": \"#2a3f5f\"}, \"error_y\": {\"color\": \"#2a3f5f\"}, \"marker\": {\"line\": {\"color\": \"#E5ECF6\", \"width\": 0.5}}, \"type\": \"bar\"}], \"barpolar\": [{\"marker\": {\"line\": {\"color\": \"#E5ECF6\", \"width\": 0.5}}, \"type\": \"barpolar\"}], \"carpet\": [{\"aaxis\": {\"endlinecolor\": \"#2a3f5f\", \"gridcolor\": \"white\", \"linecolor\": \"white\", \"minorgridcolor\": \"white\", \"startlinecolor\": \"#2a3f5f\"}, \"baxis\": {\"endlinecolor\": \"#2a3f5f\", \"gridcolor\": \"white\", \"linecolor\": \"white\", \"minorgridcolor\": \"white\", \"startlinecolor\": \"#2a3f5f\"}, \"type\": \"carpet\"}], \"choropleth\": [{\"colorbar\": {\"outlinewidth\": 0, \"ticks\": \"\"}, \"type\": \"choropleth\"}], \"contour\": [{\"colorbar\": {\"outlinewidth\": 0, \"ticks\": \"\"}, \"colorscale\": [[0.0, \"#0d0887\"], [0.1111111111111111, \"#46039f\"], [0.2222222222222222, \"#7201a8\"], [0.3333333333333333, \"#9c179e\"], [0.4444444444444444, \"#bd3786\"], [0.5555555555555556, \"#d8576b\"], [0.6666666666666666, \"#ed7953\"], [0.7777777777777778, \"#fb9f3a\"], [0.8888888888888888, \"#fdca26\"], [1.0, \"#f0f921\"]], \"type\": \"contour\"}], \"contourcarpet\": [{\"colorbar\": {\"outlinewidth\": 0, \"ticks\": \"\"}, \"type\": \"contourcarpet\"}], \"heatmap\": [{\"colorbar\": {\"outlinewidth\": 0, \"ticks\": \"\"}, \"colorscale\": [[0.0, \"#0d0887\"], [0.1111111111111111, \"#46039f\"], [0.2222222222222222, \"#7201a8\"], [0.3333333333333333, \"#9c179e\"], [0.4444444444444444, \"#bd3786\"], [0.5555555555555556, \"#d8576b\"], [0.6666666666666666, \"#ed7953\"], [0.7777777777777778, \"#fb9f3a\"], [0.8888888888888888, \"#fdca26\"], [1.0, \"#f0f921\"]], \"type\": \"heatmap\"}], \"heatmapgl\": [{\"colorbar\": {\"outlinewidth\": 0, \"ticks\": \"\"}, \"colorscale\": [[0.0, \"#0d0887\"], [0.1111111111111111, \"#46039f\"], [0.2222222222222222, \"#7201a8\"], [0.3333333333333333, \"#9c179e\"], [0.4444444444444444, \"#bd3786\"], [0.5555555555555556, \"#d8576b\"], [0.6666666666666666, \"#ed7953\"], [0.7777777777777778, \"#fb9f3a\"], [0.8888888888888888, \"#fdca26\"], [1.0, \"#f0f921\"]], \"type\": \"heatmapgl\"}], \"histogram\": [{\"marker\": {\"colorbar\": {\"outlinewidth\": 0, \"ticks\": \"\"}}, \"type\": \"histogram\"}], \"histogram2d\": [{\"colorbar\": {\"outlinewidth\": 0, \"ticks\": \"\"}, \"colorscale\": [[0.0, \"#0d0887\"], [0.1111111111111111, \"#46039f\"], [0.2222222222222222, \"#7201a8\"], [0.3333333333333333, \"#9c179e\"], [0.4444444444444444, \"#bd3786\"], [0.5555555555555556, \"#d8576b\"], [0.6666666666666666, \"#ed7953\"], [0.7777777777777778, \"#fb9f3a\"], [0.8888888888888888, \"#fdca26\"], [1.0, \"#f0f921\"]], \"type\": \"histogram2d\"}], \"histogram2dcontour\": [{\"colorbar\": {\"outlinewidth\": 0, \"ticks\": \"\"}, \"colorscale\": [[0.0, \"#0d0887\"], [0.1111111111111111, \"#46039f\"], [0.2222222222222222, \"#7201a8\"], [0.3333333333333333, \"#9c179e\"], [0.4444444444444444, \"#bd3786\"], [0.5555555555555556, \"#d8576b\"], [0.6666666666666666, \"#ed7953\"], [0.7777777777777778, \"#fb9f3a\"], [0.8888888888888888, \"#fdca26\"], [1.0, \"#f0f921\"]], \"type\": \"histogram2dcontour\"}], \"mesh3d\": [{\"colorbar\": {\"outlinewidth\": 0, \"ticks\": \"\"}, \"type\": \"mesh3d\"}], \"parcoords\": [{\"line\": {\"colorbar\": {\"outlinewidth\": 0, \"ticks\": \"\"}}, \"type\": \"parcoords\"}], \"pie\": [{\"automargin\": true, \"type\": \"pie\"}], \"scatter\": [{\"marker\": {\"colorbar\": {\"outlinewidth\": 0, \"ticks\": \"\"}}, \"type\": \"scatter\"}], \"scatter3d\": [{\"line\": {\"colorbar\": {\"outlinewidth\": 0, \"ticks\": \"\"}}, \"marker\": {\"colorbar\": {\"outlinewidth\": 0, \"ticks\": \"\"}}, \"type\": \"scatter3d\"}], \"scattercarpet\": [{\"marker\": {\"colorbar\": {\"outlinewidth\": 0, \"ticks\": \"\"}}, \"type\": \"scattercarpet\"}], \"scattergeo\": [{\"marker\": {\"colorbar\": {\"outlinewidth\": 0, \"ticks\": \"\"}}, \"type\": \"scattergeo\"}], \"scattergl\": [{\"marker\": {\"colorbar\": {\"outlinewidth\": 0, \"ticks\": \"\"}}, \"type\": \"scattergl\"}], \"scattermapbox\": [{\"marker\": {\"colorbar\": {\"outlinewidth\": 0, \"ticks\": \"\"}}, \"type\": \"scattermapbox\"}], \"scatterpolar\": [{\"marker\": {\"colorbar\": {\"outlinewidth\": 0, \"ticks\": \"\"}}, \"type\": \"scatterpolar\"}], \"scatterpolargl\": [{\"marker\": {\"colorbar\": {\"outlinewidth\": 0, \"ticks\": \"\"}}, \"type\": \"scatterpolargl\"}], \"scatterternary\": [{\"marker\": {\"colorbar\": {\"outlinewidth\": 0, \"ticks\": \"\"}}, \"type\": \"scatterternary\"}], \"surface\": [{\"colorbar\": {\"outlinewidth\": 0, \"ticks\": \"\"}, \"colorscale\": [[0.0, \"#0d0887\"], [0.1111111111111111, \"#46039f\"], [0.2222222222222222, \"#7201a8\"], [0.3333333333333333, \"#9c179e\"], [0.4444444444444444, \"#bd3786\"], [0.5555555555555556, \"#d8576b\"], [0.6666666666666666, \"#ed7953\"], [0.7777777777777778, \"#fb9f3a\"], [0.8888888888888888, \"#fdca26\"], [1.0, \"#f0f921\"]], \"type\": \"surface\"}], \"table\": [{\"cells\": {\"fill\": {\"color\": \"#EBF0F8\"}, \"line\": {\"color\": \"white\"}}, \"header\": {\"fill\": {\"color\": \"#C8D4E3\"}, \"line\": {\"color\": \"white\"}}, \"type\": \"table\"}]}, \"layout\": {\"annotationdefaults\": {\"arrowcolor\": \"#2a3f5f\", \"arrowhead\": 0, \"arrowwidth\": 1}, \"autotypenumbers\": \"strict\", \"coloraxis\": {\"colorbar\": {\"outlinewidth\": 0, \"ticks\": \"\"}}, \"colorscale\": {\"diverging\": [[0, \"#8e0152\"], [0.1, \"#c51b7d\"], [0.2, \"#de77ae\"], [0.3, \"#f1b6da\"], [0.4, \"#fde0ef\"], [0.5, \"#f7f7f7\"], [0.6, \"#e6f5d0\"], [0.7, \"#b8e186\"], [0.8, \"#7fbc41\"], [0.9, \"#4d9221\"], [1, \"#276419\"]], \"sequential\": [[0.0, \"#0d0887\"], [0.1111111111111111, \"#46039f\"], [0.2222222222222222, \"#7201a8\"], [0.3333333333333333, \"#9c179e\"], [0.4444444444444444, \"#bd3786\"], [0.5555555555555556, \"#d8576b\"], [0.6666666666666666, \"#ed7953\"], [0.7777777777777778, \"#fb9f3a\"], [0.8888888888888888, \"#fdca26\"], [1.0, \"#f0f921\"]], \"sequentialminus\": [[0.0, \"#0d0887\"], [0.1111111111111111, \"#46039f\"], [0.2222222222222222, \"#7201a8\"], [0.3333333333333333, \"#9c179e\"], [0.4444444444444444, \"#bd3786\"], [0.5555555555555556, \"#d8576b\"], [0.6666666666666666, \"#ed7953\"], [0.7777777777777778, \"#fb9f3a\"], [0.8888888888888888, \"#fdca26\"], [1.0, \"#f0f921\"]]}, \"colorway\": [\"#636efa\", \"#EF553B\", \"#00cc96\", \"#ab63fa\", \"#FFA15A\", \"#19d3f3\", \"#FF6692\", \"#B6E880\", \"#FF97FF\", \"#FECB52\"], \"font\": {\"color\": \"#2a3f5f\"}, \"geo\": {\"bgcolor\": \"white\", \"lakecolor\": \"white\", \"landcolor\": \"#E5ECF6\", \"showlakes\": true, \"showland\": true, \"subunitcolor\": \"white\"}, \"hoverlabel\": {\"align\": \"left\"}, \"hovermode\": \"closest\", \"mapbox\": {\"style\": \"light\"}, \"paper_bgcolor\": \"white\", \"plot_bgcolor\": \"#E5ECF6\", \"polar\": {\"angularaxis\": {\"gridcolor\": \"white\", \"linecolor\": \"white\", \"ticks\": \"\"}, \"bgcolor\": \"#E5ECF6\", \"radialaxis\": {\"gridcolor\": \"white\", \"linecolor\": \"white\", \"ticks\": \"\"}}, \"scene\": {\"xaxis\": {\"backgroundcolor\": \"#E5ECF6\", \"gridcolor\": \"white\", \"gridwidth\": 2, \"linecolor\": \"white\", \"showbackground\": true, \"ticks\": \"\", \"zerolinecolor\": \"white\"}, \"yaxis\": {\"backgroundcolor\": \"#E5ECF6\", \"gridcolor\": \"white\", \"gridwidth\": 2, \"linecolor\": \"white\", \"showbackground\": true, \"ticks\": \"\", \"zerolinecolor\": \"white\"}, \"zaxis\": {\"backgroundcolor\": \"#E5ECF6\", \"gridcolor\": \"white\", \"gridwidth\": 2, \"linecolor\": \"white\", \"showbackground\": true, \"ticks\": \"\", \"zerolinecolor\": \"white\"}}, \"shapedefaults\": {\"line\": {\"color\": \"#2a3f5f\"}}, \"ternary\": {\"aaxis\": {\"gridcolor\": \"white\", \"linecolor\": \"white\", \"ticks\": \"\"}, \"baxis\": {\"gridcolor\": \"white\", \"linecolor\": \"white\", \"ticks\": \"\"}, \"bgcolor\": \"#E5ECF6\", \"caxis\": {\"gridcolor\": \"white\", \"linecolor\": \"white\", \"ticks\": \"\"}}, \"title\": {\"x\": 0.05}, \"xaxis\": {\"automargin\": true, \"gridcolor\": \"white\", \"linecolor\": \"white\", \"ticks\": \"\", \"title\": {\"standoff\": 15}, \"zerolinecolor\": \"white\", \"zerolinewidth\": 2}, \"yaxis\": {\"automargin\": true, \"gridcolor\": \"white\", \"linecolor\": \"white\", \"ticks\": \"\", \"title\": {\"standoff\": 15}, \"zerolinecolor\": \"white\", \"zerolinewidth\": 2}}}, \"title\": {\"text\": \"Error of estimated position over time\"}, \"xaxis\": {\"title\": {\"text\": \"Time in s\"}}, \"yaxis\": {\"title\": {\"text\": \"Euclidean distance to true position\"}}},                        {\"responsive\": true}                    ).then(function(){\n",
       "                            \n",
       "var gd = document.getElementById('701813e8-f6c6-4e2e-b013-9893a4066085');\n",
       "var x = new MutationObserver(function (mutations, observer) {{\n",
       "        var display = window.getComputedStyle(gd).display;\n",
       "        if (!display || display === 'none') {{\n",
       "            console.log([gd, 'removed!']);\n",
       "            Plotly.purge(gd);\n",
       "            observer.disconnect();\n",
       "        }}\n",
       "}});\n",
       "\n",
       "// Listen for the removal of the full notebook cells\n",
       "var notebookContainer = gd.closest('#notebook-container');\n",
       "if (notebookContainer) {{\n",
       "    x.observe(notebookContainer, {childList: true});\n",
       "}}\n",
       "\n",
       "// Listen for the clearing of the current output cell\n",
       "var outputEl = gd.closest('.output');\n",
       "if (outputEl) {{\n",
       "    x.observe(outputEl, {childList: true});\n",
       "}}\n",
       "\n",
       "                        })                };                });            </script>        </div>"
      ]
     },
     "metadata": {},
     "output_type": "display_data"
    }
   ],
   "source": [
    "fig = go.Figure()\n",
    "\n",
    "fig.add_trace(go.Scatter(x=est_long_orb.timestamp - est_long_orb.timestamp[0], y=dists_orb,\n",
    "                    mode='lines',\n",
    "                    name='orb'))\n",
    "\n",
    "# Add traces\n",
    "fig.add_trace(go.Scatter(x=est_long.timestamp - est_long.timestamp[0], y=dists_dsm,\n",
    "                    mode='lines',\n",
    "                    name='dsm'))\n",
    "\n",
    "fig.update_layout(\n",
    "    title=\"Error of estimated position over time\",\n",
    "    xaxis_title=\"Time in s\",\n",
    "    yaxis_title=\"Euclidean distance to true position\",\n",
    ")\n",
    "\n",
    "fig.show()"
   ]
  },
  {
   "cell_type": "code",
   "execution_count": 158,
   "metadata": {},
   "outputs": [
    {
     "data": {
      "text/html": [
       "<div>\n",
       "<style scoped>\n",
       "    .dataframe tbody tr th:only-of-type {\n",
       "        vertical-align: middle;\n",
       "    }\n",
       "\n",
       "    .dataframe tbody tr th {\n",
       "        vertical-align: top;\n",
       "    }\n",
       "\n",
       "    .dataframe thead th {\n",
       "        text-align: right;\n",
       "    }\n",
       "</style>\n",
       "<table border=\"1\" class=\"dataframe\">\n",
       "  <thead>\n",
       "    <tr style=\"text-align: right;\">\n",
       "      <th></th>\n",
       "      <th>#timestamp</th>\n",
       "      <th>p_RS_R_x [m]</th>\n",
       "      <th>p_RS_R_y [m]</th>\n",
       "      <th>p_RS_R_z [m]</th>\n",
       "      <th>q_RS_w []</th>\n",
       "      <th>q_RS_x []</th>\n",
       "      <th>q_RS_y []</th>\n",
       "      <th>q_RS_z []</th>\n",
       "      <th>v_RS_R_x [m s^-1]</th>\n",
       "      <th>v_RS_R_y [m s^-1]</th>\n",
       "      <th>...</th>\n",
       "      <th>b_w_RS_S_x [rad s^-1]</th>\n",
       "      <th>b_w_RS_S_y [rad s^-1]</th>\n",
       "      <th>b_w_RS_S_z [rad s^-1]</th>\n",
       "      <th>b_a_RS_S_x [m s^-2]</th>\n",
       "      <th>b_a_RS_S_y [m s^-2]</th>\n",
       "      <th>b_a_RS_S_z [m s^-2]</th>\n",
       "      <th>timestamp</th>\n",
       "      <th>p_x</th>\n",
       "      <th>p_y</th>\n",
       "      <th>p_z</th>\n",
       "    </tr>\n",
       "  </thead>\n",
       "  <tbody>\n",
       "    <tr>\n",
       "      <th>912</th>\n",
       "      <td>1403715278862142976</td>\n",
       "      <td>0.930110</td>\n",
       "      <td>2.165487</td>\n",
       "      <td>1.024433</td>\n",
       "      <td>0.067113</td>\n",
       "      <td>-0.810226</td>\n",
       "      <td>-0.046801</td>\n",
       "      <td>-0.580378</td>\n",
       "      <td>0.167395</td>\n",
       "      <td>0.079719</td>\n",
       "      <td>...</td>\n",
       "      <td>-0.002229</td>\n",
       "      <td>0.020700</td>\n",
       "      <td>0.07635</td>\n",
       "      <td>-0.012493</td>\n",
       "      <td>0.547731</td>\n",
       "      <td>0.069106</td>\n",
       "      <td>1.403715e+09</td>\n",
       "      <td>0.930110</td>\n",
       "      <td>2.165487</td>\n",
       "      <td>1.024433</td>\n",
       "    </tr>\n",
       "    <tr>\n",
       "      <th>922</th>\n",
       "      <td>1403715278912143104</td>\n",
       "      <td>0.938216</td>\n",
       "      <td>2.169273</td>\n",
       "      <td>1.043356</td>\n",
       "      <td>0.067404</td>\n",
       "      <td>-0.809726</td>\n",
       "      <td>-0.046721</td>\n",
       "      <td>-0.581049</td>\n",
       "      <td>0.157800</td>\n",
       "      <td>0.072346</td>\n",
       "      <td>...</td>\n",
       "      <td>-0.002229</td>\n",
       "      <td>0.020700</td>\n",
       "      <td>0.07635</td>\n",
       "      <td>-0.012493</td>\n",
       "      <td>0.547732</td>\n",
       "      <td>0.069107</td>\n",
       "      <td>1.403715e+09</td>\n",
       "      <td>0.938216</td>\n",
       "      <td>2.169273</td>\n",
       "      <td>1.043356</td>\n",
       "    </tr>\n",
       "    <tr>\n",
       "      <th>932</th>\n",
       "      <td>1403715278962142976</td>\n",
       "      <td>0.945812</td>\n",
       "      <td>2.172850</td>\n",
       "      <td>1.061818</td>\n",
       "      <td>0.067143</td>\n",
       "      <td>-0.809063</td>\n",
       "      <td>-0.046858</td>\n",
       "      <td>-0.581991</td>\n",
       "      <td>0.148173</td>\n",
       "      <td>0.072046</td>\n",
       "      <td>...</td>\n",
       "      <td>-0.002229</td>\n",
       "      <td>0.020700</td>\n",
       "      <td>0.07635</td>\n",
       "      <td>-0.012493</td>\n",
       "      <td>0.547733</td>\n",
       "      <td>0.069108</td>\n",
       "      <td>1.403715e+09</td>\n",
       "      <td>0.945812</td>\n",
       "      <td>2.172850</td>\n",
       "      <td>1.061818</td>\n",
       "    </tr>\n",
       "    <tr>\n",
       "      <th>942</th>\n",
       "      <td>1403715279012142848</td>\n",
       "      <td>0.952894</td>\n",
       "      <td>2.176038</td>\n",
       "      <td>1.076596</td>\n",
       "      <td>0.066258</td>\n",
       "      <td>-0.808749</td>\n",
       "      <td>-0.047453</td>\n",
       "      <td>-0.582480</td>\n",
       "      <td>0.135422</td>\n",
       "      <td>0.067486</td>\n",
       "      <td>...</td>\n",
       "      <td>-0.002229</td>\n",
       "      <td>0.020700</td>\n",
       "      <td>0.07635</td>\n",
       "      <td>-0.012493</td>\n",
       "      <td>0.547735</td>\n",
       "      <td>0.069109</td>\n",
       "      <td>1.403715e+09</td>\n",
       "      <td>0.952894</td>\n",
       "      <td>2.176038</td>\n",
       "      <td>1.076596</td>\n",
       "    </tr>\n",
       "    <tr>\n",
       "      <th>952</th>\n",
       "      <td>1403715279062142976</td>\n",
       "      <td>0.959404</td>\n",
       "      <td>2.179212</td>\n",
       "      <td>1.086272</td>\n",
       "      <td>0.065887</td>\n",
       "      <td>-0.808885</td>\n",
       "      <td>-0.047710</td>\n",
       "      <td>-0.582312</td>\n",
       "      <td>0.129306</td>\n",
       "      <td>0.065217</td>\n",
       "      <td>...</td>\n",
       "      <td>-0.002229</td>\n",
       "      <td>0.020700</td>\n",
       "      <td>0.07635</td>\n",
       "      <td>-0.012494</td>\n",
       "      <td>0.547736</td>\n",
       "      <td>0.069110</td>\n",
       "      <td>1.403715e+09</td>\n",
       "      <td>0.959404</td>\n",
       "      <td>2.179212</td>\n",
       "      <td>1.086272</td>\n",
       "    </tr>\n",
       "    <tr>\n",
       "      <th>...</th>\n",
       "      <td>...</td>\n",
       "      <td>...</td>\n",
       "      <td>...</td>\n",
       "      <td>...</td>\n",
       "      <td>...</td>\n",
       "      <td>...</td>\n",
       "      <td>...</td>\n",
       "      <td>...</td>\n",
       "      <td>...</td>\n",
       "      <td>...</td>\n",
       "      <td>...</td>\n",
       "      <td>...</td>\n",
       "      <td>...</td>\n",
       "      <td>...</td>\n",
       "      <td>...</td>\n",
       "      <td>...</td>\n",
       "      <td>...</td>\n",
       "      <td>...</td>\n",
       "      <td>...</td>\n",
       "      <td>...</td>\n",
       "      <td>...</td>\n",
       "    </tr>\n",
       "    <tr>\n",
       "      <th>28662</th>\n",
       "      <td>1403715417612143104</td>\n",
       "      <td>0.489488</td>\n",
       "      <td>1.968256</td>\n",
       "      <td>0.967014</td>\n",
       "      <td>0.154979</td>\n",
       "      <td>0.780966</td>\n",
       "      <td>-0.241689</td>\n",
       "      <td>0.554671</td>\n",
       "      <td>-0.000866</td>\n",
       "      <td>-0.002883</td>\n",
       "      <td>...</td>\n",
       "      <td>-0.002214</td>\n",
       "      <td>0.020814</td>\n",
       "      <td>0.07628</td>\n",
       "      <td>-0.013988</td>\n",
       "      <td>0.547514</td>\n",
       "      <td>0.067583</td>\n",
       "      <td>1.403715e+09</td>\n",
       "      <td>0.489488</td>\n",
       "      <td>1.968256</td>\n",
       "      <td>0.967014</td>\n",
       "    </tr>\n",
       "    <tr>\n",
       "      <th>28672</th>\n",
       "      <td>1403715417662142976</td>\n",
       "      <td>0.489440</td>\n",
       "      <td>1.968178</td>\n",
       "      <td>0.966973</td>\n",
       "      <td>0.154960</td>\n",
       "      <td>0.781015</td>\n",
       "      <td>-0.241701</td>\n",
       "      <td>0.554602</td>\n",
       "      <td>-0.000419</td>\n",
       "      <td>-0.000464</td>\n",
       "      <td>...</td>\n",
       "      <td>-0.002214</td>\n",
       "      <td>0.020814</td>\n",
       "      <td>0.07628</td>\n",
       "      <td>-0.013988</td>\n",
       "      <td>0.547514</td>\n",
       "      <td>0.067583</td>\n",
       "      <td>1.403715e+09</td>\n",
       "      <td>0.489440</td>\n",
       "      <td>1.968178</td>\n",
       "      <td>0.966973</td>\n",
       "    </tr>\n",
       "    <tr>\n",
       "      <th>28682</th>\n",
       "      <td>1403715417712142848</td>\n",
       "      <td>0.489410</td>\n",
       "      <td>1.968160</td>\n",
       "      <td>0.966999</td>\n",
       "      <td>0.154918</td>\n",
       "      <td>0.780938</td>\n",
       "      <td>-0.241741</td>\n",
       "      <td>0.554705</td>\n",
       "      <td>-0.000459</td>\n",
       "      <td>0.000289</td>\n",
       "      <td>...</td>\n",
       "      <td>-0.002214</td>\n",
       "      <td>0.020814</td>\n",
       "      <td>0.07628</td>\n",
       "      <td>-0.013988</td>\n",
       "      <td>0.547514</td>\n",
       "      <td>0.067583</td>\n",
       "      <td>1.403715e+09</td>\n",
       "      <td>0.489410</td>\n",
       "      <td>1.968160</td>\n",
       "      <td>0.966999</td>\n",
       "    </tr>\n",
       "    <tr>\n",
       "      <th>28692</th>\n",
       "      <td>1403715417762142976</td>\n",
       "      <td>0.489420</td>\n",
       "      <td>1.968117</td>\n",
       "      <td>0.967072</td>\n",
       "      <td>0.154948</td>\n",
       "      <td>0.780900</td>\n",
       "      <td>-0.241712</td>\n",
       "      <td>0.554763</td>\n",
       "      <td>0.000370</td>\n",
       "      <td>-0.002975</td>\n",
       "      <td>...</td>\n",
       "      <td>-0.002214</td>\n",
       "      <td>0.020814</td>\n",
       "      <td>0.07628</td>\n",
       "      <td>-0.013988</td>\n",
       "      <td>0.547514</td>\n",
       "      <td>0.067583</td>\n",
       "      <td>1.403715e+09</td>\n",
       "      <td>0.489420</td>\n",
       "      <td>1.968117</td>\n",
       "      <td>0.967072</td>\n",
       "    </tr>\n",
       "    <tr>\n",
       "      <th>28702</th>\n",
       "      <td>1403715417812143104</td>\n",
       "      <td>0.489499</td>\n",
       "      <td>1.967950</td>\n",
       "      <td>0.967154</td>\n",
       "      <td>0.154928</td>\n",
       "      <td>0.780945</td>\n",
       "      <td>-0.241783</td>\n",
       "      <td>0.554674</td>\n",
       "      <td>0.001821</td>\n",
       "      <td>-0.004923</td>\n",
       "      <td>...</td>\n",
       "      <td>-0.002214</td>\n",
       "      <td>0.020814</td>\n",
       "      <td>0.07628</td>\n",
       "      <td>-0.013988</td>\n",
       "      <td>0.547514</td>\n",
       "      <td>0.067583</td>\n",
       "      <td>1.403715e+09</td>\n",
       "      <td>0.489499</td>\n",
       "      <td>1.967950</td>\n",
       "      <td>0.967154</td>\n",
       "    </tr>\n",
       "  </tbody>\n",
       "</table>\n",
       "<p>2780 rows × 21 columns</p>\n",
       "</div>"
      ],
      "text/plain": [
       "                #timestamp   p_RS_R_x [m]   p_RS_R_y [m]   p_RS_R_z [m]  \\\n",
       "912    1403715278862142976       0.930110       2.165487       1.024433   \n",
       "922    1403715278912143104       0.938216       2.169273       1.043356   \n",
       "932    1403715278962142976       0.945812       2.172850       1.061818   \n",
       "942    1403715279012142848       0.952894       2.176038       1.076596   \n",
       "952    1403715279062142976       0.959404       2.179212       1.086272   \n",
       "...                    ...            ...            ...            ...   \n",
       "28662  1403715417612143104       0.489488       1.968256       0.967014   \n",
       "28672  1403715417662142976       0.489440       1.968178       0.966973   \n",
       "28682  1403715417712142848       0.489410       1.968160       0.966999   \n",
       "28692  1403715417762142976       0.489420       1.968117       0.967072   \n",
       "28702  1403715417812143104       0.489499       1.967950       0.967154   \n",
       "\n",
       "        q_RS_w []   q_RS_x []   q_RS_y []   q_RS_z []   v_RS_R_x [m s^-1]  \\\n",
       "912      0.067113   -0.810226   -0.046801   -0.580378            0.167395   \n",
       "922      0.067404   -0.809726   -0.046721   -0.581049            0.157800   \n",
       "932      0.067143   -0.809063   -0.046858   -0.581991            0.148173   \n",
       "942      0.066258   -0.808749   -0.047453   -0.582480            0.135422   \n",
       "952      0.065887   -0.808885   -0.047710   -0.582312            0.129306   \n",
       "...           ...         ...         ...         ...                 ...   \n",
       "28662    0.154979    0.780966   -0.241689    0.554671           -0.000866   \n",
       "28672    0.154960    0.781015   -0.241701    0.554602           -0.000419   \n",
       "28682    0.154918    0.780938   -0.241741    0.554705           -0.000459   \n",
       "28692    0.154948    0.780900   -0.241712    0.554763            0.000370   \n",
       "28702    0.154928    0.780945   -0.241783    0.554674            0.001821   \n",
       "\n",
       "        v_RS_R_y [m s^-1]  ...   b_w_RS_S_x [rad s^-1]  \\\n",
       "912              0.079719  ...               -0.002229   \n",
       "922              0.072346  ...               -0.002229   \n",
       "932              0.072046  ...               -0.002229   \n",
       "942              0.067486  ...               -0.002229   \n",
       "952              0.065217  ...               -0.002229   \n",
       "...                   ...  ...                     ...   \n",
       "28662           -0.002883  ...               -0.002214   \n",
       "28672           -0.000464  ...               -0.002214   \n",
       "28682            0.000289  ...               -0.002214   \n",
       "28692           -0.002975  ...               -0.002214   \n",
       "28702           -0.004923  ...               -0.002214   \n",
       "\n",
       "        b_w_RS_S_y [rad s^-1]   b_w_RS_S_z [rad s^-1]   b_a_RS_S_x [m s^-2]  \\\n",
       "912                  0.020700                 0.07635             -0.012493   \n",
       "922                  0.020700                 0.07635             -0.012493   \n",
       "932                  0.020700                 0.07635             -0.012493   \n",
       "942                  0.020700                 0.07635             -0.012493   \n",
       "952                  0.020700                 0.07635             -0.012494   \n",
       "...                       ...                     ...                   ...   \n",
       "28662                0.020814                 0.07628             -0.013988   \n",
       "28672                0.020814                 0.07628             -0.013988   \n",
       "28682                0.020814                 0.07628             -0.013988   \n",
       "28692                0.020814                 0.07628             -0.013988   \n",
       "28702                0.020814                 0.07628             -0.013988   \n",
       "\n",
       "        b_a_RS_S_y [m s^-2]   b_a_RS_S_z [m s^-2]     timestamp       p_x  \\\n",
       "912                0.547731              0.069106  1.403715e+09  0.930110   \n",
       "922                0.547732              0.069107  1.403715e+09  0.938216   \n",
       "932                0.547733              0.069108  1.403715e+09  0.945812   \n",
       "942                0.547735              0.069109  1.403715e+09  0.952894   \n",
       "952                0.547736              0.069110  1.403715e+09  0.959404   \n",
       "...                     ...                   ...           ...       ...   \n",
       "28662              0.547514              0.067583  1.403715e+09  0.489488   \n",
       "28672              0.547514              0.067583  1.403715e+09  0.489440   \n",
       "28682              0.547514              0.067583  1.403715e+09  0.489410   \n",
       "28692              0.547514              0.067583  1.403715e+09  0.489420   \n",
       "28702              0.547514              0.067583  1.403715e+09  0.489499   \n",
       "\n",
       "            p_y       p_z  \n",
       "912    2.165487  1.024433  \n",
       "922    2.169273  1.043356  \n",
       "932    2.172850  1.061818  \n",
       "942    2.176038  1.076596  \n",
       "952    2.179212  1.086272  \n",
       "...         ...       ...  \n",
       "28662  1.968256  0.967014  \n",
       "28672  1.968178  0.966973  \n",
       "28682  1.968160  0.966999  \n",
       "28692  1.968117  0.967072  \n",
       "28702  1.967950  0.967154  \n",
       "\n",
       "[2780 rows x 21 columns]"
      ]
     },
     "execution_count": 158,
     "metadata": {},
     "output_type": "execute_result"
    }
   ],
   "source": [
    "gt_long_orb"
   ]
  }
 ],
 "metadata": {
  "kernelspec": {
   "display_name": "Python 3",
   "language": "python",
   "name": "python3"
  },
  "language_info": {
   "codemirror_mode": {
    "name": "ipython",
    "version": 3
   },
   "file_extension": ".py",
   "mimetype": "text/x-python",
   "name": "python",
   "nbconvert_exporter": "python",
   "pygments_lexer": "ipython3",
   "version": "3.8.7"
  }
 },
 "nbformat": 4,
 "nbformat_minor": 4
}
